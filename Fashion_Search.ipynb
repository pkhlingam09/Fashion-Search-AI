{
  "nbformat": 4,
  "nbformat_minor": 0,
  "metadata": {
    "colab": {
      "provenance": [],
      "authorship_tag": "ABX9TyMQ1edzwBU6NF7JWyumZZiw",
      "include_colab_link": true
    },
    "kernelspec": {
      "name": "python3",
      "display_name": "Python 3"
    },
    "language_info": {
      "name": "python"
    }
  },
  "cells": [
    {
      "cell_type": "markdown",
      "metadata": {
        "id": "view-in-github",
        "colab_type": "text"
      },
      "source": [
        "<a href=\"https://colab.research.google.com/github/pkhlingam09/Fashion-Search-AI/blob/cross_enc/Fashion_Search.ipynb\" target=\"_parent\"><img src=\"https://colab.research.google.com/assets/colab-badge.svg\" alt=\"Open In Colab\"/></a>"
      ]
    },
    {
      "cell_type": "code",
      "source": [
        "## Dataset Link (Kaggle)\n",
        "# https://www.kaggle.com/datasets/djagatiya/myntra-fashion-product-dataset"
      ],
      "metadata": {
        "id": "jCf3KIRDQrKR"
      },
      "execution_count": null,
      "outputs": []
    },
    {
      "cell_type": "code",
      "source": [
        "# import os\n",
        "\n",
        "# def find_file(root_dir, file_name):\n",
        "#     for dirpath, dirnames, filenames in os.walk(root_dir):\n",
        "#         if file_name in filenames:\n",
        "#             return os.path.join(dirpath, file_name)\n",
        "#     return None\n",
        "\n",
        "# file_path = find_file(\"/\", \"Fashion Dataset v2.csv\") #Searches from the root directory\n",
        "\n",
        "# if file_path:\n",
        "#   print(file_path)\n",
        "# else:\n",
        "#   print(\"File not found\")"
      ],
      "metadata": {
        "id": "u-LJ4X08VxPX"
      },
      "execution_count": null,
      "outputs": []
    },
    {
      "cell_type": "code",
      "source": [],
      "metadata": {
        "id": "f40OI7I6VxM3"
      },
      "execution_count": null,
      "outputs": []
    },
    {
      "cell_type": "code",
      "source": [],
      "metadata": {
        "id": "uBK1Bt_gVxKP"
      },
      "execution_count": null,
      "outputs": []
    },
    {
      "cell_type": "code",
      "source": [],
      "metadata": {
        "id": "Lt8Zk9TlVxHx"
      },
      "execution_count": null,
      "outputs": []
    },
    {
      "cell_type": "code",
      "source": [
        "#############################################################################################################################################################################################################################\n",
        "###################################################################################################   MYNTRA ASSIGNMENT   ###################################################################################################"
      ],
      "metadata": {
        "id": "IqvZ9-tUVf8J"
      },
      "execution_count": null,
      "outputs": []
    },
    {
      "cell_type": "code",
      "source": [
        "file_path = \"/content/drive/MyDrive/Fashion_Search_AI/\""
      ],
      "metadata": {
        "id": "nQORNGpW13-C"
      },
      "execution_count": 1,
      "outputs": []
    },
    {
      "cell_type": "code",
      "execution_count": 2,
      "metadata": {
        "id": "-gmC0C7Ik1Rz",
        "outputId": "c99e2f65-094d-4a53-e39e-d9f878bc9e02",
        "colab": {
          "base_uri": "https://localhost:8080/"
        }
      },
      "outputs": [
        {
          "output_type": "stream",
          "name": "stdout",
          "text": [
            "Mounted at /content/drive\n"
          ]
        }
      ],
      "source": [
        "from google.colab import drive, files\n",
        "drive.mount('/content/drive')"
      ]
    },
    {
      "cell_type": "code",
      "source": [
        "def read_dataset():\n",
        "  !pip install -q kaggle chromadb\n",
        "  files.upload()\n",
        "  !mkdir -p ~/.kaggle\n",
        "  !cp kaggle.json ~/.kaggle/\n",
        "  !chmod 600 ~/.kaggle/kaggle.json\n",
        "  !cat ~/.kaggle/kaggle.json\n",
        "  !kaggle datasets download \"djagatiya/myntra-fashion-product-dataset\" -p file_path\n",
        "  !unzip file_path+\"myntra-fashion-product-dataset.zip\" -d file_path"
      ],
      "metadata": {
        "id": "B2EdhvwOVTYL"
      },
      "execution_count": null,
      "outputs": []
    },
    {
      "cell_type": "code",
      "source": [
        "!pip install -q chromadb"
      ],
      "metadata": {
        "id": "dR3taXQTUS0o",
        "outputId": "7cecd2fc-25a4-477c-c026-68f90e27c8c3",
        "colab": {
          "base_uri": "https://localhost:8080/"
        }
      },
      "execution_count": 3,
      "outputs": [
        {
          "output_type": "stream",
          "name": "stdout",
          "text": [
            "\u001b[?25l     \u001b[90m━━━━━━━━━━━━━━━━━━━━━━━━━━━━━━━━━━━━━━━━\u001b[0m \u001b[32m0.0/67.3 kB\u001b[0m \u001b[31m?\u001b[0m eta \u001b[36m-:--:--\u001b[0m\r\u001b[2K     \u001b[90m━━━━━━━━━━━━━━━━━━━━━━━━━━━━━━━━━━━━━━━━\u001b[0m \u001b[32m67.3/67.3 kB\u001b[0m \u001b[31m2.8 MB/s\u001b[0m eta \u001b[36m0:00:00\u001b[0m\n",
            "\u001b[?25h  Installing build dependencies ... \u001b[?25l\u001b[?25hdone\n",
            "  Getting requirements to build wheel ... \u001b[?25l\u001b[?25hdone\n",
            "  Preparing metadata (pyproject.toml) ... \u001b[?25l\u001b[?25hdone\n",
            "\u001b[2K   \u001b[90m━━━━━━━━━━━━━━━━━━━━━━━━━━━━━━━━━━━━━━━━\u001b[0m \u001b[32m18.3/18.3 MB\u001b[0m \u001b[31m50.4 MB/s\u001b[0m eta \u001b[36m0:00:00\u001b[0m\n",
            "\u001b[2K   \u001b[90m━━━━━━━━━━━━━━━━━━━━━━━━━━━━━━━━━━━━━━━━\u001b[0m \u001b[32m2.4/2.4 MB\u001b[0m \u001b[31m34.2 MB/s\u001b[0m eta \u001b[36m0:00:00\u001b[0m\n",
            "\u001b[2K   \u001b[90m━━━━━━━━━━━━━━━━━━━━━━━━━━━━━━━━━━━━━━━━\u001b[0m \u001b[32m94.9/94.9 kB\u001b[0m \u001b[31m7.8 MB/s\u001b[0m eta \u001b[36m0:00:00\u001b[0m\n",
            "\u001b[2K   \u001b[90m━━━━━━━━━━━━━━━━━━━━━━━━━━━━━━━━━━━━━━━━\u001b[0m \u001b[32m284.2/284.2 kB\u001b[0m \u001b[31m9.8 MB/s\u001b[0m eta \u001b[36m0:00:00\u001b[0m\n",
            "\u001b[2K   \u001b[90m━━━━━━━━━━━━━━━━━━━━━━━━━━━━━━━━━━━━━━━━\u001b[0m \u001b[32m2.0/2.0 MB\u001b[0m \u001b[31m24.1 MB/s\u001b[0m eta \u001b[36m0:00:00\u001b[0m\n",
            "\u001b[2K   \u001b[90m━━━━━━━━━━━━━━━━━━━━━━━━━━━━━━━━━━━━━━━━\u001b[0m \u001b[32m101.6/101.6 kB\u001b[0m \u001b[31m4.8 MB/s\u001b[0m eta \u001b[36m0:00:00\u001b[0m\n",
            "\u001b[2K   \u001b[90m━━━━━━━━━━━━━━━━━━━━━━━━━━━━━━━━━━━━━━━━\u001b[0m \u001b[32m16.0/16.0 MB\u001b[0m \u001b[31m42.0 MB/s\u001b[0m eta \u001b[36m0:00:00\u001b[0m\n",
            "\u001b[2K   \u001b[90m━━━━━━━━━━━━━━━━━━━━━━━━━━━━━━━━━━━━━━━━\u001b[0m \u001b[32m55.9/55.9 kB\u001b[0m \u001b[31m4.3 MB/s\u001b[0m eta \u001b[36m0:00:00\u001b[0m\n",
            "\u001b[2K   \u001b[90m━━━━━━━━━━━━━━━━━━━━━━━━━━━━━━━━━━━━━━━━\u001b[0m \u001b[32m188.4/188.4 kB\u001b[0m \u001b[31m13.3 MB/s\u001b[0m eta \u001b[36m0:00:00\u001b[0m\n",
            "\u001b[2K   \u001b[90m━━━━━━━━━━━━━━━━━━━━━━━━━━━━━━━━━━━━━━━━\u001b[0m \u001b[32m65.3/65.3 kB\u001b[0m \u001b[31m4.8 MB/s\u001b[0m eta \u001b[36m0:00:00\u001b[0m\n",
            "\u001b[2K   \u001b[90m━━━━━━━━━━━━━━━━━━━━━━━━━━━━━━━━━━━━━━━━\u001b[0m \u001b[32m119.0/119.0 kB\u001b[0m \u001b[31m9.3 MB/s\u001b[0m eta \u001b[36m0:00:00\u001b[0m\n",
            "\u001b[2K   \u001b[90m━━━━━━━━━━━━━━━━━━━━━━━━━━━━━━━━━━━━━━━━\u001b[0m \u001b[32m92.0/92.0 kB\u001b[0m \u001b[31m7.6 MB/s\u001b[0m eta \u001b[36m0:00:00\u001b[0m\n",
            "\u001b[2K   \u001b[90m━━━━━━━━━━━━━━━━━━━━━━━━━━━━━━━━━━━━━━━━\u001b[0m \u001b[32m62.5/62.5 kB\u001b[0m \u001b[31m4.9 MB/s\u001b[0m eta \u001b[36m0:00:00\u001b[0m\n",
            "\u001b[2K   \u001b[90m━━━━━━━━━━━━━━━━━━━━━━━━━━━━━━━━━━━━━━━━\u001b[0m \u001b[32m459.8/459.8 kB\u001b[0m \u001b[31m6.8 MB/s\u001b[0m eta \u001b[36m0:00:00\u001b[0m\n",
            "\u001b[2K   \u001b[90m━━━━━━━━━━━━━━━━━━━━━━━━━━━━━━━━━━━━━━━━\u001b[0m \u001b[32m71.5/71.5 kB\u001b[0m \u001b[31m5.3 MB/s\u001b[0m eta \u001b[36m0:00:00\u001b[0m\n",
            "\u001b[2K   \u001b[90m━━━━━━━━━━━━━━━━━━━━━━━━━━━━━━━━━━━━━━━━\u001b[0m \u001b[32m4.0/4.0 MB\u001b[0m \u001b[31m83.3 MB/s\u001b[0m eta \u001b[36m0:00:00\u001b[0m\n",
            "\u001b[2K   \u001b[90m━━━━━━━━━━━━━━━━━━━━━━━━━━━━━━━━━━━━━━━━\u001b[0m \u001b[32m454.8/454.8 kB\u001b[0m \u001b[31m29.2 MB/s\u001b[0m eta \u001b[36m0:00:00\u001b[0m\n",
            "\u001b[2K   \u001b[90m━━━━━━━━━━━━━━━━━━━━━━━━━━━━━━━━━━━━━━━━\u001b[0m \u001b[32m46.0/46.0 kB\u001b[0m \u001b[31m3.2 MB/s\u001b[0m eta \u001b[36m0:00:00\u001b[0m\n",
            "\u001b[2K   \u001b[90m━━━━━━━━━━━━━━━━━━━━━━━━━━━━━━━━━━━━━━━━\u001b[0m \u001b[32m86.8/86.8 kB\u001b[0m \u001b[31m6.6 MB/s\u001b[0m eta \u001b[36m0:00:00\u001b[0m\n",
            "\u001b[?25h  Building wheel for pypika (pyproject.toml) ... \u001b[?25l\u001b[?25hdone\n"
          ]
        }
      ]
    },
    {
      "cell_type": "code",
      "source": [
        "import os\n",
        "import pathlib\n",
        "\n",
        "import string\n",
        "import re\n",
        "import ast\n",
        "import json\n",
        "import numpy as np\n",
        "import pandas as pd\n",
        "\n",
        "import chromadb\n",
        "from chromadb.utils.embedding_functions import OpenAIEmbeddingFunction\n",
        "\n",
        "from openai import OpenAI\n",
        "from sentence_transformers import CrossEncoder, util"
      ],
      "metadata": {
        "id": "WwIxCKaGk8qV"
      },
      "execution_count": 4,
      "outputs": []
    },
    {
      "cell_type": "code",
      "source": [
        "# pd.set_option('display.max_rows', 200)\n",
        "# pd.set_option('display.max_columns', 200)"
      ],
      "metadata": {
        "id": "nhj3nsjR9U-x"
      },
      "execution_count": 5,
      "outputs": []
    },
    {
      "cell_type": "code",
      "source": [
        "gpt_model = \"gpt-4o-mini\"\n",
        "moderator = \"omni-moderation-latest\""
      ],
      "metadata": {
        "id": "hBcL4e_14hhq"
      },
      "execution_count": 5,
      "outputs": []
    },
    {
      "cell_type": "code",
      "source": [
        "df = pd.read_csv(file_path + \"Fashion Dataset v2.csv\")"
      ],
      "metadata": {
        "id": "VN8HU32Yk8l2"
      },
      "execution_count": 6,
      "outputs": []
    },
    {
      "cell_type": "code",
      "source": [
        "df.head(5)"
      ],
      "metadata": {
        "id": "e4wd2cYok8jl",
        "colab": {
          "base_uri": "https://localhost:8080/",
          "height": 345
        },
        "outputId": "f6900f48-6c7c-4276-81bd-856a3c62660d"
      },
      "execution_count": 8,
      "outputs": [
        {
          "output_type": "execute_result",
          "data": {
            "text/plain": [
              "       p_id                                               name  \\\n",
              "0  17048614  Khushal K Women Black Ethnic Motifs Printed Ku...   \n",
              "1  16524740  InWeave Women Orange Solid Kurta with Palazzos...   \n",
              "2  16331376  Anubhutee Women Navy Blue Ethnic Motifs Embroi...   \n",
              "3  14709966  Nayo Women Red Floral Printed Kurta With Trous...   \n",
              "4  11056154   AHIKA Women Black & Green Printed Straight Kurta   \n",
              "\n",
              "                                products   price     colour      brand  \\\n",
              "0               Kurta, Palazzos, Dupatta  5099.0      Black  Khushal K   \n",
              "1  Kurta, Palazzos, Floral Print Dupatta  5899.0     Orange    InWeave   \n",
              "2               Kurta, Trousers, Dupatta  4899.0  Navy Blue  Anubhutee   \n",
              "3                Kurta, Trouser, Dupatta  3699.0        Red       Nayo   \n",
              "4                                  Kurta  1350.0      Black      AHIKA   \n",
              "\n",
              "                                                 img  ratingCount  avg_rating  \\\n",
              "0  http://assets.myntassets.com/assets/images/170...       4522.0    4.418399   \n",
              "1  http://assets.myntassets.com/assets/images/165...       1081.0    4.119334   \n",
              "2  http://assets.myntassets.com/assets/images/163...       1752.0    4.161530   \n",
              "3  http://assets.myntassets.com/assets/images/147...       4113.0    4.088986   \n",
              "4  http://assets.myntassets.com/assets/images/110...      21274.0    3.978377   \n",
              "\n",
              "                                         description  \\\n",
              "0  Black printed Kurta with Palazzos with dupatta...   \n",
              "1  Orange solid Kurta with Palazzos with dupatta<...   \n",
              "2  Navy blue embroidered Kurta with Trousers with...   \n",
              "3  Red printed kurta with trouser and dupatta<br>...   \n",
              "4  Black and green printed straight kurta, has a ...   \n",
              "\n",
              "                                        p_attributes  \n",
              "0  {'Add-Ons': 'NA', 'Body Shape ID': '443,333,32...  \n",
              "1  {'Add-Ons': 'NA', 'Body Shape ID': '443,333,32...  \n",
              "2  {'Add-Ons': 'NA', 'Body Shape ID': '333,424', ...  \n",
              "3  {'Add-Ons': 'NA', 'Body Shape ID': '333,424', ...  \n",
              "4  {'Body Shape ID': '424', 'Body or Garment Size...  "
            ],
            "text/html": [
              "\n",
              "  <div id=\"df-8252a51d-05ce-4d2e-af14-9004b33e7b86\" class=\"colab-df-container\">\n",
              "    <div>\n",
              "<style scoped>\n",
              "    .dataframe tbody tr th:only-of-type {\n",
              "        vertical-align: middle;\n",
              "    }\n",
              "\n",
              "    .dataframe tbody tr th {\n",
              "        vertical-align: top;\n",
              "    }\n",
              "\n",
              "    .dataframe thead th {\n",
              "        text-align: right;\n",
              "    }\n",
              "</style>\n",
              "<table border=\"1\" class=\"dataframe\">\n",
              "  <thead>\n",
              "    <tr style=\"text-align: right;\">\n",
              "      <th></th>\n",
              "      <th>p_id</th>\n",
              "      <th>name</th>\n",
              "      <th>products</th>\n",
              "      <th>price</th>\n",
              "      <th>colour</th>\n",
              "      <th>brand</th>\n",
              "      <th>img</th>\n",
              "      <th>ratingCount</th>\n",
              "      <th>avg_rating</th>\n",
              "      <th>description</th>\n",
              "      <th>p_attributes</th>\n",
              "    </tr>\n",
              "  </thead>\n",
              "  <tbody>\n",
              "    <tr>\n",
              "      <th>0</th>\n",
              "      <td>17048614</td>\n",
              "      <td>Khushal K Women Black Ethnic Motifs Printed Ku...</td>\n",
              "      <td>Kurta, Palazzos, Dupatta</td>\n",
              "      <td>5099.0</td>\n",
              "      <td>Black</td>\n",
              "      <td>Khushal K</td>\n",
              "      <td>http://assets.myntassets.com/assets/images/170...</td>\n",
              "      <td>4522.0</td>\n",
              "      <td>4.418399</td>\n",
              "      <td>Black printed Kurta with Palazzos with dupatta...</td>\n",
              "      <td>{'Add-Ons': 'NA', 'Body Shape ID': '443,333,32...</td>\n",
              "    </tr>\n",
              "    <tr>\n",
              "      <th>1</th>\n",
              "      <td>16524740</td>\n",
              "      <td>InWeave Women Orange Solid Kurta with Palazzos...</td>\n",
              "      <td>Kurta, Palazzos, Floral Print Dupatta</td>\n",
              "      <td>5899.0</td>\n",
              "      <td>Orange</td>\n",
              "      <td>InWeave</td>\n",
              "      <td>http://assets.myntassets.com/assets/images/165...</td>\n",
              "      <td>1081.0</td>\n",
              "      <td>4.119334</td>\n",
              "      <td>Orange solid Kurta with Palazzos with dupatta&lt;...</td>\n",
              "      <td>{'Add-Ons': 'NA', 'Body Shape ID': '443,333,32...</td>\n",
              "    </tr>\n",
              "    <tr>\n",
              "      <th>2</th>\n",
              "      <td>16331376</td>\n",
              "      <td>Anubhutee Women Navy Blue Ethnic Motifs Embroi...</td>\n",
              "      <td>Kurta, Trousers, Dupatta</td>\n",
              "      <td>4899.0</td>\n",
              "      <td>Navy Blue</td>\n",
              "      <td>Anubhutee</td>\n",
              "      <td>http://assets.myntassets.com/assets/images/163...</td>\n",
              "      <td>1752.0</td>\n",
              "      <td>4.161530</td>\n",
              "      <td>Navy blue embroidered Kurta with Trousers with...</td>\n",
              "      <td>{'Add-Ons': 'NA', 'Body Shape ID': '333,424', ...</td>\n",
              "    </tr>\n",
              "    <tr>\n",
              "      <th>3</th>\n",
              "      <td>14709966</td>\n",
              "      <td>Nayo Women Red Floral Printed Kurta With Trous...</td>\n",
              "      <td>Kurta, Trouser, Dupatta</td>\n",
              "      <td>3699.0</td>\n",
              "      <td>Red</td>\n",
              "      <td>Nayo</td>\n",
              "      <td>http://assets.myntassets.com/assets/images/147...</td>\n",
              "      <td>4113.0</td>\n",
              "      <td>4.088986</td>\n",
              "      <td>Red printed kurta with trouser and dupatta&lt;br&gt;...</td>\n",
              "      <td>{'Add-Ons': 'NA', 'Body Shape ID': '333,424', ...</td>\n",
              "    </tr>\n",
              "    <tr>\n",
              "      <th>4</th>\n",
              "      <td>11056154</td>\n",
              "      <td>AHIKA Women Black &amp; Green Printed Straight Kurta</td>\n",
              "      <td>Kurta</td>\n",
              "      <td>1350.0</td>\n",
              "      <td>Black</td>\n",
              "      <td>AHIKA</td>\n",
              "      <td>http://assets.myntassets.com/assets/images/110...</td>\n",
              "      <td>21274.0</td>\n",
              "      <td>3.978377</td>\n",
              "      <td>Black and green printed straight kurta, has a ...</td>\n",
              "      <td>{'Body Shape ID': '424', 'Body or Garment Size...</td>\n",
              "    </tr>\n",
              "  </tbody>\n",
              "</table>\n",
              "</div>\n",
              "    <div class=\"colab-df-buttons\">\n",
              "\n",
              "  <div class=\"colab-df-container\">\n",
              "    <button class=\"colab-df-convert\" onclick=\"convertToInteractive('df-8252a51d-05ce-4d2e-af14-9004b33e7b86')\"\n",
              "            title=\"Convert this dataframe to an interactive table.\"\n",
              "            style=\"display:none;\">\n",
              "\n",
              "  <svg xmlns=\"http://www.w3.org/2000/svg\" height=\"24px\" viewBox=\"0 -960 960 960\">\n",
              "    <path d=\"M120-120v-720h720v720H120Zm60-500h600v-160H180v160Zm220 220h160v-160H400v160Zm0 220h160v-160H400v160ZM180-400h160v-160H180v160Zm440 0h160v-160H620v160ZM180-180h160v-160H180v160Zm440 0h160v-160H620v160Z\"/>\n",
              "  </svg>\n",
              "    </button>\n",
              "\n",
              "  <style>\n",
              "    .colab-df-container {\n",
              "      display:flex;\n",
              "      gap: 12px;\n",
              "    }\n",
              "\n",
              "    .colab-df-convert {\n",
              "      background-color: #E8F0FE;\n",
              "      border: none;\n",
              "      border-radius: 50%;\n",
              "      cursor: pointer;\n",
              "      display: none;\n",
              "      fill: #1967D2;\n",
              "      height: 32px;\n",
              "      padding: 0 0 0 0;\n",
              "      width: 32px;\n",
              "    }\n",
              "\n",
              "    .colab-df-convert:hover {\n",
              "      background-color: #E2EBFA;\n",
              "      box-shadow: 0px 1px 2px rgba(60, 64, 67, 0.3), 0px 1px 3px 1px rgba(60, 64, 67, 0.15);\n",
              "      fill: #174EA6;\n",
              "    }\n",
              "\n",
              "    .colab-df-buttons div {\n",
              "      margin-bottom: 4px;\n",
              "    }\n",
              "\n",
              "    [theme=dark] .colab-df-convert {\n",
              "      background-color: #3B4455;\n",
              "      fill: #D2E3FC;\n",
              "    }\n",
              "\n",
              "    [theme=dark] .colab-df-convert:hover {\n",
              "      background-color: #434B5C;\n",
              "      box-shadow: 0px 1px 3px 1px rgba(0, 0, 0, 0.15);\n",
              "      filter: drop-shadow(0px 1px 2px rgba(0, 0, 0, 0.3));\n",
              "      fill: #FFFFFF;\n",
              "    }\n",
              "  </style>\n",
              "\n",
              "    <script>\n",
              "      const buttonEl =\n",
              "        document.querySelector('#df-8252a51d-05ce-4d2e-af14-9004b33e7b86 button.colab-df-convert');\n",
              "      buttonEl.style.display =\n",
              "        google.colab.kernel.accessAllowed ? 'block' : 'none';\n",
              "\n",
              "      async function convertToInteractive(key) {\n",
              "        const element = document.querySelector('#df-8252a51d-05ce-4d2e-af14-9004b33e7b86');\n",
              "        const dataTable =\n",
              "          await google.colab.kernel.invokeFunction('convertToInteractive',\n",
              "                                                    [key], {});\n",
              "        if (!dataTable) return;\n",
              "\n",
              "        const docLinkHtml = 'Like what you see? Visit the ' +\n",
              "          '<a target=\"_blank\" href=https://colab.research.google.com/notebooks/data_table.ipynb>data table notebook</a>'\n",
              "          + ' to learn more about interactive tables.';\n",
              "        element.innerHTML = '';\n",
              "        dataTable['output_type'] = 'display_data';\n",
              "        await google.colab.output.renderOutput(dataTable, element);\n",
              "        const docLink = document.createElement('div');\n",
              "        docLink.innerHTML = docLinkHtml;\n",
              "        element.appendChild(docLink);\n",
              "      }\n",
              "    </script>\n",
              "  </div>\n",
              "\n",
              "\n",
              "    <div id=\"df-88b1d7e4-ca13-4c4f-8703-2f7dfacd1a06\">\n",
              "      <button class=\"colab-df-quickchart\" onclick=\"quickchart('df-88b1d7e4-ca13-4c4f-8703-2f7dfacd1a06')\"\n",
              "                title=\"Suggest charts\"\n",
              "                style=\"display:none;\">\n",
              "\n",
              "<svg xmlns=\"http://www.w3.org/2000/svg\" height=\"24px\"viewBox=\"0 0 24 24\"\n",
              "     width=\"24px\">\n",
              "    <g>\n",
              "        <path d=\"M19 3H5c-1.1 0-2 .9-2 2v14c0 1.1.9 2 2 2h14c1.1 0 2-.9 2-2V5c0-1.1-.9-2-2-2zM9 17H7v-7h2v7zm4 0h-2V7h2v10zm4 0h-2v-4h2v4z\"/>\n",
              "    </g>\n",
              "</svg>\n",
              "      </button>\n",
              "\n",
              "<style>\n",
              "  .colab-df-quickchart {\n",
              "      --bg-color: #E8F0FE;\n",
              "      --fill-color: #1967D2;\n",
              "      --hover-bg-color: #E2EBFA;\n",
              "      --hover-fill-color: #174EA6;\n",
              "      --disabled-fill-color: #AAA;\n",
              "      --disabled-bg-color: #DDD;\n",
              "  }\n",
              "\n",
              "  [theme=dark] .colab-df-quickchart {\n",
              "      --bg-color: #3B4455;\n",
              "      --fill-color: #D2E3FC;\n",
              "      --hover-bg-color: #434B5C;\n",
              "      --hover-fill-color: #FFFFFF;\n",
              "      --disabled-bg-color: #3B4455;\n",
              "      --disabled-fill-color: #666;\n",
              "  }\n",
              "\n",
              "  .colab-df-quickchart {\n",
              "    background-color: var(--bg-color);\n",
              "    border: none;\n",
              "    border-radius: 50%;\n",
              "    cursor: pointer;\n",
              "    display: none;\n",
              "    fill: var(--fill-color);\n",
              "    height: 32px;\n",
              "    padding: 0;\n",
              "    width: 32px;\n",
              "  }\n",
              "\n",
              "  .colab-df-quickchart:hover {\n",
              "    background-color: var(--hover-bg-color);\n",
              "    box-shadow: 0 1px 2px rgba(60, 64, 67, 0.3), 0 1px 3px 1px rgba(60, 64, 67, 0.15);\n",
              "    fill: var(--button-hover-fill-color);\n",
              "  }\n",
              "\n",
              "  .colab-df-quickchart-complete:disabled,\n",
              "  .colab-df-quickchart-complete:disabled:hover {\n",
              "    background-color: var(--disabled-bg-color);\n",
              "    fill: var(--disabled-fill-color);\n",
              "    box-shadow: none;\n",
              "  }\n",
              "\n",
              "  .colab-df-spinner {\n",
              "    border: 2px solid var(--fill-color);\n",
              "    border-color: transparent;\n",
              "    border-bottom-color: var(--fill-color);\n",
              "    animation:\n",
              "      spin 1s steps(1) infinite;\n",
              "  }\n",
              "\n",
              "  @keyframes spin {\n",
              "    0% {\n",
              "      border-color: transparent;\n",
              "      border-bottom-color: var(--fill-color);\n",
              "      border-left-color: var(--fill-color);\n",
              "    }\n",
              "    20% {\n",
              "      border-color: transparent;\n",
              "      border-left-color: var(--fill-color);\n",
              "      border-top-color: var(--fill-color);\n",
              "    }\n",
              "    30% {\n",
              "      border-color: transparent;\n",
              "      border-left-color: var(--fill-color);\n",
              "      border-top-color: var(--fill-color);\n",
              "      border-right-color: var(--fill-color);\n",
              "    }\n",
              "    40% {\n",
              "      border-color: transparent;\n",
              "      border-right-color: var(--fill-color);\n",
              "      border-top-color: var(--fill-color);\n",
              "    }\n",
              "    60% {\n",
              "      border-color: transparent;\n",
              "      border-right-color: var(--fill-color);\n",
              "    }\n",
              "    80% {\n",
              "      border-color: transparent;\n",
              "      border-right-color: var(--fill-color);\n",
              "      border-bottom-color: var(--fill-color);\n",
              "    }\n",
              "    90% {\n",
              "      border-color: transparent;\n",
              "      border-bottom-color: var(--fill-color);\n",
              "    }\n",
              "  }\n",
              "</style>\n",
              "\n",
              "      <script>\n",
              "        async function quickchart(key) {\n",
              "          const quickchartButtonEl =\n",
              "            document.querySelector('#' + key + ' button');\n",
              "          quickchartButtonEl.disabled = true;  // To prevent multiple clicks.\n",
              "          quickchartButtonEl.classList.add('colab-df-spinner');\n",
              "          try {\n",
              "            const charts = await google.colab.kernel.invokeFunction(\n",
              "                'suggestCharts', [key], {});\n",
              "          } catch (error) {\n",
              "            console.error('Error during call to suggestCharts:', error);\n",
              "          }\n",
              "          quickchartButtonEl.classList.remove('colab-df-spinner');\n",
              "          quickchartButtonEl.classList.add('colab-df-quickchart-complete');\n",
              "        }\n",
              "        (() => {\n",
              "          let quickchartButtonEl =\n",
              "            document.querySelector('#df-88b1d7e4-ca13-4c4f-8703-2f7dfacd1a06 button');\n",
              "          quickchartButtonEl.style.display =\n",
              "            google.colab.kernel.accessAllowed ? 'block' : 'none';\n",
              "        })();\n",
              "      </script>\n",
              "    </div>\n",
              "\n",
              "    </div>\n",
              "  </div>\n"
            ],
            "application/vnd.google.colaboratory.intrinsic+json": {
              "type": "dataframe",
              "variable_name": "df",
              "summary": "{\n  \"name\": \"df\",\n  \"rows\": 14214,\n  \"fields\": [\n    {\n      \"column\": \"p_id\",\n      \"properties\": {\n        \"dtype\": \"number\",\n        \"std\": 3152415,\n        \"min\": 70166,\n        \"max\": 19415760,\n        \"num_unique_values\": 14214,\n        \"samples\": [\n          18688460,\n          17441634,\n          14179076\n        ],\n        \"semantic_type\": \"\",\n        \"description\": \"\"\n      }\n    },\n    {\n      \"column\": \"name\",\n      \"properties\": {\n        \"dtype\": \"string\",\n        \"num_unique_values\": 13873,\n        \"samples\": [\n          \"Clora Creation Women Off White Floral Embroidered Palazzos\",\n          \"MANGO Women Red & Beige Abstract Print A-Line Top\",\n          \"Clora Creation Navy Blue Woven Design Banarsi Silk Dupatta\"\n        ],\n        \"semantic_type\": \"\",\n        \"description\": \"\"\n      }\n    },\n    {\n      \"column\": \"products\",\n      \"properties\": {\n        \"dtype\": \"category\",\n        \"num_unique_values\": 910,\n        \"samples\": [\n          \"Hoodie, Plus Size\",\n          \"Top, Palazzos, Ethnic Jacket\",\n          \"Jeans, Culottes, Trousers\"\n        ],\n        \"semantic_type\": \"\",\n        \"description\": \"\"\n      }\n    },\n    {\n      \"column\": \"price\",\n      \"properties\": {\n        \"dtype\": \"number\",\n        \"std\": 2570.2329882965837,\n        \"min\": 169.0,\n        \"max\": 47999.0,\n        \"num_unique_values\": 1209,\n        \"samples\": [\n          2259.0,\n          475.0,\n          4590.0\n        ],\n        \"semantic_type\": \"\",\n        \"description\": \"\"\n      }\n    },\n    {\n      \"column\": \"colour\",\n      \"properties\": {\n        \"dtype\": \"category\",\n        \"num_unique_values\": 50,\n        \"samples\": [\n          \"Sea Green\",\n          \"Gold\",\n          \"Rust\"\n        ],\n        \"semantic_type\": \"\",\n        \"description\": \"\"\n      }\n    },\n    {\n      \"column\": \"brand\",\n      \"properties\": {\n        \"dtype\": \"category\",\n        \"num_unique_values\": 1022,\n        \"samples\": [\n          \"Zigo\",\n          \"Reistor\",\n          \"SERONA FABRICS\"\n        ],\n        \"semantic_type\": \"\",\n        \"description\": \"\"\n      }\n    },\n    {\n      \"column\": \"img\",\n      \"properties\": {\n        \"dtype\": \"string\",\n        \"num_unique_values\": 14214,\n        \"samples\": [\n          \"http://assets.myntassets.com/assets/images/18688460/2022/6/9/91ab90ee-c162-4d9f-9e4e-4f9c0cd7865a1654782377953Skirts1.jpg\",\n          \"http://assets.myntassets.com/assets/images/17441634/2022/3/8/1d50e24c-e7bf-4e62-8a96-9625b530f4751646740866170Jackets1.jpg\",\n          \"http://assets.myntassets.com/assets/images/14179076/2021/6/24/fdb8118a-1946-4b43-9ee7-c52146e004151624527103903-DressBerry-Women-Sweaters-5311624527103479-1.jpg\"\n        ],\n        \"semantic_type\": \"\",\n        \"description\": \"\"\n      }\n    },\n    {\n      \"column\": \"ratingCount\",\n      \"properties\": {\n        \"dtype\": \"number\",\n        \"std\": 782.4649724046869,\n        \"min\": 1.0,\n        \"max\": 21274.0,\n        \"num_unique_values\": 829,\n        \"samples\": [\n          897.0,\n          173.0,\n          592.0\n        ],\n        \"semantic_type\": \"\",\n        \"description\": \"\"\n      }\n    },\n    {\n      \"column\": \"avg_rating\",\n      \"properties\": {\n        \"dtype\": \"number\",\n        \"std\": 0.4757558612927901,\n        \"min\": 1.0,\n        \"max\": 5.0,\n        \"num_unique_values\": 2367,\n        \"samples\": [\n          3.771084337349397,\n          4.496644295302014,\n          3.631578947368421\n        ],\n        \"semantic_type\": \"\",\n        \"description\": \"\"\n      }\n    },\n    {\n      \"column\": \"description\",\n      \"properties\": {\n        \"dtype\": \"string\",\n        \"num_unique_values\": 14181,\n        \"samples\": [\n          \"<p>Off-white, blue and burgundy floral printed flared maxi skirt, has a partially elasticated waistband, slip-on closure, flared hem and is lined</p><p>Viscose rayon<br>Machine-wash<br>Do not bleach</p><p>The model (height 5'8\\\") is wearing a size 28</p>\",\n          \"Burgundy solid basic jumpsuit, has a keyhole neckline, sleeveless, and two pockets<br>Comes with a beltMaterial: Polyester crepe<br>Machine WashThe model (height 5'8'') is wearing a size S\",\n          \"Grey abstract printed insulator quilted jacket,  has a hooded,  2  pockets ,has a zip closure, long sleeves,  straight  hemline, polyester  lining<br><br>Warranty: 1 month<br>Warranty provided by brand/manufacturerOuter shell: Polyester <br> Lining fabric: Polyester <br> Machine washThe model (height 5'8) is wearing a size S<br><br>Columbia runs a size bigger. Pick one size smaller for a more comfortable fit.\"\n        ],\n        \"semantic_type\": \"\",\n        \"description\": \"\"\n      }\n    },\n    {\n      \"column\": \"p_attributes\",\n      \"properties\": {\n        \"dtype\": \"string\",\n        \"num_unique_values\": 13089,\n        \"samples\": [\n          \"{'Body or Garment Size': 'Garment Measurements in', 'Closure': 'NA', 'Fabric': 'Cotton', 'Main Trend': 'NA', 'Neck': 'Shoulder Straps', 'Number of Pockets': 'NA', 'Occasion': 'Casual', 'Pattern': 'Solid', 'Sleeve Length': 'Sleeveless', 'Surface Styling': 'Gathers', 'Sustainable': 'Regular', 'Type': 'Playsuit', 'Wash Care': 'Hand Wash'}\",\n          \"{'Border': 'Woven Design', 'Fabric': 'Art Silk', 'Occasion': 'Party', 'Ornamentation': 'Gotta Patti', 'Pattern': 'Printed', 'Print or Pattern Type': 'Bandhani', 'Sustainable': 'Regular', 'Technique': 'Bandhani', 'Wash Care': 'Machine Wash', 'Wedding': 'Bride & Wedding Squad'}\",\n          \"{'Body Shape ID': '443,333,324,424', 'Body or Garment Size': 'To-Fit Denotes Body Measurements in', 'Center Front Open': 'No', 'Character': 'NA', 'Closure': 'Tie-Ups', 'Fabric': 'Pure Cotton', 'Fabric Type': 'NA', 'Length': 'Regular', 'Lining': 'NA', 'Main Trend': 'Conversational Print', 'Multipack Set': 'NA', 'Neck': 'Shoulder Straps', 'Occasion': 'Ethnic', 'Pattern': 'Printed', 'Print or Pattern Type': 'Conversational', 'Sleeve Length': 'Sleeveless', 'Sleeve Styling': 'No Sleeves', 'Surface Styling': 'Tie-Ups', 'Sustainable': 'Regular', 'Transparency': 'Opaque', 'Type': 'Regular', 'Wash Care': 'Hand Wash', 'Weave Type': 'Woven', 'taxMaterial': 'NA'}\"\n        ],\n        \"semantic_type\": \"\",\n        \"description\": \"\"\n      }\n    }\n  ]\n}"
            }
          },
          "metadata": {},
          "execution_count": 8
        }
      ]
    },
    {
      "cell_type": "code",
      "source": [
        "df.shape"
      ],
      "metadata": {
        "id": "cJWPVPOrk8g9",
        "colab": {
          "base_uri": "https://localhost:8080/"
        },
        "outputId": "b88080ef-5c68-4204-cd67-492a37f2f6da"
      },
      "execution_count": 9,
      "outputs": [
        {
          "output_type": "execute_result",
          "data": {
            "text/plain": [
              "(14214, 11)"
            ]
          },
          "metadata": {},
          "execution_count": 9
        }
      ]
    },
    {
      "cell_type": "code",
      "source": [
        "df.info()"
      ],
      "metadata": {
        "id": "sahxXau0k8aN",
        "colab": {
          "base_uri": "https://localhost:8080/"
        },
        "outputId": "5f54cece-0241-46dc-8617-09dd506854d5"
      },
      "execution_count": 10,
      "outputs": [
        {
          "output_type": "stream",
          "name": "stdout",
          "text": [
            "<class 'pandas.core.frame.DataFrame'>\n",
            "RangeIndex: 14214 entries, 0 to 14213\n",
            "Data columns (total 11 columns):\n",
            " #   Column        Non-Null Count  Dtype  \n",
            "---  ------        --------------  -----  \n",
            " 0   p_id          14214 non-null  int64  \n",
            " 1   name          14214 non-null  object \n",
            " 2   products      14214 non-null  object \n",
            " 3   price         14214 non-null  float64\n",
            " 4   colour        14214 non-null  object \n",
            " 5   brand         14214 non-null  object \n",
            " 6   img           14214 non-null  object \n",
            " 7   ratingCount   6530 non-null   float64\n",
            " 8   avg_rating    6530 non-null   float64\n",
            " 9   description   14214 non-null  object \n",
            " 10  p_attributes  14214 non-null  object \n",
            "dtypes: float64(3), int64(1), object(7)\n",
            "memory usage: 1.2+ MB\n"
          ]
        }
      ]
    },
    {
      "cell_type": "code",
      "source": [
        "df.isna().sum()"
      ],
      "metadata": {
        "id": "ehnBuS79k8ek",
        "colab": {
          "base_uri": "https://localhost:8080/",
          "height": 429
        },
        "outputId": "07a07278-e9f3-4b44-9fd8-5a014b05ea88"
      },
      "execution_count": 11,
      "outputs": [
        {
          "output_type": "execute_result",
          "data": {
            "text/plain": [
              "p_id               0\n",
              "name               0\n",
              "products           0\n",
              "price              0\n",
              "colour             0\n",
              "brand              0\n",
              "img                0\n",
              "ratingCount     7684\n",
              "avg_rating      7684\n",
              "description        0\n",
              "p_attributes       0\n",
              "dtype: int64"
            ],
            "text/html": [
              "<div>\n",
              "<style scoped>\n",
              "    .dataframe tbody tr th:only-of-type {\n",
              "        vertical-align: middle;\n",
              "    }\n",
              "\n",
              "    .dataframe tbody tr th {\n",
              "        vertical-align: top;\n",
              "    }\n",
              "\n",
              "    .dataframe thead th {\n",
              "        text-align: right;\n",
              "    }\n",
              "</style>\n",
              "<table border=\"1\" class=\"dataframe\">\n",
              "  <thead>\n",
              "    <tr style=\"text-align: right;\">\n",
              "      <th></th>\n",
              "      <th>0</th>\n",
              "    </tr>\n",
              "  </thead>\n",
              "  <tbody>\n",
              "    <tr>\n",
              "      <th>p_id</th>\n",
              "      <td>0</td>\n",
              "    </tr>\n",
              "    <tr>\n",
              "      <th>name</th>\n",
              "      <td>0</td>\n",
              "    </tr>\n",
              "    <tr>\n",
              "      <th>products</th>\n",
              "      <td>0</td>\n",
              "    </tr>\n",
              "    <tr>\n",
              "      <th>price</th>\n",
              "      <td>0</td>\n",
              "    </tr>\n",
              "    <tr>\n",
              "      <th>colour</th>\n",
              "      <td>0</td>\n",
              "    </tr>\n",
              "    <tr>\n",
              "      <th>brand</th>\n",
              "      <td>0</td>\n",
              "    </tr>\n",
              "    <tr>\n",
              "      <th>img</th>\n",
              "      <td>0</td>\n",
              "    </tr>\n",
              "    <tr>\n",
              "      <th>ratingCount</th>\n",
              "      <td>7684</td>\n",
              "    </tr>\n",
              "    <tr>\n",
              "      <th>avg_rating</th>\n",
              "      <td>7684</td>\n",
              "    </tr>\n",
              "    <tr>\n",
              "      <th>description</th>\n",
              "      <td>0</td>\n",
              "    </tr>\n",
              "    <tr>\n",
              "      <th>p_attributes</th>\n",
              "      <td>0</td>\n",
              "    </tr>\n",
              "  </tbody>\n",
              "</table>\n",
              "</div><br><label><b>dtype:</b> int64</label>"
            ]
          },
          "metadata": {},
          "execution_count": 11
        }
      ]
    },
    {
      "cell_type": "code",
      "source": [
        "round(100 * df.isna().sum()/df.shape[0], 3)"
      ],
      "metadata": {
        "id": "1t6iuQxXRFoG",
        "colab": {
          "base_uri": "https://localhost:8080/",
          "height": 429
        },
        "outputId": "0aaed945-f547-4b9e-c17e-7c15e1369255"
      },
      "execution_count": 12,
      "outputs": [
        {
          "output_type": "execute_result",
          "data": {
            "text/plain": [
              "p_id             0.000\n",
              "name             0.000\n",
              "products         0.000\n",
              "price            0.000\n",
              "colour           0.000\n",
              "brand            0.000\n",
              "img              0.000\n",
              "ratingCount     54.059\n",
              "avg_rating      54.059\n",
              "description      0.000\n",
              "p_attributes     0.000\n",
              "dtype: float64"
            ],
            "text/html": [
              "<div>\n",
              "<style scoped>\n",
              "    .dataframe tbody tr th:only-of-type {\n",
              "        vertical-align: middle;\n",
              "    }\n",
              "\n",
              "    .dataframe tbody tr th {\n",
              "        vertical-align: top;\n",
              "    }\n",
              "\n",
              "    .dataframe thead th {\n",
              "        text-align: right;\n",
              "    }\n",
              "</style>\n",
              "<table border=\"1\" class=\"dataframe\">\n",
              "  <thead>\n",
              "    <tr style=\"text-align: right;\">\n",
              "      <th></th>\n",
              "      <th>0</th>\n",
              "    </tr>\n",
              "  </thead>\n",
              "  <tbody>\n",
              "    <tr>\n",
              "      <th>p_id</th>\n",
              "      <td>0.000</td>\n",
              "    </tr>\n",
              "    <tr>\n",
              "      <th>name</th>\n",
              "      <td>0.000</td>\n",
              "    </tr>\n",
              "    <tr>\n",
              "      <th>products</th>\n",
              "      <td>0.000</td>\n",
              "    </tr>\n",
              "    <tr>\n",
              "      <th>price</th>\n",
              "      <td>0.000</td>\n",
              "    </tr>\n",
              "    <tr>\n",
              "      <th>colour</th>\n",
              "      <td>0.000</td>\n",
              "    </tr>\n",
              "    <tr>\n",
              "      <th>brand</th>\n",
              "      <td>0.000</td>\n",
              "    </tr>\n",
              "    <tr>\n",
              "      <th>img</th>\n",
              "      <td>0.000</td>\n",
              "    </tr>\n",
              "    <tr>\n",
              "      <th>ratingCount</th>\n",
              "      <td>54.059</td>\n",
              "    </tr>\n",
              "    <tr>\n",
              "      <th>avg_rating</th>\n",
              "      <td>54.059</td>\n",
              "    </tr>\n",
              "    <tr>\n",
              "      <th>description</th>\n",
              "      <td>0.000</td>\n",
              "    </tr>\n",
              "    <tr>\n",
              "      <th>p_attributes</th>\n",
              "      <td>0.000</td>\n",
              "    </tr>\n",
              "  </tbody>\n",
              "</table>\n",
              "</div><br><label><b>dtype:</b> float64</label>"
            ]
          },
          "metadata": {},
          "execution_count": 12
        }
      ]
    },
    {
      "cell_type": "code",
      "source": [
        "df.shape"
      ],
      "metadata": {
        "id": "wDCqRvork8U8",
        "colab": {
          "base_uri": "https://localhost:8080/"
        },
        "outputId": "8be51088-a980-4c56-ebcb-9087fe3038b7"
      },
      "execution_count": 13,
      "outputs": [
        {
          "output_type": "execute_result",
          "data": {
            "text/plain": [
              "(14214, 11)"
            ]
          },
          "metadata": {},
          "execution_count": 13
        }
      ]
    },
    {
      "cell_type": "code",
      "source": [
        "df.head(5)"
      ],
      "metadata": {
        "id": "1RI2869Zk8P1",
        "colab": {
          "base_uri": "https://localhost:8080/",
          "height": 345
        },
        "outputId": "26290173-73ee-4435-f1aa-92fe8749ada4"
      },
      "execution_count": 14,
      "outputs": [
        {
          "output_type": "execute_result",
          "data": {
            "text/plain": [
              "       p_id                                               name  \\\n",
              "0  17048614  Khushal K Women Black Ethnic Motifs Printed Ku...   \n",
              "1  16524740  InWeave Women Orange Solid Kurta with Palazzos...   \n",
              "2  16331376  Anubhutee Women Navy Blue Ethnic Motifs Embroi...   \n",
              "3  14709966  Nayo Women Red Floral Printed Kurta With Trous...   \n",
              "4  11056154   AHIKA Women Black & Green Printed Straight Kurta   \n",
              "\n",
              "                                products   price     colour      brand  \\\n",
              "0               Kurta, Palazzos, Dupatta  5099.0      Black  Khushal K   \n",
              "1  Kurta, Palazzos, Floral Print Dupatta  5899.0     Orange    InWeave   \n",
              "2               Kurta, Trousers, Dupatta  4899.0  Navy Blue  Anubhutee   \n",
              "3                Kurta, Trouser, Dupatta  3699.0        Red       Nayo   \n",
              "4                                  Kurta  1350.0      Black      AHIKA   \n",
              "\n",
              "                                                 img  ratingCount  avg_rating  \\\n",
              "0  http://assets.myntassets.com/assets/images/170...       4522.0    4.418399   \n",
              "1  http://assets.myntassets.com/assets/images/165...       1081.0    4.119334   \n",
              "2  http://assets.myntassets.com/assets/images/163...       1752.0    4.161530   \n",
              "3  http://assets.myntassets.com/assets/images/147...       4113.0    4.088986   \n",
              "4  http://assets.myntassets.com/assets/images/110...      21274.0    3.978377   \n",
              "\n",
              "                                         description  \\\n",
              "0  Black printed Kurta with Palazzos with dupatta...   \n",
              "1  Orange solid Kurta with Palazzos with dupatta<...   \n",
              "2  Navy blue embroidered Kurta with Trousers with...   \n",
              "3  Red printed kurta with trouser and dupatta<br>...   \n",
              "4  Black and green printed straight kurta, has a ...   \n",
              "\n",
              "                                        p_attributes  \n",
              "0  {'Add-Ons': 'NA', 'Body Shape ID': '443,333,32...  \n",
              "1  {'Add-Ons': 'NA', 'Body Shape ID': '443,333,32...  \n",
              "2  {'Add-Ons': 'NA', 'Body Shape ID': '333,424', ...  \n",
              "3  {'Add-Ons': 'NA', 'Body Shape ID': '333,424', ...  \n",
              "4  {'Body Shape ID': '424', 'Body or Garment Size...  "
            ],
            "text/html": [
              "\n",
              "  <div id=\"df-ca41003e-769b-491f-bd52-4210f6e66b70\" class=\"colab-df-container\">\n",
              "    <div>\n",
              "<style scoped>\n",
              "    .dataframe tbody tr th:only-of-type {\n",
              "        vertical-align: middle;\n",
              "    }\n",
              "\n",
              "    .dataframe tbody tr th {\n",
              "        vertical-align: top;\n",
              "    }\n",
              "\n",
              "    .dataframe thead th {\n",
              "        text-align: right;\n",
              "    }\n",
              "</style>\n",
              "<table border=\"1\" class=\"dataframe\">\n",
              "  <thead>\n",
              "    <tr style=\"text-align: right;\">\n",
              "      <th></th>\n",
              "      <th>p_id</th>\n",
              "      <th>name</th>\n",
              "      <th>products</th>\n",
              "      <th>price</th>\n",
              "      <th>colour</th>\n",
              "      <th>brand</th>\n",
              "      <th>img</th>\n",
              "      <th>ratingCount</th>\n",
              "      <th>avg_rating</th>\n",
              "      <th>description</th>\n",
              "      <th>p_attributes</th>\n",
              "    </tr>\n",
              "  </thead>\n",
              "  <tbody>\n",
              "    <tr>\n",
              "      <th>0</th>\n",
              "      <td>17048614</td>\n",
              "      <td>Khushal K Women Black Ethnic Motifs Printed Ku...</td>\n",
              "      <td>Kurta, Palazzos, Dupatta</td>\n",
              "      <td>5099.0</td>\n",
              "      <td>Black</td>\n",
              "      <td>Khushal K</td>\n",
              "      <td>http://assets.myntassets.com/assets/images/170...</td>\n",
              "      <td>4522.0</td>\n",
              "      <td>4.418399</td>\n",
              "      <td>Black printed Kurta with Palazzos with dupatta...</td>\n",
              "      <td>{'Add-Ons': 'NA', 'Body Shape ID': '443,333,32...</td>\n",
              "    </tr>\n",
              "    <tr>\n",
              "      <th>1</th>\n",
              "      <td>16524740</td>\n",
              "      <td>InWeave Women Orange Solid Kurta with Palazzos...</td>\n",
              "      <td>Kurta, Palazzos, Floral Print Dupatta</td>\n",
              "      <td>5899.0</td>\n",
              "      <td>Orange</td>\n",
              "      <td>InWeave</td>\n",
              "      <td>http://assets.myntassets.com/assets/images/165...</td>\n",
              "      <td>1081.0</td>\n",
              "      <td>4.119334</td>\n",
              "      <td>Orange solid Kurta with Palazzos with dupatta&lt;...</td>\n",
              "      <td>{'Add-Ons': 'NA', 'Body Shape ID': '443,333,32...</td>\n",
              "    </tr>\n",
              "    <tr>\n",
              "      <th>2</th>\n",
              "      <td>16331376</td>\n",
              "      <td>Anubhutee Women Navy Blue Ethnic Motifs Embroi...</td>\n",
              "      <td>Kurta, Trousers, Dupatta</td>\n",
              "      <td>4899.0</td>\n",
              "      <td>Navy Blue</td>\n",
              "      <td>Anubhutee</td>\n",
              "      <td>http://assets.myntassets.com/assets/images/163...</td>\n",
              "      <td>1752.0</td>\n",
              "      <td>4.161530</td>\n",
              "      <td>Navy blue embroidered Kurta with Trousers with...</td>\n",
              "      <td>{'Add-Ons': 'NA', 'Body Shape ID': '333,424', ...</td>\n",
              "    </tr>\n",
              "    <tr>\n",
              "      <th>3</th>\n",
              "      <td>14709966</td>\n",
              "      <td>Nayo Women Red Floral Printed Kurta With Trous...</td>\n",
              "      <td>Kurta, Trouser, Dupatta</td>\n",
              "      <td>3699.0</td>\n",
              "      <td>Red</td>\n",
              "      <td>Nayo</td>\n",
              "      <td>http://assets.myntassets.com/assets/images/147...</td>\n",
              "      <td>4113.0</td>\n",
              "      <td>4.088986</td>\n",
              "      <td>Red printed kurta with trouser and dupatta&lt;br&gt;...</td>\n",
              "      <td>{'Add-Ons': 'NA', 'Body Shape ID': '333,424', ...</td>\n",
              "    </tr>\n",
              "    <tr>\n",
              "      <th>4</th>\n",
              "      <td>11056154</td>\n",
              "      <td>AHIKA Women Black &amp; Green Printed Straight Kurta</td>\n",
              "      <td>Kurta</td>\n",
              "      <td>1350.0</td>\n",
              "      <td>Black</td>\n",
              "      <td>AHIKA</td>\n",
              "      <td>http://assets.myntassets.com/assets/images/110...</td>\n",
              "      <td>21274.0</td>\n",
              "      <td>3.978377</td>\n",
              "      <td>Black and green printed straight kurta, has a ...</td>\n",
              "      <td>{'Body Shape ID': '424', 'Body or Garment Size...</td>\n",
              "    </tr>\n",
              "  </tbody>\n",
              "</table>\n",
              "</div>\n",
              "    <div class=\"colab-df-buttons\">\n",
              "\n",
              "  <div class=\"colab-df-container\">\n",
              "    <button class=\"colab-df-convert\" onclick=\"convertToInteractive('df-ca41003e-769b-491f-bd52-4210f6e66b70')\"\n",
              "            title=\"Convert this dataframe to an interactive table.\"\n",
              "            style=\"display:none;\">\n",
              "\n",
              "  <svg xmlns=\"http://www.w3.org/2000/svg\" height=\"24px\" viewBox=\"0 -960 960 960\">\n",
              "    <path d=\"M120-120v-720h720v720H120Zm60-500h600v-160H180v160Zm220 220h160v-160H400v160Zm0 220h160v-160H400v160ZM180-400h160v-160H180v160Zm440 0h160v-160H620v160ZM180-180h160v-160H180v160Zm440 0h160v-160H620v160Z\"/>\n",
              "  </svg>\n",
              "    </button>\n",
              "\n",
              "  <style>\n",
              "    .colab-df-container {\n",
              "      display:flex;\n",
              "      gap: 12px;\n",
              "    }\n",
              "\n",
              "    .colab-df-convert {\n",
              "      background-color: #E8F0FE;\n",
              "      border: none;\n",
              "      border-radius: 50%;\n",
              "      cursor: pointer;\n",
              "      display: none;\n",
              "      fill: #1967D2;\n",
              "      height: 32px;\n",
              "      padding: 0 0 0 0;\n",
              "      width: 32px;\n",
              "    }\n",
              "\n",
              "    .colab-df-convert:hover {\n",
              "      background-color: #E2EBFA;\n",
              "      box-shadow: 0px 1px 2px rgba(60, 64, 67, 0.3), 0px 1px 3px 1px rgba(60, 64, 67, 0.15);\n",
              "      fill: #174EA6;\n",
              "    }\n",
              "\n",
              "    .colab-df-buttons div {\n",
              "      margin-bottom: 4px;\n",
              "    }\n",
              "\n",
              "    [theme=dark] .colab-df-convert {\n",
              "      background-color: #3B4455;\n",
              "      fill: #D2E3FC;\n",
              "    }\n",
              "\n",
              "    [theme=dark] .colab-df-convert:hover {\n",
              "      background-color: #434B5C;\n",
              "      box-shadow: 0px 1px 3px 1px rgba(0, 0, 0, 0.15);\n",
              "      filter: drop-shadow(0px 1px 2px rgba(0, 0, 0, 0.3));\n",
              "      fill: #FFFFFF;\n",
              "    }\n",
              "  </style>\n",
              "\n",
              "    <script>\n",
              "      const buttonEl =\n",
              "        document.querySelector('#df-ca41003e-769b-491f-bd52-4210f6e66b70 button.colab-df-convert');\n",
              "      buttonEl.style.display =\n",
              "        google.colab.kernel.accessAllowed ? 'block' : 'none';\n",
              "\n",
              "      async function convertToInteractive(key) {\n",
              "        const element = document.querySelector('#df-ca41003e-769b-491f-bd52-4210f6e66b70');\n",
              "        const dataTable =\n",
              "          await google.colab.kernel.invokeFunction('convertToInteractive',\n",
              "                                                    [key], {});\n",
              "        if (!dataTable) return;\n",
              "\n",
              "        const docLinkHtml = 'Like what you see? Visit the ' +\n",
              "          '<a target=\"_blank\" href=https://colab.research.google.com/notebooks/data_table.ipynb>data table notebook</a>'\n",
              "          + ' to learn more about interactive tables.';\n",
              "        element.innerHTML = '';\n",
              "        dataTable['output_type'] = 'display_data';\n",
              "        await google.colab.output.renderOutput(dataTable, element);\n",
              "        const docLink = document.createElement('div');\n",
              "        docLink.innerHTML = docLinkHtml;\n",
              "        element.appendChild(docLink);\n",
              "      }\n",
              "    </script>\n",
              "  </div>\n",
              "\n",
              "\n",
              "    <div id=\"df-c769fb69-f508-431e-90c6-42804d178e26\">\n",
              "      <button class=\"colab-df-quickchart\" onclick=\"quickchart('df-c769fb69-f508-431e-90c6-42804d178e26')\"\n",
              "                title=\"Suggest charts\"\n",
              "                style=\"display:none;\">\n",
              "\n",
              "<svg xmlns=\"http://www.w3.org/2000/svg\" height=\"24px\"viewBox=\"0 0 24 24\"\n",
              "     width=\"24px\">\n",
              "    <g>\n",
              "        <path d=\"M19 3H5c-1.1 0-2 .9-2 2v14c0 1.1.9 2 2 2h14c1.1 0 2-.9 2-2V5c0-1.1-.9-2-2-2zM9 17H7v-7h2v7zm4 0h-2V7h2v10zm4 0h-2v-4h2v4z\"/>\n",
              "    </g>\n",
              "</svg>\n",
              "      </button>\n",
              "\n",
              "<style>\n",
              "  .colab-df-quickchart {\n",
              "      --bg-color: #E8F0FE;\n",
              "      --fill-color: #1967D2;\n",
              "      --hover-bg-color: #E2EBFA;\n",
              "      --hover-fill-color: #174EA6;\n",
              "      --disabled-fill-color: #AAA;\n",
              "      --disabled-bg-color: #DDD;\n",
              "  }\n",
              "\n",
              "  [theme=dark] .colab-df-quickchart {\n",
              "      --bg-color: #3B4455;\n",
              "      --fill-color: #D2E3FC;\n",
              "      --hover-bg-color: #434B5C;\n",
              "      --hover-fill-color: #FFFFFF;\n",
              "      --disabled-bg-color: #3B4455;\n",
              "      --disabled-fill-color: #666;\n",
              "  }\n",
              "\n",
              "  .colab-df-quickchart {\n",
              "    background-color: var(--bg-color);\n",
              "    border: none;\n",
              "    border-radius: 50%;\n",
              "    cursor: pointer;\n",
              "    display: none;\n",
              "    fill: var(--fill-color);\n",
              "    height: 32px;\n",
              "    padding: 0;\n",
              "    width: 32px;\n",
              "  }\n",
              "\n",
              "  .colab-df-quickchart:hover {\n",
              "    background-color: var(--hover-bg-color);\n",
              "    box-shadow: 0 1px 2px rgba(60, 64, 67, 0.3), 0 1px 3px 1px rgba(60, 64, 67, 0.15);\n",
              "    fill: var(--button-hover-fill-color);\n",
              "  }\n",
              "\n",
              "  .colab-df-quickchart-complete:disabled,\n",
              "  .colab-df-quickchart-complete:disabled:hover {\n",
              "    background-color: var(--disabled-bg-color);\n",
              "    fill: var(--disabled-fill-color);\n",
              "    box-shadow: none;\n",
              "  }\n",
              "\n",
              "  .colab-df-spinner {\n",
              "    border: 2px solid var(--fill-color);\n",
              "    border-color: transparent;\n",
              "    border-bottom-color: var(--fill-color);\n",
              "    animation:\n",
              "      spin 1s steps(1) infinite;\n",
              "  }\n",
              "\n",
              "  @keyframes spin {\n",
              "    0% {\n",
              "      border-color: transparent;\n",
              "      border-bottom-color: var(--fill-color);\n",
              "      border-left-color: var(--fill-color);\n",
              "    }\n",
              "    20% {\n",
              "      border-color: transparent;\n",
              "      border-left-color: var(--fill-color);\n",
              "      border-top-color: var(--fill-color);\n",
              "    }\n",
              "    30% {\n",
              "      border-color: transparent;\n",
              "      border-left-color: var(--fill-color);\n",
              "      border-top-color: var(--fill-color);\n",
              "      border-right-color: var(--fill-color);\n",
              "    }\n",
              "    40% {\n",
              "      border-color: transparent;\n",
              "      border-right-color: var(--fill-color);\n",
              "      border-top-color: var(--fill-color);\n",
              "    }\n",
              "    60% {\n",
              "      border-color: transparent;\n",
              "      border-right-color: var(--fill-color);\n",
              "    }\n",
              "    80% {\n",
              "      border-color: transparent;\n",
              "      border-right-color: var(--fill-color);\n",
              "      border-bottom-color: var(--fill-color);\n",
              "    }\n",
              "    90% {\n",
              "      border-color: transparent;\n",
              "      border-bottom-color: var(--fill-color);\n",
              "    }\n",
              "  }\n",
              "</style>\n",
              "\n",
              "      <script>\n",
              "        async function quickchart(key) {\n",
              "          const quickchartButtonEl =\n",
              "            document.querySelector('#' + key + ' button');\n",
              "          quickchartButtonEl.disabled = true;  // To prevent multiple clicks.\n",
              "          quickchartButtonEl.classList.add('colab-df-spinner');\n",
              "          try {\n",
              "            const charts = await google.colab.kernel.invokeFunction(\n",
              "                'suggestCharts', [key], {});\n",
              "          } catch (error) {\n",
              "            console.error('Error during call to suggestCharts:', error);\n",
              "          }\n",
              "          quickchartButtonEl.classList.remove('colab-df-spinner');\n",
              "          quickchartButtonEl.classList.add('colab-df-quickchart-complete');\n",
              "        }\n",
              "        (() => {\n",
              "          let quickchartButtonEl =\n",
              "            document.querySelector('#df-c769fb69-f508-431e-90c6-42804d178e26 button');\n",
              "          quickchartButtonEl.style.display =\n",
              "            google.colab.kernel.accessAllowed ? 'block' : 'none';\n",
              "        })();\n",
              "      </script>\n",
              "    </div>\n",
              "\n",
              "    </div>\n",
              "  </div>\n"
            ],
            "application/vnd.google.colaboratory.intrinsic+json": {
              "type": "dataframe",
              "variable_name": "df",
              "summary": "{\n  \"name\": \"df\",\n  \"rows\": 14214,\n  \"fields\": [\n    {\n      \"column\": \"p_id\",\n      \"properties\": {\n        \"dtype\": \"number\",\n        \"std\": 3152415,\n        \"min\": 70166,\n        \"max\": 19415760,\n        \"num_unique_values\": 14214,\n        \"samples\": [\n          18688460,\n          17441634,\n          14179076\n        ],\n        \"semantic_type\": \"\",\n        \"description\": \"\"\n      }\n    },\n    {\n      \"column\": \"name\",\n      \"properties\": {\n        \"dtype\": \"string\",\n        \"num_unique_values\": 13873,\n        \"samples\": [\n          \"Clora Creation Women Off White Floral Embroidered Palazzos\",\n          \"MANGO Women Red & Beige Abstract Print A-Line Top\",\n          \"Clora Creation Navy Blue Woven Design Banarsi Silk Dupatta\"\n        ],\n        \"semantic_type\": \"\",\n        \"description\": \"\"\n      }\n    },\n    {\n      \"column\": \"products\",\n      \"properties\": {\n        \"dtype\": \"category\",\n        \"num_unique_values\": 910,\n        \"samples\": [\n          \"Hoodie, Plus Size\",\n          \"Top, Palazzos, Ethnic Jacket\",\n          \"Jeans, Culottes, Trousers\"\n        ],\n        \"semantic_type\": \"\",\n        \"description\": \"\"\n      }\n    },\n    {\n      \"column\": \"price\",\n      \"properties\": {\n        \"dtype\": \"number\",\n        \"std\": 2570.2329882965837,\n        \"min\": 169.0,\n        \"max\": 47999.0,\n        \"num_unique_values\": 1209,\n        \"samples\": [\n          2259.0,\n          475.0,\n          4590.0\n        ],\n        \"semantic_type\": \"\",\n        \"description\": \"\"\n      }\n    },\n    {\n      \"column\": \"colour\",\n      \"properties\": {\n        \"dtype\": \"category\",\n        \"num_unique_values\": 50,\n        \"samples\": [\n          \"Sea Green\",\n          \"Gold\",\n          \"Rust\"\n        ],\n        \"semantic_type\": \"\",\n        \"description\": \"\"\n      }\n    },\n    {\n      \"column\": \"brand\",\n      \"properties\": {\n        \"dtype\": \"category\",\n        \"num_unique_values\": 1022,\n        \"samples\": [\n          \"Zigo\",\n          \"Reistor\",\n          \"SERONA FABRICS\"\n        ],\n        \"semantic_type\": \"\",\n        \"description\": \"\"\n      }\n    },\n    {\n      \"column\": \"img\",\n      \"properties\": {\n        \"dtype\": \"string\",\n        \"num_unique_values\": 14214,\n        \"samples\": [\n          \"http://assets.myntassets.com/assets/images/18688460/2022/6/9/91ab90ee-c162-4d9f-9e4e-4f9c0cd7865a1654782377953Skirts1.jpg\",\n          \"http://assets.myntassets.com/assets/images/17441634/2022/3/8/1d50e24c-e7bf-4e62-8a96-9625b530f4751646740866170Jackets1.jpg\",\n          \"http://assets.myntassets.com/assets/images/14179076/2021/6/24/fdb8118a-1946-4b43-9ee7-c52146e004151624527103903-DressBerry-Women-Sweaters-5311624527103479-1.jpg\"\n        ],\n        \"semantic_type\": \"\",\n        \"description\": \"\"\n      }\n    },\n    {\n      \"column\": \"ratingCount\",\n      \"properties\": {\n        \"dtype\": \"number\",\n        \"std\": 782.4649724046869,\n        \"min\": 1.0,\n        \"max\": 21274.0,\n        \"num_unique_values\": 829,\n        \"samples\": [\n          897.0,\n          173.0,\n          592.0\n        ],\n        \"semantic_type\": \"\",\n        \"description\": \"\"\n      }\n    },\n    {\n      \"column\": \"avg_rating\",\n      \"properties\": {\n        \"dtype\": \"number\",\n        \"std\": 0.4757558612927901,\n        \"min\": 1.0,\n        \"max\": 5.0,\n        \"num_unique_values\": 2367,\n        \"samples\": [\n          3.771084337349397,\n          4.496644295302014,\n          3.631578947368421\n        ],\n        \"semantic_type\": \"\",\n        \"description\": \"\"\n      }\n    },\n    {\n      \"column\": \"description\",\n      \"properties\": {\n        \"dtype\": \"string\",\n        \"num_unique_values\": 14181,\n        \"samples\": [\n          \"<p>Off-white, blue and burgundy floral printed flared maxi skirt, has a partially elasticated waistband, slip-on closure, flared hem and is lined</p><p>Viscose rayon<br>Machine-wash<br>Do not bleach</p><p>The model (height 5'8\\\") is wearing a size 28</p>\",\n          \"Burgundy solid basic jumpsuit, has a keyhole neckline, sleeveless, and two pockets<br>Comes with a beltMaterial: Polyester crepe<br>Machine WashThe model (height 5'8'') is wearing a size S\",\n          \"Grey abstract printed insulator quilted jacket,  has a hooded,  2  pockets ,has a zip closure, long sleeves,  straight  hemline, polyester  lining<br><br>Warranty: 1 month<br>Warranty provided by brand/manufacturerOuter shell: Polyester <br> Lining fabric: Polyester <br> Machine washThe model (height 5'8) is wearing a size S<br><br>Columbia runs a size bigger. Pick one size smaller for a more comfortable fit.\"\n        ],\n        \"semantic_type\": \"\",\n        \"description\": \"\"\n      }\n    },\n    {\n      \"column\": \"p_attributes\",\n      \"properties\": {\n        \"dtype\": \"string\",\n        \"num_unique_values\": 13089,\n        \"samples\": [\n          \"{'Body or Garment Size': 'Garment Measurements in', 'Closure': 'NA', 'Fabric': 'Cotton', 'Main Trend': 'NA', 'Neck': 'Shoulder Straps', 'Number of Pockets': 'NA', 'Occasion': 'Casual', 'Pattern': 'Solid', 'Sleeve Length': 'Sleeveless', 'Surface Styling': 'Gathers', 'Sustainable': 'Regular', 'Type': 'Playsuit', 'Wash Care': 'Hand Wash'}\",\n          \"{'Border': 'Woven Design', 'Fabric': 'Art Silk', 'Occasion': 'Party', 'Ornamentation': 'Gotta Patti', 'Pattern': 'Printed', 'Print or Pattern Type': 'Bandhani', 'Sustainable': 'Regular', 'Technique': 'Bandhani', 'Wash Care': 'Machine Wash', 'Wedding': 'Bride & Wedding Squad'}\",\n          \"{'Body Shape ID': '443,333,324,424', 'Body or Garment Size': 'To-Fit Denotes Body Measurements in', 'Center Front Open': 'No', 'Character': 'NA', 'Closure': 'Tie-Ups', 'Fabric': 'Pure Cotton', 'Fabric Type': 'NA', 'Length': 'Regular', 'Lining': 'NA', 'Main Trend': 'Conversational Print', 'Multipack Set': 'NA', 'Neck': 'Shoulder Straps', 'Occasion': 'Ethnic', 'Pattern': 'Printed', 'Print or Pattern Type': 'Conversational', 'Sleeve Length': 'Sleeveless', 'Sleeve Styling': 'No Sleeves', 'Surface Styling': 'Tie-Ups', 'Sustainable': 'Regular', 'Transparency': 'Opaque', 'Type': 'Regular', 'Wash Care': 'Hand Wash', 'Weave Type': 'Woven', 'taxMaterial': 'NA'}\"\n        ],\n        \"semantic_type\": \"\",\n        \"description\": \"\"\n      }\n    }\n  ]\n}"
            }
          },
          "metadata": {},
          "execution_count": 14
        }
      ]
    },
    {
      "cell_type": "code",
      "source": [
        "class clean_datas:\n",
        "\n",
        "  def cleandata(self, df):\n",
        "    df[\"products\"] = df[\"products\"].str.lower()\n",
        "    df[\"colour\"] = df[\"colour\"].str.lower()\n",
        "    df[\"brand\"] = df[\"brand\"].str.lower()\n",
        "    self.clean_description(df)\n",
        "    self.clean_p_attributes(df)\n",
        "    self.merge_cols(df)\n",
        "\n",
        "  ## clean description column\n",
        "  def clean_description(self, df):\n",
        "    df[\"description\"] = df[\"description\"].apply(lambda x: x.lower())\n",
        "    htmltags = re.compile(\"(<.*?>)|&nbsp;|&amp;|[;|]+\")\n",
        "    df[\"description\"] = df[\"description\"].apply(lambda x: re.sub(htmltags, \", \", x))\n",
        "    puncts = re.compile(r\"[ \\(\\)]+\")\n",
        "    df[\"description\"] = df[\"description\"].apply(lambda x: re.sub(puncts, \" \", x))\n",
        "    s_quote = re.compile(r\"[',]{2,}|(, ,)+\")\n",
        "    df[\"description\"] = df[\"description\"].apply(lambda x: re.sub(s_quote, \"\", x))\n",
        "    df[\"description\"] = df[\"description\"].apply(lambda x: re.sub(\"(?i)(size s)\", \"size s, \", x))\n",
        "    df[\"description\"] = df[\"description\"].apply(lambda x: re.sub(\"(?i)(size m)\", \"size m, \", x))\n",
        "    df[\"description\"] = df[\"description\"].apply(lambda x: re.sub(\"(?i)(size l)\", \"size l, \", x))\n",
        "    spaces = re.compile(r\" {2,}\")\n",
        "    df[\"description\"] = df[\"description\"].apply(lambda x: re.sub(spaces, \" \", x).strip())\n",
        "    df[\"description\"] = df[\"description\"].apply(lambda x: re.sub(\" *,$\", \"\", x))\n",
        "\n",
        "  ## Clean p_attributes column\n",
        "  def clean_p_attributes(self, df):\n",
        "    dict_list = []\n",
        "    pattr_keys_toremove = [\"body shape id\", \"body or garment size\"]\n",
        "\n",
        "    htmltags = re.compile(r\"(<.*?>)?(\\\\r|\\\\n)\")\n",
        "    df[\"p_attributes\"] = df[\"p_attributes\"].apply(lambda x: re.sub(htmltags, \" \", x))\n",
        "    if not isinstance(df.loc[0, \"p_attributes\"], dict):\n",
        "      df['p_attributes'] = df['p_attributes'].apply(lambda x: ast.literal_eval(x))\n",
        "    ## Remove Chosen keys from dictionaries\n",
        "    df[\"p_attributes\"] = [{key.lower(): val.lower() for key, val in dicts.items() if key.lower() not in pattr_keys_toremove and val != 'NA' and val != 'None' and val != ''} for dicts in list(df[\"p_attributes\"].values)]\n",
        "    ## Convert to String and Replace\n",
        "    df[\"p_attributes\"] = df[\"p_attributes\"].astype(\"str\")\n",
        "    df[\"p_attributes\"] = df['p_attributes'].replace({\":\": \" is \", \",\": \".\", \"[{}\\']\": \"\", \" +\": \" \"}, regex=True)\n",
        "    df[\"p_attributes\"] = df[\"p_attributes\"].apply(lambda x: x.lower())\n",
        "\n",
        "  ## Merge columns Product name, Products, price with description column\n",
        "  def merge_cols(self, df):\n",
        "    df[\"metadata\"] = df.apply(lambda x: {\"products\": x[\"products\"], \"colour\": x[\"colour\"], \"brand\": x[\"brand\"], \"price\": x[\"price\"]}, axis=1)\n",
        "    for ind in range(0, df.shape[0]):\n",
        "      df.loc[ind, \"description\"] = f\"Product name is {df['name'][ind]}.\" + df.loc[ind, \"description\"] + f\"{df['p_attributes'][ind]}\"\n"
      ],
      "metadata": {
        "id": "aSK5jZ82jdME"
      },
      "execution_count": 7,
      "outputs": []
    },
    {
      "cell_type": "code",
      "source": [
        "cleanData = clean_datas()\n",
        "cleanData.cleandata(df)"
      ],
      "metadata": {
        "id": "cTUTYM0r1_sh"
      },
      "execution_count": 8,
      "outputs": []
    },
    {
      "cell_type": "code",
      "source": [
        "## Find length for each row of description column\n",
        "df[\"desc_len\"] = df['description'].apply(lambda x: len(x.split()))"
      ],
      "metadata": {
        "id": "qOtdLKbrDRgN"
      },
      "execution_count": 17,
      "outputs": []
    },
    {
      "cell_type": "code",
      "source": [
        "df['p_id'] = df['p_id'].astype(\"str\")"
      ],
      "metadata": {
        "id": "y5kwscQ7Vyiu"
      },
      "execution_count": 9,
      "outputs": []
    },
    {
      "cell_type": "code",
      "source": [
        "myntra = df.drop([\"ratingCount\", \"avg_rating\", \"name\", \"p_attributes\", \"products\", \"price\", \"colour\", \"brand\", \"img\"], axis=1)"
      ],
      "metadata": {
        "id": "hF5t3esuCZP8"
      },
      "execution_count": 10,
      "outputs": []
    },
    {
      "cell_type": "code",
      "source": [
        "myntra.head(5)"
      ],
      "metadata": {
        "id": "INrHcwLVDRbF",
        "colab": {
          "base_uri": "https://localhost:8080/",
          "height": 206
        },
        "outputId": "7148beba-8a00-4297-aac9-8b91b169733a"
      },
      "execution_count": 20,
      "outputs": [
        {
          "output_type": "execute_result",
          "data": {
            "text/plain": [
              "       p_id                                        description  \\\n",
              "0  17048614  Product name is Khushal K Women Black Ethnic M...   \n",
              "1  16524740  Product name is InWeave Women Orange Solid Kur...   \n",
              "2  16331376  Product name is Anubhutee Women Navy Blue Ethn...   \n",
              "3  14709966  Product name is Nayo Women Red Floral Printed ...   \n",
              "4  11056154  Product name is AHIKA Women Black & Green Prin...   \n",
              "\n",
              "                                            metadata  desc_len  \n",
              "0  {'products': 'kurta, palazzos, dupatta', 'colo...       202  \n",
              "1  {'products': 'kurta, palazzos, floral print du...       190  \n",
              "2  {'products': 'kurta, trousers, dupatta', 'colo...       199  \n",
              "3  {'products': 'kurta, trouser, dupatta', 'colou...       206  \n",
              "4  {'products': 'kurta', 'colour': 'black', 'bran...       113  "
            ],
            "text/html": [
              "\n",
              "  <div id=\"df-297d55a1-d1fd-4375-b748-ca45a157136e\" class=\"colab-df-container\">\n",
              "    <div>\n",
              "<style scoped>\n",
              "    .dataframe tbody tr th:only-of-type {\n",
              "        vertical-align: middle;\n",
              "    }\n",
              "\n",
              "    .dataframe tbody tr th {\n",
              "        vertical-align: top;\n",
              "    }\n",
              "\n",
              "    .dataframe thead th {\n",
              "        text-align: right;\n",
              "    }\n",
              "</style>\n",
              "<table border=\"1\" class=\"dataframe\">\n",
              "  <thead>\n",
              "    <tr style=\"text-align: right;\">\n",
              "      <th></th>\n",
              "      <th>p_id</th>\n",
              "      <th>description</th>\n",
              "      <th>metadata</th>\n",
              "      <th>desc_len</th>\n",
              "    </tr>\n",
              "  </thead>\n",
              "  <tbody>\n",
              "    <tr>\n",
              "      <th>0</th>\n",
              "      <td>17048614</td>\n",
              "      <td>Product name is Khushal K Women Black Ethnic M...</td>\n",
              "      <td>{'products': 'kurta, palazzos, dupatta', 'colo...</td>\n",
              "      <td>202</td>\n",
              "    </tr>\n",
              "    <tr>\n",
              "      <th>1</th>\n",
              "      <td>16524740</td>\n",
              "      <td>Product name is InWeave Women Orange Solid Kur...</td>\n",
              "      <td>{'products': 'kurta, palazzos, floral print du...</td>\n",
              "      <td>190</td>\n",
              "    </tr>\n",
              "    <tr>\n",
              "      <th>2</th>\n",
              "      <td>16331376</td>\n",
              "      <td>Product name is Anubhutee Women Navy Blue Ethn...</td>\n",
              "      <td>{'products': 'kurta, trousers, dupatta', 'colo...</td>\n",
              "      <td>199</td>\n",
              "    </tr>\n",
              "    <tr>\n",
              "      <th>3</th>\n",
              "      <td>14709966</td>\n",
              "      <td>Product name is Nayo Women Red Floral Printed ...</td>\n",
              "      <td>{'products': 'kurta, trouser, dupatta', 'colou...</td>\n",
              "      <td>206</td>\n",
              "    </tr>\n",
              "    <tr>\n",
              "      <th>4</th>\n",
              "      <td>11056154</td>\n",
              "      <td>Product name is AHIKA Women Black &amp; Green Prin...</td>\n",
              "      <td>{'products': 'kurta', 'colour': 'black', 'bran...</td>\n",
              "      <td>113</td>\n",
              "    </tr>\n",
              "  </tbody>\n",
              "</table>\n",
              "</div>\n",
              "    <div class=\"colab-df-buttons\">\n",
              "\n",
              "  <div class=\"colab-df-container\">\n",
              "    <button class=\"colab-df-convert\" onclick=\"convertToInteractive('df-297d55a1-d1fd-4375-b748-ca45a157136e')\"\n",
              "            title=\"Convert this dataframe to an interactive table.\"\n",
              "            style=\"display:none;\">\n",
              "\n",
              "  <svg xmlns=\"http://www.w3.org/2000/svg\" height=\"24px\" viewBox=\"0 -960 960 960\">\n",
              "    <path d=\"M120-120v-720h720v720H120Zm60-500h600v-160H180v160Zm220 220h160v-160H400v160Zm0 220h160v-160H400v160ZM180-400h160v-160H180v160Zm440 0h160v-160H620v160ZM180-180h160v-160H180v160Zm440 0h160v-160H620v160Z\"/>\n",
              "  </svg>\n",
              "    </button>\n",
              "\n",
              "  <style>\n",
              "    .colab-df-container {\n",
              "      display:flex;\n",
              "      gap: 12px;\n",
              "    }\n",
              "\n",
              "    .colab-df-convert {\n",
              "      background-color: #E8F0FE;\n",
              "      border: none;\n",
              "      border-radius: 50%;\n",
              "      cursor: pointer;\n",
              "      display: none;\n",
              "      fill: #1967D2;\n",
              "      height: 32px;\n",
              "      padding: 0 0 0 0;\n",
              "      width: 32px;\n",
              "    }\n",
              "\n",
              "    .colab-df-convert:hover {\n",
              "      background-color: #E2EBFA;\n",
              "      box-shadow: 0px 1px 2px rgba(60, 64, 67, 0.3), 0px 1px 3px 1px rgba(60, 64, 67, 0.15);\n",
              "      fill: #174EA6;\n",
              "    }\n",
              "\n",
              "    .colab-df-buttons div {\n",
              "      margin-bottom: 4px;\n",
              "    }\n",
              "\n",
              "    [theme=dark] .colab-df-convert {\n",
              "      background-color: #3B4455;\n",
              "      fill: #D2E3FC;\n",
              "    }\n",
              "\n",
              "    [theme=dark] .colab-df-convert:hover {\n",
              "      background-color: #434B5C;\n",
              "      box-shadow: 0px 1px 3px 1px rgba(0, 0, 0, 0.15);\n",
              "      filter: drop-shadow(0px 1px 2px rgba(0, 0, 0, 0.3));\n",
              "      fill: #FFFFFF;\n",
              "    }\n",
              "  </style>\n",
              "\n",
              "    <script>\n",
              "      const buttonEl =\n",
              "        document.querySelector('#df-297d55a1-d1fd-4375-b748-ca45a157136e button.colab-df-convert');\n",
              "      buttonEl.style.display =\n",
              "        google.colab.kernel.accessAllowed ? 'block' : 'none';\n",
              "\n",
              "      async function convertToInteractive(key) {\n",
              "        const element = document.querySelector('#df-297d55a1-d1fd-4375-b748-ca45a157136e');\n",
              "        const dataTable =\n",
              "          await google.colab.kernel.invokeFunction('convertToInteractive',\n",
              "                                                    [key], {});\n",
              "        if (!dataTable) return;\n",
              "\n",
              "        const docLinkHtml = 'Like what you see? Visit the ' +\n",
              "          '<a target=\"_blank\" href=https://colab.research.google.com/notebooks/data_table.ipynb>data table notebook</a>'\n",
              "          + ' to learn more about interactive tables.';\n",
              "        element.innerHTML = '';\n",
              "        dataTable['output_type'] = 'display_data';\n",
              "        await google.colab.output.renderOutput(dataTable, element);\n",
              "        const docLink = document.createElement('div');\n",
              "        docLink.innerHTML = docLinkHtml;\n",
              "        element.appendChild(docLink);\n",
              "      }\n",
              "    </script>\n",
              "  </div>\n",
              "\n",
              "\n",
              "    <div id=\"df-c369dad9-a6f6-4415-ab12-5639b26d984d\">\n",
              "      <button class=\"colab-df-quickchart\" onclick=\"quickchart('df-c369dad9-a6f6-4415-ab12-5639b26d984d')\"\n",
              "                title=\"Suggest charts\"\n",
              "                style=\"display:none;\">\n",
              "\n",
              "<svg xmlns=\"http://www.w3.org/2000/svg\" height=\"24px\"viewBox=\"0 0 24 24\"\n",
              "     width=\"24px\">\n",
              "    <g>\n",
              "        <path d=\"M19 3H5c-1.1 0-2 .9-2 2v14c0 1.1.9 2 2 2h14c1.1 0 2-.9 2-2V5c0-1.1-.9-2-2-2zM9 17H7v-7h2v7zm4 0h-2V7h2v10zm4 0h-2v-4h2v4z\"/>\n",
              "    </g>\n",
              "</svg>\n",
              "      </button>\n",
              "\n",
              "<style>\n",
              "  .colab-df-quickchart {\n",
              "      --bg-color: #E8F0FE;\n",
              "      --fill-color: #1967D2;\n",
              "      --hover-bg-color: #E2EBFA;\n",
              "      --hover-fill-color: #174EA6;\n",
              "      --disabled-fill-color: #AAA;\n",
              "      --disabled-bg-color: #DDD;\n",
              "  }\n",
              "\n",
              "  [theme=dark] .colab-df-quickchart {\n",
              "      --bg-color: #3B4455;\n",
              "      --fill-color: #D2E3FC;\n",
              "      --hover-bg-color: #434B5C;\n",
              "      --hover-fill-color: #FFFFFF;\n",
              "      --disabled-bg-color: #3B4455;\n",
              "      --disabled-fill-color: #666;\n",
              "  }\n",
              "\n",
              "  .colab-df-quickchart {\n",
              "    background-color: var(--bg-color);\n",
              "    border: none;\n",
              "    border-radius: 50%;\n",
              "    cursor: pointer;\n",
              "    display: none;\n",
              "    fill: var(--fill-color);\n",
              "    height: 32px;\n",
              "    padding: 0;\n",
              "    width: 32px;\n",
              "  }\n",
              "\n",
              "  .colab-df-quickchart:hover {\n",
              "    background-color: var(--hover-bg-color);\n",
              "    box-shadow: 0 1px 2px rgba(60, 64, 67, 0.3), 0 1px 3px 1px rgba(60, 64, 67, 0.15);\n",
              "    fill: var(--button-hover-fill-color);\n",
              "  }\n",
              "\n",
              "  .colab-df-quickchart-complete:disabled,\n",
              "  .colab-df-quickchart-complete:disabled:hover {\n",
              "    background-color: var(--disabled-bg-color);\n",
              "    fill: var(--disabled-fill-color);\n",
              "    box-shadow: none;\n",
              "  }\n",
              "\n",
              "  .colab-df-spinner {\n",
              "    border: 2px solid var(--fill-color);\n",
              "    border-color: transparent;\n",
              "    border-bottom-color: var(--fill-color);\n",
              "    animation:\n",
              "      spin 1s steps(1) infinite;\n",
              "  }\n",
              "\n",
              "  @keyframes spin {\n",
              "    0% {\n",
              "      border-color: transparent;\n",
              "      border-bottom-color: var(--fill-color);\n",
              "      border-left-color: var(--fill-color);\n",
              "    }\n",
              "    20% {\n",
              "      border-color: transparent;\n",
              "      border-left-color: var(--fill-color);\n",
              "      border-top-color: var(--fill-color);\n",
              "    }\n",
              "    30% {\n",
              "      border-color: transparent;\n",
              "      border-left-color: var(--fill-color);\n",
              "      border-top-color: var(--fill-color);\n",
              "      border-right-color: var(--fill-color);\n",
              "    }\n",
              "    40% {\n",
              "      border-color: transparent;\n",
              "      border-right-color: var(--fill-color);\n",
              "      border-top-color: var(--fill-color);\n",
              "    }\n",
              "    60% {\n",
              "      border-color: transparent;\n",
              "      border-right-color: var(--fill-color);\n",
              "    }\n",
              "    80% {\n",
              "      border-color: transparent;\n",
              "      border-right-color: var(--fill-color);\n",
              "      border-bottom-color: var(--fill-color);\n",
              "    }\n",
              "    90% {\n",
              "      border-color: transparent;\n",
              "      border-bottom-color: var(--fill-color);\n",
              "    }\n",
              "  }\n",
              "</style>\n",
              "\n",
              "      <script>\n",
              "        async function quickchart(key) {\n",
              "          const quickchartButtonEl =\n",
              "            document.querySelector('#' + key + ' button');\n",
              "          quickchartButtonEl.disabled = true;  // To prevent multiple clicks.\n",
              "          quickchartButtonEl.classList.add('colab-df-spinner');\n",
              "          try {\n",
              "            const charts = await google.colab.kernel.invokeFunction(\n",
              "                'suggestCharts', [key], {});\n",
              "          } catch (error) {\n",
              "            console.error('Error during call to suggestCharts:', error);\n",
              "          }\n",
              "          quickchartButtonEl.classList.remove('colab-df-spinner');\n",
              "          quickchartButtonEl.classList.add('colab-df-quickchart-complete');\n",
              "        }\n",
              "        (() => {\n",
              "          let quickchartButtonEl =\n",
              "            document.querySelector('#df-c369dad9-a6f6-4415-ab12-5639b26d984d button');\n",
              "          quickchartButtonEl.style.display =\n",
              "            google.colab.kernel.accessAllowed ? 'block' : 'none';\n",
              "        })();\n",
              "      </script>\n",
              "    </div>\n",
              "\n",
              "    </div>\n",
              "  </div>\n"
            ],
            "application/vnd.google.colaboratory.intrinsic+json": {
              "type": "dataframe",
              "variable_name": "myntra",
              "summary": "{\n  \"name\": \"myntra\",\n  \"rows\": 14214,\n  \"fields\": [\n    {\n      \"column\": \"p_id\",\n      \"properties\": {\n        \"dtype\": \"string\",\n        \"num_unique_values\": 14214,\n        \"samples\": [\n          \"18688460\",\n          \"17441634\",\n          \"14179076\"\n        ],\n        \"semantic_type\": \"\",\n        \"description\": \"\"\n      }\n    },\n    {\n      \"column\": \"description\",\n      \"properties\": {\n        \"dtype\": \"string\",\n        \"num_unique_values\": 14196,\n        \"samples\": [\n          \"Product name is Mayra Women Peach-Coloured Solid Top.peach-coloured solid woven regular top, has a mandarin collar, short sleeves, button closurethe model height 5'8\\\" is wearing a size s, viscose rayon, hand-washclosure is button. fabric is viscose rayon. length is regular. main trend is new basics. neck is mandarin collar. occasion is casual. pattern is solid. print or pattern type is solid. sleeve length is short sleeves. sleeve styling is extended sleeves. transparency is opaque. type is regular. wash care is hand wash. weave type is woven\",\n          \"Product name is AYKA CLOTHINGS Black & Red Printed Viscose Rayon Unstitched Dress Material.black and red printed unstitched dress material , black and red printed kurta fabric , black and red embellished bottom fabric , black and red printed dupatta, has printed border , disclaimer: images are for referral purposes only. the actual product is unstitched, kurta fabric length:-1.80 meter,bottom fabric length:-1.30 meter,dupatta fabric length:-2.20 meter dry clean onlybottom fabric is viscose rayon. bottom pattern is embellished. dupatta border is printed. dupatta fabric is viscose rayon. dupatta pattern is printed. kurta fabric is viscose rayon. kurta pattern is printed. occasion is festive. ornamentation is sequinned. print or pattern type is floral. set content is kurta fabric bottom fabric and dupatta. stitch is unstitched. sustainable is regular. wash care is dry clean. wedding is guests & gifting\",\n          \"Product name is Miaz Lifestyle Magenta & Yellow Printed Cotton Silk Bandhani Dupatta with Gotta Patti.magenta and yellow bandhani printed dupatta has bandhani technique, gotta patti, taping borderlength: 2.4m, width: 80 cmcotton silk, machne washborder is taping. fabric is cotton silk. occasion is party. ornamentation is gotta patti. pattern is printed. print or pattern type is bandhani. sustainable is regular. technique is bandhani. wash care is machine wash. wedding is bride & wedding squad\"\n        ],\n        \"semantic_type\": \"\",\n        \"description\": \"\"\n      }\n    },\n    {\n      \"column\": \"metadata\",\n      \"properties\": {\n        \"dtype\": \"object\",\n        \"semantic_type\": \"\",\n        \"description\": \"\"\n      }\n    },\n    {\n      \"column\": \"desc_len\",\n      \"properties\": {\n        \"dtype\": \"number\",\n        \"std\": 41,\n        \"min\": 23,\n        \"max\": 383,\n        \"num_unique_values\": 269,\n        \"samples\": [\n          114,\n          179,\n          257\n        ],\n        \"semantic_type\": \"\",\n        \"description\": \"\"\n      }\n    }\n  ]\n}"
            }
          },
          "metadata": {},
          "execution_count": 20
        }
      ]
    },
    {
      "cell_type": "code",
      "source": [
        "myntra = myntra[[\"p_id\", \"description\", \"metadata\"]]"
      ],
      "metadata": {
        "id": "QaUevPbwCrE8"
      },
      "execution_count": 11,
      "outputs": []
    },
    {
      "cell_type": "code",
      "source": [
        "myntra.head(5)"
      ],
      "metadata": {
        "colab": {
          "base_uri": "https://localhost:8080/",
          "height": 206
        },
        "id": "kvTARr-jXLJu",
        "outputId": "a9296f83-03a2-4122-fadb-5b8e4a38d980"
      },
      "execution_count": 12,
      "outputs": [
        {
          "output_type": "execute_result",
          "data": {
            "text/plain": [
              "       p_id                                        description  \\\n",
              "0  17048614  Product name is Khushal K Women Black Ethnic M...   \n",
              "1  16524740  Product name is InWeave Women Orange Solid Kur...   \n",
              "2  16331376  Product name is Anubhutee Women Navy Blue Ethn...   \n",
              "3  14709966  Product name is Nayo Women Red Floral Printed ...   \n",
              "4  11056154  Product name is AHIKA Women Black & Green Prin...   \n",
              "\n",
              "                                            metadata  \n",
              "0  {'products': 'kurta, palazzos, dupatta', 'colo...  \n",
              "1  {'products': 'kurta, palazzos, floral print du...  \n",
              "2  {'products': 'kurta, trousers, dupatta', 'colo...  \n",
              "3  {'products': 'kurta, trouser, dupatta', 'colou...  \n",
              "4  {'products': 'kurta', 'colour': 'black', 'bran...  "
            ],
            "text/html": [
              "\n",
              "  <div id=\"df-9b62269e-9045-4c7d-8d52-3bdaf7d0f496\" class=\"colab-df-container\">\n",
              "    <div>\n",
              "<style scoped>\n",
              "    .dataframe tbody tr th:only-of-type {\n",
              "        vertical-align: middle;\n",
              "    }\n",
              "\n",
              "    .dataframe tbody tr th {\n",
              "        vertical-align: top;\n",
              "    }\n",
              "\n",
              "    .dataframe thead th {\n",
              "        text-align: right;\n",
              "    }\n",
              "</style>\n",
              "<table border=\"1\" class=\"dataframe\">\n",
              "  <thead>\n",
              "    <tr style=\"text-align: right;\">\n",
              "      <th></th>\n",
              "      <th>p_id</th>\n",
              "      <th>description</th>\n",
              "      <th>metadata</th>\n",
              "    </tr>\n",
              "  </thead>\n",
              "  <tbody>\n",
              "    <tr>\n",
              "      <th>0</th>\n",
              "      <td>17048614</td>\n",
              "      <td>Product name is Khushal K Women Black Ethnic M...</td>\n",
              "      <td>{'products': 'kurta, palazzos, dupatta', 'colo...</td>\n",
              "    </tr>\n",
              "    <tr>\n",
              "      <th>1</th>\n",
              "      <td>16524740</td>\n",
              "      <td>Product name is InWeave Women Orange Solid Kur...</td>\n",
              "      <td>{'products': 'kurta, palazzos, floral print du...</td>\n",
              "    </tr>\n",
              "    <tr>\n",
              "      <th>2</th>\n",
              "      <td>16331376</td>\n",
              "      <td>Product name is Anubhutee Women Navy Blue Ethn...</td>\n",
              "      <td>{'products': 'kurta, trousers, dupatta', 'colo...</td>\n",
              "    </tr>\n",
              "    <tr>\n",
              "      <th>3</th>\n",
              "      <td>14709966</td>\n",
              "      <td>Product name is Nayo Women Red Floral Printed ...</td>\n",
              "      <td>{'products': 'kurta, trouser, dupatta', 'colou...</td>\n",
              "    </tr>\n",
              "    <tr>\n",
              "      <th>4</th>\n",
              "      <td>11056154</td>\n",
              "      <td>Product name is AHIKA Women Black &amp; Green Prin...</td>\n",
              "      <td>{'products': 'kurta', 'colour': 'black', 'bran...</td>\n",
              "    </tr>\n",
              "  </tbody>\n",
              "</table>\n",
              "</div>\n",
              "    <div class=\"colab-df-buttons\">\n",
              "\n",
              "  <div class=\"colab-df-container\">\n",
              "    <button class=\"colab-df-convert\" onclick=\"convertToInteractive('df-9b62269e-9045-4c7d-8d52-3bdaf7d0f496')\"\n",
              "            title=\"Convert this dataframe to an interactive table.\"\n",
              "            style=\"display:none;\">\n",
              "\n",
              "  <svg xmlns=\"http://www.w3.org/2000/svg\" height=\"24px\" viewBox=\"0 -960 960 960\">\n",
              "    <path d=\"M120-120v-720h720v720H120Zm60-500h600v-160H180v160Zm220 220h160v-160H400v160Zm0 220h160v-160H400v160ZM180-400h160v-160H180v160Zm440 0h160v-160H620v160ZM180-180h160v-160H180v160Zm440 0h160v-160H620v160Z\"/>\n",
              "  </svg>\n",
              "    </button>\n",
              "\n",
              "  <style>\n",
              "    .colab-df-container {\n",
              "      display:flex;\n",
              "      gap: 12px;\n",
              "    }\n",
              "\n",
              "    .colab-df-convert {\n",
              "      background-color: #E8F0FE;\n",
              "      border: none;\n",
              "      border-radius: 50%;\n",
              "      cursor: pointer;\n",
              "      display: none;\n",
              "      fill: #1967D2;\n",
              "      height: 32px;\n",
              "      padding: 0 0 0 0;\n",
              "      width: 32px;\n",
              "    }\n",
              "\n",
              "    .colab-df-convert:hover {\n",
              "      background-color: #E2EBFA;\n",
              "      box-shadow: 0px 1px 2px rgba(60, 64, 67, 0.3), 0px 1px 3px 1px rgba(60, 64, 67, 0.15);\n",
              "      fill: #174EA6;\n",
              "    }\n",
              "\n",
              "    .colab-df-buttons div {\n",
              "      margin-bottom: 4px;\n",
              "    }\n",
              "\n",
              "    [theme=dark] .colab-df-convert {\n",
              "      background-color: #3B4455;\n",
              "      fill: #D2E3FC;\n",
              "    }\n",
              "\n",
              "    [theme=dark] .colab-df-convert:hover {\n",
              "      background-color: #434B5C;\n",
              "      box-shadow: 0px 1px 3px 1px rgba(0, 0, 0, 0.15);\n",
              "      filter: drop-shadow(0px 1px 2px rgba(0, 0, 0, 0.3));\n",
              "      fill: #FFFFFF;\n",
              "    }\n",
              "  </style>\n",
              "\n",
              "    <script>\n",
              "      const buttonEl =\n",
              "        document.querySelector('#df-9b62269e-9045-4c7d-8d52-3bdaf7d0f496 button.colab-df-convert');\n",
              "      buttonEl.style.display =\n",
              "        google.colab.kernel.accessAllowed ? 'block' : 'none';\n",
              "\n",
              "      async function convertToInteractive(key) {\n",
              "        const element = document.querySelector('#df-9b62269e-9045-4c7d-8d52-3bdaf7d0f496');\n",
              "        const dataTable =\n",
              "          await google.colab.kernel.invokeFunction('convertToInteractive',\n",
              "                                                    [key], {});\n",
              "        if (!dataTable) return;\n",
              "\n",
              "        const docLinkHtml = 'Like what you see? Visit the ' +\n",
              "          '<a target=\"_blank\" href=https://colab.research.google.com/notebooks/data_table.ipynb>data table notebook</a>'\n",
              "          + ' to learn more about interactive tables.';\n",
              "        element.innerHTML = '';\n",
              "        dataTable['output_type'] = 'display_data';\n",
              "        await google.colab.output.renderOutput(dataTable, element);\n",
              "        const docLink = document.createElement('div');\n",
              "        docLink.innerHTML = docLinkHtml;\n",
              "        element.appendChild(docLink);\n",
              "      }\n",
              "    </script>\n",
              "  </div>\n",
              "\n",
              "\n",
              "    <div id=\"df-f9e3136d-a84a-45d6-9a9b-2be49fec4c1b\">\n",
              "      <button class=\"colab-df-quickchart\" onclick=\"quickchart('df-f9e3136d-a84a-45d6-9a9b-2be49fec4c1b')\"\n",
              "                title=\"Suggest charts\"\n",
              "                style=\"display:none;\">\n",
              "\n",
              "<svg xmlns=\"http://www.w3.org/2000/svg\" height=\"24px\"viewBox=\"0 0 24 24\"\n",
              "     width=\"24px\">\n",
              "    <g>\n",
              "        <path d=\"M19 3H5c-1.1 0-2 .9-2 2v14c0 1.1.9 2 2 2h14c1.1 0 2-.9 2-2V5c0-1.1-.9-2-2-2zM9 17H7v-7h2v7zm4 0h-2V7h2v10zm4 0h-2v-4h2v4z\"/>\n",
              "    </g>\n",
              "</svg>\n",
              "      </button>\n",
              "\n",
              "<style>\n",
              "  .colab-df-quickchart {\n",
              "      --bg-color: #E8F0FE;\n",
              "      --fill-color: #1967D2;\n",
              "      --hover-bg-color: #E2EBFA;\n",
              "      --hover-fill-color: #174EA6;\n",
              "      --disabled-fill-color: #AAA;\n",
              "      --disabled-bg-color: #DDD;\n",
              "  }\n",
              "\n",
              "  [theme=dark] .colab-df-quickchart {\n",
              "      --bg-color: #3B4455;\n",
              "      --fill-color: #D2E3FC;\n",
              "      --hover-bg-color: #434B5C;\n",
              "      --hover-fill-color: #FFFFFF;\n",
              "      --disabled-bg-color: #3B4455;\n",
              "      --disabled-fill-color: #666;\n",
              "  }\n",
              "\n",
              "  .colab-df-quickchart {\n",
              "    background-color: var(--bg-color);\n",
              "    border: none;\n",
              "    border-radius: 50%;\n",
              "    cursor: pointer;\n",
              "    display: none;\n",
              "    fill: var(--fill-color);\n",
              "    height: 32px;\n",
              "    padding: 0;\n",
              "    width: 32px;\n",
              "  }\n",
              "\n",
              "  .colab-df-quickchart:hover {\n",
              "    background-color: var(--hover-bg-color);\n",
              "    box-shadow: 0 1px 2px rgba(60, 64, 67, 0.3), 0 1px 3px 1px rgba(60, 64, 67, 0.15);\n",
              "    fill: var(--button-hover-fill-color);\n",
              "  }\n",
              "\n",
              "  .colab-df-quickchart-complete:disabled,\n",
              "  .colab-df-quickchart-complete:disabled:hover {\n",
              "    background-color: var(--disabled-bg-color);\n",
              "    fill: var(--disabled-fill-color);\n",
              "    box-shadow: none;\n",
              "  }\n",
              "\n",
              "  .colab-df-spinner {\n",
              "    border: 2px solid var(--fill-color);\n",
              "    border-color: transparent;\n",
              "    border-bottom-color: var(--fill-color);\n",
              "    animation:\n",
              "      spin 1s steps(1) infinite;\n",
              "  }\n",
              "\n",
              "  @keyframes spin {\n",
              "    0% {\n",
              "      border-color: transparent;\n",
              "      border-bottom-color: var(--fill-color);\n",
              "      border-left-color: var(--fill-color);\n",
              "    }\n",
              "    20% {\n",
              "      border-color: transparent;\n",
              "      border-left-color: var(--fill-color);\n",
              "      border-top-color: var(--fill-color);\n",
              "    }\n",
              "    30% {\n",
              "      border-color: transparent;\n",
              "      border-left-color: var(--fill-color);\n",
              "      border-top-color: var(--fill-color);\n",
              "      border-right-color: var(--fill-color);\n",
              "    }\n",
              "    40% {\n",
              "      border-color: transparent;\n",
              "      border-right-color: var(--fill-color);\n",
              "      border-top-color: var(--fill-color);\n",
              "    }\n",
              "    60% {\n",
              "      border-color: transparent;\n",
              "      border-right-color: var(--fill-color);\n",
              "    }\n",
              "    80% {\n",
              "      border-color: transparent;\n",
              "      border-right-color: var(--fill-color);\n",
              "      border-bottom-color: var(--fill-color);\n",
              "    }\n",
              "    90% {\n",
              "      border-color: transparent;\n",
              "      border-bottom-color: var(--fill-color);\n",
              "    }\n",
              "  }\n",
              "</style>\n",
              "\n",
              "      <script>\n",
              "        async function quickchart(key) {\n",
              "          const quickchartButtonEl =\n",
              "            document.querySelector('#' + key + ' button');\n",
              "          quickchartButtonEl.disabled = true;  // To prevent multiple clicks.\n",
              "          quickchartButtonEl.classList.add('colab-df-spinner');\n",
              "          try {\n",
              "            const charts = await google.colab.kernel.invokeFunction(\n",
              "                'suggestCharts', [key], {});\n",
              "          } catch (error) {\n",
              "            console.error('Error during call to suggestCharts:', error);\n",
              "          }\n",
              "          quickchartButtonEl.classList.remove('colab-df-spinner');\n",
              "          quickchartButtonEl.classList.add('colab-df-quickchart-complete');\n",
              "        }\n",
              "        (() => {\n",
              "          let quickchartButtonEl =\n",
              "            document.querySelector('#df-f9e3136d-a84a-45d6-9a9b-2be49fec4c1b button');\n",
              "          quickchartButtonEl.style.display =\n",
              "            google.colab.kernel.accessAllowed ? 'block' : 'none';\n",
              "        })();\n",
              "      </script>\n",
              "    </div>\n",
              "\n",
              "    </div>\n",
              "  </div>\n"
            ],
            "application/vnd.google.colaboratory.intrinsic+json": {
              "type": "dataframe",
              "variable_name": "myntra",
              "summary": "{\n  \"name\": \"myntra\",\n  \"rows\": 14214,\n  \"fields\": [\n    {\n      \"column\": \"p_id\",\n      \"properties\": {\n        \"dtype\": \"string\",\n        \"num_unique_values\": 14214,\n        \"samples\": [\n          \"18688460\",\n          \"17441634\",\n          \"14179076\"\n        ],\n        \"semantic_type\": \"\",\n        \"description\": \"\"\n      }\n    },\n    {\n      \"column\": \"description\",\n      \"properties\": {\n        \"dtype\": \"string\",\n        \"num_unique_values\": 14196,\n        \"samples\": [\n          \"Product name is Mayra Women Peach-Coloured Solid Top.peach-coloured solid woven regular top, has a mandarin collar, short sleeves, button closurethe model height 5'8\\\" is wearing a size s, viscose rayon, hand-washclosure is button. fabric is viscose rayon. length is regular. main trend is new basics. neck is mandarin collar. occasion is casual. pattern is solid. print or pattern type is solid. sleeve length is short sleeves. sleeve styling is extended sleeves. transparency is opaque. type is regular. wash care is hand wash. weave type is woven\",\n          \"Product name is AYKA CLOTHINGS Black & Red Printed Viscose Rayon Unstitched Dress Material.black and red printed unstitched dress material , black and red printed kurta fabric , black and red embellished bottom fabric , black and red printed dupatta, has printed border , disclaimer: images are for referral purposes only. the actual product is unstitched, kurta fabric length:-1.80 meter,bottom fabric length:-1.30 meter,dupatta fabric length:-2.20 meter dry clean onlybottom fabric is viscose rayon. bottom pattern is embellished. dupatta border is printed. dupatta fabric is viscose rayon. dupatta pattern is printed. kurta fabric is viscose rayon. kurta pattern is printed. occasion is festive. ornamentation is sequinned. print or pattern type is floral. set content is kurta fabric bottom fabric and dupatta. stitch is unstitched. sustainable is regular. wash care is dry clean. wedding is guests & gifting\",\n          \"Product name is Miaz Lifestyle Magenta & Yellow Printed Cotton Silk Bandhani Dupatta with Gotta Patti.magenta and yellow bandhani printed dupatta has bandhani technique, gotta patti, taping borderlength: 2.4m, width: 80 cmcotton silk, machne washborder is taping. fabric is cotton silk. occasion is party. ornamentation is gotta patti. pattern is printed. print or pattern type is bandhani. sustainable is regular. technique is bandhani. wash care is machine wash. wedding is bride & wedding squad\"\n        ],\n        \"semantic_type\": \"\",\n        \"description\": \"\"\n      }\n    },\n    {\n      \"column\": \"metadata\",\n      \"properties\": {\n        \"dtype\": \"object\",\n        \"semantic_type\": \"\",\n        \"description\": \"\"\n      }\n    }\n  ]\n}"
            }
          },
          "metadata": {},
          "execution_count": 12
        }
      ]
    },
    {
      "cell_type": "code",
      "source": [
        "# ____________________________________________________________________________________________  EDA and Data Cleaning Complete  ____________________________________________________________________________________________\n",
        "# __________________________________________________________________________________________________________________________________________________________________________________________________________________________\n",
        "# __________________________________________________________________________________________________________________________________________________________________________________________________________________________"
      ],
      "metadata": {
        "id": "vmjsyk9TZjwJ"
      },
      "execution_count": 23,
      "outputs": []
    },
    {
      "cell_type": "code",
      "source": [
        "## Create Embeddings using ChromaDB"
      ],
      "metadata": {
        "id": "_Cjt05P5DRYd"
      },
      "execution_count": 24,
      "outputs": []
    },
    {
      "cell_type": "code",
      "source": [
        "embed_model = \"text-embedding-3-large\"\n",
        "cross_encode_model = \"cross-encoder/ms-marco-MiniLM-L-6-v2\"\n",
        "api_file = file_path + \"api_key.txt\"\n",
        "threshold = 0.15"
      ],
      "metadata": {
        "id": "jbbPonwhS51n"
      },
      "execution_count": 13,
      "outputs": []
    },
    {
      "cell_type": "code",
      "source": [
        "client = chromadb.PersistentClient(path= file_path + \"chroma_db\")"
      ],
      "metadata": {
        "id": "i8G7ZfOQEiAQ"
      },
      "execution_count": 14,
      "outputs": []
    },
    {
      "cell_type": "code",
      "source": [
        "class OpenAI_Embeddings:\n",
        "\n",
        "  def __init__(self, model, api_path):\n",
        "    self.model = model\n",
        "    self.api_path = api_path\n",
        "    self.embedding_function = None\n",
        "    self.myntra_collections = None\n",
        "    self.create_my_embedding()\n",
        "\n",
        "  def get_api(self):\n",
        "    with open(self.api_path, \"r\") as fptr:\n",
        "      api_key = fptr.read()\n",
        "      fptr.close()\n",
        "    return api_key\n",
        "\n",
        "  def create_my_embedding(self):\n",
        "    self.embedding_function = OpenAIEmbeddingFunction(\n",
        "                                                        api_key = self.get_api(),\n",
        "                                                        model_name = self.model\n",
        "                                                     )\n",
        "\n",
        "  def create_get_collection(self, name):\n",
        "    ## Create or Load Chroma Collection\n",
        "    self.myntra_collections = client.get_or_create_collection(\n",
        "                                                            name = name,\n",
        "                                                            embedding_function = self.embedding_function\n",
        "                                                        )\n",
        "    return self.myntra_collections\n",
        "\n",
        "  def add_to_collection(self, data, collections):\n",
        "    ## Add data to Chroma Collection\n",
        "    prev = 0\n",
        "    docs_list = data[\"description\"].to_list()\n",
        "    meta_list = data['metadata'].to_list()\n",
        "    id_list = data['p_id'].to_list()\n",
        "    ## Add data to Chroma Collection\n",
        "    for batch_size in range(1000, len(docs_list), 1000):\n",
        "      collections.add(\n",
        "                                    documents = docs_list[prev:batch_size],\n",
        "                                    metadatas = meta_list[prev:batch_size],\n",
        "                                    ids = id_list[prev:batch_size]\n",
        "                                 )\n",
        "      prev = batch_size\n",
        "    if prev < len(docs_list):\n",
        "      collections.add(\n",
        "                                     documents = docs_list[prev:],\n",
        "                                     metadatas = meta_list[prev:],\n",
        "                                     ids = id_list[prev:]\n",
        "                                 )\n",
        "    return collections"
      ],
      "metadata": {
        "id": "QscuSwemEh4g"
      },
      "execution_count": 15,
      "outputs": []
    },
    {
      "cell_type": "code",
      "source": [
        "class Chroma_Search(OpenAI_Embeddings):\n",
        "\n",
        "  def __init__(self, model, api_path):\n",
        "    super().__init__(model, api_path)\n",
        "\n",
        "  def text_query(self, collections, query, w_clause=None, w_doc_clause=None):\n",
        "    query_results = collections.query(\n",
        "                                          query_texts = [query],\n",
        "                                          n_results = 10,\n",
        "                                          where = w_clause,\n",
        "                                          where_document = w_doc_clause\n",
        "                                     )\n",
        "    return query_results"
      ],
      "metadata": {
        "id": "MxvzEbajEhz5"
      },
      "execution_count": 16,
      "outputs": []
    },
    {
      "cell_type": "code",
      "source": [
        "## This embedding model is to create embeddings and query\n",
        "myntra_obj = Chroma_Search(embed_model, api_file)\n",
        "myntra_collection = myntra_obj.create_get_collection(\"myntra\")\n",
        "\n",
        "# if not os.path.isdir(file_path + \"chroma_db\"):\n",
        "#   myntra_obj.add_to_collection(myntra, myntra_collection)\n",
        "\n",
        "# myntra_collection.peek()"
      ],
      "metadata": {
        "id": "T0vZrHvMM4IG"
      },
      "execution_count": 17,
      "outputs": []
    },
    {
      "cell_type": "code",
      "source": [
        "## This embedding model is to create cache and query\n",
        "cache_collections = []\n",
        "collection_names = [\"cache_1\", \"cache_2\", \"cache_3\", \"cache_4\", \"cache_5\"]\n",
        "\n",
        "cache_obj = Chroma_Search(embed_model, api_file)\n",
        "for name in collection_names:\n",
        "  cache_collections.append(cache_obj.create_get_collection(name))"
      ],
      "metadata": {
        "id": "XnPAFcILvmEh"
      },
      "execution_count": 18,
      "outputs": []
    },
    {
      "cell_type": "code",
      "source": [
        "cache_collections[0].peek()"
      ],
      "metadata": {
        "colab": {
          "base_uri": "https://localhost:8080/"
        },
        "id": "pzC3BcWxW-uq",
        "outputId": "8063de2f-24f6-4dba-ef27-edfa9a8b03df"
      },
      "execution_count": 19,
      "outputs": [
        {
          "output_type": "execute_result",
          "data": {
            "text/plain": [
              "{'ids': [],\n",
              " 'embeddings': array([], dtype=float64),\n",
              " 'documents': [],\n",
              " 'uris': None,\n",
              " 'included': ['metadatas', 'documents', 'embeddings'],\n",
              " 'data': None,\n",
              " 'metadatas': []}"
            ]
          },
          "metadata": {},
          "execution_count": 19
        }
      ]
    },
    {
      "cell_type": "code",
      "source": [
        "for cache_collection in cache_collections:\n",
        "  if not len(cache_collection.peek()[\"ids\"]):\n",
        "    print(cache_collection.peek())"
      ],
      "metadata": {
        "colab": {
          "base_uri": "https://localhost:8080/"
        },
        "id": "_88P1VcVgEJn",
        "outputId": "cfe5718a-55d1-4fad-fef0-e840ec0b7bb8"
      },
      "execution_count": 20,
      "outputs": [
        {
          "output_type": "stream",
          "name": "stdout",
          "text": [
            "{'ids': [], 'embeddings': array([], dtype=float64), 'documents': [], 'uris': None, 'included': ['metadatas', 'documents', 'embeddings'], 'data': None, 'metadatas': []}\n",
            "{'ids': [], 'embeddings': array([], dtype=float64), 'documents': [], 'uris': None, 'included': ['metadatas', 'documents', 'embeddings'], 'data': None, 'metadatas': []}\n",
            "{'ids': [], 'embeddings': array([], dtype=float64), 'documents': [], 'uris': None, 'included': ['metadatas', 'documents', 'embeddings'], 'data': None, 'metadatas': []}\n",
            "{'ids': [], 'embeddings': array([], dtype=float64), 'documents': [], 'uris': None, 'included': ['metadatas', 'documents', 'embeddings'], 'data': None, 'metadatas': []}\n",
            "{'ids': [], 'embeddings': array([], dtype=float64), 'documents': [], 'uris': None, 'included': ['metadatas', 'documents', 'embeddings'], 'data': None, 'metadatas': []}\n"
          ]
        }
      ]
    },
    {
      "cell_type": "code",
      "source": [],
      "metadata": {
        "id": "ecWKGU7DW-p1"
      },
      "execution_count": null,
      "outputs": []
    },
    {
      "cell_type": "code",
      "source": [],
      "metadata": {
        "id": "Pap_g2U7W-nS"
      },
      "execution_count": null,
      "outputs": []
    },
    {
      "cell_type": "code",
      "source": [],
      "metadata": {
        "id": "eEo0HxZp3K8j"
      },
      "execution_count": null,
      "outputs": []
    },
    {
      "cell_type": "code",
      "source": [],
      "metadata": {
        "id": "n-LIvf2-3K6E"
      },
      "execution_count": null,
      "outputs": []
    },
    {
      "cell_type": "code",
      "source": [],
      "metadata": {
        "id": "hHiAtXTE3K3m"
      },
      "execution_count": null,
      "outputs": []
    },
    {
      "cell_type": "code",
      "source": [],
      "metadata": {
        "id": "gXvLH1AV3K1E"
      },
      "execution_count": null,
      "outputs": []
    },
    {
      "cell_type": "code",
      "source": [],
      "metadata": {
        "id": "BAvW76Nq3Kyo"
      },
      "execution_count": null,
      "outputs": []
    },
    {
      "cell_type": "code",
      "source": [],
      "metadata": {
        "id": "oGn7ZAvwW-k6"
      },
      "execution_count": null,
      "outputs": []
    },
    {
      "cell_type": "code",
      "source": [
        "type(df[\"products\"][0])"
      ],
      "metadata": {
        "colab": {
          "base_uri": "https://localhost:8080/"
        },
        "id": "jX-ITMC8rR5c",
        "outputId": "5306da8c-5867-4229-c8a9-c03136a40744"
      },
      "execution_count": null,
      "outputs": [
        {
          "output_type": "execute_result",
          "data": {
            "text/plain": [
              "str"
            ]
          },
          "metadata": {},
          "execution_count": 37
        }
      ]
    },
    {
      "cell_type": "code",
      "source": [],
      "metadata": {
        "id": "8i5-fkbgrR3Q"
      },
      "execution_count": null,
      "outputs": []
    },
    {
      "cell_type": "code",
      "source": [],
      "metadata": {
        "id": "YDBKcKxXrR0s"
      },
      "execution_count": null,
      "outputs": []
    },
    {
      "cell_type": "code",
      "source": [],
      "metadata": {
        "id": "KP2ywAToW-ik"
      },
      "execution_count": null,
      "outputs": []
    },
    {
      "cell_type": "code",
      "source": [],
      "metadata": {
        "id": "nq-xFgeVW-gC"
      },
      "execution_count": null,
      "outputs": []
    },
    {
      "cell_type": "code",
      "source": [],
      "metadata": {
        "id": "3bnyZBgDW-db"
      },
      "execution_count": null,
      "outputs": []
    },
    {
      "cell_type": "code",
      "source": [
        "# cache_result = [cache_obj.text_query(cache_collection, query, attr_dict, w_doc_clause) for cache_collection in cache_collections if not len(cache_collections[1].peek()[\"ids\"])]\n",
        "\n",
        "# cache_result = [cache_obj.text_query(cache_collection, \"find all kurtis\", {\"size\": \"M\"}, {\"$eq\": \"colour red\"}) for cache_collection in cache_collections if not len(cache_collections[1].peek()[\"ids\"])]"
      ],
      "metadata": {
        "id": "0-DF-PQwQ5W0"
      },
      "execution_count": null,
      "outputs": []
    },
    {
      "cell_type": "code",
      "source": [
        "# cache_result = myntra_obj.text_query(myntra_collection, \"find all kurtis\", None, {\"$or\": [{\"$contains\": \"size s\"}, {\"$contains\": \"colour red\"}]})"
      ],
      "metadata": {
        "id": "1wAEJxw6wkuE"
      },
      "execution_count": null,
      "outputs": []
    },
    {
      "cell_type": "code",
      "source": [
        "# cache_result = myntra_obj.text_query(myntra_collection, \"find all kurtis\", None, {\"$or\": [{\"$contains\": \"size s\"}, {\"$contains\": \"colour red\"}]})"
      ],
      "metadata": {
        "id": "oLdxkCp3wkoz"
      },
      "execution_count": null,
      "outputs": []
    },
    {
      "cell_type": "code",
      "source": [
        "# cache_result = myntra_obj.text_query(myntra_collection, \"find all kurtis\", None, {\"$and\": [{\"$contains\": \"size s\"}, {\"$contains\": \"green\"}]})\n",
        "\n",
        "\n",
        "# cache_result = myntra_obj.text_query(myntra_collection, \"find all kurtis\", {\"$or\": [{\"$in\": \"size s\"}, {\"$in\": \"green\"}]})"
      ],
      "metadata": {
        "id": "VlQw6ddiwkjt"
      },
      "execution_count": null,
      "outputs": []
    },
    {
      "cell_type": "code",
      "source": [
        "# cache_result = myntra_obj.text_query(myntra_collection, \"find all kurtis\")"
      ],
      "metadata": {
        "id": "11SmVMkCwkfC"
      },
      "execution_count": null,
      "outputs": []
    },
    {
      "cell_type": "code",
      "source": [],
      "metadata": {
        "id": "bvcNHykbwkZ4"
      },
      "execution_count": null,
      "outputs": []
    },
    {
      "cell_type": "code",
      "source": [],
      "metadata": {
        "id": "FrppOEvq3KI3"
      },
      "execution_count": null,
      "outputs": []
    },
    {
      "cell_type": "code",
      "source": [],
      "metadata": {
        "id": "y0J_DUqR3KGs"
      },
      "execution_count": null,
      "outputs": []
    },
    {
      "cell_type": "code",
      "source": [],
      "metadata": {
        "id": "sIKV4o613KEh"
      },
      "execution_count": null,
      "outputs": []
    },
    {
      "cell_type": "code",
      "source": [],
      "metadata": {
        "id": "rW0hi39i3KCK"
      },
      "execution_count": null,
      "outputs": []
    },
    {
      "cell_type": "code",
      "source": [],
      "metadata": {
        "id": "6-PupIUq3J_t"
      },
      "execution_count": null,
      "outputs": []
    },
    {
      "cell_type": "code",
      "source": [],
      "metadata": {
        "id": "S9kB98Ru3J9N"
      },
      "execution_count": null,
      "outputs": []
    },
    {
      "cell_type": "code",
      "source": [],
      "metadata": {
        "id": "xIwJDJJW3J7D"
      },
      "execution_count": null,
      "outputs": []
    },
    {
      "cell_type": "code",
      "source": [],
      "metadata": {
        "id": "ZkRRDLW03J4k"
      },
      "execution_count": null,
      "outputs": []
    },
    {
      "cell_type": "code",
      "source": [],
      "metadata": {
        "id": "k73IdlKX3J2V"
      },
      "execution_count": null,
      "outputs": []
    },
    {
      "cell_type": "code",
      "source": [],
      "metadata": {
        "id": "C1Bd2v513Jz8"
      },
      "execution_count": null,
      "outputs": []
    },
    {
      "cell_type": "code",
      "source": [],
      "metadata": {
        "id": "smAir8o23Jxk"
      },
      "execution_count": null,
      "outputs": []
    },
    {
      "cell_type": "code",
      "source": [],
      "metadata": {
        "id": "02FgZUoG3Juk"
      },
      "execution_count": null,
      "outputs": []
    },
    {
      "cell_type": "code",
      "source": [],
      "metadata": {
        "id": "7U2DATqz3JeL"
      },
      "execution_count": null,
      "outputs": []
    },
    {
      "cell_type": "code",
      "source": [],
      "metadata": {
        "id": "nnHTWTJm3JbU"
      },
      "execution_count": null,
      "outputs": []
    },
    {
      "cell_type": "code",
      "source": [],
      "metadata": {
        "id": "yPhVj2X-wkXN"
      },
      "execution_count": null,
      "outputs": []
    },
    {
      "cell_type": "code",
      "source": [
        "# def user_query(query, attr_dict, w_doc_clause):\n",
        "#   ids = []\n",
        "#   documents = []\n",
        "#   distances = []\n",
        "#   metadatas = []\n",
        "#   results_df = pd.DataFrame()\n",
        "\n",
        "\n",
        "#   cache_result = cache_obj.text_query(cache_collection, query, attr_dict, w_doc_clause)\n",
        "\n",
        "#   if cache_result['distances'][0] == []: # if cache is empty\n",
        "#     result = myntra_obj.text_query(myntra_collection, query, attr_dict, w_doc_clause)\n",
        "\n",
        "#     keys = []\n",
        "#     vals = []\n",
        "#     for key, val in result.items():\n",
        "#       if val == None:\n",
        "#         continue\n",
        "#       if key.lower() != \"embeddings\" and key.lower() != \"uris\" and key.lower() != \"data\" and key.lower() != \"included\":\n",
        "#         for i in range(10):\n",
        "#               keys.append(str(key)+str(i))\n",
        "#               vals.append(str(val[0][i]))\n",
        "#       ## Add new query to collection\n",
        "#         cache_collection.add(\n",
        "#                               documents = [query],\n",
        "#                               ids = [query],\n",
        "#                               metadatas =  dict(zip(keys, vals))\n",
        "#                             )\n",
        "#         ## Create Result database\n",
        "#         result_dict = {'Metadatas': results['metadatas'][0], 'Documents': results['documents'][0], 'Distances': results['distances'][0], \"IDs\":results[\"ids\"][0]}\n",
        "#         results_df = pd.DataFrame.from_dict(result_dict)\n",
        "#         results_df\n",
        "#   else:\n",
        "#     cache_result_dict = cache_result['metadatas'][0][0]\n",
        "\n",
        "#     # Loop through each inner list and then through the dictionary\n",
        "#     for key, value in cache_result_dict.items():\n",
        "#         if 'ids' in key:\n",
        "#             ids.append(value)\n",
        "#         elif 'documents' in key:\n",
        "#             documents.append(value)\n",
        "#         elif 'distances' in key:\n",
        "#             distances.append(value)\n",
        "#         elif 'metadatas' in key:\n",
        "#             metadatas.append(value)\n",
        "\n",
        "#     # Create a DataFrame\n",
        "#     results_df = pd.DataFrame({\n",
        "#       'IDs': ids,\n",
        "#       'Documents': documents,\n",
        "#       'Distances': distances,\n",
        "#       'Metadatas': metadatas\n",
        "#     })\n",
        "#     results_df"
      ],
      "metadata": {
        "id": "0wNFk7-Fvspp"
      },
      "execution_count": null,
      "outputs": []
    },
    {
      "cell_type": "code",
      "source": [
        " ## Cross-Encoders"
      ],
      "metadata": {
        "id": "HYo3ZU3wCryJ"
      },
      "execution_count": null,
      "outputs": []
    },
    {
      "cell_type": "code",
      "source": [
        "def crossencode_user_query(df, query):\n",
        "  cross_encoder = CrossEncoder(cross_encode_model)\n",
        "  scores = cross_encoder.predict([[query, response] for response in df['Documents']])\n",
        "  df['cross_encoder_scores'] = scores\n",
        "  df.sort_values(by='cross_encoder_scores', ascending=False, inplace=True)\n",
        "  return df[[\"Metadatas\", \"Documents\"]]"
      ],
      "metadata": {
        "id": "a6wjfAmGCrvj"
      },
      "execution_count": null,
      "outputs": []
    },
    {
      "cell_type": "code",
      "source": [
        "# ## Prompt Generation using OpenAI"
      ],
      "metadata": {
        "id": "kVB7YEJqrERC"
      },
      "execution_count": null,
      "outputs": []
    },
    {
      "cell_type": "code",
      "source": [
        "chat_client = OpenAI(api_key=myntra_obj.get_api())"
      ],
      "metadata": {
        "id": "JKIijNnirEMM"
      },
      "execution_count": 21,
      "outputs": []
    },
    {
      "cell_type": "code",
      "source": [
        "def fashion_converse(conversation):\n",
        "    chat_resp = chat_client.chat.completions.create(\n",
        "                                    model = gpt_model,\n",
        "                                    messages = conversation,\n",
        "                                    temperature = 0.4,\n",
        "                                    max_tokens = 200,\n",
        "                                    tools = tools_shop_assist(),\n",
        "                                    tool_choice = \"auto\"\n",
        "                                    )\n",
        "    return chat_resp.choices[0].message\n",
        "\n",
        "def chat_moderator(msg):\n",
        "    response = chat_client.moderations.create(\n",
        "                                    model = moderator,\n",
        "                                    input = msg\n",
        "                                    )\n",
        "\n",
        "    return response.results[0].flagged"
      ],
      "metadata": {
        "id": "apYMkdFPrEKT"
      },
      "execution_count": 22,
      "outputs": []
    },
    {
      "cell_type": "code",
      "source": [
        "# def list_products(inp_query_dict):\n",
        "#   w_doc_clause = \"\"\n",
        "#   inp_query = inp_query_dict[\"inp_query\"]\n",
        "#   attr_dict = ast.literal_eval(inp_query_dict[\"attr_dict\"])\n",
        "#   if \"colour\" in list(attr_dict.keys()):\n",
        "#     w_doc_clause = {\"colour\": attr_dict['colour'].lower()}\n",
        "#     del attr_dict['colour']\n",
        "#   if \"size\" in list(attr_dict.keys()):\n",
        "#     w_doc_clause = {\"size\": attr_dict['size'].lower()}\n",
        "#     del attr_dict['size']\n",
        "#   df = user_query(inp_query, attr_dict, w_doc_clause)\n",
        "#   return crossencode_user_query(df, inp_query)"
      ],
      "metadata": {
        "id": "cv266_NvfU4M"
      },
      "execution_count": null,
      "outputs": []
    },
    {
      "cell_type": "code",
      "source": [
        "## Belongs in Tools_Calls Class\n",
        "\n",
        "def tools_shop_assist():\n",
        "        criteria = [\n",
        "                        {\n",
        "                            \"type\": \"function\",\n",
        "                            \"function\": {\n",
        "                                \"name\": \"list_products\",\n",
        "                                \"description\": \"Function takes input string and additional criteria as input and returns \",\n",
        "                                \"strict\": False,\n",
        "                                \"parameters\": {\n",
        "                                    \"type\": \"object\",\n",
        "                                    \"properties\": {\n",
        "                                        \"inp_query\": {\n",
        "                                            \"type\": \"string\",\n",
        "                                            \"description\": \"string indicating input given by user eg. find all the skirts in pink.\",\n",
        "                                        },\n",
        "                                        \"attr_dict\": {\n",
        "                                            \"type\": \"string\",\n",
        "                                            \"description\": \"features the apparel needs to have. eg. {'size': 'long', 'colour': 'pink', 'design': 'floral'}.\",\n",
        "                                        },\n",
        "                                        # \"addn_info\": {\n",
        "                                        #     \"type\": \"string\",\n",
        "                                        #     \"description\": \"string additional requirements given by the user eg. size should be small and closure will be zip\",\n",
        "                                        # },\n",
        "                                    },\n",
        "                                    \"required\": [\"inp_query\", \"attr_dict\"],# \"addn_info\"],\n",
        "                                    \"additionalProperties\": False\n",
        "                                },\n",
        "                            },\n",
        "                        }\n",
        "                    ]\n",
        "\n",
        "        return criteria\n"
      ],
      "metadata": {
        "id": "HK83wlpCrECt"
      },
      "execution_count": 23,
      "outputs": []
    },
    {
      "cell_type": "code",
      "source": [
        "def start_conversations():\n",
        "  converse = initial_conversation()\n",
        "  chat_resp = fashion_converse(converse)\n",
        "  converse.append({\"role\": \"assistant\", \"content\": str(chat_resp.content)})\n",
        "  print(chat_resp.content)\n",
        "\n",
        "  while True:\n",
        "    user_input = input().lower().strip()\n",
        "    if user_input == \"exit\":\n",
        "      break\n",
        "\n",
        "    is_flagged = chat_moderator(user_input)\n",
        "    if is_flagged:\n",
        "        print(\"Sorry, this message has been flagged. Cannot be accepted.\")\n",
        "        continue ## Skip everything and get back to input()\n",
        "\n",
        "    converse.append({\"role\": \"user\", \"content\": user_input})\n",
        "    chat_resp = fashion_converse(converse)\n",
        "    if chat_resp.tool_calls:\n",
        "      for tool_call in chat_resp.tool_calls:\n",
        "        func_name = tool_call.function.name\n",
        "        args = json.loads(tool_call.function.arguments)\n",
        "        tool_response = list_products(args)\n",
        "        ## Append Function Calling Request\n",
        "        converse.append(chat_resp)\n",
        "        converse.append({\n",
        "                        \"role\": \"tool\",\n",
        "                        \"tool_call_id\": tool_call.id,\n",
        "                        \"name\": func_name,\n",
        "                        \"content\": str(tool_response)\n",
        "                        })\n",
        "      chat_resp = fashion_converse(converse)\n",
        "      print(chat_resp.content)\n",
        "    else:\n",
        "      converse.append({\"role\": \"assistant\", \"content\": str(chat_resp.content)})\n",
        "      print(chat_resp.content)\n"
      ],
      "metadata": {
        "id": "UHQ4lQ2qrEAD"
      },
      "execution_count": 25,
      "outputs": []
    },
    {
      "cell_type": "code",
      "source": [
        "def create_queries(inp_query_dict):\n",
        "  query_list = []\n",
        "\n",
        "  query = ast.literal_eval(inp_query_dict[\"inp_query\"])\n",
        "  attr_dict_ = ast.literal_eval(inp_query_dict[\"attr_dict\"])\n",
        "  # addn_info_ = ast.literal_eval(inp_query_dict[\"addn_info\"])\n",
        "\n",
        "  for key, vals in attr_dict_.items():\n",
        "    if key == \"products\" and attr_dict_[key] != []:\n",
        "      query_list.append({key: {\"$in\": ', '.join(attr_dict_[key])}})\n",
        "    elif key == \"colour\" and attr_dict_[key] != []:\n",
        "      query_list.append({\"$or\": [{key: {\"$eq\": color}} for color in attr_dict_[key]]})\n",
        "    elif key == \"brand\" and attr_dict_[key] != []:\n",
        "      query_list.append({\"brand\": {\"$eq\": brand} for brand in attr_dict_[key]})\n",
        "    elif key == \"price\" and attr_dict_[key] != []:\n",
        "      query_list.append({\"price\": {\"$lte\": attr_dict_[key]}})\n",
        "  return {\"$and\": [query_list]}"
      ],
      "metadata": {
        "id": "fQnbSO4solxK"
      },
      "execution_count": null,
      "outputs": []
    },
    {
      "cell_type": "code",
      "source": [
        "def user_query(query, attr_dict, w_doc_clause):\n",
        "  ids = []\n",
        "  documents = []\n",
        "  distances = []\n",
        "  metadatas = []\n",
        "  results_df = pd.DataFrame()\n",
        "\n",
        "\n",
        "  cache_result = cache_obj.text_query(cache_collection, query, attr_dict, w_doc_clause)\n",
        "\n",
        "  if cache_result['distances'][0] == []: # if cache is empty\n",
        "    result = myntra_obj.text_query(myntra_collection, query, attr_dict, w_doc_clause)\n",
        "\n",
        "    keys = []\n",
        "    vals = []\n",
        "    for key, val in result.items():\n",
        "      if val == None:\n",
        "        continue\n",
        "      if key.lower() != \"embeddings\" and key.lower() != \"uris\" and key.lower() != \"data\" and key.lower() != \"included\":\n",
        "        for i in range(10):\n",
        "              keys.append(str(key)+str(i))\n",
        "              vals.append(str(val[0][i]))\n",
        "      ## Add new query to collection\n",
        "        cache_collection.add(\n",
        "                              documents = [query],\n",
        "                              ids = [query],\n",
        "                              metadatas =  dict(zip(keys, vals))\n",
        "                            )\n",
        "        ## Create Result database\n",
        "        result_dict = {'Metadatas': results['metadatas'][0], 'Documents': results['documents'][0], 'Distances': results['distances'][0], \"IDs\":results[\"ids\"][0]}\n",
        "        results_df = pd.DataFrame.from_dict(result_dict)\n",
        "        results_df\n",
        "  else:\n",
        "    cache_result_dict = cache_result['metadatas'][0][0]\n",
        "\n",
        "    # Loop through each inner list and then through the dictionary\n",
        "    for key, value in cache_result_dict.items():\n",
        "        if 'ids' in key:\n",
        "            ids.append(value)\n",
        "        elif 'documents' in key:\n",
        "            documents.append(value)\n",
        "        elif 'distances' in key:\n",
        "            distances.append(value)\n",
        "        elif 'metadatas' in key:\n",
        "            metadatas.append(value)\n",
        "\n",
        "    # Create a DataFrame\n",
        "    results_df = pd.DataFrame({\n",
        "      'IDs': ids,\n",
        "      'Documents': documents,\n",
        "      'Distances': distances,\n",
        "      'Metadatas': metadatas\n",
        "    })\n",
        "    results_df"
      ],
      "metadata": {
        "id": "MCQ-Jmjk0oBh"
      },
      "execution_count": null,
      "outputs": []
    },
    {
      "cell_type": "code",
      "source": [
        "def user_query(query, attr_dict, w_doc_clause):\n",
        "  ids = []\n",
        "  documents = []\n",
        "  distances = []\n",
        "  metadatas = []\n",
        "\n",
        "  cache_result = [cache_obj.text_query(cache_collection, query, attr_dict, w_doc_clause) for cache_collection in cache_collections if len(cache_collection.peek()[\"ids\"])]\n",
        "  cache_ind = [ind for ind, results in enumerate(cache_result) if cache_result['distances'][0] != [] and cache_result['distances'][0][0] <= threshold]\n",
        "  if len(cache_ind) != 0:\n",
        "    for ind in cache_ind:"
      ],
      "metadata": {
        "id": "C5aTySB00vSz"
      },
      "execution_count": null,
      "outputs": []
    },
    {
      "cell_type": "code",
      "source": [
        "inp_dict = \"\"\n",
        "\n",
        "def list_products(inp_query_dict):\n",
        "  inp_dict = create_queries(inp_query_dict)\n",
        "  print(inp_dict)"
      ],
      "metadata": {
        "id": "u5j-zZSUkMS7"
      },
      "execution_count": 26,
      "outputs": []
    },
    {
      "cell_type": "code",
      "source": [],
      "metadata": {
        "id": "xIITCLNzHzzA"
      },
      "execution_count": null,
      "outputs": []
    },
    {
      "cell_type": "code",
      "source": [
        "myntra_obj.text_query(myntra_collection, inp_dict[\"inp_query\"], {\"products\": {\"$in\": attr_dict_[\"products\"]}})"
      ],
      "metadata": {
        "colab": {
          "base_uri": "https://localhost:8080/"
        },
        "id": "nVzgaCIWHzo4",
        "outputId": "7fca86f0-462e-4374-ba3c-836992acb729"
      },
      "execution_count": 45,
      "outputs": [
        {
          "output_type": "execute_result",
          "data": {
            "text/plain": [
              "{'ids': [['17577466',\n",
              "   '19340614',\n",
              "   '17819920',\n",
              "   '14739168',\n",
              "   '19141450',\n",
              "   '10073599',\n",
              "   '15694030',\n",
              "   '1992591',\n",
              "   '15227004',\n",
              "   '17511730']],\n",
              " 'embeddings': None,\n",
              " 'documents': [[\"Product name is Indo Era Women Bright Orange Ethnic Fusion Top.versatile and chic, this alluring top is sure to make you stand apart wherever you go. the lovely ethnic motifs print and round neck highlight the overall appeal of this beautiful top. , bright orange shade beautiful ethnic motifs print round neck short regular sleeves cotton blend, machine wash , trend alert ethnic fusion tops are crop-length bra tops that are inspired by the rich heritage of india. they feature attractive details, like frills, tie-ups, volume sleeves, spaghetti straps, tiering, corset style, and so on. prints and patterns, such as furnishing florals, quirky prints, ombre, nu boheme, embellished, sequined, embroidered, etc. make these ethnic fusion tops stand apart.cotton blend, machine washthe model height 5'8 is wearing a size scenter front open is no. fabric is cotton blend. length is regular. main trend is ethnic print. neck is round neck. occasion is ethnic. pattern is printed. print or pattern type is ethnic motifs. sleeve length is short sleeves. sleeve styling is regular sleeves. style tip is spice things up with dainty teardrop earrings. cute kitten heels. and rectangular shades. sustainable is regular. transparency is opaque. type is a-line. wash care is machine wash. weave type is woven. where-to-wear is run errands in style\",\n",
              "   \"Product name is MALHAAR Women Lime Green Floral Print Empire Top.lime green regular empire top floral print v-neck, three-quarter, flared sleeve sleeves knitted the model height 5'8 is wearing a size s, , cotton, hand washcare for me is dry cleaning is recommended. use cold water with mild detergents when handwashing or opt for delicate setting when machine washing. always wash inside-out to preserve colour. never wring or tumble dry. dry flat on a towel or hang on coat hangers. iron on the reverse side with medium heat.. center front open is no. fabric is pure cotton. length is regular. main trend is new basics. neck is v-neck. occasion is ethnic. pattern is printed. print or pattern type is floral. sleeve length is three-quarter sleeves. sleeve styling is flared sleeves. sustainable is regular. transparency is opaque. type is empire. wash care is machine wash. weave type is knitted. wedding is guests & gifting\",\n",
              "   \"Product name is Mast & Harbour Green & Orange Floral Print Regular Top.green and orange longline regular top floral print round neck, long, puff sleeve sleeves smocked detail woven button closure polyester , machine washthe model height 5'8 is wearing a size scare for me is follow the fabric care label. warm machine wash is recommended. can be tumble dried in a cool setting. prevent static build-up by drying while damp. use low heat to iron.. center front open is no. closure is button. fabric is polyester. length is regular. main trend is smocked. neck is round neck. occasion is casual. pattern is printed. print or pattern type is floral. sleeve length is long sleeves. sleeve styling is puff sleeves. surface styling is smocking. sustainable is regular. transparency is opaque. type is regular. wash care is machine wash. weave type is woven\",\n",
              "   \"Product name is Vishudh Lime Green & White Geometric Mandarin Collar Pure Cotton Cinched Waist Top.lime green and white regular cinched waist top geometric print mandarin collar, three-quarter, regular sleeves gathered or pleated detail woven button closure pure cotton, machine washthe model height 5'8 is wearing a size scenter front open is no. closure is button. fabric is pure cotton. length is regular. main trend is geometric print. neck is mandarin collar. occasion is ethnic. pattern is printed. print or pattern type is geometric. sleeve length is three-quarter sleeves. sleeve styling is regular sleeves. surface styling is gathered or pleated. sustainable is regular. transparency is opaque. type is cinched waist. wash care is machine wash. weave type is woven\",\n",
              "   \"Product name is plusS Olive Green Georgette Top.olive green regular top self design self design high neck, long, puff sleeve sleeves knitted georgette button closure the model height 5'8 is wearing a size s, polyester, machine washcare for me is follow the garment wash care label can be tumble dried in a cool setting if machine washed prevent static build-up by drying while damp use low heat to iron. center front open is no. closure is button. fabric is polyester. fabric type is georgette. length is regular. lining is has a lining. main trend is new basics. neck is high neck. occasion is casual. pattern is self design. print or pattern type is self design. sleeve length is long sleeves. sleeve styling is puff sleeves. sustainable is regular. transparency is opaque. type is regular. wash care is machine wash. weave type is knitted. wedding is guests & gifting\",\n",
              "   'Product name is Vishudh Women Rust Orange Printed High-Low Top.rust orange solid woven high-low top, has a tie-up neck, and long sleevesregular fit, the model height 5\\'8\" is wearing a size s, viscose rayon, machine-washcenter front open is no. fabric is viscose rayon. length is longline. main trend is new basics. neck is tie-up neck. occasion is ethnic. pattern is solid. print or pattern type is solid. sleeve length is long sleeves. sleeve styling is cuffed sleeves. sustainable is regular. transparency is opaque. type is high-low. wash care is machine wash. weave type is woven',\n",
              "   \"Product name is max Green Floral Georgette Regular Top.green regular top floral print round neck, short, regular sleeves woven georgette viscose rayon , machine washthe model height 5'8 is wearing a size scenter front open is no. fabric is viscose rayon. fabric type is georgette. length is regular. main trend is new basics. neck is round neck. occasion is ethnic. pattern is printed. print or pattern type is floral. sleeve length is short sleeves. sleeve styling is regular sleeves. sustainable is regular. transparency is opaque. type is regular. wash care is machine wash. weave type is woven\",\n",
              "   'Product name is Varanga Orange Gold Pure Cotton Skirt.orange flared maxi skirt with crinkled effect and printed detail, has an elasticated waistband with drawstring fastening, flared hemlinethe model height 5\\'8\" is wearing a size 28pure cotton, hand-washclosure is drawstring. fabric is pure cotton. hemline is flared. knit or woven is woven. length is maxi. main trend is new basics. occasion is casual. pattern is solid. print or pattern type is solid. slit detail is no slit. sub trend is new basics. surface styling is gathered or pleated. sustainable is regular. transparency is opaque. type is flared. wash care is hand wash',\n",
              "   \"Product name is U&F Womens Green Flared Skirt.complete your look with the stunning design of this skirt. its enchanting solid pattern and flared hemline are sure to make you look beautiful. , enchanting green shadesolid patternflared skirtknee lengthpolyester, machine wash , trend alert originated in the 18th century, the sweetheart neckline is still a popular fashion choice. it is characterised by the prominent, scalloped shape that resembles the top of a heart. it lengthens the neck and adds balance to the overall silhouette while lending a curvy touch.polyester, machine washhe model height 5'8 is wearing a size 28closure is slip-on. fabric is polyester. fabric type is net. hemline is flared. knit or woven is woven. length is knee length. lining is has a lining. main trend is new basics. occasion is casual. pattern is solid. print or pattern type is solid. style tip is wear a pair of retro earrings. kitten heels. and a solid top. sub trend is new basics. surface styling is gathered or pleated. sustainable is regular. transparency is opaque. type is a-line. wash care is machine wash. where-to-wear is enjoy an evening party\",\n",
              "   \"Product name is SASSAFRAS Women Bright Orange Solid New Neckline Top.versatile and chic, this alluring top is sure to make you stand apart wherever you go. featuring a lovely solid pattern and halter neck, this top will add to your appeal. , bright orange shade classic solid pattern halter neck sleeveless cotton blend, machine wash , trend alert enhance your style by wearing outfits that are designed with well-defined and versatile necklines, like plunge, sweetheart, halter, keyhole, halter neck, one-shoulder, scoop neck, cowl neck, and more. new necklines are at least six inches deep and look good on almost any kind of apparel that is enhanced with frills, belts, flares, slits, and so on., 96% cotton 4% spandex, the model height 5'8 is wearing a size scenter front open is no. closure is tie-ups. fabric is cotton blend. length is regular. main trend is new basics. neck is halter neck. occasion is casual. pattern is solid. print or pattern type is solid. sleeve length is sleeveless. sleeve styling is no sleeves. style tip is club this top with vivacious hoop earrings. a pair of comfy kitten heels. and cool cat-eye shades. sustainable is regular. transparency is opaque. type is regular. wash care is machine wash. weave type is knitted. where-to-wear is for a coffee outing with pals\"]],\n",
              " 'uris': None,\n",
              " 'included': ['metadatas', 'documents', 'distances'],\n",
              " 'data': None,\n",
              " 'metadatas': [[{'products': 'top',\n",
              "    'colour': 'orange',\n",
              "    'price': 2799.0,\n",
              "    'brand': 'indo era'},\n",
              "   {'colour': 'lime green',\n",
              "    'products': 'top',\n",
              "    'brand': 'malhaar',\n",
              "    'price': 3329.0},\n",
              "   {'colour': 'green',\n",
              "    'price': 1499.0,\n",
              "    'brand': 'mast & harbour',\n",
              "    'products': 'top'},\n",
              "   {'colour': 'lime green',\n",
              "    'price': 999.0,\n",
              "    'brand': 'vishudh',\n",
              "    'products': 'top'},\n",
              "   {'brand': 'pluss', 'products': 'top', 'colour': 'olive', 'price': 2099.0},\n",
              "   {'price': 1899.0, 'products': 'top', 'colour': 'rust', 'brand': 'vishudh'},\n",
              "   {'products': 'top', 'brand': 'max', 'price': 849.0, 'colour': 'green'},\n",
              "   {'price': 1999.0,\n",
              "    'brand': 'varanga',\n",
              "    'products': 'skirt',\n",
              "    'colour': 'orange'},\n",
              "   {'brand': 'u&f', 'price': 1699.0, 'colour': 'green', 'products': 'skirt'},\n",
              "   {'price': 999.0,\n",
              "    'brand': 'sassafras',\n",
              "    'colour': 'orange',\n",
              "    'products': 'top'}]],\n",
              " 'distances': [[0.9639104604721069,\n",
              "   1.0259817838668823,\n",
              "   1.0353442430496216,\n",
              "   1.0377497673034668,\n",
              "   1.0415325164794922,\n",
              "   1.0491352081298828,\n",
              "   1.0564770698547363,\n",
              "   1.0576672554016113,\n",
              "   1.0628530979156494,\n",
              "   1.066394329071045]]}"
            ]
          },
          "metadata": {},
          "execution_count": 45
        }
      ]
    },
    {
      "cell_type": "code",
      "source": [
        "# myntra_obj.text_query(myntra_collection, inp_dict[\"inp_query\"], w_clause = {\"products\": {\"$in\": [', '.join(attr_dict_[\"products\"])]}})\n",
        "myntra_obj.text_query(myntra_collection, inp_dict[\"inp_query\"], {\"products\": {\"$eq\": ', '.join(attr_dict_[\"products\"])}})"
      ],
      "metadata": {
        "colab": {
          "base_uri": "https://localhost:8080/"
        },
        "id": "bpFS5LOzHzma",
        "outputId": "32e34a47-249b-4b9b-b145-dac3a07edc8d"
      },
      "execution_count": 54,
      "outputs": [
        {
          "output_type": "execute_result",
          "data": {
            "text/plain": [
              "{'ids': [['17156206',\n",
              "   '12068028',\n",
              "   '16576070',\n",
              "   '15447990',\n",
              "   '17190842',\n",
              "   '15496350',\n",
              "   '10806700',\n",
              "   '15916398',\n",
              "   '13728148',\n",
              "   '16504552']],\n",
              " 'embeddings': None,\n",
              " 'documents': [['Product name is Inddus Women Gorgeous Green Printed Top with Solid Skirt.stylish and versatile, these co-ords are sure to become your preferred choice in a heartbeat. it comes with a beautiful v-neck and is enhanced with appealing long sleeves. , gorgeous green shade printed top solid skirt long sleeves v-neck zip closure poly georgette, dry clean , trend alert ethnic fusion tops are crop-length bra tops that are inspired by the rich heritage of india. they feature attractive details, like frills, tie-ups, volume sleeves, spaghetti straps, tiering, corset style, and so on. prints and patterns, such as furnishing florals, quirky prints, ombre, nu boheme, embellished, sequined, embroidered, etc. make these ethnic fusion tops stand apart.top: georgette top inner: shantun bottom: organza with shantun inner attached dry cleanbottom closure is zip. bottom fabric is polyester. bottom pattern is solid. bottom type is skirt. lining is has a lining. neck is v-neck. occasion is party. sleeve length is long sleeves. sustainable is regular. top fabric is poly georgette. top pattern is printed. top type is top. wash care is dry clean. wedding is bride & wedding squad',\n",
              "   \"Product name is Inddus Women Orange & Beige Striped Top with Skirt.this clothing set consists of top and skirt, beige and orange striped crop top, has a round neck, sleeveless, zip closure, orange solid skirt, has a hook-and-bar and concealed zip closure, pleated flounce hem, an attached liningtop fabric: rayon and cotton blend, top lining: cotton, bottom fabric: chanderi cotton lining: shantoon, dry-cleanthe model height 5'8 is wearing a size sbottom closure is slip-on. bottom fabric is cotton blend. bottom pattern is solid. bottom type is skirt. neck is round neck. occasion is ethnic. sleeve length is sleeveless. sustainable is regular. top fabric is viscose rayon. top pattern is printed. top type is top. wash care is machine wash\",\n",
              "   \"Product name is Inddus Women Gorgeous Green Printed Top with Solid Skirt.look stylish and trendy in this voguish clothing set. it comes with a gorgeous solid skirt and three-quarter sleeves to add beauty to your look. , gorgeous green shade printed top solid skirt three-quarter sleeves mandarin collar , trend alert bell sleeves are fitted from the shoulder to the elbow and are gently flared from the elbow onwards. they look trendy and feminine, and the wide openings lend comfort.top: silk blend, inner: shantun, bottom: net with shantun inner, dry cleanthe model height 5'8 is wearing a size sbottom closure is zip. bottom fabric is polyester. bottom pattern is solid. bottom type is skirt. neck is mandarin collar. occasion is ethnic. sleeve length is three-quarter sleeves. style tip is match this with traditional hoops. mojris with mirror work. and a large glamorous bracelet.. sustainable is regular. top fabric is silk blend. top pattern is printed. top type is top. wash care is dry clean. where-to-wear is bring delight to festive celebrations\",\n",
              "   \"Product name is InWeave Women Bright Orange Printed Top with Skirt.walk into the new season in style with this chic clothing set. it comes with a printed top and printed skirt for an enchanting look. , bright orange shade printed top printed skirt long sleeves v-neck , trend alert born in the 90s, the co-ords trend has been revived as a popular staycation trend. featuring bright and fetching colours and prints, these matching sets of garments make for a peppy and cheerful look. giving a relaxed and flowy feel, they are the ideal summer wear.the model height 5'8 is wearing a size s, top fabric: viscose rayon , bottom fabric: viscose rayon , hand washbottom closure is zip. bottom fabric is viscose rayon. bottom pattern is printed. bottom type is skirt. neck is v-neck. occasion is ethnic. sleeve length is long sleeves. style tip is mix it up with imple studs. a pendant necklace. and mojris. sustainable is regular. top fabric is viscose rayon. top pattern is printed. top type is top. wash care is hand wash. where-to-wear is attend a family party in style\",\n",
              "   'Product name is Berrylush Women Gorgeous Green Printed Top with Skirt.opt for this stylish co-ord set and dress to impress at your next outing. its strapless and sleeveless design uplifts the look of your ensemble. , gorgeous green shade printed top printed skirt sleeveless zip closure strapless polyester, machine wash , trend alert stylish and classy, bustiers help you gently shape your waist with ruched and gathered pleats at the bust along with a gorgeous fit at the rib. making use of fashionable prints and patterns, like floral, tie , dye, hometime heroes, and horticool, bustiers add to your appeal.poly crepe, machine washfit: regular fit, size worn by the model: s, chest: 34 height: 5\\'7\"bottom closure is zip. bottom fabric is polyester. bottom pattern is printed. bottom type is skirt. neck is strapless. occasion is casual. sleeve length is sleeveless. sustainable is regular. top fabric is polyester. top pattern is printed. top type is top. wash care is machine wash',\n",
              "   \"Product name is JC Collection Women Green & Orange Printed Top with Skirt.this clothing set consists of top and skirt, green and orange printed top, has an off-shoulder, short sleeves, green and orange printed skirt, has a zip closuretop fabric: 100% polyester, bottom fabric: 100% polyester, dry cleanthe model height 5'8 is wearing a size sbottom closure is zip. bottom fabric is polyester. bottom pattern is printed. bottom type is skirt. neck is off-shoulder. occasion is casual. sleeve length is short sleeves. sustainable is regular. top fabric is polyester. top pattern is printed. top type is top. wash care is dry clean\",\n",
              "   'Product name is Pannkh Women Maroon & Golden Foil Print Top with Skirt.this clothing set consists of top and skirt, maroon and golden printed top, has a round neck, sleeveless, maroon and golden printed a-line skirt, has a drawstring closure, flared hem, comes with an ethnic jacket, has a round neck, short sleeves, button closurethe model height 5\\'8\" is wearing a size s, top fabric: viscose rayon, bottom fabric: viscose rayon, dry-cleanbottom closure is slip-on. bottom fabric is viscose rayon. bottom pattern is printed. bottom type is skirt. neck is round neck. occasion is ethnic. sleeve length is sleeveless. sustainable is regular. top fabric is viscose rayon. top pattern is printed. top type is top. wash care is machine wash. wedding is guests & gifting',\n",
              "   \"Product name is Inddus Women Tranquil Teal Printed Top with Solid Skirt.bring out the best of your style with this sophisticated clothing set. this set's eye-catching one-shoulder and zip closure will add glam to your look. , tranquil teal hue printed top solid skirt sleeveless one-shoulder , trend alert a feminine and chic touch for a classy staycation look, the floral fantasy trend has made its way into essential wear. cherished by many, this trend keeps making a comeback every season with a fresher and more stylish look. the colourful floral prints and smooth, silky finish make this trend an ideal lounge wear pick., top:organza top inner:shantun, bottom:chanderi cotton with shantun inner attached, dry clean, the model height 5'8 is wearing a size sbottom closure is zip. bottom fabric is cotton blend. bottom pattern is solid. bottom type is skirt. neck is one shoulder. occasion is ethnic. sleeve length is sleeveless. sustainable is regular. top fabric is polyester. top pattern is printed. top type is top. wash care is dry clean. wedding is bride & wedding squad\",\n",
              "   'Product name is Inddus Women Black & Golden Embroidered Top with Skirt.this clothing set consists of top and skirt, black and golden embroidered top, has a shoulder strap, sleeveless concealed zip closure on the side, scalloped hem, an attached lining, black solid maxi skirt, has a hook-and-bar and concealed zip closure, flared hem with gotta patti tapings, an attached liningthe model height 5\\'8\" is wearing a size s, top: net, top inner: shantton, bottom: poly georgette, bottom inner: shantoon dry cleanbottom closure is zip. bottom fabric is polyester. bottom pattern is solid. bottom type is skirt. neck is shoulder straps. occasion is party. sleeve length is sleeveless. sustainable is regular. top fabric is polyester. top pattern is embellished. top type is top. wash care is dry clean. wedding is guests & gifting',\n",
              "   \"Product name is Inddus Women Elegant Lavender & White Tie & Dye Tiered Top with Skirt.alluring and fashionable, this clothing set is a must-have in your collection. it comes with a gorgeous printed skirt and long sleeves to add beauty to your look. elegant lavender hue printed top printed skirt long sleeves v-neck , trend alert:, co-ord sets are two-piece outfits that are made by matching both the pieces in the same fabric, colour, or pattern. they are not only trendy but also highly versatile. , style tip: spice things up with bling dangling earrings, and a pair of peep-toe wedges, and oversized oval sunglasses. , where-to-wear: at a casual gathering with colleagues or friends.the model height 5'8 is wearing a size s, top: georgette, inner: shantun, bottom: georgette with shantun inner, dry cleanbottom closure is slip-on. bottom fabric is polyester. bottom pattern is dyed. bottom type is skirt. neck is v-neck. occasion is ethnic. sleeve length is long sleeves. sustainable is regular. top fabric is poly georgette. top pattern is dyed. top type is top. wash care is dry clean. wedding is bride & wedding squad\"]],\n",
              " 'uris': None,\n",
              " 'included': ['metadatas', 'documents', 'distances'],\n",
              " 'data': None,\n",
              " 'metadatas': [[{'brand': 'inddus',\n",
              "    'price': 6899.0,\n",
              "    'colour': 'green',\n",
              "    'products': 'top, skirt'},\n",
              "   {'price': 6899.0,\n",
              "    'colour': 'orange',\n",
              "    'brand': 'inddus',\n",
              "    'products': 'top, skirt'},\n",
              "   {'price': 7399.0,\n",
              "    'colour': 'green',\n",
              "    'products': 'top, skirt',\n",
              "    'brand': 'inddus'},\n",
              "   {'brand': 'inweave',\n",
              "    'price': 4299.0,\n",
              "    'colour': 'orange',\n",
              "    'products': 'top, skirt'},\n",
              "   {'colour': 'green',\n",
              "    'brand': 'berrylush',\n",
              "    'price': 1899.0,\n",
              "    'products': 'top, skirt'},\n",
              "   {'price': 5799.0,\n",
              "    'brand': 'jc collection',\n",
              "    'products': 'top, skirt',\n",
              "    'colour': 'green'},\n",
              "   {'products': 'top, skirt',\n",
              "    'brand': 'pannkh',\n",
              "    'price': 2799.0,\n",
              "    'colour': 'maroon'},\n",
              "   {'brand': 'inddus',\n",
              "    'colour': 'teal',\n",
              "    'products': 'top, skirt',\n",
              "    'price': 7399.0},\n",
              "   {'products': 'top, skirt',\n",
              "    'price': 6499.0,\n",
              "    'brand': 'inddus',\n",
              "    'colour': 'black'},\n",
              "   {'brand': 'inddus',\n",
              "    'colour': 'lavender',\n",
              "    'products': 'top, skirt',\n",
              "    'price': 7899.0}]],\n",
              " 'distances': [[0.8635291457176208,\n",
              "   0.8647619485855103,\n",
              "   0.87132328748703,\n",
              "   0.8871740102767944,\n",
              "   0.9496281743049622,\n",
              "   0.9547785520553589,\n",
              "   0.967677116394043,\n",
              "   0.9699679613113403,\n",
              "   0.973945140838623,\n",
              "   0.9753637909889221]]}"
            ]
          },
          "metadata": {},
          "execution_count": 54
        }
      ]
    },
    {
      "cell_type": "code",
      "source": [
        " myntra_obj.text_query(myntra_collection, inp_dict[\"inp_query\"], {\"$and\": [\n",
        "                                                                          {\"products\": {\"$eq\": ', '.join(attr_dict_[\"products\"])}},\n",
        "                                                                          {\"$or\": [{\"colour\": {\"$eq\": attr_dict_[\"colour\"][0]}},\n",
        "                                                                                {\"colour\": {\"$eq\": attr_dict_[\"colour\"][1]}}]},\n",
        "                                                                          {\"price\": {\"$lte\": attr_dict_[\"price\"]}}\n",
        "                                                                          ]\n",
        "                                                                 })"
      ],
      "metadata": {
        "colab": {
          "base_uri": "https://localhost:8080/"
        },
        "id": "Xt7AG-1pHzjo",
        "outputId": "d09b084b-d821-4eaa-a09f-d198fa97f1f0"
      },
      "execution_count": 65,
      "outputs": [
        {
          "output_type": "execute_result",
          "data": {
            "text/plain": [
              "{'ids': [['15447990', '17190842', '15496350', '16441890']],\n",
              " 'embeddings': None,\n",
              " 'documents': [[\"Product name is InWeave Women Bright Orange Printed Top with Skirt.walk into the new season in style with this chic clothing set. it comes with a printed top and printed skirt for an enchanting look. , bright orange shade printed top printed skirt long sleeves v-neck , trend alert born in the 90s, the co-ords trend has been revived as a popular staycation trend. featuring bright and fetching colours and prints, these matching sets of garments make for a peppy and cheerful look. giving a relaxed and flowy feel, they are the ideal summer wear.the model height 5'8 is wearing a size s, top fabric: viscose rayon , bottom fabric: viscose rayon , hand washbottom closure is zip. bottom fabric is viscose rayon. bottom pattern is printed. bottom type is skirt. neck is v-neck. occasion is ethnic. sleeve length is long sleeves. style tip is mix it up with imple studs. a pendant necklace. and mojris. sustainable is regular. top fabric is viscose rayon. top pattern is printed. top type is top. wash care is hand wash. where-to-wear is attend a family party in style\",\n",
              "   'Product name is Berrylush Women Gorgeous Green Printed Top with Skirt.opt for this stylish co-ord set and dress to impress at your next outing. its strapless and sleeveless design uplifts the look of your ensemble. , gorgeous green shade printed top printed skirt sleeveless zip closure strapless polyester, machine wash , trend alert stylish and classy, bustiers help you gently shape your waist with ruched and gathered pleats at the bust along with a gorgeous fit at the rib. making use of fashionable prints and patterns, like floral, tie , dye, hometime heroes, and horticool, bustiers add to your appeal.poly crepe, machine washfit: regular fit, size worn by the model: s, chest: 34 height: 5\\'7\"bottom closure is zip. bottom fabric is polyester. bottom pattern is printed. bottom type is skirt. neck is strapless. occasion is casual. sleeve length is sleeveless. sustainable is regular. top fabric is polyester. top pattern is printed. top type is top. wash care is machine wash',\n",
              "   \"Product name is JC Collection Women Green & Orange Printed Top with Skirt.this clothing set consists of top and skirt, green and orange printed top, has an off-shoulder, short sleeves, green and orange printed skirt, has a zip closuretop fabric: 100% polyester, bottom fabric: 100% polyester, dry cleanthe model height 5'8 is wearing a size sbottom closure is zip. bottom fabric is polyester. bottom pattern is printed. bottom type is skirt. neck is off-shoulder. occasion is casual. sleeve length is short sleeves. sustainable is regular. top fabric is polyester. top pattern is printed. top type is top. wash care is dry clean\",\n",
              "   \"Product name is FOREVER 21 Women Green Top with Skirt.this clothing set consists of top and skirt , green solid top ,has a off-shoulder, sleeveless , green solid skirt ,has a slip-on closurethe model height 5'8 is wearing a size s, , shell: 95% polyester, 5% spandex- lining: 100% polyesterbottom closure is slip-on. bottom fabric is polyester. bottom pattern is solid. bottom type is skirt. neck is off-shoulder. occasion is casual. sleeve length is sleeveless. sustainable is regular. top fabric is polyester. top pattern is solid. top type is top. wash care is machine wash\"]],\n",
              " 'uris': None,\n",
              " 'included': ['metadatas', 'documents', 'distances'],\n",
              " 'data': None,\n",
              " 'metadatas': [[{'products': 'top, skirt',\n",
              "    'price': 4299.0,\n",
              "    'colour': 'orange',\n",
              "    'brand': 'inweave'},\n",
              "   {'price': 1899.0,\n",
              "    'products': 'top, skirt',\n",
              "    'colour': 'green',\n",
              "    'brand': 'berrylush'},\n",
              "   {'colour': 'green',\n",
              "    'products': 'top, skirt',\n",
              "    'price': 5799.0,\n",
              "    'brand': 'jc collection'},\n",
              "   {'brand': 'forever 21',\n",
              "    'price': 2499.0,\n",
              "    'products': 'top, skirt',\n",
              "    'colour': 'green'}]],\n",
              " 'distances': [[0.8871740102767944,\n",
              "   0.9496281743049622,\n",
              "   0.9547785520553589,\n",
              "   1.0728212594985962]]}"
            ]
          },
          "metadata": {},
          "execution_count": 65
        }
      ]
    },
    {
      "cell_type": "code",
      "source": [
        "  myntra_obj.text_query(myntra_collection, inp_dict[\"inp_query\"], {\"$and\": [\n",
        "                                                                              {\"products\": {\"$eq\": ', '.join(attr_dict_[\"products\"])}},\n",
        "                                                                              {\"colour\": {\"$eq\": \"\"}},\n",
        "                                                                              {\"price\": {\"$lte\": attr_dict_[\"price\"]}}\n",
        "                                                                           ]\n",
        "                                                                  })"
      ],
      "metadata": {
        "colab": {
          "base_uri": "https://localhost:8080/"
        },
        "id": "7kRoQBjtHzhB",
        "outputId": "d0bd343d-15ab-4e0e-f1f8-1bda44734942"
      },
      "execution_count": 71,
      "outputs": [
        {
          "output_type": "execute_result",
          "data": {
            "text/plain": [
              "{'ids': [[]],\n",
              " 'embeddings': None,\n",
              " 'documents': [[]],\n",
              " 'uris': None,\n",
              " 'included': ['metadatas', 'documents', 'distances'],\n",
              " 'data': None,\n",
              " 'metadatas': [[]],\n",
              " 'distances': [[]]}"
            ]
          },
          "metadata": {},
          "execution_count": 71
        }
      ]
    },
    {
      "cell_type": "code",
      "source": [
        "query_list = []\n",
        "for key, vals in attr_dict_.items():\n",
        "  if key == \"products\" and attr_dict_[key] != []:\n",
        "    query_list.append({key: {\"$in\": ', '.join(attr_dict_[key])}})\n",
        "  elif key == \"colour\" and attr_dict_[key] != []:\n",
        "    query_list.append({\"$or\": [{key: {\"$eq\": color}} for color in attr_dict_[key]]})\n",
        "  elif key == \"brand\" and attr_dict_[key] != []:\n",
        "    query_list.append({\"brand\": {\"$eq\": brand} for brand in attr_dict_[key]})\n",
        "  elif key == \"price\" and attr_dict_[key] != []:\n",
        "    query_list.append({\"price\": {\"$lte\": attr_dict_[key]}})\n",
        "query_list = {\"$and\": [query_list]}"
      ],
      "metadata": {
        "id": "RUCIZeFqbiDt"
      },
      "execution_count": 105,
      "outputs": []
    },
    {
      "cell_type": "code",
      "source": [
        "query_list"
      ],
      "metadata": {
        "colab": {
          "base_uri": "https://localhost:8080/"
        },
        "id": "fJNcTJpFew9E",
        "outputId": "412597a2-6c4c-482c-e3e7-227b584d365f"
      },
      "execution_count": 106,
      "outputs": [
        {
          "output_type": "execute_result",
          "data": {
            "text/plain": [
              "{'$and': [[{'products': {'$in': 'top, skirt'}},\n",
              "   {'$or': [{'colour': {'$eq': 'green'}}, {'colour': {'$eq': 'orange'}}]},\n",
              "   {'price': {'$lte': 5845}}]]}"
            ]
          },
          "metadata": {},
          "execution_count": 106
        }
      ]
    },
    {
      "cell_type": "code",
      "source": [
        "key = \"colour\"\n",
        "[{key: color} for color in attr_dict_[key]]"
      ],
      "metadata": {
        "colab": {
          "base_uri": "https://localhost:8080/"
        },
        "id": "pCABJMzDdTPg",
        "outputId": "e1587c84-6ad1-41da-d68d-9f770f7f1647"
      },
      "execution_count": 100,
      "outputs": [
        {
          "output_type": "execute_result",
          "data": {
            "text/plain": [
              "[{'colour': 'green'}, {'colour': 'orange'}]"
            ]
          },
          "metadata": {},
          "execution_count": 100
        }
      ]
    },
    {
      "cell_type": "code",
      "source": [
        " myntra_obj.text_query(myntra_collection, inp_dict[\"inp_query\"], {\"$and\": [\n",
        "                                                                          {\"products\": {\"$eq\": ', '.join(attr_dict_[\"products\"])}},\n",
        "                                                                          {\"$or\": [{\"colour\": {\"$eq\": attr_dict_[\"colour\"][0]}},\n",
        "                                                                                {\"colour\": {\"$eq\": attr_dict_[\"colour\"][1]}}]},\n",
        "                                                                          {\"price\": {\"$lte\": attr_dict_[\"price\"]}}\n",
        "                                                                          ]\n",
        "                                                                 })"
      ],
      "metadata": {
        "colab": {
          "base_uri": "https://localhost:8080/"
        },
        "id": "2ZJDqUdPHzW5",
        "outputId": "45b9e982-8d01-4555-f1d8-3c38754154d6"
      },
      "execution_count": 97,
      "outputs": [
        {
          "output_type": "execute_result",
          "data": {
            "text/plain": [
              "{'products': ['top', 'skirt'],\n",
              " 'colour': ['green', 'orange'],\n",
              " 'brand': [],\n",
              " 'price': 5845}"
            ]
          },
          "metadata": {},
          "execution_count": 97
        }
      ]
    },
    {
      "cell_type": "code",
      "source": [],
      "metadata": {
        "colab": {
          "base_uri": "https://localhost:8080/"
        },
        "id": "YodgbFtXHzRZ",
        "outputId": "f00b2277-10cc-42f4-92cb-b0b11d407b95"
      },
      "execution_count": 98,
      "outputs": [
        {
          "output_type": "execute_result",
          "data": {
            "text/plain": [
              "['green', 'orange']"
            ]
          },
          "metadata": {},
          "execution_count": 98
        }
      ]
    },
    {
      "cell_type": "code",
      "source": [],
      "metadata": {
        "id": "VWHSdA_JHzOY"
      },
      "execution_count": null,
      "outputs": []
    },
    {
      "cell_type": "code",
      "source": [],
      "metadata": {
        "id": "SLFhiPW2fyir"
      },
      "execution_count": null,
      "outputs": []
    },
    {
      "cell_type": "code",
      "source": [],
      "metadata": {
        "id": "ubmZCGlFfygP"
      },
      "execution_count": null,
      "outputs": []
    },
    {
      "cell_type": "code",
      "source": [],
      "metadata": {
        "id": "ZlMzeyjMfyeD"
      },
      "execution_count": null,
      "outputs": []
    },
    {
      "cell_type": "code",
      "source": [],
      "metadata": {
        "id": "H4XUCAKTfybT"
      },
      "execution_count": null,
      "outputs": []
    },
    {
      "cell_type": "code",
      "source": [],
      "metadata": {
        "id": "yWtC9xYQfyZD"
      },
      "execution_count": null,
      "outputs": []
    },
    {
      "cell_type": "code",
      "source": [],
      "metadata": {
        "id": "p0PYbqa1fyWb"
      },
      "execution_count": null,
      "outputs": []
    },
    {
      "cell_type": "code",
      "source": [],
      "metadata": {
        "id": "-1PTdk_afyTk"
      },
      "execution_count": null,
      "outputs": []
    },
    {
      "cell_type": "code",
      "source": [],
      "metadata": {
        "id": "wJLyuHiEMu6A"
      },
      "execution_count": null,
      "outputs": []
    },
    {
      "cell_type": "code",
      "source": [
        "def initial_conversation():\n",
        "    delimiters = \"#####\"\n",
        "    core_ask = [\"products\", \"colour\", \"brand\", \"price\"]\n",
        "\n",
        "    chat_prompt = f\"\"\"\n",
        "                      You new an expert in Fashion Digital Marketer, Fashion Merchandise, Stylist and E-commerce Consultant.Your job is to assist customers find the apparel they want to buy through polite and professional conversation.\n",
        "                      {delimiters}\n",
        "                      Enquire customer about each of the criteria in the list {core_ask}. If the response is not clear, rephrase the question and ask again.\n",
        "                      Values for all the criteria have to be extracted from customer, missing any of the criteria will be penalised.\n",
        "                      Showing the summary or internal information will be penalised.\n",
        "                      (If the values for any criteria contains 'and' or any punctuations except '-', split them and save the values as list of strings).\n",
        "                      Once the data is collected from customer, convert the criteria and the answers received for the criteria into a dictionary format.\n",
        "                      Call function list_products() with arguments as the complete input string by customer and additional criteria and answers stored in dictionary earlier.\n",
        "                      {delimiters}\n",
        "                   \"\"\"\n",
        "    chat_prompt = [{\"role\": \"system\", \"content\": chat_prompt},\n",
        "                   {\"role\": \"user\", \"content\": f\"Start conversation with a polite welcome and enquiring about the criteria in the list {core_ask} one at a time\"}]\n",
        "\n",
        "    return chat_prompt\n"
      ],
      "metadata": {
        "id": "EZtUbRCirEFT"
      },
      "execution_count": 56,
      "outputs": []
    },
    {
      "cell_type": "code",
      "source": [
        "start_conversations()"
      ],
      "metadata": {
        "id": "e4DaxKcQ08kh",
        "colab": {
          "base_uri": "https://localhost:8080/"
        },
        "outputId": "d9a9f5d4-dbb6-4754-a1b8-6549649575d4"
      },
      "execution_count": 57,
      "outputs": [
        {
          "name": "stdout",
          "output_type": "stream",
          "text": [
            "Welcome! I'm here to help you find the perfect apparel. To get started, could you please tell me what type of products you're looking for?\n",
            "i want to buy top and lehanga\n",
            "Great choices! Now, could you please let me know what colours you prefer for the tops and lehengas?\n",
            "green and orange\n",
            "Thank you! Just to clarify, you are looking for green and orange colours for the tops and lehengas, correct? Now, could you please tell me if you have any specific brands in mind?\n",
            "inlasdfd\n",
            "It seems like there might have been a typo. Could you please specify if you have any particular brands you are interested in for the tops and lehengas?\n",
            "dfjpsdf\n",
            "It looks like there might be some confusion. If you don't have a specific brand in mind, that's perfectly fine! Let's move on to the next question. Could you please let me know your budget or price range for the tops and lehengas?\n",
            "5845\n",
            "{'inp_query': 'find tops and lehengas in green and orange', 'attr_dict': \"{'products': ['top', 'lehanga'], 'colour': ['green', 'orange'], 'brand': [], 'price': 5845}\"}\n",
            "It seems that I couldn't find any available tops or lehengas in green and orange within your budget of 5845 at this moment. Would you like to adjust any of your criteria, such as the colours, brands, or price range? I'm here to help!\n",
            "exit\n"
          ]
        }
      ]
    },
    {
      "cell_type": "code",
      "source": [],
      "metadata": {
        "id": "EruSoNhO08h1"
      },
      "execution_count": null,
      "outputs": []
    },
    {
      "cell_type": "code",
      "source": [],
      "metadata": {
        "id": "Bk0MEcV608fV"
      },
      "execution_count": null,
      "outputs": []
    },
    {
      "cell_type": "code",
      "source": [],
      "metadata": {
        "id": "-VcVEfSXfdog"
      },
      "execution_count": null,
      "outputs": []
    },
    {
      "cell_type": "code",
      "source": [],
      "metadata": {
        "id": "dTHdXGv-fdlp"
      },
      "execution_count": null,
      "outputs": []
    },
    {
      "cell_type": "code",
      "source": [],
      "metadata": {
        "id": "Klg6da2jfdiE"
      },
      "execution_count": null,
      "outputs": []
    },
    {
      "cell_type": "code",
      "source": [],
      "metadata": {
        "id": "CUN6y8FzfdfX"
      },
      "execution_count": null,
      "outputs": []
    },
    {
      "cell_type": "code",
      "source": [],
      "metadata": {
        "id": "SOmgTohN08Yd"
      },
      "execution_count": null,
      "outputs": []
    },
    {
      "cell_type": "code",
      "source": [],
      "metadata": {
        "id": "7sTsLMPi08V2"
      },
      "execution_count": null,
      "outputs": []
    },
    {
      "cell_type": "code",
      "source": [],
      "metadata": {
        "id": "v5Btb6U-08Tm"
      },
      "execution_count": null,
      "outputs": []
    },
    {
      "cell_type": "code",
      "source": [],
      "metadata": {
        "id": "uHTXYy8h08Qu"
      },
      "execution_count": null,
      "outputs": []
    },
    {
      "cell_type": "code",
      "source": [],
      "metadata": {
        "id": "qq1XM-BIkUUb"
      },
      "execution_count": null,
      "outputs": []
    },
    {
      "cell_type": "code",
      "source": [],
      "metadata": {
        "id": "uEKPXAankUSR"
      },
      "execution_count": null,
      "outputs": []
    },
    {
      "cell_type": "code",
      "source": [],
      "metadata": {
        "id": "nLrpzZ0ykUPd"
      },
      "execution_count": null,
      "outputs": []
    },
    {
      "cell_type": "code",
      "source": [],
      "metadata": {
        "id": "uxbx1b6lkUNs"
      },
      "execution_count": null,
      "outputs": []
    },
    {
      "cell_type": "code",
      "source": [],
      "metadata": {
        "id": "yiuu4I9ukUKf"
      },
      "execution_count": null,
      "outputs": []
    },
    {
      "cell_type": "code",
      "source": [],
      "metadata": {
        "id": "u86X63c-08OG"
      },
      "execution_count": null,
      "outputs": []
    },
    {
      "cell_type": "code",
      "source": [
        "def initial_conversation():\n",
        "    delimiters = \"#####\"\n",
        "\n",
        "    chat_prompt = f\"\"\"\n",
        "                      You new an expert in Fashion Digital Marketer, Fashion Merchandise, Stylist and E-commerce Consultant.Your job is to assist customers find the apparel they want to buy through polite and professional conversation.\n",
        "                      {delimiters}\n",
        "                      When the customer requests to find a particular apparel or a combination of apparels, try to understand what apparel or combination the customer is requesting and \\n\n",
        "                      search online to find all the additional criteria needed to know from the customer about the apparel to narrow down the list.\n",
        "                      Showing the internal information collection, summary and format will be penalised. only the conversation and the answers given to customer should be displayed.\n",
        "                      Once the additional criteria are identified ask a few questions to get the answers from customer for atleast two criteria. Record any response given by customer for the criteria.\n",
        "                      Once the data is collected from customer, ask the customer (if he wants to add any other information. if yes allow customer to add details. if the criteria is not clear ask customer to inform the criteria). else proceed.\n",
        "                      Once the data is collected from customer, convert the criteria and the answers received for the criteria into a dictionary format.\n",
        "                      Call the function list_products() with arguments as the complete input string by customer and additional criteria and answers stored in dictionary earlier.\n",
        "                      list_products() function returns a dataframe, which consists a product in every row. Take product name, products available and total price in rupees details for each product in each row and display them as it is done in ecommerce websites.\n",
        "                      {delimiters}\n",
        "                   \"\"\"\n",
        "    chat_prompt = [{\"role\": \"system\", \"content\": chat_prompt},\n",
        "                   {\"role\": \"user\", \"content\": \"Start conversation with a polite welcome\"}]\n",
        "\n",
        "    return chat_prompt\n"
      ],
      "metadata": {
        "id": "uthEAgJa08Lm"
      },
      "execution_count": null,
      "outputs": []
    },
    {
      "cell_type": "code",
      "source": [],
      "metadata": {
        "id": "MjUAQ-RA08I-"
      },
      "execution_count": null,
      "outputs": []
    },
    {
      "cell_type": "code",
      "source": [],
      "metadata": {
        "id": "7IqNvbbN08G2"
      },
      "execution_count": null,
      "outputs": []
    }
  ]
}