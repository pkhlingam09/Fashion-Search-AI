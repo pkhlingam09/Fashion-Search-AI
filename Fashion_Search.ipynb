{
  "nbformat": 4,
  "nbformat_minor": 0,
  "metadata": {
    "colab": {
      "provenance": [],
      "authorship_tag": "ABX9TyOPwcEH6341oDjrDhqoIE6c",
      "include_colab_link": true
    },
    "kernelspec": {
      "name": "python3",
      "display_name": "Python 3"
    },
    "language_info": {
      "name": "python"
    }
  },
  "cells": [
    {
      "cell_type": "markdown",
      "metadata": {
        "id": "view-in-github",
        "colab_type": "text"
      },
      "source": [
        "<a href=\"https://colab.research.google.com/github/pkhlingam09/Fashion-Search-AI/blob/Final_Project/Fashion_Search.ipynb\" target=\"_parent\"><img src=\"https://colab.research.google.com/assets/colab-badge.svg\" alt=\"Open In Colab\"/></a>"
      ]
    },
    {
      "cell_type": "code",
      "source": [
        "## Dataset Link (Kaggle)\n",
        "# https://www.kaggle.com/datasets/djagatiya/myntra-fashion-product-dataset"
      ],
      "metadata": {
        "id": "jCf3KIRDQrKR"
      },
      "execution_count": null,
      "outputs": []
    },
    {
      "cell_type": "code",
      "source": [
        "# !pip install -q kaggle\n",
        "\n",
        "# from google.colab import files\n",
        "# files.upload()\n",
        "\n",
        "# !mkdir -p ~/.kaggle\n",
        "# !cp kaggle.json ~/.kaggle/\n",
        "# !chmod 600 ~/.kaggle/kaggle.json\n",
        "\n",
        "# !cat ~/.kaggle/kaggle.json\n",
        "\n",
        "# !kaggle datasets download \"djagatiya/myntra-fashion-product-dataset\" -p \"/content/drive/MyDrive/Fashion_Search_AI\"\n",
        "\n",
        "# !unzip \"/content/drive/MyDrive/Fashion_Search_AI/myntra-fashion-product-dataset.zip\" -d \"/content/drive/MyDrive/Fashion_Search_AI\""
      ],
      "metadata": {
        "id": "NuDHuf8lI6fw"
      },
      "execution_count": null,
      "outputs": []
    },
    {
      "cell_type": "code",
      "execution_count": null,
      "metadata": {
        "id": "-gmC0C7Ik1Rz"
      },
      "outputs": [],
      "source": [
        "from google.colab import drive\n",
        "drive.mount('/content/drive')"
      ]
    },
    {
      "cell_type": "code",
      "source": [
        "import ast\n",
        "import numpy as np\n",
        "import pandas as pd"
      ],
      "metadata": {
        "id": "WwIxCKaGk8qV"
      },
      "execution_count": null,
      "outputs": []
    },
    {
      "cell_type": "code",
      "source": [
        "# pd.set_option('display.max_rows', 200)\n",
        "# pd.set_option('display.max_columns', 200)"
      ],
      "metadata": {
        "id": "nhj3nsjR9U-x"
      },
      "execution_count": null,
      "outputs": []
    },
    {
      "cell_type": "code",
      "source": [
        "df = pd.read_csv(\"/content/drive/MyDrive/Fashion_Search_AI/Fashion Dataset v2.csv\")"
      ],
      "metadata": {
        "id": "VN8HU32Yk8l2"
      },
      "execution_count": null,
      "outputs": []
    },
    {
      "cell_type": "code",
      "source": [
        "df.head()"
      ],
      "metadata": {
        "id": "e4wd2cYok8jl"
      },
      "execution_count": null,
      "outputs": []
    },
    {
      "cell_type": "code",
      "source": [
        "df.shape"
      ],
      "metadata": {
        "id": "cJWPVPOrk8g9"
      },
      "execution_count": null,
      "outputs": []
    },
    {
      "cell_type": "code",
      "source": [
        "df.isna().sum()"
      ],
      "metadata": {
        "id": "ehnBuS79k8ek"
      },
      "execution_count": null,
      "outputs": []
    },
    {
      "cell_type": "code",
      "source": [
        "round(100 * df.isna().sum()/df.shape[0], 3)"
      ],
      "metadata": {
        "id": "1t6iuQxXRFoG"
      },
      "execution_count": null,
      "outputs": []
    },
    {
      "cell_type": "code",
      "source": [
        "df.info()"
      ],
      "metadata": {
        "id": "sahxXau0k8aN"
      },
      "execution_count": null,
      "outputs": []
    },
    {
      "cell_type": "code",
      "source": [
        "df2 = df.drop([\"ratingCount\", \"avg_rating\"], axis=1)"
      ],
      "metadata": {
        "id": "mizhWYHXk8Xl"
      },
      "execution_count": null,
      "outputs": []
    },
    {
      "cell_type": "code",
      "source": [
        "df2.shape"
      ],
      "metadata": {
        "id": "wDCqRvork8U8"
      },
      "execution_count": null,
      "outputs": []
    },
    {
      "cell_type": "code",
      "source": [
        "df2.head()"
      ],
      "metadata": {
        "id": "1RI2869Zk8P1"
      },
      "execution_count": null,
      "outputs": []
    },
    {
      "cell_type": "code",
      "source": [
        "len(df2['p_id'].unique()), type(df2['p_id'][0])"
      ],
      "metadata": {
        "id": "SuQFByV5bGIX"
      },
      "execution_count": null,
      "outputs": []
    },
    {
      "cell_type": "code",
      "source": [
        "len(df2[\"name\"].unique())"
      ],
      "metadata": {
        "id": "egav7dOObF_v"
      },
      "execution_count": null,
      "outputs": []
    },
    {
      "cell_type": "code",
      "source": [
        "df2[\"p_attributes\"][0]"
      ],
      "metadata": {
        "id": "4ZbwFBTkbF8j"
      },
      "execution_count": null,
      "outputs": []
    },
    {
      "cell_type": "code",
      "source": [
        "df2[\"description\"][0]"
      ],
      "metadata": {
        "id": "Ied_tdE8pQic"
      },
      "execution_count": null,
      "outputs": []
    },
    {
      "cell_type": "code",
      "source": [
        "df2[\"p_attributes\"][12]"
      ],
      "metadata": {
        "id": "-tUW90cdmp7o"
      },
      "execution_count": null,
      "outputs": []
    },
    {
      "cell_type": "code",
      "source": [
        "df2[\"description\"][12]"
      ],
      "metadata": {
        "id": "EfAb9vibpQP8"
      },
      "execution_count": null,
      "outputs": []
    },
    {
      "cell_type": "code",
      "source": [
        "df2[\"p_attributes\"][157]"
      ],
      "metadata": {
        "id": "Bevf27iXmp5W"
      },
      "execution_count": null,
      "outputs": []
    },
    {
      "cell_type": "code",
      "source": [
        "df2[\"description\"][157]"
      ],
      "metadata": {
        "id": "PYgifKZSpKot"
      },
      "execution_count": null,
      "outputs": []
    },
    {
      "cell_type": "code",
      "source": [
        "df2[\"p_attributes\"][9999]"
      ],
      "metadata": {
        "id": "aAo5JdCGmp2r"
      },
      "execution_count": null,
      "outputs": []
    },
    {
      "cell_type": "code",
      "source": [
        "df2[\"description\"][9999]"
      ],
      "metadata": {
        "id": "lh7q6SBOoxxo"
      },
      "execution_count": null,
      "outputs": []
    },
    {
      "cell_type": "code",
      "source": [
        "df2[\"p_attributes\"][12123]"
      ],
      "metadata": {
        "id": "LNtS03Dwm-Cs"
      },
      "execution_count": null,
      "outputs": []
    },
    {
      "cell_type": "code",
      "source": [
        "df2[\"description\"][12123]"
      ],
      "metadata": {
        "id": "WDI0nFpInMpj"
      },
      "execution_count": null,
      "outputs": []
    },
    {
      "cell_type": "code",
      "source": [
        "df2.info()"
      ],
      "metadata": {
        "id": "Cfvm8roCk8Sc"
      },
      "execution_count": null,
      "outputs": []
    },
    {
      "cell_type": "code",
      "source": [
        "def if_data_exists(df, col):\n",
        "  brandc = []\n",
        "  productc = []\n",
        "  colourc = []\n",
        "  pricec = []\n",
        "  for ind, packed_data in enumerate(zip(list(df['brand'].values), list(df['products'].values), list(df['colour'].values), list(df['price'].values), list(df[col].values))):\n",
        "    brand, products, colour, price, txt = packed_data\n",
        "    if brand.lower() not in txt.lower():\n",
        "      brandc.append(ind)\n",
        "    if products.lower() not in txt.lower():\n",
        "      productc.append(ind)\n",
        "    if colour.lower() not in txt.lower():\n",
        "      colourc.append(ind)\n",
        "    if str(price) not in txt.lower():\n",
        "      pricec.append(ind)\n",
        "\n",
        "  brandc.extend(productc)\n",
        "  brandc.extend(colourc)\n",
        "  brandc.extend(pricec)\n",
        "  return list(set(brandc)), brandc, productc, colourc, pricec"
      ],
      "metadata": {
        "id": "6wa11Ey2k8Kv"
      },
      "execution_count": null,
      "outputs": []
    },
    {
      "cell_type": "code",
      "source": [
        "ids, brandc, productc, colourc, pricec = if_data_exists(df2, \"description\")"
      ],
      "metadata": {
        "id": "XEKcYGsnWnft"
      },
      "execution_count": null,
      "outputs": []
    },
    {
      "cell_type": "code",
      "source": [
        "# pricec"
      ],
      "metadata": {
        "id": "5o3EBBqrkRkW"
      },
      "execution_count": null,
      "outputs": []
    },
    {
      "cell_type": "code",
      "source": [
        "df2.loc[1068, :]"
      ],
      "metadata": {
        "id": "inr1swnQjdTU"
      },
      "execution_count": null,
      "outputs": []
    },
    {
      "cell_type": "code",
      "source": [
        "df2.loc[956, \"p_attributes\"]"
      ],
      "metadata": {
        "id": "gbWiPZyJjdQu"
      },
      "execution_count": null,
      "outputs": []
    },
    {
      "cell_type": "code",
      "source": [
        "import re"
      ],
      "metadata": {
        "id": "z68cYBLHjdOo"
      },
      "execution_count": null,
      "outputs": []
    },
    {
      "cell_type": "code",
      "source": [],
      "metadata": {
        "id": "eVqJA3FcZwvn"
      },
      "execution_count": null,
      "outputs": []
    },
    {
      "cell_type": "code",
      "source": [
        "## clean description column"
      ],
      "metadata": {
        "id": "mS56NUFtZwsr"
      },
      "execution_count": null,
      "outputs": []
    },
    {
      "cell_type": "code",
      "source": [
        "df[\"description\"] = df[\"description\"].apply(lambda x: x.lower())\n",
        "htmltags = re.compile(\"(<.*?>)|&nbsp;|&amp;|[;|]+\")\n",
        "df2[\"description\"] = df[\"description\"].apply(lambda x: re.sub(htmltags, \", \", x))\n",
        "puncts = re.compile(r\"[ \\(\\)]+\")\n",
        "df2[\"description\"] = df2[\"description\"].apply(lambda x: re.sub(puncts, \" \", x))\n",
        "# appos = re.compile(r\"[;|]+\")\n",
        "# df2[\"description\"] = df2[\"description\"].apply(lambda x: re.sub(appos, \",\", x))\n",
        "s_quote = re.compile(r\"[',]{2,}|(, ,)+\")\n",
        "df2[\"description\"] = df2[\"description\"].apply(lambda x: re.sub(s_quote, \"\", x))\n",
        "df2[\"description\"] = df2[\"description\"].apply(lambda x: re.sub(\"(?i)(size s)\", \"size s, \", x))\n",
        "df2[\"description\"] = df2[\"description\"].apply(lambda x: re.sub(\"(?i)(size m)\", \"size m, \", x))\n",
        "df2[\"description\"] = df2[\"description\"].apply(lambda x: re.sub(\"(?i)(size l)\", \"size l, \", x))\n",
        "spaces = re.compile(r\" {2,}\")\n",
        "df2[\"description\"] = df2[\"description\"].apply(lambda x: re.sub(spaces, \" \", x).strip())\n",
        "\n",
        "df2[\"description\"] = df2[\"description\"].apply(lambda x: re.sub(\" *,$\", \"\", x))"
      ],
      "metadata": {
        "id": "aSK5jZ82jdME"
      },
      "execution_count": null,
      "outputs": []
    },
    {
      "cell_type": "code",
      "source": [
        "df2.loc[3215, \"description\"]"
      ],
      "metadata": {
        "id": "zC_t9ViUjdJV"
      },
      "execution_count": null,
      "outputs": []
    },
    {
      "cell_type": "code",
      "source": [
        "count = 0\n",
        "abc = []\n",
        "for descp in list(df2[\"description\"].values):\n",
        "  if re.findall(r\"height 5\", descp):\n",
        "    count += 1\n",
        "  else:\n",
        "    abc.append(descp)\n",
        "\n",
        "print(count)"
      ],
      "metadata": {
        "id": "-fXS25hE70FI"
      },
      "execution_count": null,
      "outputs": []
    },
    {
      "cell_type": "code",
      "source": [
        "abc[0]"
      ],
      "metadata": {
        "id": "U0mT7Duf70Ca"
      },
      "execution_count": null,
      "outputs": []
    },
    {
      "cell_type": "code",
      "source": [
        "df2.info()"
      ],
      "metadata": {
        "id": "bKwwA4jzi5cu"
      },
      "execution_count": null,
      "outputs": []
    },
    {
      "cell_type": "code",
      "source": [
        "df2.head()"
      ],
      "metadata": {
        "id": "rUErAEUN7z_h"
      },
      "execution_count": null,
      "outputs": []
    },
    {
      "cell_type": "code",
      "source": [
        "df2.loc[956, \"p_attributes\"]"
      ],
      "metadata": {
        "id": "WewrgLgEg_l9"
      },
      "execution_count": null,
      "outputs": []
    },
    {
      "cell_type": "code",
      "source": [],
      "metadata": {
        "id": "Cyz-0p4AZuSI"
      },
      "execution_count": null,
      "outputs": []
    },
    {
      "cell_type": "code",
      "source": [],
      "metadata": {
        "id": "78oFK7DEG1kn"
      },
      "execution_count": null,
      "outputs": []
    },
    {
      "cell_type": "code",
      "source": [],
      "metadata": {
        "id": "0bhlC-NeG1h4"
      },
      "execution_count": null,
      "outputs": []
    },
    {
      "cell_type": "code",
      "source": [],
      "metadata": {
        "id": "za_59GNPG1fH"
      },
      "execution_count": null,
      "outputs": []
    },
    {
      "cell_type": "code",
      "source": [],
      "metadata": {
        "id": "rt2Tc7efG1c6"
      },
      "execution_count": null,
      "outputs": []
    },
    {
      "cell_type": "code",
      "source": [
        "## Word Frequency Count"
      ],
      "metadata": {
        "id": "BqgJYrZnG1aV"
      },
      "execution_count": null,
      "outputs": []
    },
    {
      "cell_type": "code",
      "source": [
        "import string\n",
        "\n",
        "import nltk\n",
        "from nltk.tokenize import word_tokenize\n",
        "from nltk.tag import pos_tag\n",
        "from nltk.corpus import stopwords\n",
        "from nltk import FreqDist\n",
        "from nltk.stem import WordNetLemmatizer, SnowballStemmer"
      ],
      "metadata": {
        "id": "pm6NIyFnG1X4"
      },
      "execution_count": null,
      "outputs": []
    },
    {
      "cell_type": "code",
      "source": [
        "nltk.download('punkt')\n",
        "nltk.download('punkt_tab')\n",
        "nltk.download('stopwords')\n",
        "nltk.download('wordnet')\n",
        "\n",
        "stop_word = stopwords.words(\"english\")"
      ],
      "metadata": {
        "id": "gBWOTagJ9vLR"
      },
      "execution_count": null,
      "outputs": []
    },
    {
      "cell_type": "code",
      "source": [
        "desc_str = \" \".join(list(df2[\"description\"].values))"
      ],
      "metadata": {
        "id": "KKxc2fb-G1Vf"
      },
      "execution_count": null,
      "outputs": []
    },
    {
      "cell_type": "code",
      "source": [
        "# desc_str"
      ],
      "metadata": {
        "id": "1MhnjicFG1TI"
      },
      "execution_count": null,
      "outputs": []
    },
    {
      "cell_type": "code",
      "source": [
        "desc_tokens = word_tokenize(desc_str)\n",
        "desc_tokens = [word for word in desc_tokens if word not in stop_word]"
      ],
      "metadata": {
        "id": "rtntmGokG1Qb"
      },
      "execution_count": null,
      "outputs": []
    },
    {
      "cell_type": "code",
      "source": [
        "desc_series = pd.Series(desc_tokens)\n",
        "desc_series.value_counts()"
      ],
      "metadata": {
        "id": "FGd1vOoiG1OE"
      },
      "execution_count": null,
      "outputs": []
    },
    {
      "cell_type": "code",
      "source": [
        "desc_series.value_counts().reset_index()[:60]"
      ],
      "metadata": {
        "id": "mC8pacFUG1Lv"
      },
      "execution_count": null,
      "outputs": []
    },
    {
      "cell_type": "code",
      "source": [
        "# for ind, desc in enumerate(df2['description']):\n",
        "#   print(ind, desc)\n",
        "#   print()\n"
      ],
      "metadata": {
        "id": "BivviuW8G1JA"
      },
      "execution_count": null,
      "outputs": []
    },
    {
      "cell_type": "code",
      "source": [
        "df.loc[14157, 'description']"
      ],
      "metadata": {
        "id": "o0eHN5NMG1Go"
      },
      "execution_count": null,
      "outputs": []
    },
    {
      "cell_type": "code",
      "source": [
        "df2.loc[14157, 'description']"
      ],
      "metadata": {
        "id": "HmduDOdyG1EA"
      },
      "execution_count": null,
      "outputs": []
    },
    {
      "cell_type": "code",
      "source": [
        "statement = \"pink self design button detail cardigan, has a round neck, 2 pockets, long sleeves, button closure, ribbed hemthe model height 5'8 is wearing a size snylon , hand wash\"\n",
        "\n",
        "statement.replace(r\"size (s|m|l)\", \"size s \")"
      ],
      "metadata": {
        "id": "G6ydoCuhG1Bz"
      },
      "execution_count": null,
      "outputs": []
    },
    {
      "cell_type": "code",
      "source": [],
      "metadata": {
        "id": "6j19w6kTG0_Y"
      },
      "execution_count": null,
      "outputs": []
    },
    {
      "cell_type": "code",
      "source": [],
      "metadata": {
        "id": "VOvxnJD7G09A"
      },
      "execution_count": null,
      "outputs": []
    },
    {
      "cell_type": "code",
      "source": [],
      "metadata": {
        "id": "6z3xg8MvZkTv"
      },
      "execution_count": null,
      "outputs": []
    },
    {
      "cell_type": "code",
      "source": [],
      "metadata": {
        "id": "wW_3zWUdZkRQ"
      },
      "execution_count": null,
      "outputs": []
    },
    {
      "cell_type": "code",
      "source": [
        "## Clean p_attributes column"
      ],
      "metadata": {
        "id": "QA6OPqf1ZrQe"
      },
      "execution_count": null,
      "outputs": []
    },
    {
      "cell_type": "code",
      "source": [
        "df[\"p_attributes\"] = df[\"p_attributes\"].apply(lambda x: x.lower())\n",
        "htmltags = re.compile(r\"(<.*?>)?(\\\\r|\\\\n)\")\n",
        "df2[\"p_attributes\"] = df[\"p_attributes\"].apply(lambda x: re.sub(htmltags, \" \", x))"
      ],
      "metadata": {
        "id": "JaR9cW7YG1qI"
      },
      "execution_count": null,
      "outputs": []
    },
    {
      "cell_type": "code",
      "source": [
        "re.sub(r\"(<.*?>)?(\\\\r|\\\\n)\", \" \", df2.loc[956, \"p_attributes\"])\n",
        "df2.loc[45, \"p_attributes\"]"
      ],
      "metadata": {
        "id": "Yi3oYowaG1nQ"
      },
      "execution_count": null,
      "outputs": []
    },
    {
      "cell_type": "code",
      "source": [
        "# p_attr_str = \" \".join(list(df2[\"p_attributes\"].values))"
      ],
      "metadata": {
        "id": "-xZxmizIZkOv"
      },
      "execution_count": null,
      "outputs": []
    },
    {
      "cell_type": "code",
      "source": [
        "p_attr_vals = \"\"\n",
        "for dicts in df2[\"p_attributes\"]:\n",
        "  dicts = ast.literal_eval(dicts)\n",
        "  for vals in dicts.values():\n",
        "    p_attr_vals += \", \" + vals"
      ],
      "metadata": {
        "id": "a52733KXZkJn"
      },
      "execution_count": null,
      "outputs": []
    },
    {
      "cell_type": "code",
      "source": [
        "p_attr_vals = re.sub(\"[^\\w \\d\\-]+\", \" \", p_attr_vals)\n",
        "p_attr_vals[2:]"
      ],
      "metadata": {
        "id": "JSfKzk4lA_sa"
      },
      "execution_count": null,
      "outputs": []
    },
    {
      "cell_type": "code",
      "source": [
        "pattr_tokens = word_tokenize(p_attr_vals)\n",
        "pattr_tokens = [word for word in pattr_tokens if word not in stop_word]\n",
        "# pattr_tokens"
      ],
      "metadata": {
        "id": "85ZTHDe6at_N"
      },
      "execution_count": null,
      "outputs": []
    },
    {
      "cell_type": "code",
      "source": [
        "pattr_series = pd.Series(pattr_tokens)\n",
        "pattr_series.value_counts()"
      ],
      "metadata": {
        "id": "s4o66Rt3atxH"
      },
      "execution_count": null,
      "outputs": []
    },
    {
      "cell_type": "code",
      "source": [
        "pattr_series.value_counts()[:60]"
      ],
      "metadata": {
        "id": "i5yRiNddZkHA"
      },
      "execution_count": null,
      "outputs": []
    },
    {
      "cell_type": "code",
      "source": [
        "for dicts in df2[\"p_attributes\"]:\n",
        "  if ',' in dicts:\n",
        "    pass\n",
        "    # print(dicts)"
      ],
      "metadata": {
        "id": "XVk2sJooZkEY"
      },
      "execution_count": null,
      "outputs": []
    },
    {
      "cell_type": "code",
      "source": [
        "## Remove Chosen keys from dictionaries"
      ],
      "metadata": {
        "id": "HdwkI-BZEYgm"
      },
      "execution_count": null,
      "outputs": []
    },
    {
      "cell_type": "code",
      "source": [
        "pattr_keys_toremove = [\"body shape id\", \"body or garment size\"]"
      ],
      "metadata": {
        "id": "vBeubLrd9RHl"
      },
      "execution_count": null,
      "outputs": []
    },
    {
      "cell_type": "code",
      "source": [
        "for ind, dicts in enumerate(df2[\"p_attributes\"].copy()):\n",
        "  dicts = ast.literal_eval(dicts)\n",
        "  for key in pattr_keys_toremove:\n",
        "    if key in dicts.keys():\n",
        "      del dicts[key]\n",
        "  df2.loc[ind, \"p_attributes\"] = str(dicts)\n"
      ],
      "metadata": {
        "id": "HOjusgtNZkBt"
      },
      "execution_count": null,
      "outputs": []
    },
    {
      "cell_type": "code",
      "source": [],
      "metadata": {
        "id": "cKMYOjmTPKMC"
      },
      "execution_count": null,
      "outputs": []
    },
    {
      "cell_type": "code",
      "source": [],
      "metadata": {
        "id": "B6cj3Et7iKQE"
      },
      "execution_count": null,
      "outputs": []
    },
    {
      "cell_type": "code",
      "source": [],
      "metadata": {
        "id": "T3-GS4r5iOJr"
      },
      "execution_count": null,
      "outputs": []
    },
    {
      "cell_type": "code",
      "source": [
        "df2.head()"
      ],
      "metadata": {
        "id": "GnzibhEHiOCN"
      },
      "execution_count": null,
      "outputs": []
    },
    {
      "cell_type": "code",
      "source": [
        "## Clean \"products\" Column"
      ],
      "metadata": {
        "id": "HCaA6cWcPKI8"
      },
      "execution_count": null,
      "outputs": []
    },
    {
      "cell_type": "code",
      "source": [
        "prods_list = ', '.join(df2[\"products\"].values.tolist())"
      ],
      "metadata": {
        "id": "oe7vtVMGPJns"
      },
      "execution_count": null,
      "outputs": []
    },
    {
      "cell_type": "code",
      "source": [
        "prods_list = prods_list.replace(\",\", \"\")\n",
        "# prods_list"
      ],
      "metadata": {
        "id": "01n0TbKwlUJB"
      },
      "execution_count": null,
      "outputs": []
    },
    {
      "cell_type": "code",
      "source": [
        "import spacy\n",
        "\n",
        "nlp = spacy.load(\"en_core_web_sm\")"
      ],
      "metadata": {
        "id": "Dul45ZEvlkzy"
      },
      "execution_count": null,
      "outputs": []
    },
    {
      "cell_type": "code",
      "source": [
        "# prods_tokens = nlp(prods_list)\n",
        "prods_tokens = prods_list.split(\" \")\n",
        "prods_tokens = [word for word in prods_tokens if word not in stop_word]\n",
        "# prods_tokens"
      ],
      "metadata": {
        "id": "8XtjsLvmPJkJ"
      },
      "execution_count": null,
      "outputs": []
    },
    {
      "cell_type": "code",
      "source": [
        "prods_series = pd.Series(prods_tokens)\n",
        "prods_series.value_counts()"
      ],
      "metadata": {
        "id": "7fZdW8miPJYd"
      },
      "execution_count": null,
      "outputs": []
    },
    {
      "cell_type": "code",
      "source": [
        "prods_series.value_counts()[:60]"
      ],
      "metadata": {
        "id": "Be6LoiejPJUH"
      },
      "execution_count": null,
      "outputs": []
    },
    {
      "cell_type": "code",
      "source": [],
      "metadata": {
        "id": "KkIH1fAWy1pL"
      },
      "execution_count": null,
      "outputs": []
    },
    {
      "cell_type": "code",
      "source": [
        "## Clean \"colour\" Column"
      ],
      "metadata": {
        "id": "NqbGTleiZj5w"
      },
      "execution_count": null,
      "outputs": []
    },
    {
      "cell_type": "code",
      "source": [
        "color_list = ', '.join(df2[\"colour\"].values.tolist())\n",
        "color_list = color_list.replace(\",\", \"\")\n",
        "# color_list"
      ],
      "metadata": {
        "id": "nvqZkgXJv68O"
      },
      "execution_count": null,
      "outputs": []
    },
    {
      "cell_type": "code",
      "source": [
        "color_tokens = color_list.split(\" \")\n",
        "color_tokens = [word for word in color_tokens if word not in stop_word]\n",
        "color_series = pd.Series(color_tokens)\n",
        "color_series.value_counts()[:60]"
      ],
      "metadata": {
        "id": "MzpYGORQZj3o"
      },
      "execution_count": null,
      "outputs": []
    },
    {
      "cell_type": "code",
      "source": [
        "df2.head()"
      ],
      "metadata": {
        "id": "IQ3NHLackV0A"
      },
      "execution_count": null,
      "outputs": []
    },
    {
      "cell_type": "code",
      "source": [
        "# f\"Product name is {df2['name'][0]}. Products available are {df2['products'][0]} for a total price of {df2['price'][0]}. Product colour is {df2['colour'][0]}. Brand is {df2['brand'][0]}\""
      ],
      "metadata": {
        "id": "XpjlF0VMkVx2"
      },
      "execution_count": null,
      "outputs": []
    },
    {
      "cell_type": "code",
      "source": [
        "for ind in range(0, df2.shape[0]):\n",
        "  df2.loc[ind, \"description\"] = f\"Product name is {df2['name'][ind]}. Products available are {df2['products'][ind]} for a total price of {df2['price'][ind]}. Product colour is {df2['colour'][ind]}. Brand is {df2['brand'][ind]}. \" + df2.loc[ind, \"description\"]"
      ],
      "metadata": {
        "id": "DtYLMf6jkVnw"
      },
      "execution_count": null,
      "outputs": []
    },
    {
      "cell_type": "code",
      "source": [],
      "metadata": {
        "id": "YdLN896HkVlU"
      },
      "execution_count": null,
      "outputs": []
    },
    {
      "cell_type": "code",
      "source": [
        "df2[\"pattr_len\"] = df2.loc[:10, 'p_attributes'].apply(lambda x: len(x.split()))"
      ],
      "metadata": {
        "id": "IRzHJuk2EgIY"
      },
      "execution_count": null,
      "outputs": []
    },
    {
      "cell_type": "code",
      "source": [
        "df2[df2[\"pattr_len\"] == min(df2[\"pattr_len\"])]"
      ],
      "metadata": {
        "id": "9Ihss-0fEvP4"
      },
      "execution_count": null,
      "outputs": []
    },
    {
      "cell_type": "code",
      "source": [
        "len(df2.loc[7, \"p_attributes\"].split())"
      ],
      "metadata": {
        "id": "NTbMnFMuEgFC"
      },
      "execution_count": null,
      "outputs": []
    },
    {
      "cell_type": "code",
      "source": [],
      "metadata": {
        "id": "qU7Y4ZuyEgCZ"
      },
      "execution_count": null,
      "outputs": []
    },
    {
      "cell_type": "code",
      "source": [
        "df2.head()"
      ],
      "metadata": {
        "id": "ovxTnTOQkVgC"
      },
      "execution_count": null,
      "outputs": []
    },
    {
      "cell_type": "code",
      "source": [
        "df3 = df2.drop([\"name\", \"products\", \"colour\", \"brand\", \"price\"], axis=1)"
      ],
      "metadata": {
        "id": "W5tRHC4BkVYB"
      },
      "execution_count": null,
      "outputs": []
    },
    {
      "cell_type": "code",
      "source": [
        "df3.head()"
      ],
      "metadata": {
        "id": "iL-u3IrakVVI"
      },
      "execution_count": null,
      "outputs": []
    },
    {
      "cell_type": "code",
      "source": [
        "df3[\"description\"][10101]"
      ],
      "metadata": {
        "id": "oJDjWUJmkVSJ"
      },
      "execution_count": null,
      "outputs": []
    },
    {
      "cell_type": "code",
      "source": [],
      "metadata": {
        "id": "Gas_AFHuZjyl"
      },
      "execution_count": null,
      "outputs": []
    },
    {
      "cell_type": "code",
      "source": [],
      "metadata": {
        "id": "I5wC3_vqEYIi"
      },
      "execution_count": null,
      "outputs": []
    },
    {
      "cell_type": "code",
      "source": [],
      "metadata": {
        "id": "ht4jxk1LEHjV"
      },
      "execution_count": null,
      "outputs": []
    },
    {
      "cell_type": "code",
      "source": [
        "desc_list = df3['description'].to_list()"
      ],
      "metadata": {
        "id": "jwqR7tzIZjto"
      },
      "execution_count": null,
      "outputs": []
    },
    {
      "cell_type": "code",
      "source": [
        "desc_len = df3['description'].str.len().reset_index()"
      ],
      "metadata": {
        "id": "uIqDpNa9DRsl"
      },
      "execution_count": null,
      "outputs": []
    },
    {
      "cell_type": "code",
      "source": [
        "desc_len[(desc_len['description'] == max(desc_len['description']))|(desc_len['description'] == min(desc_len['description']))]"
      ],
      "metadata": {
        "id": "IXhxCu3TDRqF"
      },
      "execution_count": null,
      "outputs": []
    },
    {
      "cell_type": "code",
      "source": [
        "df3.loc[474, 'description']"
      ],
      "metadata": {
        "id": "gyNP1fMqDRnl"
      },
      "execution_count": null,
      "outputs": []
    },
    {
      "cell_type": "code",
      "source": [
        "len(df3.loc[474, 'description'].split()), len(df3.loc[12953, 'description'].split())"
      ],
      "metadata": {
        "id": "2uY6oz9JDRlN"
      },
      "execution_count": null,
      "outputs": []
    },
    {
      "cell_type": "code",
      "source": [
        "## Create a column to save the length of each description"
      ],
      "metadata": {
        "id": "9YKTVvZ_DRit"
      },
      "execution_count": null,
      "outputs": []
    },
    {
      "cell_type": "code",
      "source": [
        "len(df3['description'].str.len().to_list())"
      ],
      "metadata": {
        "id": "vgiNk4w1DRdt"
      },
      "execution_count": null,
      "outputs": []
    },
    {
      "cell_type": "code",
      "source": [
        "df3[\"desc_len\"] = df3['description'].apply(lambda x: len(x.split()))"
      ],
      "metadata": {
        "id": "qOtdLKbrDRgN"
      },
      "execution_count": null,
      "outputs": []
    },
    {
      "cell_type": "code",
      "source": [
        "df3.head()"
      ],
      "metadata": {
        "id": "INrHcwLVDRbF"
      },
      "execution_count": null,
      "outputs": []
    },
    {
      "cell_type": "code",
      "source": [
        "df3['p_attributes'] = df3['p_attributes'].apply(lambda x: ast.literal_eval(x))"
      ],
      "metadata": {
        "id": "NF8ZlULBTxrX"
      },
      "execution_count": null,
      "outputs": []
    },
    {
      "cell_type": "code",
      "source": [
        "type(df3['p_attributes'][0])"
      ],
      "metadata": {
        "id": "RSNV_1CDTU3x"
      },
      "execution_count": null,
      "outputs": []
    },
    {
      "cell_type": "code",
      "source": [
        "len(df3['p_id'].unique())"
      ],
      "metadata": {
        "id": "lQKxRSi7Vyot"
      },
      "execution_count": null,
      "outputs": []
    },
    {
      "cell_type": "code",
      "source": [
        "df3.shape"
      ],
      "metadata": {
        "id": "KwHFXC4fVyme"
      },
      "execution_count": null,
      "outputs": []
    },
    {
      "cell_type": "code",
      "source": [
        "df3['p_id'] = df3['p_id'].astype(\"str\")"
      ],
      "metadata": {
        "id": "y5kwscQ7Vyiu"
      },
      "execution_count": null,
      "outputs": []
    },
    {
      "cell_type": "code",
      "source": [
        "len(df3[\"p_attributes\"][1649])"
      ],
      "metadata": {
        "id": "cBPzaxYXL8x0"
      },
      "execution_count": null,
      "outputs": []
    },
    {
      "cell_type": "code",
      "source": [
        "# df3.loc[1649, \"p_attributes\"]"
      ],
      "metadata": {
        "id": "OR_AvDOMMVSw"
      },
      "execution_count": null,
      "outputs": []
    },
    {
      "cell_type": "code",
      "source": [],
      "metadata": {
        "id": "RllLEZ8fL8vI"
      },
      "execution_count": null,
      "outputs": []
    },
    {
      "cell_type": "code",
      "source": [],
      "metadata": {
        "id": "JSnrs09uL8sT"
      },
      "execution_count": null,
      "outputs": []
    },
    {
      "cell_type": "code",
      "source": [
        "# ____________________________________________________________________________________________  EDA and Data Cleaning Complete  ____________________________________________________________________________________________\n",
        "# __________________________________________________________________________________________________________________________________________________________________________________________________________________________\n",
        "# __________________________________________________________________________________________________________________________________________________________________________________________________________________________"
      ],
      "metadata": {
        "id": "vmjsyk9TZjwJ"
      },
      "execution_count": null,
      "outputs": []
    },
    {
      "cell_type": "code",
      "source": [],
      "metadata": {
        "id": "rlYggM2FEOkb"
      },
      "execution_count": null,
      "outputs": []
    },
    {
      "cell_type": "code",
      "source": [],
      "metadata": {
        "id": "FuYZ8UrPEMvs"
      },
      "execution_count": null,
      "outputs": []
    },
    {
      "cell_type": "code",
      "source": [],
      "metadata": {
        "id": "tbAIHrFzVyge"
      },
      "execution_count": null,
      "outputs": []
    },
    {
      "cell_type": "code",
      "source": [
        "## Create Embeddings using ChromaDB"
      ],
      "metadata": {
        "id": "_Cjt05P5DRYd"
      },
      "execution_count": null,
      "outputs": []
    },
    {
      "cell_type": "code",
      "source": [
        "!pip install chromadb"
      ],
      "metadata": {
        "id": "Nrp5bg97Er4o",
        "collapsed": true
      },
      "execution_count": null,
      "outputs": []
    },
    {
      "cell_type": "code",
      "source": [
        "import chromadb\n",
        "from chromadb.utils.embedding_functions import OpenAIEmbeddingFunction"
      ],
      "metadata": {
        "id": "i8G7ZfOQEiAQ"
      },
      "execution_count": null,
      "outputs": []
    },
    {
      "cell_type": "code",
      "source": [
        "client = chromadb.PersistentClient(path=\"/content/drive/MyDrive/Fashion_Search_AI/chroma_db\")"
      ],
      "metadata": {
        "id": "h_H5YYEjEh95"
      },
      "execution_count": null,
      "outputs": []
    },
    {
      "cell_type": "code",
      "source": [
        "myntra = df3[[\"p_id\", \"img\", \"description\", \"p_attributes\"]].copy()"
      ],
      "metadata": {
        "id": "oXsrh6mPLqhQ"
      },
      "execution_count": null,
      "outputs": []
    },
    {
      "cell_type": "code",
      "source": [
        "# myntra.head()"
      ],
      "metadata": {
        "id": "h_My2ftRLoo5"
      },
      "execution_count": null,
      "outputs": []
    },
    {
      "cell_type": "code",
      "source": [],
      "metadata": {
        "id": "ZwZxrrNOcHiB"
      },
      "execution_count": null,
      "outputs": []
    },
    {
      "cell_type": "code",
      "source": [
        "## Embeddings Only for Text"
      ],
      "metadata": {
        "id": "zdoqv-ITM4La"
      },
      "execution_count": null,
      "outputs": []
    },
    {
      "cell_type": "code",
      "source": [
        "class OpenAI_Embeddings:\n",
        "\n",
        "  def __init__(self, model, api_path):\n",
        "    self.model = model\n",
        "    self.api_path = api_path\n",
        "    self.embedding_function = None\n",
        "    self.myntra_collections = None\n",
        "    self.create_my_embedding()\n",
        "\n",
        "  def get_api(self):\n",
        "    with open(self.api_path, \"r\") as fptr:\n",
        "      api_key = fptr.read()\n",
        "      fptr.close()\n",
        "    return api_key\n",
        "\n",
        "  def create_my_embedding(self):\n",
        "    self.embedding_function = OpenAIEmbeddingFunction(\n",
        "                                                        api_key = self.get_api(),\n",
        "                                                        model_name = self.model\n",
        "                                                     )\n",
        "\n",
        "  def create_get_collection(self, name):\n",
        "    ## Create or Load Chroma Collection\n",
        "    self.myntra_collections = client.get_or_create_collection(\n",
        "                                                            name = name,\n",
        "                                                            embedding_function = self.embedding_function\n",
        "                                                        )\n",
        "    return self.myntra_collections\n",
        "\n",
        "  def add_to_collection(self, data, collections):\n",
        "    ## Add data to Chroma Collection\n",
        "    prev = 0\n",
        "    docs_list = data[\"description\"].to_list()\n",
        "    meta_list = data['p_attributes'].to_list()\n",
        "    id_list = data['p_id'].to_list()\n",
        "    ## Add data to Chroma Collection\n",
        "    for batch_size in range(1000, len(docs_list), 1000):\n",
        "      collections.add(\n",
        "                                    documents = docs_list[prev:batch_size],\n",
        "                                    metadatas = meta_list[prev:batch_size],\n",
        "                                    ids = id_list[prev:batch_size]\n",
        "                                 )\n",
        "      prev = batch_size\n",
        "    if prev < len(docs_list):\n",
        "      collections.add(\n",
        "                                     documents = docs_list[prev:],\n",
        "                                     metadatas = meta_list[prev:],\n",
        "                                     ids = id_list[prev:]\n",
        "                                 )\n",
        "    return collections"
      ],
      "metadata": {
        "id": "QscuSwemEh4g"
      },
      "execution_count": null,
      "outputs": []
    },
    {
      "cell_type": "code",
      "source": [
        "class Chroma_Search(OpenAI_Embeddings):\n",
        "\n",
        "  def __init__(self, model, api_path):\n",
        "    super().__init__(model, api_path)\n",
        "\n",
        "  def text_query(self, collections, query, w_clause = \"\", w_doc_clause = \"\"):\n",
        "    query_results = collections.query(\n",
        "                                          query_texts = [query],\n",
        "                                          n_results = 10\n",
        "                                     )\n",
        "    return query_results"
      ],
      "metadata": {
        "id": "MxvzEbajEhz5"
      },
      "execution_count": null,
      "outputs": []
    },
    {
      "cell_type": "code",
      "source": [
        "model = \"text-embedding-3-large\"\n",
        "api_file = \"/content/drive/MyDrive/Fashion_Search_AI/api_key.txt\"\n",
        "\n",
        "myntra_obj = Chroma_Search(model, api_file)"
      ],
      "metadata": {
        "id": "T0vZrHvMM4IG"
      },
      "execution_count": null,
      "outputs": []
    },
    {
      "cell_type": "code",
      "source": [
        "myntra_collection = myntra_obj.create_get_collection(\"myntra\")\n",
        "# myntra_obj.add_to_collection(myntra, myntra_collection)"
      ],
      "metadata": {
        "id": "CfBFlHDE96Ns"
      },
      "execution_count": null,
      "outputs": []
    },
    {
      "cell_type": "code",
      "source": [
        "# myntra_collection.peek()"
      ],
      "metadata": {
        "id": "grT3OaWVN-SE"
      },
      "execution_count": null,
      "outputs": []
    },
    {
      "cell_type": "code",
      "source": [],
      "metadata": {
        "id": "11-Xgyu18dmE"
      },
      "execution_count": null,
      "outputs": []
    },
    {
      "cell_type": "code",
      "source": [],
      "metadata": {
        "id": "u3n7b60AbNpD"
      },
      "execution_count": null,
      "outputs": []
    },
    {
      "cell_type": "code",
      "source": [],
      "metadata": {
        "id": "rQN4ILyDbNj_"
      },
      "execution_count": null,
      "outputs": []
    },
    {
      "cell_type": "code",
      "source": [
        "## Search with Cache"
      ],
      "metadata": {
        "id": "9W_CS9lhvs4l"
      },
      "execution_count": null,
      "outputs": []
    },
    {
      "cell_type": "code",
      "source": [
        "cache_obj = Chroma_Search(model, api_file)"
      ],
      "metadata": {
        "id": "jrW4dNAuvssf"
      },
      "execution_count": null,
      "outputs": []
    },
    {
      "cell_type": "code",
      "source": [
        "cache_collection = cache_obj.create_get_collection(\"cache_myntra\")"
      ],
      "metadata": {
        "id": "FC9KT-3jzlC1"
      },
      "execution_count": null,
      "outputs": []
    },
    {
      "cell_type": "code",
      "source": [
        "# cache_collection.peek()"
      ],
      "metadata": {
        "id": "52FPjIlGKQwv"
      },
      "execution_count": null,
      "outputs": []
    },
    {
      "cell_type": "code",
      "source": [
        "cache_result = cache_obj.text_query(cache_collection, \"all types of kurti\")"
      ],
      "metadata": {
        "id": "UW6BlgjtKQtn"
      },
      "execution_count": null,
      "outputs": []
    },
    {
      "cell_type": "code",
      "source": [
        "# cache_result"
      ],
      "metadata": {
        "id": "eQYLcljKKKiC"
      },
      "execution_count": null,
      "outputs": []
    },
    {
      "cell_type": "code",
      "source": [],
      "metadata": {
        "id": "VMgrEO6VKKfJ"
      },
      "execution_count": null,
      "outputs": []
    },
    {
      "cell_type": "code",
      "source": [
        "\n",
        "ids = []\n",
        "documents = []\n",
        "distances = []\n",
        "metadatas = []\n",
        "results_df = pd.DataFrame()\n",
        "\n",
        "\n",
        "query = input()\n",
        "\n",
        "if cache_result['distances'][0] == []: # if cache is empty\n",
        "  result = myntra_obj.text_query(myntra_collection, query)\n",
        "\n",
        "  keys = []\n",
        "  vals = []\n",
        "  for key, val in result.items():\n",
        "    if val == None:\n",
        "      continue\n",
        "    if key.lower() != \"embeddings\" and key.lower() != \"uris\" and key.lower() != \"data\" and key.lower() != \"included\":\n",
        "      for i in range(10):\n",
        "            keys.append(str(key)+str(i))\n",
        "            vals.append(str(val[0][i]))\n",
        "    ## Add new query to collection\n",
        "      cache_collection.add(\n",
        "                            documents = [query],\n",
        "                            ids = [query],\n",
        "                            metadatas =  dict(zip(keys, vals))\n",
        "                          )\n",
        "      ## Create Result database\n",
        "      result_dict = {'Metadatas': results['metadatas'][0], 'Documents': results['documents'][0], 'Distances': results['distances'][0], \"IDs\":results[\"ids\"][0]}\n",
        "      results_df = pd.DataFrame.from_dict(result_dict)\n",
        "      results_df\n",
        "else:\n",
        "  print(\"in\")\n",
        "  cache_result_dict = cache_result['metadatas'][0][0]\n",
        "\n",
        "  # Loop through each inner list and then through the dictionary\n",
        "  for key, value in cache_result_dict.items():\n",
        "      if 'ids' in key:\n",
        "          ids.append(value)\n",
        "      elif 'documents' in key:\n",
        "          documents.append(value)\n",
        "      elif 'distances' in key:\n",
        "          distances.append(value)\n",
        "      elif 'metadatas' in key:\n",
        "          metadatas.append(value)\n",
        "\n",
        "  print(\"Found in cache!\")\n",
        "\n",
        "  # Create a DataFrame\n",
        "  results_df = pd.DataFrame({\n",
        "    'IDs': ids,\n",
        "    'Documents': documents,\n",
        "    'Distances': distances,\n",
        "    'Metadatas': metadatas\n",
        "  })\n",
        "  results_df"
      ],
      "metadata": {
        "id": "0wNFk7-Fvspp"
      },
      "execution_count": null,
      "outputs": []
    },
    {
      "cell_type": "code",
      "source": [
        "# cache_collection.peek()"
      ],
      "metadata": {
        "id": "8nrurJf8ODXS"
      },
      "execution_count": null,
      "outputs": []
    },
    {
      "cell_type": "code",
      "source": [
        "results_df"
      ],
      "metadata": {
        "id": "Vc81uJICCIIB"
      },
      "execution_count": null,
      "outputs": []
    },
    {
      "cell_type": "code",
      "source": [],
      "metadata": {
        "id": "5ZGqv8p_RhGB"
      },
      "execution_count": null,
      "outputs": []
    },
    {
      "cell_type": "code",
      "source": [],
      "metadata": {
        "id": "RfWCSSMO0q71"
      },
      "execution_count": null,
      "outputs": []
    },
    {
      "cell_type": "code",
      "source": [],
      "metadata": {
        "id": "s1gYKN610q5a"
      },
      "execution_count": null,
      "outputs": []
    },
    {
      "cell_type": "code",
      "source": [],
      "metadata": {
        "id": "8Je3hzMo0q0L"
      },
      "execution_count": null,
      "outputs": []
    },
    {
      "cell_type": "code",
      "source": [
        " ## Cross-Encoders"
      ],
      "metadata": {
        "id": "HYo3ZU3wCryJ"
      },
      "execution_count": null,
      "outputs": []
    },
    {
      "cell_type": "code",
      "source": [
        "from sentence_transformers import CrossEncoder, util"
      ],
      "metadata": {
        "id": "a6wjfAmGCrvj"
      },
      "execution_count": null,
      "outputs": []
    },
    {
      "cell_type": "code",
      "source": [
        "cross_encode_model = \"cross-encoder/ms-marco-MiniLM-L-6-v2\"\n",
        "cross_encoder = CrossEncoder(cross_encode_model)"
      ],
      "metadata": {
        "id": "gdKzXzeBCrs1"
      },
      "execution_count": null,
      "outputs": []
    },
    {
      "cell_type": "code",
      "source": [
        "scores = cross_encoder.predict([[query, response] for response in results_df['Documents']])"
      ],
      "metadata": {
        "id": "5eMsuMSArEV-"
      },
      "execution_count": null,
      "outputs": []
    },
    {
      "cell_type": "code",
      "source": [
        "# scores"
      ],
      "metadata": {
        "id": "HB6SnAzYSlMX"
      },
      "execution_count": null,
      "outputs": []
    },
    {
      "cell_type": "code",
      "source": [
        "results_df['cross_encoder_scores'] = scores"
      ],
      "metadata": {
        "id": "BkRqMb_lSlKG"
      },
      "execution_count": null,
      "outputs": []
    },
    {
      "cell_type": "code",
      "source": [
        "results_df.sort_values(by='cross_encoder_scores', ascending=False, inplace=True)"
      ],
      "metadata": {
        "id": "BeYDTRLYSlH-"
      },
      "execution_count": null,
      "outputs": []
    },
    {
      "cell_type": "code",
      "source": [
        "# results_df.head()"
      ],
      "metadata": {
        "id": "dXi-lkTcSlFW"
      },
      "execution_count": null,
      "outputs": []
    },
    {
      "cell_type": "code",
      "source": [],
      "metadata": {
        "id": "cZaFlRFmSlC3"
      },
      "execution_count": null,
      "outputs": []
    },
    {
      "cell_type": "code",
      "source": [],
      "metadata": {
        "id": "PXvK_5DorETa"
      },
      "execution_count": null,
      "outputs": []
    },
    {
      "cell_type": "code",
      "source": [
        "## Prompt Generation using OpenAI"
      ],
      "metadata": {
        "id": "kVB7YEJqrERC"
      },
      "execution_count": null,
      "outputs": []
    },
    {
      "cell_type": "code",
      "source": [
        "import os\n",
        "import json\n",
        "import ast\n",
        "import string\n",
        "import re\n",
        "\n",
        "import numpy as np\n",
        "import pandas as pd\n",
        "\n",
        "from openai import OpenAI"
      ],
      "metadata": {
        "id": "RDAPiRnm0Rvb"
      },
      "execution_count": null,
      "outputs": []
    },
    {
      "cell_type": "code",
      "source": [
        "gpt_model = \"gpt-4o-mini\"\n",
        "moderator = \"omni-moderation-latest\""
      ],
      "metadata": {
        "id": "HsF-LDO5z7Cw"
      },
      "execution_count": null,
      "outputs": []
    },
    {
      "cell_type": "code",
      "source": [
        "chat_client = OpenAI(api_key=myntra_obj.get_api())"
      ],
      "metadata": {
        "id": "JKIijNnirEMM"
      },
      "execution_count": null,
      "outputs": []
    },
    {
      "cell_type": "code",
      "source": [
        "def fashion_converse(conversation):\n",
        "    chat_resp = chat_client.chat.completions.create(\n",
        "                                    model = gpt_model,\n",
        "                                    messages = conversation,\n",
        "                                    temperature = 0.4,\n",
        "                                    max_tokens = 200,\n",
        "                                    tools = tools_shop_assist(),\n",
        "                                    tool_choice = \"auto\"\n",
        "                                    )\n",
        "    return chat_resp.choices[0].message\n",
        "\n",
        "def chat_moderator(msg):\n",
        "    response = chat_client.moderations.create(\n",
        "                                    model = moderator,\n",
        "                                    input = msg\n",
        "                                    )\n",
        "\n",
        "    return response.results[0].flagged"
      ],
      "metadata": {
        "id": "apYMkdFPrEKT"
      },
      "execution_count": null,
      "outputs": []
    },
    {
      "cell_type": "code",
      "source": [
        "def list_products(inp_query_dict):\n",
        "  w_doc_clause = \"\"\n",
        "  inp_query = inp_query_dict[\"inp_query\"]\n",
        "  attr_dict = ast.literal_eval(inp_query_dict[\"attr_dict\"])\n",
        "  if \"colour\" in list(attr_dict.keys()):\n",
        "    w_doc_clause = {\"colour\": attr_dict['colour'].lower()}\n",
        "    del attr_dict['colour']\n",
        "  results = myntra_obj.text_query(myntra_collection, inp_query, attr_dict, w_doc_clause)\n",
        "  result_dict = {'Metadatas': results['metadatas'][0], 'Documents': results['documents'][0], 'Distances': results['distances'][0], \"IDs\":results[\"ids\"][0]}\n",
        "  results_df = pd.DataFrame.from_dict(result_dict)\n",
        "  return results_df[[\"Metadatas\", \"Documents\"]]"
      ],
      "metadata": {
        "id": "DvUK7s5XrEH7"
      },
      "execution_count": null,
      "outputs": []
    },
    {
      "cell_type": "code",
      "source": [
        "## Belongs in Tools_Calls Class\n",
        "\n",
        "def tools_shop_assist():\n",
        "        criteria = [\n",
        "                        {\n",
        "                            \"type\": \"function\",\n",
        "                            \"function\": {\n",
        "                                \"name\": \"list_products\",\n",
        "                                \"description\": \"Function takes input string and additional criteria as input and returns \",\n",
        "                                \"strict\": False,\n",
        "                                \"parameters\": {\n",
        "                                    \"type\": \"object\",\n",
        "                                    \"properties\": {\n",
        "                                        \"inp_query\": {\n",
        "                                            \"type\": \"string\",\n",
        "                                            \"description\": \"string indicating input given by user eg. find all the skirts in pink.\",\n",
        "                                        },\n",
        "                                        \"attr_dict\": {\n",
        "                                            \"type\": \"string\",\n",
        "                                            \"description\": \"features the apparel needs to have. eg. {'size': 'long', 'colour': 'pink', 'design': 'floral'}.\",\n",
        "                                        },\n",
        "                                    },\n",
        "                                    \"required\": [\"inp_query\", \"attr_dict\"],\n",
        "                                    \"additionalProperties\": False\n",
        "                                },\n",
        "                            },\n",
        "                        }\n",
        "                    ]\n",
        "\n",
        "        return criteria\n"
      ],
      "metadata": {
        "id": "HK83wlpCrECt"
      },
      "execution_count": null,
      "outputs": []
    },
    {
      "cell_type": "code",
      "source": [
        "def start_conversations():\n",
        "  converse = initial_conversation()\n",
        "  chat_resp = fashion_converse(converse)\n",
        "  converse.append({\"role\": \"assistant\", \"content\": str(chat_resp.content)})\n",
        "  print(chat_resp.content)\n",
        "\n",
        "  while True:\n",
        "    user_input = input().lower().strip()\n",
        "    if user_input == \"exit\":\n",
        "      break\n",
        "\n",
        "    is_flagged = chat_moderator(user_input)\n",
        "    if is_flagged:\n",
        "        print(\"Sorry, this message has been flagged. Cannot be accepted.\")\n",
        "        continue ## Skip everything and get back to input()\n",
        "\n",
        "    converse.append({\"role\": \"user\", \"content\": user_input})\n",
        "    chat_resp = fashion_converse(converse)\n",
        "    if chat_resp.tool_calls:\n",
        "      for tool_call in chat_resp.tool_calls:\n",
        "        func_name = tool_call.function.name\n",
        "        args = json.loads(tool_call.function.arguments)\n",
        "        tool_response = list_products(args)\n",
        "        ## Append Function Calling Request\n",
        "        converse.append(chat_resp)\n",
        "        converse.append({\n",
        "                        \"role\": \"tool\",\n",
        "                        \"tool_call_id\": tool_call.id,\n",
        "                        \"name\": func_name,\n",
        "                        \"content\": str(tool_response)\n",
        "                        })\n",
        "      chat_resp = fashion_converse(converse)\n",
        "      print(chat_resp.content)\n",
        "    else:\n",
        "      converse.append({\"role\": \"assistant\", \"content\": str(chat_resp.content)})\n",
        "      print(chat_resp.content)\n"
      ],
      "metadata": {
        "id": "UHQ4lQ2qrEAD"
      },
      "execution_count": null,
      "outputs": []
    },
    {
      "cell_type": "code",
      "source": [
        "def initial_conversation():\n",
        "    delimiters = \"#####\"\n",
        "\n",
        "    chat_prompt = f\"\"\"\n",
        "                      You new an expert in Fashion Digital Marketer, Fashion Merchandise, Stylist and E-commerce Consultant.Your job is to assist customers find the apparel they want to buy through polite and professional conversation.\n",
        "                      {delimiters}\n",
        "                      When the customer requests to find a particular apparel or a combination of apparels, try to understand what apparel or combination the customer is requesting and \\n\n",
        "                      search online to find all the additional criteria needed to know from the customer about the apparel to narrow down the list.\n",
        "                      Showing the internal information collection, summary and format will be penalised. only the conversation and the answers given to customer should be displayed.\n",
        "                      Once the additional criteria are identified ask a few questions to get the answers from customer for atleast two criteria. Record any response given by customer for the criteria.\n",
        "                      Once the data is collected from customer, ask the customer (if he wants to add any other information. if yes allow customer to add details. if the criteria is not clear ask customer to inform the criteria). else proceed.\n",
        "                      Once the data is collected from customer, convert the criteria and the answers received for the criteria into a dictionary format.\n",
        "                      Call the function list_products() with arguments as the complete input string by customer and additional criteria and answers stored in dictionary earlier.\n",
        "                      list_products() function returns a dataframe, which consists a product in every row. Take product name, products available and total price in rupees details for each product in each row and display them as it is done in ecommerce websites.\n",
        "                      {delimiters}\n",
        "                   \"\"\"\n",
        "    chat_prompt = [{\"role\": \"system\", \"content\": chat_prompt},\n",
        "                   {\"role\": \"user\", \"content\": \"Start conversation with a polite welcome\"}]\n",
        "\n",
        "    return chat_prompt\n"
      ],
      "metadata": {
        "id": "EZtUbRCirEFT"
      },
      "execution_count": null,
      "outputs": []
    },
    {
      "cell_type": "code",
      "source": [
        "start_conversations()"
      ],
      "metadata": {
        "id": "e4DaxKcQ08kh"
      },
      "execution_count": null,
      "outputs": []
    },
    {
      "cell_type": "code",
      "source": [],
      "metadata": {
        "id": "EruSoNhO08h1"
      },
      "execution_count": null,
      "outputs": []
    },
    {
      "cell_type": "code",
      "source": [],
      "metadata": {
        "id": "Bk0MEcV608fV"
      },
      "execution_count": null,
      "outputs": []
    },
    {
      "cell_type": "code",
      "source": [],
      "metadata": {
        "id": "-VcVEfSXfdog"
      },
      "execution_count": null,
      "outputs": []
    },
    {
      "cell_type": "code",
      "source": [],
      "metadata": {
        "id": "dTHdXGv-fdlp"
      },
      "execution_count": null,
      "outputs": []
    },
    {
      "cell_type": "code",
      "source": [],
      "metadata": {
        "id": "Klg6da2jfdiE"
      },
      "execution_count": null,
      "outputs": []
    },
    {
      "cell_type": "code",
      "source": [],
      "metadata": {
        "id": "CUN6y8FzfdfX"
      },
      "execution_count": null,
      "outputs": []
    },
    {
      "cell_type": "code",
      "source": [
        "# def initial_conversation():\n",
        "#     delimiters = \"#####\"\n",
        "\n",
        "#     chat_prompt = f\"\"\"\n",
        "#                       You new an expert in Fashion Digital Marketer, Fashion Merchandise, Stylist and E-commerce Consultant.Your job is to assist customers find the apparel they want to buy through polite and professional conversation.\n",
        "#                       {delimiters}\n",
        "#                       When the user requests to find a particular apparel or a combination of apparels, call the function get_addn_properties() with complete input string as argument.\n",
        "#                       get_addn_properties() function returns a list of additional criteria. Randomly choose a maximum of 3 values in the given criteria list to find customer preferences regarding the apparel they want.\n",
        "#                       Once the data is collected, store the complete input string and additional criterias and their values the customer answered in a json format.\n",
        "#                       Summarize the responses to a maximum of 50 tokens. '''''' REMOVE THIS SENTENCE ''''''\n",
        "#                       {delimiters}\n",
        "#                    \"\"\"\n",
        "#     chat_prompt = [{\"role\": \"system\", \"content\": chat_prompt},\n",
        "#                    {\"role\": \"user\", \"content\": \"Start conversation with a polite welcome\"}]\n",
        "\n",
        "#     return chat_prompt\n"
      ],
      "metadata": {
        "id": "UqovP9q808bt"
      },
      "execution_count": null,
      "outputs": []
    },
    {
      "cell_type": "code",
      "source": [],
      "metadata": {
        "id": "SOmgTohN08Yd"
      },
      "execution_count": null,
      "outputs": []
    },
    {
      "cell_type": "code",
      "source": [],
      "metadata": {
        "id": "7sTsLMPi08V2"
      },
      "execution_count": null,
      "outputs": []
    },
    {
      "cell_type": "code",
      "source": [],
      "metadata": {
        "id": "v5Btb6U-08Tm"
      },
      "execution_count": null,
      "outputs": []
    },
    {
      "cell_type": "code",
      "source": [],
      "metadata": {
        "id": "uHTXYy8h08Qu"
      },
      "execution_count": null,
      "outputs": []
    },
    {
      "cell_type": "code",
      "source": [],
      "metadata": {
        "id": "u86X63c-08OG"
      },
      "execution_count": null,
      "outputs": []
    },
    {
      "cell_type": "code",
      "source": [],
      "metadata": {
        "id": "uthEAgJa08Lm"
      },
      "execution_count": null,
      "outputs": []
    },
    {
      "cell_type": "code",
      "source": [],
      "metadata": {
        "id": "MjUAQ-RA08I-"
      },
      "execution_count": null,
      "outputs": []
    },
    {
      "cell_type": "code",
      "source": [],
      "metadata": {
        "id": "7IqNvbbN08G2"
      },
      "execution_count": null,
      "outputs": []
    },
    {
      "cell_type": "code",
      "source": [],
      "metadata": {
        "id": "yKku_bC908EH"
      },
      "execution_count": null,
      "outputs": []
    },
    {
      "cell_type": "code",
      "source": [],
      "metadata": {
        "id": "hN3MtuQLrD9j"
      },
      "execution_count": null,
      "outputs": []
    },
    {
      "cell_type": "code",
      "source": [],
      "metadata": {
        "id": "hdWX-vcVG06X"
      },
      "execution_count": null,
      "outputs": []
    },
    {
      "cell_type": "code",
      "source": [
        "## Notes\n",
        "# Begin Embedding and Chunking\n",
        "\n",
        "\n",
        "# Done___________________________________________________________________________________________________________________\n",
        "# Check using tfidf word to vec. find the words and frequencies to see if anything else to remove to clean data\n",
        "# product column has redundant data. need clean up  X\n",
        "# Check if the data in columns \"products\", \"colour\", \"brand\" exists in columns \"description\" or \"p_attributes\"\n",
        "# If yes:\n",
        "#   Drop the columns \"products\", \"colour\", \"brand\"\n",
        "# else:\n",
        "#   ???\n",
        "\n",
        "# clean description column"
      ],
      "metadata": {
        "id": "4iM0jjbTk7jQ"
      },
      "execution_count": null,
      "outputs": []
    },
    {
      "cell_type": "code",
      "source": [
        "## TO CLARIFY\n",
        "# height of some being (height 5\\'8) and others being (height 5'8) but '\\' only being recognized in raw format as string. will the model see both as same or do i have to do something about it."
      ],
      "metadata": {
        "id": "hN8t7NvYN_sM"
      },
      "execution_count": null,
      "outputs": []
    },
    {
      "cell_type": "code",
      "source": [],
      "metadata": {
        "id": "gCOxMZTA5Hn4"
      },
      "execution_count": null,
      "outputs": []
    }
  ]
}