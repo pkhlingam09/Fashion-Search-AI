{
  "nbformat": 4,
  "nbformat_minor": 0,
  "metadata": {
    "colab": {
      "provenance": [],
      "authorship_tag": "ABX9TyOgTNQP9bFme6v8OteEOTBH",
      "include_colab_link": true
    },
    "kernelspec": {
      "name": "python3",
      "display_name": "Python 3"
    },
    "language_info": {
      "name": "python"
    }
  },
  "cells": [
    {
      "cell_type": "markdown",
      "metadata": {
        "id": "view-in-github",
        "colab_type": "text"
      },
      "source": [
        "<a href=\"https://colab.research.google.com/github/pkhlingam09/Fashion-Search-AI/blob/Find_Nulls/Fashion_Search.ipynb\" target=\"_parent\"><img src=\"https://colab.research.google.com/assets/colab-badge.svg\" alt=\"Open In Colab\"/></a>"
      ]
    },
    {
      "cell_type": "code",
      "source": [
        "## Dataset Link (Kaggle)\n",
        "# https://www.kaggle.com/datasets/djagatiya/myntra-fashion-product-dataset"
      ],
      "metadata": {
        "id": "jCf3KIRDQrKR"
      },
      "execution_count": 1,
      "outputs": []
    },
    {
      "cell_type": "code",
      "source": [
        "# import os\n",
        "\n",
        "# def find_file(root_dir, file_name):\n",
        "#     for dirpath, dirnames, filenames in os.walk(root_dir):\n",
        "#         if file_name in filenames:\n",
        "#             return os.path.join(dirpath, file_name)\n",
        "#     return None\n",
        "\n",
        "# file_path = find_file(\"/\", \"Fashion Dataset v2.csv\") #Searches from the root directory\n",
        "\n",
        "# if file_path:\n",
        "#   print(file_path)\n",
        "# else:\n",
        "#   print(\"File not found\")"
      ],
      "metadata": {
        "id": "u-LJ4X08VxPX"
      },
      "execution_count": 2,
      "outputs": []
    },
    {
      "cell_type": "code",
      "source": [],
      "metadata": {
        "id": "f40OI7I6VxM3"
      },
      "execution_count": 2,
      "outputs": []
    },
    {
      "cell_type": "code",
      "source": [],
      "metadata": {
        "id": "uBK1Bt_gVxKP"
      },
      "execution_count": 2,
      "outputs": []
    },
    {
      "cell_type": "code",
      "source": [],
      "metadata": {
        "id": "Lt8Zk9TlVxHx"
      },
      "execution_count": 2,
      "outputs": []
    },
    {
      "cell_type": "code",
      "source": [
        "#############################################################################################################################################################################################################################\n",
        "###################################################################################################   MYNTRA ASSIGNMENT   ###################################################################################################"
      ],
      "metadata": {
        "id": "IqvZ9-tUVf8J"
      },
      "execution_count": 3,
      "outputs": []
    },
    {
      "cell_type": "code",
      "source": [
        "file_path = \"/content/drive/MyDrive/Fashion_Search_AI/\""
      ],
      "metadata": {
        "id": "nQORNGpW13-C"
      },
      "execution_count": 1,
      "outputs": []
    },
    {
      "cell_type": "code",
      "execution_count": 2,
      "metadata": {
        "id": "-gmC0C7Ik1Rz",
        "outputId": "d17e36a2-c469-46b0-aa45-d9ef6cbe8733",
        "colab": {
          "base_uri": "https://localhost:8080/"
        }
      },
      "outputs": [
        {
          "output_type": "stream",
          "name": "stdout",
          "text": [
            "Mounted at /content/drive\n"
          ]
        }
      ],
      "source": [
        "from google.colab import drive, files\n",
        "drive.mount('/content/drive')"
      ]
    },
    {
      "cell_type": "code",
      "source": [
        "def read_dataset():\n",
        "  !pip install -q kaggle chromadb\n",
        "  files.upload()\n",
        "  !mkdir -p ~/.kaggle\n",
        "  !cp kaggle.json ~/.kaggle/\n",
        "  !chmod 600 ~/.kaggle/kaggle.json\n",
        "  !cat ~/.kaggle/kaggle.json\n",
        "  !kaggle datasets download \"djagatiya/myntra-fashion-product-dataset\" -p file_path\n",
        "  !unzip file_path+\"myntra-fashion-product-dataset.zip\" -d file_path"
      ],
      "metadata": {
        "id": "B2EdhvwOVTYL"
      },
      "execution_count": 3,
      "outputs": []
    },
    {
      "cell_type": "code",
      "source": [
        "!pip install -q chromadb"
      ],
      "metadata": {
        "id": "dR3taXQTUS0o",
        "outputId": "757024f7-ea15-46a2-8676-4dd5ca6c0714",
        "colab": {
          "base_uri": "https://localhost:8080/"
        }
      },
      "execution_count": 3,
      "outputs": [
        {
          "output_type": "stream",
          "name": "stdout",
          "text": [
            "\u001b[?25l     \u001b[90m━━━━━━━━━━━━━━━━━━━━━━━━━━━━━━━━━━━━━━━━\u001b[0m \u001b[32m0.0/67.3 kB\u001b[0m \u001b[31m?\u001b[0m eta \u001b[36m-:--:--\u001b[0m\r\u001b[2K     \u001b[90m━━━━━━━━━━━━━━━━━━━━━━━━━━━━━━━━━━━━━━━━\u001b[0m \u001b[32m67.3/67.3 kB\u001b[0m \u001b[31m2.6 MB/s\u001b[0m eta \u001b[36m0:00:00\u001b[0m\n",
            "\u001b[?25h  Installing build dependencies ... \u001b[?25l\u001b[?25hdone\n",
            "  Getting requirements to build wheel ... \u001b[?25l\u001b[?25hdone\n",
            "  Preparing metadata (pyproject.toml) ... \u001b[?25l\u001b[?25hdone\n",
            "\u001b[2K   \u001b[90m━━━━━━━━━━━━━━━━━━━━━━━━━━━━━━━━━━━━━━━━\u001b[0m \u001b[32m18.3/18.3 MB\u001b[0m \u001b[31m110.2 MB/s\u001b[0m eta \u001b[36m0:00:00\u001b[0m\n",
            "\u001b[2K   \u001b[90m━━━━━━━━━━━━━━━━━━━━━━━━━━━━━━━━━━━━━━━━\u001b[0m \u001b[32m2.4/2.4 MB\u001b[0m \u001b[31m75.2 MB/s\u001b[0m eta \u001b[36m0:00:00\u001b[0m\n",
            "\u001b[2K   \u001b[90m━━━━━━━━━━━━━━━━━━━━━━━━━━━━━━━━━━━━━━━━\u001b[0m \u001b[32m94.9/94.9 kB\u001b[0m \u001b[31m6.1 MB/s\u001b[0m eta \u001b[36m0:00:00\u001b[0m\n",
            "\u001b[2K   \u001b[90m━━━━━━━━━━━━━━━━━━━━━━━━━━━━━━━━━━━━━━━━\u001b[0m \u001b[32m284.2/284.2 kB\u001b[0m \u001b[31m16.6 MB/s\u001b[0m eta \u001b[36m0:00:00\u001b[0m\n",
            "\u001b[2K   \u001b[90m━━━━━━━━━━━━━━━━━━━━━━━━━━━━━━━━━━━━━━━━\u001b[0m \u001b[32m2.0/2.0 MB\u001b[0m \u001b[31m75.4 MB/s\u001b[0m eta \u001b[36m0:00:00\u001b[0m\n",
            "\u001b[2K   \u001b[90m━━━━━━━━━━━━━━━━━━━━━━━━━━━━━━━━━━━━━━━━\u001b[0m \u001b[32m101.6/101.6 kB\u001b[0m \u001b[31m7.2 MB/s\u001b[0m eta \u001b[36m0:00:00\u001b[0m\n",
            "\u001b[2K   \u001b[90m━━━━━━━━━━━━━━━━━━━━━━━━━━━━━━━━━━━━━━━━\u001b[0m \u001b[32m16.0/16.0 MB\u001b[0m \u001b[31m106.0 MB/s\u001b[0m eta \u001b[36m0:00:00\u001b[0m\n",
            "\u001b[2K   \u001b[90m━━━━━━━━━━━━━━━━━━━━━━━━━━━━━━━━━━━━━━━━\u001b[0m \u001b[32m55.9/55.9 kB\u001b[0m \u001b[31m2.9 MB/s\u001b[0m eta \u001b[36m0:00:00\u001b[0m\n",
            "\u001b[2K   \u001b[90m━━━━━━━━━━━━━━━━━━━━━━━━━━━━━━━━━━━━━━━━\u001b[0m \u001b[32m188.4/188.4 kB\u001b[0m \u001b[31m12.9 MB/s\u001b[0m eta \u001b[36m0:00:00\u001b[0m\n",
            "\u001b[2K   \u001b[90m━━━━━━━━━━━━━━━━━━━━━━━━━━━━━━━━━━━━━━━━\u001b[0m \u001b[32m65.3/65.3 kB\u001b[0m \u001b[31m4.0 MB/s\u001b[0m eta \u001b[36m0:00:00\u001b[0m\n",
            "\u001b[2K   \u001b[90m━━━━━━━━━━━━━━━━━━━━━━━━━━━━━━━━━━━━━━━━\u001b[0m \u001b[32m119.0/119.0 kB\u001b[0m \u001b[31m8.2 MB/s\u001b[0m eta \u001b[36m0:00:00\u001b[0m\n",
            "\u001b[2K   \u001b[90m━━━━━━━━━━━━━━━━━━━━━━━━━━━━━━━━━━━━━━━━\u001b[0m \u001b[32m92.0/92.0 kB\u001b[0m \u001b[31m6.0 MB/s\u001b[0m eta \u001b[36m0:00:00\u001b[0m\n",
            "\u001b[2K   \u001b[90m━━━━━━━━━━━━━━━━━━━━━━━━━━━━━━━━━━━━━━━━\u001b[0m \u001b[32m62.5/62.5 kB\u001b[0m \u001b[31m3.6 MB/s\u001b[0m eta \u001b[36m0:00:00\u001b[0m\n",
            "\u001b[2K   \u001b[90m━━━━━━━━━━━━━━━━━━━━━━━━━━━━━━━━━━━━━━━━\u001b[0m \u001b[32m459.8/459.8 kB\u001b[0m \u001b[31m26.0 MB/s\u001b[0m eta \u001b[36m0:00:00\u001b[0m\n",
            "\u001b[2K   \u001b[90m━━━━━━━━━━━━━━━━━━━━━━━━━━━━━━━━━━━━━━━━\u001b[0m \u001b[32m71.5/71.5 kB\u001b[0m \u001b[31m4.8 MB/s\u001b[0m eta \u001b[36m0:00:00\u001b[0m\n",
            "\u001b[2K   \u001b[90m━━━━━━━━━━━━━━━━━━━━━━━━━━━━━━━━━━━━━━━━\u001b[0m \u001b[32m4.0/4.0 MB\u001b[0m \u001b[31m86.1 MB/s\u001b[0m eta \u001b[36m0:00:00\u001b[0m\n",
            "\u001b[2K   \u001b[90m━━━━━━━━━━━━━━━━━━━━━━━━━━━━━━━━━━━━━━━━\u001b[0m \u001b[32m454.8/454.8 kB\u001b[0m \u001b[31m26.4 MB/s\u001b[0m eta \u001b[36m0:00:00\u001b[0m\n",
            "\u001b[2K   \u001b[90m━━━━━━━━━━━━━━━━━━━━━━━━━━━━━━━━━━━━━━━━\u001b[0m \u001b[32m46.0/46.0 kB\u001b[0m \u001b[31m2.7 MB/s\u001b[0m eta \u001b[36m0:00:00\u001b[0m\n",
            "\u001b[2K   \u001b[90m━━━━━━━━━━━━━━━━━━━━━━━━━━━━━━━━━━━━━━━━\u001b[0m \u001b[32m86.8/86.8 kB\u001b[0m \u001b[31m5.2 MB/s\u001b[0m eta \u001b[36m0:00:00\u001b[0m\n",
            "\u001b[?25h  Building wheel for pypika (pyproject.toml) ... \u001b[?25l\u001b[?25hdone\n"
          ]
        }
      ]
    },
    {
      "cell_type": "code",
      "source": [
        "import os\n",
        "import pathlib\n",
        "\n",
        "import string\n",
        "import re\n",
        "import ast\n",
        "import json\n",
        "import numpy as np\n",
        "import pandas as pd\n",
        "\n",
        "import chromadb\n",
        "from chromadb.utils.embedding_functions import OpenAIEmbeddingFunction\n",
        "\n",
        "from openai import OpenAI\n",
        "from sentence_transformers import CrossEncoder, util"
      ],
      "metadata": {
        "id": "WwIxCKaGk8qV"
      },
      "execution_count": 4,
      "outputs": []
    },
    {
      "cell_type": "code",
      "source": [
        "# pd.set_option('display.max_rows', 200)\n",
        "# pd.set_option('display.max_columns', 200)"
      ],
      "metadata": {
        "id": "nhj3nsjR9U-x"
      },
      "execution_count": 6,
      "outputs": []
    },
    {
      "cell_type": "code",
      "source": [
        "gpt_model = \"gpt-4o-mini\"\n",
        "moderator = \"omni-moderation-latest\""
      ],
      "metadata": {
        "id": "hBcL4e_14hhq"
      },
      "execution_count": 118,
      "outputs": []
    },
    {
      "cell_type": "code",
      "source": [
        "df = pd.read_csv(file_path + \"Fashion Dataset v2.csv\")"
      ],
      "metadata": {
        "id": "VN8HU32Yk8l2"
      },
      "execution_count": 119,
      "outputs": []
    },
    {
      "cell_type": "code",
      "source": [
        "df.head(5)"
      ],
      "metadata": {
        "id": "e4wd2cYok8jl",
        "colab": {
          "base_uri": "https://localhost:8080/",
          "height": 293
        },
        "outputId": "957ba6dd-79f6-4aa7-ab0f-856e20280cf4"
      },
      "execution_count": 120,
      "outputs": [
        {
          "output_type": "execute_result",
          "data": {
            "text/plain": [
              "       p_id                                               name  \\\n",
              "0  17048614  Khushal K Women Black Ethnic Motifs Printed Ku...   \n",
              "1  16524740  InWeave Women Orange Solid Kurta with Palazzos...   \n",
              "2  16331376  Anubhutee Women Navy Blue Ethnic Motifs Embroi...   \n",
              "3  14709966  Nayo Women Red Floral Printed Kurta With Trous...   \n",
              "4  11056154   AHIKA Women Black & Green Printed Straight Kurta   \n",
              "\n",
              "                                products   price     colour      brand  \\\n",
              "0               Kurta, Palazzos, Dupatta  5099.0      Black  Khushal K   \n",
              "1  Kurta, Palazzos, Floral Print Dupatta  5899.0     Orange    InWeave   \n",
              "2               Kurta, Trousers, Dupatta  4899.0  Navy Blue  Anubhutee   \n",
              "3                Kurta, Trouser, Dupatta  3699.0        Red       Nayo   \n",
              "4                                  Kurta  1350.0      Black      AHIKA   \n",
              "\n",
              "                                                 img  ratingCount  avg_rating  \\\n",
              "0  http://assets.myntassets.com/assets/images/170...       4522.0    4.418399   \n",
              "1  http://assets.myntassets.com/assets/images/165...       1081.0    4.119334   \n",
              "2  http://assets.myntassets.com/assets/images/163...       1752.0    4.161530   \n",
              "3  http://assets.myntassets.com/assets/images/147...       4113.0    4.088986   \n",
              "4  http://assets.myntassets.com/assets/images/110...      21274.0    3.978377   \n",
              "\n",
              "                                         description  \\\n",
              "0  Black printed Kurta with Palazzos with dupatta...   \n",
              "1  Orange solid Kurta with Palazzos with dupatta<...   \n",
              "2  Navy blue embroidered Kurta with Trousers with...   \n",
              "3  Red printed kurta with trouser and dupatta<br>...   \n",
              "4  Black and green printed straight kurta, has a ...   \n",
              "\n",
              "                                        p_attributes  \n",
              "0  {'Add-Ons': 'NA', 'Body Shape ID': '443,333,32...  \n",
              "1  {'Add-Ons': 'NA', 'Body Shape ID': '443,333,32...  \n",
              "2  {'Add-Ons': 'NA', 'Body Shape ID': '333,424', ...  \n",
              "3  {'Add-Ons': 'NA', 'Body Shape ID': '333,424', ...  \n",
              "4  {'Body Shape ID': '424', 'Body or Garment Size...  "
            ],
            "text/html": [
              "\n",
              "  <div id=\"df-daa66325-b293-4b0b-be47-0c62fea4b1f0\" class=\"colab-df-container\">\n",
              "    <div>\n",
              "<style scoped>\n",
              "    .dataframe tbody tr th:only-of-type {\n",
              "        vertical-align: middle;\n",
              "    }\n",
              "\n",
              "    .dataframe tbody tr th {\n",
              "        vertical-align: top;\n",
              "    }\n",
              "\n",
              "    .dataframe thead th {\n",
              "        text-align: right;\n",
              "    }\n",
              "</style>\n",
              "<table border=\"1\" class=\"dataframe\">\n",
              "  <thead>\n",
              "    <tr style=\"text-align: right;\">\n",
              "      <th></th>\n",
              "      <th>p_id</th>\n",
              "      <th>name</th>\n",
              "      <th>products</th>\n",
              "      <th>price</th>\n",
              "      <th>colour</th>\n",
              "      <th>brand</th>\n",
              "      <th>img</th>\n",
              "      <th>ratingCount</th>\n",
              "      <th>avg_rating</th>\n",
              "      <th>description</th>\n",
              "      <th>p_attributes</th>\n",
              "    </tr>\n",
              "  </thead>\n",
              "  <tbody>\n",
              "    <tr>\n",
              "      <th>0</th>\n",
              "      <td>17048614</td>\n",
              "      <td>Khushal K Women Black Ethnic Motifs Printed Ku...</td>\n",
              "      <td>Kurta, Palazzos, Dupatta</td>\n",
              "      <td>5099.0</td>\n",
              "      <td>Black</td>\n",
              "      <td>Khushal K</td>\n",
              "      <td>http://assets.myntassets.com/assets/images/170...</td>\n",
              "      <td>4522.0</td>\n",
              "      <td>4.418399</td>\n",
              "      <td>Black printed Kurta with Palazzos with dupatta...</td>\n",
              "      <td>{'Add-Ons': 'NA', 'Body Shape ID': '443,333,32...</td>\n",
              "    </tr>\n",
              "    <tr>\n",
              "      <th>1</th>\n",
              "      <td>16524740</td>\n",
              "      <td>InWeave Women Orange Solid Kurta with Palazzos...</td>\n",
              "      <td>Kurta, Palazzos, Floral Print Dupatta</td>\n",
              "      <td>5899.0</td>\n",
              "      <td>Orange</td>\n",
              "      <td>InWeave</td>\n",
              "      <td>http://assets.myntassets.com/assets/images/165...</td>\n",
              "      <td>1081.0</td>\n",
              "      <td>4.119334</td>\n",
              "      <td>Orange solid Kurta with Palazzos with dupatta&lt;...</td>\n",
              "      <td>{'Add-Ons': 'NA', 'Body Shape ID': '443,333,32...</td>\n",
              "    </tr>\n",
              "    <tr>\n",
              "      <th>2</th>\n",
              "      <td>16331376</td>\n",
              "      <td>Anubhutee Women Navy Blue Ethnic Motifs Embroi...</td>\n",
              "      <td>Kurta, Trousers, Dupatta</td>\n",
              "      <td>4899.0</td>\n",
              "      <td>Navy Blue</td>\n",
              "      <td>Anubhutee</td>\n",
              "      <td>http://assets.myntassets.com/assets/images/163...</td>\n",
              "      <td>1752.0</td>\n",
              "      <td>4.161530</td>\n",
              "      <td>Navy blue embroidered Kurta with Trousers with...</td>\n",
              "      <td>{'Add-Ons': 'NA', 'Body Shape ID': '333,424', ...</td>\n",
              "    </tr>\n",
              "    <tr>\n",
              "      <th>3</th>\n",
              "      <td>14709966</td>\n",
              "      <td>Nayo Women Red Floral Printed Kurta With Trous...</td>\n",
              "      <td>Kurta, Trouser, Dupatta</td>\n",
              "      <td>3699.0</td>\n",
              "      <td>Red</td>\n",
              "      <td>Nayo</td>\n",
              "      <td>http://assets.myntassets.com/assets/images/147...</td>\n",
              "      <td>4113.0</td>\n",
              "      <td>4.088986</td>\n",
              "      <td>Red printed kurta with trouser and dupatta&lt;br&gt;...</td>\n",
              "      <td>{'Add-Ons': 'NA', 'Body Shape ID': '333,424', ...</td>\n",
              "    </tr>\n",
              "    <tr>\n",
              "      <th>4</th>\n",
              "      <td>11056154</td>\n",
              "      <td>AHIKA Women Black &amp; Green Printed Straight Kurta</td>\n",
              "      <td>Kurta</td>\n",
              "      <td>1350.0</td>\n",
              "      <td>Black</td>\n",
              "      <td>AHIKA</td>\n",
              "      <td>http://assets.myntassets.com/assets/images/110...</td>\n",
              "      <td>21274.0</td>\n",
              "      <td>3.978377</td>\n",
              "      <td>Black and green printed straight kurta, has a ...</td>\n",
              "      <td>{'Body Shape ID': '424', 'Body or Garment Size...</td>\n",
              "    </tr>\n",
              "  </tbody>\n",
              "</table>\n",
              "</div>\n",
              "    <div class=\"colab-df-buttons\">\n",
              "\n",
              "  <div class=\"colab-df-container\">\n",
              "    <button class=\"colab-df-convert\" onclick=\"convertToInteractive('df-daa66325-b293-4b0b-be47-0c62fea4b1f0')\"\n",
              "            title=\"Convert this dataframe to an interactive table.\"\n",
              "            style=\"display:none;\">\n",
              "\n",
              "  <svg xmlns=\"http://www.w3.org/2000/svg\" height=\"24px\" viewBox=\"0 -960 960 960\">\n",
              "    <path d=\"M120-120v-720h720v720H120Zm60-500h600v-160H180v160Zm220 220h160v-160H400v160Zm0 220h160v-160H400v160ZM180-400h160v-160H180v160Zm440 0h160v-160H620v160ZM180-180h160v-160H180v160Zm440 0h160v-160H620v160Z\"/>\n",
              "  </svg>\n",
              "    </button>\n",
              "\n",
              "  <style>\n",
              "    .colab-df-container {\n",
              "      display:flex;\n",
              "      gap: 12px;\n",
              "    }\n",
              "\n",
              "    .colab-df-convert {\n",
              "      background-color: #E8F0FE;\n",
              "      border: none;\n",
              "      border-radius: 50%;\n",
              "      cursor: pointer;\n",
              "      display: none;\n",
              "      fill: #1967D2;\n",
              "      height: 32px;\n",
              "      padding: 0 0 0 0;\n",
              "      width: 32px;\n",
              "    }\n",
              "\n",
              "    .colab-df-convert:hover {\n",
              "      background-color: #E2EBFA;\n",
              "      box-shadow: 0px 1px 2px rgba(60, 64, 67, 0.3), 0px 1px 3px 1px rgba(60, 64, 67, 0.15);\n",
              "      fill: #174EA6;\n",
              "    }\n",
              "\n",
              "    .colab-df-buttons div {\n",
              "      margin-bottom: 4px;\n",
              "    }\n",
              "\n",
              "    [theme=dark] .colab-df-convert {\n",
              "      background-color: #3B4455;\n",
              "      fill: #D2E3FC;\n",
              "    }\n",
              "\n",
              "    [theme=dark] .colab-df-convert:hover {\n",
              "      background-color: #434B5C;\n",
              "      box-shadow: 0px 1px 3px 1px rgba(0, 0, 0, 0.15);\n",
              "      filter: drop-shadow(0px 1px 2px rgba(0, 0, 0, 0.3));\n",
              "      fill: #FFFFFF;\n",
              "    }\n",
              "  </style>\n",
              "\n",
              "    <script>\n",
              "      const buttonEl =\n",
              "        document.querySelector('#df-daa66325-b293-4b0b-be47-0c62fea4b1f0 button.colab-df-convert');\n",
              "      buttonEl.style.display =\n",
              "        google.colab.kernel.accessAllowed ? 'block' : 'none';\n",
              "\n",
              "      async function convertToInteractive(key) {\n",
              "        const element = document.querySelector('#df-daa66325-b293-4b0b-be47-0c62fea4b1f0');\n",
              "        const dataTable =\n",
              "          await google.colab.kernel.invokeFunction('convertToInteractive',\n",
              "                                                    [key], {});\n",
              "        if (!dataTable) return;\n",
              "\n",
              "        const docLinkHtml = 'Like what you see? Visit the ' +\n",
              "          '<a target=\"_blank\" href=https://colab.research.google.com/notebooks/data_table.ipynb>data table notebook</a>'\n",
              "          + ' to learn more about interactive tables.';\n",
              "        element.innerHTML = '';\n",
              "        dataTable['output_type'] = 'display_data';\n",
              "        await google.colab.output.renderOutput(dataTable, element);\n",
              "        const docLink = document.createElement('div');\n",
              "        docLink.innerHTML = docLinkHtml;\n",
              "        element.appendChild(docLink);\n",
              "      }\n",
              "    </script>\n",
              "  </div>\n",
              "\n",
              "\n",
              "    <div id=\"df-efb03976-1465-49ff-b937-4e72e8953253\">\n",
              "      <button class=\"colab-df-quickchart\" onclick=\"quickchart('df-efb03976-1465-49ff-b937-4e72e8953253')\"\n",
              "                title=\"Suggest charts\"\n",
              "                style=\"display:none;\">\n",
              "\n",
              "<svg xmlns=\"http://www.w3.org/2000/svg\" height=\"24px\"viewBox=\"0 0 24 24\"\n",
              "     width=\"24px\">\n",
              "    <g>\n",
              "        <path d=\"M19 3H5c-1.1 0-2 .9-2 2v14c0 1.1.9 2 2 2h14c1.1 0 2-.9 2-2V5c0-1.1-.9-2-2-2zM9 17H7v-7h2v7zm4 0h-2V7h2v10zm4 0h-2v-4h2v4z\"/>\n",
              "    </g>\n",
              "</svg>\n",
              "      </button>\n",
              "\n",
              "<style>\n",
              "  .colab-df-quickchart {\n",
              "      --bg-color: #E8F0FE;\n",
              "      --fill-color: #1967D2;\n",
              "      --hover-bg-color: #E2EBFA;\n",
              "      --hover-fill-color: #174EA6;\n",
              "      --disabled-fill-color: #AAA;\n",
              "      --disabled-bg-color: #DDD;\n",
              "  }\n",
              "\n",
              "  [theme=dark] .colab-df-quickchart {\n",
              "      --bg-color: #3B4455;\n",
              "      --fill-color: #D2E3FC;\n",
              "      --hover-bg-color: #434B5C;\n",
              "      --hover-fill-color: #FFFFFF;\n",
              "      --disabled-bg-color: #3B4455;\n",
              "      --disabled-fill-color: #666;\n",
              "  }\n",
              "\n",
              "  .colab-df-quickchart {\n",
              "    background-color: var(--bg-color);\n",
              "    border: none;\n",
              "    border-radius: 50%;\n",
              "    cursor: pointer;\n",
              "    display: none;\n",
              "    fill: var(--fill-color);\n",
              "    height: 32px;\n",
              "    padding: 0;\n",
              "    width: 32px;\n",
              "  }\n",
              "\n",
              "  .colab-df-quickchart:hover {\n",
              "    background-color: var(--hover-bg-color);\n",
              "    box-shadow: 0 1px 2px rgba(60, 64, 67, 0.3), 0 1px 3px 1px rgba(60, 64, 67, 0.15);\n",
              "    fill: var(--button-hover-fill-color);\n",
              "  }\n",
              "\n",
              "  .colab-df-quickchart-complete:disabled,\n",
              "  .colab-df-quickchart-complete:disabled:hover {\n",
              "    background-color: var(--disabled-bg-color);\n",
              "    fill: var(--disabled-fill-color);\n",
              "    box-shadow: none;\n",
              "  }\n",
              "\n",
              "  .colab-df-spinner {\n",
              "    border: 2px solid var(--fill-color);\n",
              "    border-color: transparent;\n",
              "    border-bottom-color: var(--fill-color);\n",
              "    animation:\n",
              "      spin 1s steps(1) infinite;\n",
              "  }\n",
              "\n",
              "  @keyframes spin {\n",
              "    0% {\n",
              "      border-color: transparent;\n",
              "      border-bottom-color: var(--fill-color);\n",
              "      border-left-color: var(--fill-color);\n",
              "    }\n",
              "    20% {\n",
              "      border-color: transparent;\n",
              "      border-left-color: var(--fill-color);\n",
              "      border-top-color: var(--fill-color);\n",
              "    }\n",
              "    30% {\n",
              "      border-color: transparent;\n",
              "      border-left-color: var(--fill-color);\n",
              "      border-top-color: var(--fill-color);\n",
              "      border-right-color: var(--fill-color);\n",
              "    }\n",
              "    40% {\n",
              "      border-color: transparent;\n",
              "      border-right-color: var(--fill-color);\n",
              "      border-top-color: var(--fill-color);\n",
              "    }\n",
              "    60% {\n",
              "      border-color: transparent;\n",
              "      border-right-color: var(--fill-color);\n",
              "    }\n",
              "    80% {\n",
              "      border-color: transparent;\n",
              "      border-right-color: var(--fill-color);\n",
              "      border-bottom-color: var(--fill-color);\n",
              "    }\n",
              "    90% {\n",
              "      border-color: transparent;\n",
              "      border-bottom-color: var(--fill-color);\n",
              "    }\n",
              "  }\n",
              "</style>\n",
              "\n",
              "      <script>\n",
              "        async function quickchart(key) {\n",
              "          const quickchartButtonEl =\n",
              "            document.querySelector('#' + key + ' button');\n",
              "          quickchartButtonEl.disabled = true;  // To prevent multiple clicks.\n",
              "          quickchartButtonEl.classList.add('colab-df-spinner');\n",
              "          try {\n",
              "            const charts = await google.colab.kernel.invokeFunction(\n",
              "                'suggestCharts', [key], {});\n",
              "          } catch (error) {\n",
              "            console.error('Error during call to suggestCharts:', error);\n",
              "          }\n",
              "          quickchartButtonEl.classList.remove('colab-df-spinner');\n",
              "          quickchartButtonEl.classList.add('colab-df-quickchart-complete');\n",
              "        }\n",
              "        (() => {\n",
              "          let quickchartButtonEl =\n",
              "            document.querySelector('#df-efb03976-1465-49ff-b937-4e72e8953253 button');\n",
              "          quickchartButtonEl.style.display =\n",
              "            google.colab.kernel.accessAllowed ? 'block' : 'none';\n",
              "        })();\n",
              "      </script>\n",
              "    </div>\n",
              "\n",
              "    </div>\n",
              "  </div>\n"
            ],
            "application/vnd.google.colaboratory.intrinsic+json": {
              "type": "dataframe",
              "variable_name": "df",
              "summary": "{\n  \"name\": \"df\",\n  \"rows\": 14214,\n  \"fields\": [\n    {\n      \"column\": \"p_id\",\n      \"properties\": {\n        \"dtype\": \"number\",\n        \"std\": 3152415,\n        \"min\": 70166,\n        \"max\": 19415760,\n        \"num_unique_values\": 14214,\n        \"samples\": [\n          18688460,\n          17441634,\n          14179076\n        ],\n        \"semantic_type\": \"\",\n        \"description\": \"\"\n      }\n    },\n    {\n      \"column\": \"name\",\n      \"properties\": {\n        \"dtype\": \"string\",\n        \"num_unique_values\": 13873,\n        \"samples\": [\n          \"Clora Creation Women Off White Floral Embroidered Palazzos\",\n          \"MANGO Women Red & Beige Abstract Print A-Line Top\",\n          \"Clora Creation Navy Blue Woven Design Banarsi Silk Dupatta\"\n        ],\n        \"semantic_type\": \"\",\n        \"description\": \"\"\n      }\n    },\n    {\n      \"column\": \"products\",\n      \"properties\": {\n        \"dtype\": \"category\",\n        \"num_unique_values\": 910,\n        \"samples\": [\n          \"Hoodie, Plus Size\",\n          \"Top, Palazzos, Ethnic Jacket\",\n          \"Jeans, Culottes, Trousers\"\n        ],\n        \"semantic_type\": \"\",\n        \"description\": \"\"\n      }\n    },\n    {\n      \"column\": \"price\",\n      \"properties\": {\n        \"dtype\": \"number\",\n        \"std\": 2570.2329882965837,\n        \"min\": 169.0,\n        \"max\": 47999.0,\n        \"num_unique_values\": 1209,\n        \"samples\": [\n          2259.0,\n          475.0,\n          4590.0\n        ],\n        \"semantic_type\": \"\",\n        \"description\": \"\"\n      }\n    },\n    {\n      \"column\": \"colour\",\n      \"properties\": {\n        \"dtype\": \"category\",\n        \"num_unique_values\": 50,\n        \"samples\": [\n          \"Sea Green\",\n          \"Gold\",\n          \"Rust\"\n        ],\n        \"semantic_type\": \"\",\n        \"description\": \"\"\n      }\n    },\n    {\n      \"column\": \"brand\",\n      \"properties\": {\n        \"dtype\": \"category\",\n        \"num_unique_values\": 1022,\n        \"samples\": [\n          \"Zigo\",\n          \"Reistor\",\n          \"SERONA FABRICS\"\n        ],\n        \"semantic_type\": \"\",\n        \"description\": \"\"\n      }\n    },\n    {\n      \"column\": \"img\",\n      \"properties\": {\n        \"dtype\": \"string\",\n        \"num_unique_values\": 14214,\n        \"samples\": [\n          \"http://assets.myntassets.com/assets/images/18688460/2022/6/9/91ab90ee-c162-4d9f-9e4e-4f9c0cd7865a1654782377953Skirts1.jpg\",\n          \"http://assets.myntassets.com/assets/images/17441634/2022/3/8/1d50e24c-e7bf-4e62-8a96-9625b530f4751646740866170Jackets1.jpg\",\n          \"http://assets.myntassets.com/assets/images/14179076/2021/6/24/fdb8118a-1946-4b43-9ee7-c52146e004151624527103903-DressBerry-Women-Sweaters-5311624527103479-1.jpg\"\n        ],\n        \"semantic_type\": \"\",\n        \"description\": \"\"\n      }\n    },\n    {\n      \"column\": \"ratingCount\",\n      \"properties\": {\n        \"dtype\": \"number\",\n        \"std\": 782.4649724046869,\n        \"min\": 1.0,\n        \"max\": 21274.0,\n        \"num_unique_values\": 829,\n        \"samples\": [\n          897.0,\n          173.0,\n          592.0\n        ],\n        \"semantic_type\": \"\",\n        \"description\": \"\"\n      }\n    },\n    {\n      \"column\": \"avg_rating\",\n      \"properties\": {\n        \"dtype\": \"number\",\n        \"std\": 0.4757558612927901,\n        \"min\": 1.0,\n        \"max\": 5.0,\n        \"num_unique_values\": 2367,\n        \"samples\": [\n          3.771084337349397,\n          4.496644295302014,\n          3.631578947368421\n        ],\n        \"semantic_type\": \"\",\n        \"description\": \"\"\n      }\n    },\n    {\n      \"column\": \"description\",\n      \"properties\": {\n        \"dtype\": \"string\",\n        \"num_unique_values\": 14181,\n        \"samples\": [\n          \"<p>Off-white, blue and burgundy floral printed flared maxi skirt, has a partially elasticated waistband, slip-on closure, flared hem and is lined</p><p>Viscose rayon<br>Machine-wash<br>Do not bleach</p><p>The model (height 5'8\\\") is wearing a size 28</p>\",\n          \"Burgundy solid basic jumpsuit, has a keyhole neckline, sleeveless, and two pockets<br>Comes with a beltMaterial: Polyester crepe<br>Machine WashThe model (height 5'8'') is wearing a size S\",\n          \"Grey abstract printed insulator quilted jacket,  has a hooded,  2  pockets ,has a zip closure, long sleeves,  straight  hemline, polyester  lining<br><br>Warranty: 1 month<br>Warranty provided by brand/manufacturerOuter shell: Polyester <br> Lining fabric: Polyester <br> Machine washThe model (height 5'8) is wearing a size S<br><br>Columbia runs a size bigger. Pick one size smaller for a more comfortable fit.\"\n        ],\n        \"semantic_type\": \"\",\n        \"description\": \"\"\n      }\n    },\n    {\n      \"column\": \"p_attributes\",\n      \"properties\": {\n        \"dtype\": \"string\",\n        \"num_unique_values\": 13089,\n        \"samples\": [\n          \"{'Body or Garment Size': 'Garment Measurements in', 'Closure': 'NA', 'Fabric': 'Cotton', 'Main Trend': 'NA', 'Neck': 'Shoulder Straps', 'Number of Pockets': 'NA', 'Occasion': 'Casual', 'Pattern': 'Solid', 'Sleeve Length': 'Sleeveless', 'Surface Styling': 'Gathers', 'Sustainable': 'Regular', 'Type': 'Playsuit', 'Wash Care': 'Hand Wash'}\",\n          \"{'Border': 'Woven Design', 'Fabric': 'Art Silk', 'Occasion': 'Party', 'Ornamentation': 'Gotta Patti', 'Pattern': 'Printed', 'Print or Pattern Type': 'Bandhani', 'Sustainable': 'Regular', 'Technique': 'Bandhani', 'Wash Care': 'Machine Wash', 'Wedding': 'Bride & Wedding Squad'}\",\n          \"{'Body Shape ID': '443,333,324,424', 'Body or Garment Size': 'To-Fit Denotes Body Measurements in', 'Center Front Open': 'No', 'Character': 'NA', 'Closure': 'Tie-Ups', 'Fabric': 'Pure Cotton', 'Fabric Type': 'NA', 'Length': 'Regular', 'Lining': 'NA', 'Main Trend': 'Conversational Print', 'Multipack Set': 'NA', 'Neck': 'Shoulder Straps', 'Occasion': 'Ethnic', 'Pattern': 'Printed', 'Print or Pattern Type': 'Conversational', 'Sleeve Length': 'Sleeveless', 'Sleeve Styling': 'No Sleeves', 'Surface Styling': 'Tie-Ups', 'Sustainable': 'Regular', 'Transparency': 'Opaque', 'Type': 'Regular', 'Wash Care': 'Hand Wash', 'Weave Type': 'Woven', 'taxMaterial': 'NA'}\"\n        ],\n        \"semantic_type\": \"\",\n        \"description\": \"\"\n      }\n    }\n  ]\n}"
            }
          },
          "metadata": {},
          "execution_count": 120
        }
      ]
    },
    {
      "cell_type": "code",
      "source": [
        "df.shape"
      ],
      "metadata": {
        "id": "cJWPVPOrk8g9",
        "colab": {
          "base_uri": "https://localhost:8080/"
        },
        "outputId": "0da1688b-e5bd-4283-fbd9-c1194457bfb5"
      },
      "execution_count": 121,
      "outputs": [
        {
          "output_type": "execute_result",
          "data": {
            "text/plain": [
              "(14214, 11)"
            ]
          },
          "metadata": {},
          "execution_count": 121
        }
      ]
    },
    {
      "cell_type": "code",
      "source": [
        "df.info()"
      ],
      "metadata": {
        "id": "sahxXau0k8aN",
        "colab": {
          "base_uri": "https://localhost:8080/"
        },
        "outputId": "de7b8c26-314c-4502-9197-db0bc875f13d"
      },
      "execution_count": 122,
      "outputs": [
        {
          "output_type": "stream",
          "name": "stdout",
          "text": [
            "<class 'pandas.core.frame.DataFrame'>\n",
            "RangeIndex: 14214 entries, 0 to 14213\n",
            "Data columns (total 11 columns):\n",
            " #   Column        Non-Null Count  Dtype  \n",
            "---  ------        --------------  -----  \n",
            " 0   p_id          14214 non-null  int64  \n",
            " 1   name          14214 non-null  object \n",
            " 2   products      14214 non-null  object \n",
            " 3   price         14214 non-null  float64\n",
            " 4   colour        14214 non-null  object \n",
            " 5   brand         14214 non-null  object \n",
            " 6   img           14214 non-null  object \n",
            " 7   ratingCount   6530 non-null   float64\n",
            " 8   avg_rating    6530 non-null   float64\n",
            " 9   description   14214 non-null  object \n",
            " 10  p_attributes  14214 non-null  object \n",
            "dtypes: float64(3), int64(1), object(7)\n",
            "memory usage: 1.2+ MB\n"
          ]
        }
      ]
    },
    {
      "cell_type": "code",
      "source": [
        "df.isna().sum()"
      ],
      "metadata": {
        "id": "ehnBuS79k8ek",
        "colab": {
          "base_uri": "https://localhost:8080/",
          "height": 429
        },
        "outputId": "28249912-e6b3-4423-fbe2-fc9cfaadaf44"
      },
      "execution_count": 123,
      "outputs": [
        {
          "output_type": "execute_result",
          "data": {
            "text/plain": [
              "p_id               0\n",
              "name               0\n",
              "products           0\n",
              "price              0\n",
              "colour             0\n",
              "brand              0\n",
              "img                0\n",
              "ratingCount     7684\n",
              "avg_rating      7684\n",
              "description        0\n",
              "p_attributes       0\n",
              "dtype: int64"
            ],
            "text/html": [
              "<div>\n",
              "<style scoped>\n",
              "    .dataframe tbody tr th:only-of-type {\n",
              "        vertical-align: middle;\n",
              "    }\n",
              "\n",
              "    .dataframe tbody tr th {\n",
              "        vertical-align: top;\n",
              "    }\n",
              "\n",
              "    .dataframe thead th {\n",
              "        text-align: right;\n",
              "    }\n",
              "</style>\n",
              "<table border=\"1\" class=\"dataframe\">\n",
              "  <thead>\n",
              "    <tr style=\"text-align: right;\">\n",
              "      <th></th>\n",
              "      <th>0</th>\n",
              "    </tr>\n",
              "  </thead>\n",
              "  <tbody>\n",
              "    <tr>\n",
              "      <th>p_id</th>\n",
              "      <td>0</td>\n",
              "    </tr>\n",
              "    <tr>\n",
              "      <th>name</th>\n",
              "      <td>0</td>\n",
              "    </tr>\n",
              "    <tr>\n",
              "      <th>products</th>\n",
              "      <td>0</td>\n",
              "    </tr>\n",
              "    <tr>\n",
              "      <th>price</th>\n",
              "      <td>0</td>\n",
              "    </tr>\n",
              "    <tr>\n",
              "      <th>colour</th>\n",
              "      <td>0</td>\n",
              "    </tr>\n",
              "    <tr>\n",
              "      <th>brand</th>\n",
              "      <td>0</td>\n",
              "    </tr>\n",
              "    <tr>\n",
              "      <th>img</th>\n",
              "      <td>0</td>\n",
              "    </tr>\n",
              "    <tr>\n",
              "      <th>ratingCount</th>\n",
              "      <td>7684</td>\n",
              "    </tr>\n",
              "    <tr>\n",
              "      <th>avg_rating</th>\n",
              "      <td>7684</td>\n",
              "    </tr>\n",
              "    <tr>\n",
              "      <th>description</th>\n",
              "      <td>0</td>\n",
              "    </tr>\n",
              "    <tr>\n",
              "      <th>p_attributes</th>\n",
              "      <td>0</td>\n",
              "    </tr>\n",
              "  </tbody>\n",
              "</table>\n",
              "</div><br><label><b>dtype:</b> int64</label>"
            ]
          },
          "metadata": {},
          "execution_count": 123
        }
      ]
    },
    {
      "cell_type": "code",
      "source": [
        "round(100 * df.isna().sum()/df.shape[0], 3)"
      ],
      "metadata": {
        "id": "1t6iuQxXRFoG",
        "colab": {
          "base_uri": "https://localhost:8080/",
          "height": 429
        },
        "outputId": "1bf88dba-55a0-4fef-d0c8-c7642a95d155"
      },
      "execution_count": 124,
      "outputs": [
        {
          "output_type": "execute_result",
          "data": {
            "text/plain": [
              "p_id             0.000\n",
              "name             0.000\n",
              "products         0.000\n",
              "price            0.000\n",
              "colour           0.000\n",
              "brand            0.000\n",
              "img              0.000\n",
              "ratingCount     54.059\n",
              "avg_rating      54.059\n",
              "description      0.000\n",
              "p_attributes     0.000\n",
              "dtype: float64"
            ],
            "text/html": [
              "<div>\n",
              "<style scoped>\n",
              "    .dataframe tbody tr th:only-of-type {\n",
              "        vertical-align: middle;\n",
              "    }\n",
              "\n",
              "    .dataframe tbody tr th {\n",
              "        vertical-align: top;\n",
              "    }\n",
              "\n",
              "    .dataframe thead th {\n",
              "        text-align: right;\n",
              "    }\n",
              "</style>\n",
              "<table border=\"1\" class=\"dataframe\">\n",
              "  <thead>\n",
              "    <tr style=\"text-align: right;\">\n",
              "      <th></th>\n",
              "      <th>0</th>\n",
              "    </tr>\n",
              "  </thead>\n",
              "  <tbody>\n",
              "    <tr>\n",
              "      <th>p_id</th>\n",
              "      <td>0.000</td>\n",
              "    </tr>\n",
              "    <tr>\n",
              "      <th>name</th>\n",
              "      <td>0.000</td>\n",
              "    </tr>\n",
              "    <tr>\n",
              "      <th>products</th>\n",
              "      <td>0.000</td>\n",
              "    </tr>\n",
              "    <tr>\n",
              "      <th>price</th>\n",
              "      <td>0.000</td>\n",
              "    </tr>\n",
              "    <tr>\n",
              "      <th>colour</th>\n",
              "      <td>0.000</td>\n",
              "    </tr>\n",
              "    <tr>\n",
              "      <th>brand</th>\n",
              "      <td>0.000</td>\n",
              "    </tr>\n",
              "    <tr>\n",
              "      <th>img</th>\n",
              "      <td>0.000</td>\n",
              "    </tr>\n",
              "    <tr>\n",
              "      <th>ratingCount</th>\n",
              "      <td>54.059</td>\n",
              "    </tr>\n",
              "    <tr>\n",
              "      <th>avg_rating</th>\n",
              "      <td>54.059</td>\n",
              "    </tr>\n",
              "    <tr>\n",
              "      <th>description</th>\n",
              "      <td>0.000</td>\n",
              "    </tr>\n",
              "    <tr>\n",
              "      <th>p_attributes</th>\n",
              "      <td>0.000</td>\n",
              "    </tr>\n",
              "  </tbody>\n",
              "</table>\n",
              "</div><br><label><b>dtype:</b> float64</label>"
            ]
          },
          "metadata": {},
          "execution_count": 124
        }
      ]
    },
    {
      "cell_type": "code",
      "source": [
        "df.shape"
      ],
      "metadata": {
        "id": "wDCqRvork8U8",
        "colab": {
          "base_uri": "https://localhost:8080/"
        },
        "outputId": "d082ce74-9952-4bdd-f503-af5f16a288b5"
      },
      "execution_count": 125,
      "outputs": [
        {
          "output_type": "execute_result",
          "data": {
            "text/plain": [
              "(14214, 11)"
            ]
          },
          "metadata": {},
          "execution_count": 125
        }
      ]
    },
    {
      "cell_type": "code",
      "source": [
        "df.head(5)"
      ],
      "metadata": {
        "id": "1RI2869Zk8P1",
        "colab": {
          "base_uri": "https://localhost:8080/",
          "height": 293
        },
        "outputId": "72c02d4c-f3ef-4a74-873f-d5311b36abf4"
      },
      "execution_count": 126,
      "outputs": [
        {
          "output_type": "execute_result",
          "data": {
            "text/plain": [
              "       p_id                                               name  \\\n",
              "0  17048614  Khushal K Women Black Ethnic Motifs Printed Ku...   \n",
              "1  16524740  InWeave Women Orange Solid Kurta with Palazzos...   \n",
              "2  16331376  Anubhutee Women Navy Blue Ethnic Motifs Embroi...   \n",
              "3  14709966  Nayo Women Red Floral Printed Kurta With Trous...   \n",
              "4  11056154   AHIKA Women Black & Green Printed Straight Kurta   \n",
              "\n",
              "                                products   price     colour      brand  \\\n",
              "0               Kurta, Palazzos, Dupatta  5099.0      Black  Khushal K   \n",
              "1  Kurta, Palazzos, Floral Print Dupatta  5899.0     Orange    InWeave   \n",
              "2               Kurta, Trousers, Dupatta  4899.0  Navy Blue  Anubhutee   \n",
              "3                Kurta, Trouser, Dupatta  3699.0        Red       Nayo   \n",
              "4                                  Kurta  1350.0      Black      AHIKA   \n",
              "\n",
              "                                                 img  ratingCount  avg_rating  \\\n",
              "0  http://assets.myntassets.com/assets/images/170...       4522.0    4.418399   \n",
              "1  http://assets.myntassets.com/assets/images/165...       1081.0    4.119334   \n",
              "2  http://assets.myntassets.com/assets/images/163...       1752.0    4.161530   \n",
              "3  http://assets.myntassets.com/assets/images/147...       4113.0    4.088986   \n",
              "4  http://assets.myntassets.com/assets/images/110...      21274.0    3.978377   \n",
              "\n",
              "                                         description  \\\n",
              "0  Black printed Kurta with Palazzos with dupatta...   \n",
              "1  Orange solid Kurta with Palazzos with dupatta<...   \n",
              "2  Navy blue embroidered Kurta with Trousers with...   \n",
              "3  Red printed kurta with trouser and dupatta<br>...   \n",
              "4  Black and green printed straight kurta, has a ...   \n",
              "\n",
              "                                        p_attributes  \n",
              "0  {'Add-Ons': 'NA', 'Body Shape ID': '443,333,32...  \n",
              "1  {'Add-Ons': 'NA', 'Body Shape ID': '443,333,32...  \n",
              "2  {'Add-Ons': 'NA', 'Body Shape ID': '333,424', ...  \n",
              "3  {'Add-Ons': 'NA', 'Body Shape ID': '333,424', ...  \n",
              "4  {'Body Shape ID': '424', 'Body or Garment Size...  "
            ],
            "text/html": [
              "\n",
              "  <div id=\"df-69334e26-10e2-46c4-9ee3-b8b025dd54bf\" class=\"colab-df-container\">\n",
              "    <div>\n",
              "<style scoped>\n",
              "    .dataframe tbody tr th:only-of-type {\n",
              "        vertical-align: middle;\n",
              "    }\n",
              "\n",
              "    .dataframe tbody tr th {\n",
              "        vertical-align: top;\n",
              "    }\n",
              "\n",
              "    .dataframe thead th {\n",
              "        text-align: right;\n",
              "    }\n",
              "</style>\n",
              "<table border=\"1\" class=\"dataframe\">\n",
              "  <thead>\n",
              "    <tr style=\"text-align: right;\">\n",
              "      <th></th>\n",
              "      <th>p_id</th>\n",
              "      <th>name</th>\n",
              "      <th>products</th>\n",
              "      <th>price</th>\n",
              "      <th>colour</th>\n",
              "      <th>brand</th>\n",
              "      <th>img</th>\n",
              "      <th>ratingCount</th>\n",
              "      <th>avg_rating</th>\n",
              "      <th>description</th>\n",
              "      <th>p_attributes</th>\n",
              "    </tr>\n",
              "  </thead>\n",
              "  <tbody>\n",
              "    <tr>\n",
              "      <th>0</th>\n",
              "      <td>17048614</td>\n",
              "      <td>Khushal K Women Black Ethnic Motifs Printed Ku...</td>\n",
              "      <td>Kurta, Palazzos, Dupatta</td>\n",
              "      <td>5099.0</td>\n",
              "      <td>Black</td>\n",
              "      <td>Khushal K</td>\n",
              "      <td>http://assets.myntassets.com/assets/images/170...</td>\n",
              "      <td>4522.0</td>\n",
              "      <td>4.418399</td>\n",
              "      <td>Black printed Kurta with Palazzos with dupatta...</td>\n",
              "      <td>{'Add-Ons': 'NA', 'Body Shape ID': '443,333,32...</td>\n",
              "    </tr>\n",
              "    <tr>\n",
              "      <th>1</th>\n",
              "      <td>16524740</td>\n",
              "      <td>InWeave Women Orange Solid Kurta with Palazzos...</td>\n",
              "      <td>Kurta, Palazzos, Floral Print Dupatta</td>\n",
              "      <td>5899.0</td>\n",
              "      <td>Orange</td>\n",
              "      <td>InWeave</td>\n",
              "      <td>http://assets.myntassets.com/assets/images/165...</td>\n",
              "      <td>1081.0</td>\n",
              "      <td>4.119334</td>\n",
              "      <td>Orange solid Kurta with Palazzos with dupatta&lt;...</td>\n",
              "      <td>{'Add-Ons': 'NA', 'Body Shape ID': '443,333,32...</td>\n",
              "    </tr>\n",
              "    <tr>\n",
              "      <th>2</th>\n",
              "      <td>16331376</td>\n",
              "      <td>Anubhutee Women Navy Blue Ethnic Motifs Embroi...</td>\n",
              "      <td>Kurta, Trousers, Dupatta</td>\n",
              "      <td>4899.0</td>\n",
              "      <td>Navy Blue</td>\n",
              "      <td>Anubhutee</td>\n",
              "      <td>http://assets.myntassets.com/assets/images/163...</td>\n",
              "      <td>1752.0</td>\n",
              "      <td>4.161530</td>\n",
              "      <td>Navy blue embroidered Kurta with Trousers with...</td>\n",
              "      <td>{'Add-Ons': 'NA', 'Body Shape ID': '333,424', ...</td>\n",
              "    </tr>\n",
              "    <tr>\n",
              "      <th>3</th>\n",
              "      <td>14709966</td>\n",
              "      <td>Nayo Women Red Floral Printed Kurta With Trous...</td>\n",
              "      <td>Kurta, Trouser, Dupatta</td>\n",
              "      <td>3699.0</td>\n",
              "      <td>Red</td>\n",
              "      <td>Nayo</td>\n",
              "      <td>http://assets.myntassets.com/assets/images/147...</td>\n",
              "      <td>4113.0</td>\n",
              "      <td>4.088986</td>\n",
              "      <td>Red printed kurta with trouser and dupatta&lt;br&gt;...</td>\n",
              "      <td>{'Add-Ons': 'NA', 'Body Shape ID': '333,424', ...</td>\n",
              "    </tr>\n",
              "    <tr>\n",
              "      <th>4</th>\n",
              "      <td>11056154</td>\n",
              "      <td>AHIKA Women Black &amp; Green Printed Straight Kurta</td>\n",
              "      <td>Kurta</td>\n",
              "      <td>1350.0</td>\n",
              "      <td>Black</td>\n",
              "      <td>AHIKA</td>\n",
              "      <td>http://assets.myntassets.com/assets/images/110...</td>\n",
              "      <td>21274.0</td>\n",
              "      <td>3.978377</td>\n",
              "      <td>Black and green printed straight kurta, has a ...</td>\n",
              "      <td>{'Body Shape ID': '424', 'Body or Garment Size...</td>\n",
              "    </tr>\n",
              "  </tbody>\n",
              "</table>\n",
              "</div>\n",
              "    <div class=\"colab-df-buttons\">\n",
              "\n",
              "  <div class=\"colab-df-container\">\n",
              "    <button class=\"colab-df-convert\" onclick=\"convertToInteractive('df-69334e26-10e2-46c4-9ee3-b8b025dd54bf')\"\n",
              "            title=\"Convert this dataframe to an interactive table.\"\n",
              "            style=\"display:none;\">\n",
              "\n",
              "  <svg xmlns=\"http://www.w3.org/2000/svg\" height=\"24px\" viewBox=\"0 -960 960 960\">\n",
              "    <path d=\"M120-120v-720h720v720H120Zm60-500h600v-160H180v160Zm220 220h160v-160H400v160Zm0 220h160v-160H400v160ZM180-400h160v-160H180v160Zm440 0h160v-160H620v160ZM180-180h160v-160H180v160Zm440 0h160v-160H620v160Z\"/>\n",
              "  </svg>\n",
              "    </button>\n",
              "\n",
              "  <style>\n",
              "    .colab-df-container {\n",
              "      display:flex;\n",
              "      gap: 12px;\n",
              "    }\n",
              "\n",
              "    .colab-df-convert {\n",
              "      background-color: #E8F0FE;\n",
              "      border: none;\n",
              "      border-radius: 50%;\n",
              "      cursor: pointer;\n",
              "      display: none;\n",
              "      fill: #1967D2;\n",
              "      height: 32px;\n",
              "      padding: 0 0 0 0;\n",
              "      width: 32px;\n",
              "    }\n",
              "\n",
              "    .colab-df-convert:hover {\n",
              "      background-color: #E2EBFA;\n",
              "      box-shadow: 0px 1px 2px rgba(60, 64, 67, 0.3), 0px 1px 3px 1px rgba(60, 64, 67, 0.15);\n",
              "      fill: #174EA6;\n",
              "    }\n",
              "\n",
              "    .colab-df-buttons div {\n",
              "      margin-bottom: 4px;\n",
              "    }\n",
              "\n",
              "    [theme=dark] .colab-df-convert {\n",
              "      background-color: #3B4455;\n",
              "      fill: #D2E3FC;\n",
              "    }\n",
              "\n",
              "    [theme=dark] .colab-df-convert:hover {\n",
              "      background-color: #434B5C;\n",
              "      box-shadow: 0px 1px 3px 1px rgba(0, 0, 0, 0.15);\n",
              "      filter: drop-shadow(0px 1px 2px rgba(0, 0, 0, 0.3));\n",
              "      fill: #FFFFFF;\n",
              "    }\n",
              "  </style>\n",
              "\n",
              "    <script>\n",
              "      const buttonEl =\n",
              "        document.querySelector('#df-69334e26-10e2-46c4-9ee3-b8b025dd54bf button.colab-df-convert');\n",
              "      buttonEl.style.display =\n",
              "        google.colab.kernel.accessAllowed ? 'block' : 'none';\n",
              "\n",
              "      async function convertToInteractive(key) {\n",
              "        const element = document.querySelector('#df-69334e26-10e2-46c4-9ee3-b8b025dd54bf');\n",
              "        const dataTable =\n",
              "          await google.colab.kernel.invokeFunction('convertToInteractive',\n",
              "                                                    [key], {});\n",
              "        if (!dataTable) return;\n",
              "\n",
              "        const docLinkHtml = 'Like what you see? Visit the ' +\n",
              "          '<a target=\"_blank\" href=https://colab.research.google.com/notebooks/data_table.ipynb>data table notebook</a>'\n",
              "          + ' to learn more about interactive tables.';\n",
              "        element.innerHTML = '';\n",
              "        dataTable['output_type'] = 'display_data';\n",
              "        await google.colab.output.renderOutput(dataTable, element);\n",
              "        const docLink = document.createElement('div');\n",
              "        docLink.innerHTML = docLinkHtml;\n",
              "        element.appendChild(docLink);\n",
              "      }\n",
              "    </script>\n",
              "  </div>\n",
              "\n",
              "\n",
              "    <div id=\"df-4105e70f-3310-402a-a3ff-539384147761\">\n",
              "      <button class=\"colab-df-quickchart\" onclick=\"quickchart('df-4105e70f-3310-402a-a3ff-539384147761')\"\n",
              "                title=\"Suggest charts\"\n",
              "                style=\"display:none;\">\n",
              "\n",
              "<svg xmlns=\"http://www.w3.org/2000/svg\" height=\"24px\"viewBox=\"0 0 24 24\"\n",
              "     width=\"24px\">\n",
              "    <g>\n",
              "        <path d=\"M19 3H5c-1.1 0-2 .9-2 2v14c0 1.1.9 2 2 2h14c1.1 0 2-.9 2-2V5c0-1.1-.9-2-2-2zM9 17H7v-7h2v7zm4 0h-2V7h2v10zm4 0h-2v-4h2v4z\"/>\n",
              "    </g>\n",
              "</svg>\n",
              "      </button>\n",
              "\n",
              "<style>\n",
              "  .colab-df-quickchart {\n",
              "      --bg-color: #E8F0FE;\n",
              "      --fill-color: #1967D2;\n",
              "      --hover-bg-color: #E2EBFA;\n",
              "      --hover-fill-color: #174EA6;\n",
              "      --disabled-fill-color: #AAA;\n",
              "      --disabled-bg-color: #DDD;\n",
              "  }\n",
              "\n",
              "  [theme=dark] .colab-df-quickchart {\n",
              "      --bg-color: #3B4455;\n",
              "      --fill-color: #D2E3FC;\n",
              "      --hover-bg-color: #434B5C;\n",
              "      --hover-fill-color: #FFFFFF;\n",
              "      --disabled-bg-color: #3B4455;\n",
              "      --disabled-fill-color: #666;\n",
              "  }\n",
              "\n",
              "  .colab-df-quickchart {\n",
              "    background-color: var(--bg-color);\n",
              "    border: none;\n",
              "    border-radius: 50%;\n",
              "    cursor: pointer;\n",
              "    display: none;\n",
              "    fill: var(--fill-color);\n",
              "    height: 32px;\n",
              "    padding: 0;\n",
              "    width: 32px;\n",
              "  }\n",
              "\n",
              "  .colab-df-quickchart:hover {\n",
              "    background-color: var(--hover-bg-color);\n",
              "    box-shadow: 0 1px 2px rgba(60, 64, 67, 0.3), 0 1px 3px 1px rgba(60, 64, 67, 0.15);\n",
              "    fill: var(--button-hover-fill-color);\n",
              "  }\n",
              "\n",
              "  .colab-df-quickchart-complete:disabled,\n",
              "  .colab-df-quickchart-complete:disabled:hover {\n",
              "    background-color: var(--disabled-bg-color);\n",
              "    fill: var(--disabled-fill-color);\n",
              "    box-shadow: none;\n",
              "  }\n",
              "\n",
              "  .colab-df-spinner {\n",
              "    border: 2px solid var(--fill-color);\n",
              "    border-color: transparent;\n",
              "    border-bottom-color: var(--fill-color);\n",
              "    animation:\n",
              "      spin 1s steps(1) infinite;\n",
              "  }\n",
              "\n",
              "  @keyframes spin {\n",
              "    0% {\n",
              "      border-color: transparent;\n",
              "      border-bottom-color: var(--fill-color);\n",
              "      border-left-color: var(--fill-color);\n",
              "    }\n",
              "    20% {\n",
              "      border-color: transparent;\n",
              "      border-left-color: var(--fill-color);\n",
              "      border-top-color: var(--fill-color);\n",
              "    }\n",
              "    30% {\n",
              "      border-color: transparent;\n",
              "      border-left-color: var(--fill-color);\n",
              "      border-top-color: var(--fill-color);\n",
              "      border-right-color: var(--fill-color);\n",
              "    }\n",
              "    40% {\n",
              "      border-color: transparent;\n",
              "      border-right-color: var(--fill-color);\n",
              "      border-top-color: var(--fill-color);\n",
              "    }\n",
              "    60% {\n",
              "      border-color: transparent;\n",
              "      border-right-color: var(--fill-color);\n",
              "    }\n",
              "    80% {\n",
              "      border-color: transparent;\n",
              "      border-right-color: var(--fill-color);\n",
              "      border-bottom-color: var(--fill-color);\n",
              "    }\n",
              "    90% {\n",
              "      border-color: transparent;\n",
              "      border-bottom-color: var(--fill-color);\n",
              "    }\n",
              "  }\n",
              "</style>\n",
              "\n",
              "      <script>\n",
              "        async function quickchart(key) {\n",
              "          const quickchartButtonEl =\n",
              "            document.querySelector('#' + key + ' button');\n",
              "          quickchartButtonEl.disabled = true;  // To prevent multiple clicks.\n",
              "          quickchartButtonEl.classList.add('colab-df-spinner');\n",
              "          try {\n",
              "            const charts = await google.colab.kernel.invokeFunction(\n",
              "                'suggestCharts', [key], {});\n",
              "          } catch (error) {\n",
              "            console.error('Error during call to suggestCharts:', error);\n",
              "          }\n",
              "          quickchartButtonEl.classList.remove('colab-df-spinner');\n",
              "          quickchartButtonEl.classList.add('colab-df-quickchart-complete');\n",
              "        }\n",
              "        (() => {\n",
              "          let quickchartButtonEl =\n",
              "            document.querySelector('#df-4105e70f-3310-402a-a3ff-539384147761 button');\n",
              "          quickchartButtonEl.style.display =\n",
              "            google.colab.kernel.accessAllowed ? 'block' : 'none';\n",
              "        })();\n",
              "      </script>\n",
              "    </div>\n",
              "\n",
              "    </div>\n",
              "  </div>\n"
            ],
            "application/vnd.google.colaboratory.intrinsic+json": {
              "type": "dataframe",
              "variable_name": "df",
              "summary": "{\n  \"name\": \"df\",\n  \"rows\": 14214,\n  \"fields\": [\n    {\n      \"column\": \"p_id\",\n      \"properties\": {\n        \"dtype\": \"number\",\n        \"std\": 3152415,\n        \"min\": 70166,\n        \"max\": 19415760,\n        \"num_unique_values\": 14214,\n        \"samples\": [\n          18688460,\n          17441634,\n          14179076\n        ],\n        \"semantic_type\": \"\",\n        \"description\": \"\"\n      }\n    },\n    {\n      \"column\": \"name\",\n      \"properties\": {\n        \"dtype\": \"string\",\n        \"num_unique_values\": 13873,\n        \"samples\": [\n          \"Clora Creation Women Off White Floral Embroidered Palazzos\",\n          \"MANGO Women Red & Beige Abstract Print A-Line Top\",\n          \"Clora Creation Navy Blue Woven Design Banarsi Silk Dupatta\"\n        ],\n        \"semantic_type\": \"\",\n        \"description\": \"\"\n      }\n    },\n    {\n      \"column\": \"products\",\n      \"properties\": {\n        \"dtype\": \"category\",\n        \"num_unique_values\": 910,\n        \"samples\": [\n          \"Hoodie, Plus Size\",\n          \"Top, Palazzos, Ethnic Jacket\",\n          \"Jeans, Culottes, Trousers\"\n        ],\n        \"semantic_type\": \"\",\n        \"description\": \"\"\n      }\n    },\n    {\n      \"column\": \"price\",\n      \"properties\": {\n        \"dtype\": \"number\",\n        \"std\": 2570.2329882965837,\n        \"min\": 169.0,\n        \"max\": 47999.0,\n        \"num_unique_values\": 1209,\n        \"samples\": [\n          2259.0,\n          475.0,\n          4590.0\n        ],\n        \"semantic_type\": \"\",\n        \"description\": \"\"\n      }\n    },\n    {\n      \"column\": \"colour\",\n      \"properties\": {\n        \"dtype\": \"category\",\n        \"num_unique_values\": 50,\n        \"samples\": [\n          \"Sea Green\",\n          \"Gold\",\n          \"Rust\"\n        ],\n        \"semantic_type\": \"\",\n        \"description\": \"\"\n      }\n    },\n    {\n      \"column\": \"brand\",\n      \"properties\": {\n        \"dtype\": \"category\",\n        \"num_unique_values\": 1022,\n        \"samples\": [\n          \"Zigo\",\n          \"Reistor\",\n          \"SERONA FABRICS\"\n        ],\n        \"semantic_type\": \"\",\n        \"description\": \"\"\n      }\n    },\n    {\n      \"column\": \"img\",\n      \"properties\": {\n        \"dtype\": \"string\",\n        \"num_unique_values\": 14214,\n        \"samples\": [\n          \"http://assets.myntassets.com/assets/images/18688460/2022/6/9/91ab90ee-c162-4d9f-9e4e-4f9c0cd7865a1654782377953Skirts1.jpg\",\n          \"http://assets.myntassets.com/assets/images/17441634/2022/3/8/1d50e24c-e7bf-4e62-8a96-9625b530f4751646740866170Jackets1.jpg\",\n          \"http://assets.myntassets.com/assets/images/14179076/2021/6/24/fdb8118a-1946-4b43-9ee7-c52146e004151624527103903-DressBerry-Women-Sweaters-5311624527103479-1.jpg\"\n        ],\n        \"semantic_type\": \"\",\n        \"description\": \"\"\n      }\n    },\n    {\n      \"column\": \"ratingCount\",\n      \"properties\": {\n        \"dtype\": \"number\",\n        \"std\": 782.4649724046869,\n        \"min\": 1.0,\n        \"max\": 21274.0,\n        \"num_unique_values\": 829,\n        \"samples\": [\n          897.0,\n          173.0,\n          592.0\n        ],\n        \"semantic_type\": \"\",\n        \"description\": \"\"\n      }\n    },\n    {\n      \"column\": \"avg_rating\",\n      \"properties\": {\n        \"dtype\": \"number\",\n        \"std\": 0.4757558612927901,\n        \"min\": 1.0,\n        \"max\": 5.0,\n        \"num_unique_values\": 2367,\n        \"samples\": [\n          3.771084337349397,\n          4.496644295302014,\n          3.631578947368421\n        ],\n        \"semantic_type\": \"\",\n        \"description\": \"\"\n      }\n    },\n    {\n      \"column\": \"description\",\n      \"properties\": {\n        \"dtype\": \"string\",\n        \"num_unique_values\": 14181,\n        \"samples\": [\n          \"<p>Off-white, blue and burgundy floral printed flared maxi skirt, has a partially elasticated waistband, slip-on closure, flared hem and is lined</p><p>Viscose rayon<br>Machine-wash<br>Do not bleach</p><p>The model (height 5'8\\\") is wearing a size 28</p>\",\n          \"Burgundy solid basic jumpsuit, has a keyhole neckline, sleeveless, and two pockets<br>Comes with a beltMaterial: Polyester crepe<br>Machine WashThe model (height 5'8'') is wearing a size S\",\n          \"Grey abstract printed insulator quilted jacket,  has a hooded,  2  pockets ,has a zip closure, long sleeves,  straight  hemline, polyester  lining<br><br>Warranty: 1 month<br>Warranty provided by brand/manufacturerOuter shell: Polyester <br> Lining fabric: Polyester <br> Machine washThe model (height 5'8) is wearing a size S<br><br>Columbia runs a size bigger. Pick one size smaller for a more comfortable fit.\"\n        ],\n        \"semantic_type\": \"\",\n        \"description\": \"\"\n      }\n    },\n    {\n      \"column\": \"p_attributes\",\n      \"properties\": {\n        \"dtype\": \"string\",\n        \"num_unique_values\": 13089,\n        \"samples\": [\n          \"{'Body or Garment Size': 'Garment Measurements in', 'Closure': 'NA', 'Fabric': 'Cotton', 'Main Trend': 'NA', 'Neck': 'Shoulder Straps', 'Number of Pockets': 'NA', 'Occasion': 'Casual', 'Pattern': 'Solid', 'Sleeve Length': 'Sleeveless', 'Surface Styling': 'Gathers', 'Sustainable': 'Regular', 'Type': 'Playsuit', 'Wash Care': 'Hand Wash'}\",\n          \"{'Border': 'Woven Design', 'Fabric': 'Art Silk', 'Occasion': 'Party', 'Ornamentation': 'Gotta Patti', 'Pattern': 'Printed', 'Print or Pattern Type': 'Bandhani', 'Sustainable': 'Regular', 'Technique': 'Bandhani', 'Wash Care': 'Machine Wash', 'Wedding': 'Bride & Wedding Squad'}\",\n          \"{'Body Shape ID': '443,333,324,424', 'Body or Garment Size': 'To-Fit Denotes Body Measurements in', 'Center Front Open': 'No', 'Character': 'NA', 'Closure': 'Tie-Ups', 'Fabric': 'Pure Cotton', 'Fabric Type': 'NA', 'Length': 'Regular', 'Lining': 'NA', 'Main Trend': 'Conversational Print', 'Multipack Set': 'NA', 'Neck': 'Shoulder Straps', 'Occasion': 'Ethnic', 'Pattern': 'Printed', 'Print or Pattern Type': 'Conversational', 'Sleeve Length': 'Sleeveless', 'Sleeve Styling': 'No Sleeves', 'Surface Styling': 'Tie-Ups', 'Sustainable': 'Regular', 'Transparency': 'Opaque', 'Type': 'Regular', 'Wash Care': 'Hand Wash', 'Weave Type': 'Woven', 'taxMaterial': 'NA'}\"\n        ],\n        \"semantic_type\": \"\",\n        \"description\": \"\"\n      }\n    }\n  ]\n}"
            }
          },
          "metadata": {},
          "execution_count": 126
        }
      ]
    },
    {
      "cell_type": "code",
      "source": [
        "class clean_datas:\n",
        "\n",
        "  def cleandata(self, df):\n",
        "    df[\"products\"] = df[\"products\"].str.lower()\n",
        "    df[\"colour\"] = df[\"colour\"].str.lower()\n",
        "    df[\"brand\"] = df[\"brand\"].str.lower()\n",
        "    self.clean_description(df)\n",
        "    self.clean_p_attributes(df)\n",
        "    self.merge_cols(df)\n",
        "\n",
        "  ## clean description column\n",
        "  def clean_description(self, df):\n",
        "    df[\"description\"] = df[\"description\"].apply(lambda x: x.lower())\n",
        "    htmltags = re.compile(\"(<.*?>)|&nbsp;|&amp;|[;|]+\")\n",
        "    df[\"description\"] = df[\"description\"].apply(lambda x: re.sub(htmltags, \", \", x))\n",
        "    puncts = re.compile(r\"[ \\(\\)]+\")\n",
        "    df[\"description\"] = df[\"description\"].apply(lambda x: re.sub(puncts, \" \", x))\n",
        "    s_quote = re.compile(r\"[',]{2,}|(, ,)+\")\n",
        "    df[\"description\"] = df[\"description\"].apply(lambda x: re.sub(s_quote, \"\", x))\n",
        "    df[\"description\"] = df[\"description\"].apply(lambda x: re.sub(\"(?i)(size s)\", \"size s, \", x))\n",
        "    df[\"description\"] = df[\"description\"].apply(lambda x: re.sub(\"(?i)(size m)\", \"size m, \", x))\n",
        "    df[\"description\"] = df[\"description\"].apply(lambda x: re.sub(\"(?i)(size l)\", \"size l, \", x))\n",
        "    spaces = re.compile(r\" {2,}\")\n",
        "    df[\"description\"] = df[\"description\"].apply(lambda x: re.sub(spaces, \" \", x).strip())\n",
        "    df[\"description\"] = df[\"description\"].apply(lambda x: re.sub(\" *,$\", \"\", x))\n",
        "\n",
        "  ## Clean p_attributes column\n",
        "  def clean_p_attributes(self, df):\n",
        "    dict_list = []\n",
        "    pattr_keys_toremove = [\"body shape id\", \"body or garment size\"]\n",
        "\n",
        "    htmltags = re.compile(r\"(<.*?>)?(\\\\r|\\\\n)\")\n",
        "    df[\"p_attributes\"] = df[\"p_attributes\"].apply(lambda x: re.sub(htmltags, \" \", x))\n",
        "    if not isinstance(df.loc[0, \"p_attributes\"], dict):\n",
        "      df['p_attributes'] = df['p_attributes'].apply(lambda x: ast.literal_eval(x))\n",
        "    ## Remove Chosen keys from dictionaries\n",
        "    df[\"p_attributes\"] = [{key.lower(): val.lower() for key, val in dicts.items() if key.lower() not in pattr_keys_toremove and val != 'NA' and val != 'None' and val != ''} for dicts in list(df[\"p_attributes\"].values)]\n",
        "    ## Convert to String and Replace\n",
        "    df[\"p_attributes\"] = df[\"p_attributes\"].astype(\"str\")\n",
        "    df[\"p_attributes\"] = df['p_attributes'].replace({\":\": \" is \", \",\": \".\", \"[{}\\']\": \"\", \" +\": \" \"}, regex=True)\n",
        "    df[\"p_attributes\"] = df[\"p_attributes\"].apply(lambda x: x.lower())\n",
        "\n",
        "  ## Merge columns Product name, Products, price with description column\n",
        "  def merge_cols(self, df):\n",
        "    df[\"metadata\"] = df.apply(lambda x: {\"products\": x[\"products\"].replace(\" \", \"\").split(\",\"), \"colour\": x[\"colour\"], \"brand\": x[\"brand\"], \"price\": x[\"price\"]}, axis=1)\n",
        "    for ind in range(0, df.shape[0]):\n",
        "      df.loc[ind, \"description\"] = f\"Product name is {df['name'][ind]}.\" + df.loc[ind, \"description\"] + f\"{df['p_attributes'][ind]}\"\n"
      ],
      "metadata": {
        "id": "aSK5jZ82jdME"
      },
      "execution_count": 127,
      "outputs": []
    },
    {
      "cell_type": "code",
      "source": [
        "cleanData = clean_datas()\n",
        "cleanData.cleandata(df)"
      ],
      "metadata": {
        "id": "cTUTYM0r1_sh"
      },
      "execution_count": 128,
      "outputs": []
    },
    {
      "cell_type": "code",
      "source": [
        "## Find length for each row of description column\n",
        "df[\"desc_len\"] = df['description'].apply(lambda x: len(x.split()))"
      ],
      "metadata": {
        "id": "qOtdLKbrDRgN"
      },
      "execution_count": 129,
      "outputs": []
    },
    {
      "cell_type": "code",
      "source": [
        "df['p_id'] = df['p_id'].astype(\"str\")"
      ],
      "metadata": {
        "id": "y5kwscQ7Vyiu"
      },
      "execution_count": 131,
      "outputs": []
    },
    {
      "cell_type": "code",
      "source": [
        "myntra = df.drop([\"ratingCount\", \"avg_rating\", \"name\", \"p_attributes\", \"products\", \"price\", \"colour\", \"brand\", \"img\"], axis=1)"
      ],
      "metadata": {
        "id": "hF5t3esuCZP8"
      },
      "execution_count": 132,
      "outputs": []
    },
    {
      "cell_type": "code",
      "source": [
        "myntra.head(5)"
      ],
      "metadata": {
        "id": "INrHcwLVDRbF",
        "colab": {
          "base_uri": "https://localhost:8080/",
          "height": 206
        },
        "outputId": "ac898807-2672-4fb2-b720-612b4d168456"
      },
      "execution_count": 133,
      "outputs": [
        {
          "output_type": "execute_result",
          "data": {
            "text/plain": [
              "       p_id                                                img  \\\n",
              "0  17048614  http://assets.myntassets.com/assets/images/170...   \n",
              "1  16524740  http://assets.myntassets.com/assets/images/165...   \n",
              "2  16331376  http://assets.myntassets.com/assets/images/163...   \n",
              "3  14709966  http://assets.myntassets.com/assets/images/147...   \n",
              "4  11056154  http://assets.myntassets.com/assets/images/110...   \n",
              "\n",
              "                                         description  \\\n",
              "0  Product name is Khushal K Women Black Ethnic M...   \n",
              "1  Product name is InWeave Women Orange Solid Kur...   \n",
              "2  Product name is Anubhutee Women Navy Blue Ethn...   \n",
              "3  Product name is Nayo Women Red Floral Printed ...   \n",
              "4  Product name is AHIKA Women Black & Green Prin...   \n",
              "\n",
              "                                            metadata  desc_len  \n",
              "0  {'products': ['kurta', 'palazzos', 'dupatta'],...       202  \n",
              "1  {'products': ['kurta', 'palazzos', 'floralprin...       190  \n",
              "2  {'products': ['kurta', 'trousers', 'dupatta'],...       199  \n",
              "3  {'products': ['kurta', 'trouser', 'dupatta'], ...       206  \n",
              "4  {'products': ['kurta'], 'colour': 'black', 'br...       113  "
            ],
            "text/html": [
              "\n",
              "  <div id=\"df-8f4e70e1-3288-41e6-8036-842d5e3957e0\" class=\"colab-df-container\">\n",
              "    <div>\n",
              "<style scoped>\n",
              "    .dataframe tbody tr th:only-of-type {\n",
              "        vertical-align: middle;\n",
              "    }\n",
              "\n",
              "    .dataframe tbody tr th {\n",
              "        vertical-align: top;\n",
              "    }\n",
              "\n",
              "    .dataframe thead th {\n",
              "        text-align: right;\n",
              "    }\n",
              "</style>\n",
              "<table border=\"1\" class=\"dataframe\">\n",
              "  <thead>\n",
              "    <tr style=\"text-align: right;\">\n",
              "      <th></th>\n",
              "      <th>p_id</th>\n",
              "      <th>img</th>\n",
              "      <th>description</th>\n",
              "      <th>metadata</th>\n",
              "      <th>desc_len</th>\n",
              "    </tr>\n",
              "  </thead>\n",
              "  <tbody>\n",
              "    <tr>\n",
              "      <th>0</th>\n",
              "      <td>17048614</td>\n",
              "      <td>http://assets.myntassets.com/assets/images/170...</td>\n",
              "      <td>Product name is Khushal K Women Black Ethnic M...</td>\n",
              "      <td>{'products': ['kurta', 'palazzos', 'dupatta'],...</td>\n",
              "      <td>202</td>\n",
              "    </tr>\n",
              "    <tr>\n",
              "      <th>1</th>\n",
              "      <td>16524740</td>\n",
              "      <td>http://assets.myntassets.com/assets/images/165...</td>\n",
              "      <td>Product name is InWeave Women Orange Solid Kur...</td>\n",
              "      <td>{'products': ['kurta', 'palazzos', 'floralprin...</td>\n",
              "      <td>190</td>\n",
              "    </tr>\n",
              "    <tr>\n",
              "      <th>2</th>\n",
              "      <td>16331376</td>\n",
              "      <td>http://assets.myntassets.com/assets/images/163...</td>\n",
              "      <td>Product name is Anubhutee Women Navy Blue Ethn...</td>\n",
              "      <td>{'products': ['kurta', 'trousers', 'dupatta'],...</td>\n",
              "      <td>199</td>\n",
              "    </tr>\n",
              "    <tr>\n",
              "      <th>3</th>\n",
              "      <td>14709966</td>\n",
              "      <td>http://assets.myntassets.com/assets/images/147...</td>\n",
              "      <td>Product name is Nayo Women Red Floral Printed ...</td>\n",
              "      <td>{'products': ['kurta', 'trouser', 'dupatta'], ...</td>\n",
              "      <td>206</td>\n",
              "    </tr>\n",
              "    <tr>\n",
              "      <th>4</th>\n",
              "      <td>11056154</td>\n",
              "      <td>http://assets.myntassets.com/assets/images/110...</td>\n",
              "      <td>Product name is AHIKA Women Black &amp; Green Prin...</td>\n",
              "      <td>{'products': ['kurta'], 'colour': 'black', 'br...</td>\n",
              "      <td>113</td>\n",
              "    </tr>\n",
              "  </tbody>\n",
              "</table>\n",
              "</div>\n",
              "    <div class=\"colab-df-buttons\">\n",
              "\n",
              "  <div class=\"colab-df-container\">\n",
              "    <button class=\"colab-df-convert\" onclick=\"convertToInteractive('df-8f4e70e1-3288-41e6-8036-842d5e3957e0')\"\n",
              "            title=\"Convert this dataframe to an interactive table.\"\n",
              "            style=\"display:none;\">\n",
              "\n",
              "  <svg xmlns=\"http://www.w3.org/2000/svg\" height=\"24px\" viewBox=\"0 -960 960 960\">\n",
              "    <path d=\"M120-120v-720h720v720H120Zm60-500h600v-160H180v160Zm220 220h160v-160H400v160Zm0 220h160v-160H400v160ZM180-400h160v-160H180v160Zm440 0h160v-160H620v160ZM180-180h160v-160H180v160Zm440 0h160v-160H620v160Z\"/>\n",
              "  </svg>\n",
              "    </button>\n",
              "\n",
              "  <style>\n",
              "    .colab-df-container {\n",
              "      display:flex;\n",
              "      gap: 12px;\n",
              "    }\n",
              "\n",
              "    .colab-df-convert {\n",
              "      background-color: #E8F0FE;\n",
              "      border: none;\n",
              "      border-radius: 50%;\n",
              "      cursor: pointer;\n",
              "      display: none;\n",
              "      fill: #1967D2;\n",
              "      height: 32px;\n",
              "      padding: 0 0 0 0;\n",
              "      width: 32px;\n",
              "    }\n",
              "\n",
              "    .colab-df-convert:hover {\n",
              "      background-color: #E2EBFA;\n",
              "      box-shadow: 0px 1px 2px rgba(60, 64, 67, 0.3), 0px 1px 3px 1px rgba(60, 64, 67, 0.15);\n",
              "      fill: #174EA6;\n",
              "    }\n",
              "\n",
              "    .colab-df-buttons div {\n",
              "      margin-bottom: 4px;\n",
              "    }\n",
              "\n",
              "    [theme=dark] .colab-df-convert {\n",
              "      background-color: #3B4455;\n",
              "      fill: #D2E3FC;\n",
              "    }\n",
              "\n",
              "    [theme=dark] .colab-df-convert:hover {\n",
              "      background-color: #434B5C;\n",
              "      box-shadow: 0px 1px 3px 1px rgba(0, 0, 0, 0.15);\n",
              "      filter: drop-shadow(0px 1px 2px rgba(0, 0, 0, 0.3));\n",
              "      fill: #FFFFFF;\n",
              "    }\n",
              "  </style>\n",
              "\n",
              "    <script>\n",
              "      const buttonEl =\n",
              "        document.querySelector('#df-8f4e70e1-3288-41e6-8036-842d5e3957e0 button.colab-df-convert');\n",
              "      buttonEl.style.display =\n",
              "        google.colab.kernel.accessAllowed ? 'block' : 'none';\n",
              "\n",
              "      async function convertToInteractive(key) {\n",
              "        const element = document.querySelector('#df-8f4e70e1-3288-41e6-8036-842d5e3957e0');\n",
              "        const dataTable =\n",
              "          await google.colab.kernel.invokeFunction('convertToInteractive',\n",
              "                                                    [key], {});\n",
              "        if (!dataTable) return;\n",
              "\n",
              "        const docLinkHtml = 'Like what you see? Visit the ' +\n",
              "          '<a target=\"_blank\" href=https://colab.research.google.com/notebooks/data_table.ipynb>data table notebook</a>'\n",
              "          + ' to learn more about interactive tables.';\n",
              "        element.innerHTML = '';\n",
              "        dataTable['output_type'] = 'display_data';\n",
              "        await google.colab.output.renderOutput(dataTable, element);\n",
              "        const docLink = document.createElement('div');\n",
              "        docLink.innerHTML = docLinkHtml;\n",
              "        element.appendChild(docLink);\n",
              "      }\n",
              "    </script>\n",
              "  </div>\n",
              "\n",
              "\n",
              "    <div id=\"df-f31e16bc-fac5-4d53-9d16-362b3e4a409b\">\n",
              "      <button class=\"colab-df-quickchart\" onclick=\"quickchart('df-f31e16bc-fac5-4d53-9d16-362b3e4a409b')\"\n",
              "                title=\"Suggest charts\"\n",
              "                style=\"display:none;\">\n",
              "\n",
              "<svg xmlns=\"http://www.w3.org/2000/svg\" height=\"24px\"viewBox=\"0 0 24 24\"\n",
              "     width=\"24px\">\n",
              "    <g>\n",
              "        <path d=\"M19 3H5c-1.1 0-2 .9-2 2v14c0 1.1.9 2 2 2h14c1.1 0 2-.9 2-2V5c0-1.1-.9-2-2-2zM9 17H7v-7h2v7zm4 0h-2V7h2v10zm4 0h-2v-4h2v4z\"/>\n",
              "    </g>\n",
              "</svg>\n",
              "      </button>\n",
              "\n",
              "<style>\n",
              "  .colab-df-quickchart {\n",
              "      --bg-color: #E8F0FE;\n",
              "      --fill-color: #1967D2;\n",
              "      --hover-bg-color: #E2EBFA;\n",
              "      --hover-fill-color: #174EA6;\n",
              "      --disabled-fill-color: #AAA;\n",
              "      --disabled-bg-color: #DDD;\n",
              "  }\n",
              "\n",
              "  [theme=dark] .colab-df-quickchart {\n",
              "      --bg-color: #3B4455;\n",
              "      --fill-color: #D2E3FC;\n",
              "      --hover-bg-color: #434B5C;\n",
              "      --hover-fill-color: #FFFFFF;\n",
              "      --disabled-bg-color: #3B4455;\n",
              "      --disabled-fill-color: #666;\n",
              "  }\n",
              "\n",
              "  .colab-df-quickchart {\n",
              "    background-color: var(--bg-color);\n",
              "    border: none;\n",
              "    border-radius: 50%;\n",
              "    cursor: pointer;\n",
              "    display: none;\n",
              "    fill: var(--fill-color);\n",
              "    height: 32px;\n",
              "    padding: 0;\n",
              "    width: 32px;\n",
              "  }\n",
              "\n",
              "  .colab-df-quickchart:hover {\n",
              "    background-color: var(--hover-bg-color);\n",
              "    box-shadow: 0 1px 2px rgba(60, 64, 67, 0.3), 0 1px 3px 1px rgba(60, 64, 67, 0.15);\n",
              "    fill: var(--button-hover-fill-color);\n",
              "  }\n",
              "\n",
              "  .colab-df-quickchart-complete:disabled,\n",
              "  .colab-df-quickchart-complete:disabled:hover {\n",
              "    background-color: var(--disabled-bg-color);\n",
              "    fill: var(--disabled-fill-color);\n",
              "    box-shadow: none;\n",
              "  }\n",
              "\n",
              "  .colab-df-spinner {\n",
              "    border: 2px solid var(--fill-color);\n",
              "    border-color: transparent;\n",
              "    border-bottom-color: var(--fill-color);\n",
              "    animation:\n",
              "      spin 1s steps(1) infinite;\n",
              "  }\n",
              "\n",
              "  @keyframes spin {\n",
              "    0% {\n",
              "      border-color: transparent;\n",
              "      border-bottom-color: var(--fill-color);\n",
              "      border-left-color: var(--fill-color);\n",
              "    }\n",
              "    20% {\n",
              "      border-color: transparent;\n",
              "      border-left-color: var(--fill-color);\n",
              "      border-top-color: var(--fill-color);\n",
              "    }\n",
              "    30% {\n",
              "      border-color: transparent;\n",
              "      border-left-color: var(--fill-color);\n",
              "      border-top-color: var(--fill-color);\n",
              "      border-right-color: var(--fill-color);\n",
              "    }\n",
              "    40% {\n",
              "      border-color: transparent;\n",
              "      border-right-color: var(--fill-color);\n",
              "      border-top-color: var(--fill-color);\n",
              "    }\n",
              "    60% {\n",
              "      border-color: transparent;\n",
              "      border-right-color: var(--fill-color);\n",
              "    }\n",
              "    80% {\n",
              "      border-color: transparent;\n",
              "      border-right-color: var(--fill-color);\n",
              "      border-bottom-color: var(--fill-color);\n",
              "    }\n",
              "    90% {\n",
              "      border-color: transparent;\n",
              "      border-bottom-color: var(--fill-color);\n",
              "    }\n",
              "  }\n",
              "</style>\n",
              "\n",
              "      <script>\n",
              "        async function quickchart(key) {\n",
              "          const quickchartButtonEl =\n",
              "            document.querySelector('#' + key + ' button');\n",
              "          quickchartButtonEl.disabled = true;  // To prevent multiple clicks.\n",
              "          quickchartButtonEl.classList.add('colab-df-spinner');\n",
              "          try {\n",
              "            const charts = await google.colab.kernel.invokeFunction(\n",
              "                'suggestCharts', [key], {});\n",
              "          } catch (error) {\n",
              "            console.error('Error during call to suggestCharts:', error);\n",
              "          }\n",
              "          quickchartButtonEl.classList.remove('colab-df-spinner');\n",
              "          quickchartButtonEl.classList.add('colab-df-quickchart-complete');\n",
              "        }\n",
              "        (() => {\n",
              "          let quickchartButtonEl =\n",
              "            document.querySelector('#df-f31e16bc-fac5-4d53-9d16-362b3e4a409b button');\n",
              "          quickchartButtonEl.style.display =\n",
              "            google.colab.kernel.accessAllowed ? 'block' : 'none';\n",
              "        })();\n",
              "      </script>\n",
              "    </div>\n",
              "\n",
              "    </div>\n",
              "  </div>\n"
            ],
            "application/vnd.google.colaboratory.intrinsic+json": {
              "type": "dataframe",
              "variable_name": "myntra",
              "summary": "{\n  \"name\": \"myntra\",\n  \"rows\": 14214,\n  \"fields\": [\n    {\n      \"column\": \"p_id\",\n      \"properties\": {\n        \"dtype\": \"string\",\n        \"num_unique_values\": 14214,\n        \"samples\": [\n          \"18688460\",\n          \"17441634\",\n          \"14179076\"\n        ],\n        \"semantic_type\": \"\",\n        \"description\": \"\"\n      }\n    },\n    {\n      \"column\": \"img\",\n      \"properties\": {\n        \"dtype\": \"string\",\n        \"num_unique_values\": 14214,\n        \"samples\": [\n          \"http://assets.myntassets.com/assets/images/18688460/2022/6/9/91ab90ee-c162-4d9f-9e4e-4f9c0cd7865a1654782377953Skirts1.jpg\",\n          \"http://assets.myntassets.com/assets/images/17441634/2022/3/8/1d50e24c-e7bf-4e62-8a96-9625b530f4751646740866170Jackets1.jpg\",\n          \"http://assets.myntassets.com/assets/images/14179076/2021/6/24/fdb8118a-1946-4b43-9ee7-c52146e004151624527103903-DressBerry-Women-Sweaters-5311624527103479-1.jpg\"\n        ],\n        \"semantic_type\": \"\",\n        \"description\": \"\"\n      }\n    },\n    {\n      \"column\": \"description\",\n      \"properties\": {\n        \"dtype\": \"string\",\n        \"num_unique_values\": 14196,\n        \"samples\": [\n          \"Product name is Mayra Women Peach-Coloured Solid Top.peach-coloured solid woven regular top, has a mandarin collar, short sleeves, button closurethe model height 5'8\\\" is wearing a size s, viscose rayon, hand-washclosure is button. fabric is viscose rayon. length is regular. main trend is new basics. neck is mandarin collar. occasion is casual. pattern is solid. print or pattern type is solid. sleeve length is short sleeves. sleeve styling is extended sleeves. transparency is opaque. type is regular. wash care is hand wash. weave type is woven\",\n          \"Product name is AYKA CLOTHINGS Black & Red Printed Viscose Rayon Unstitched Dress Material.black and red printed unstitched dress material , black and red printed kurta fabric , black and red embellished bottom fabric , black and red printed dupatta, has printed border , disclaimer: images are for referral purposes only. the actual product is unstitched, kurta fabric length:-1.80 meter,bottom fabric length:-1.30 meter,dupatta fabric length:-2.20 meter dry clean onlybottom fabric is viscose rayon. bottom pattern is embellished. dupatta border is printed. dupatta fabric is viscose rayon. dupatta pattern is printed. kurta fabric is viscose rayon. kurta pattern is printed. occasion is festive. ornamentation is sequinned. print or pattern type is floral. set content is kurta fabric bottom fabric and dupatta. stitch is unstitched. sustainable is regular. wash care is dry clean. wedding is guests & gifting\",\n          \"Product name is Miaz Lifestyle Magenta & Yellow Printed Cotton Silk Bandhani Dupatta with Gotta Patti.magenta and yellow bandhani printed dupatta has bandhani technique, gotta patti, taping borderlength: 2.4m, width: 80 cmcotton silk, machne washborder is taping. fabric is cotton silk. occasion is party. ornamentation is gotta patti. pattern is printed. print or pattern type is bandhani. sustainable is regular. technique is bandhani. wash care is machine wash. wedding is bride & wedding squad\"\n        ],\n        \"semantic_type\": \"\",\n        \"description\": \"\"\n      }\n    },\n    {\n      \"column\": \"metadata\",\n      \"properties\": {\n        \"dtype\": \"object\",\n        \"semantic_type\": \"\",\n        \"description\": \"\"\n      }\n    },\n    {\n      \"column\": \"desc_len\",\n      \"properties\": {\n        \"dtype\": \"number\",\n        \"std\": 41,\n        \"min\": 23,\n        \"max\": 383,\n        \"num_unique_values\": 269,\n        \"samples\": [\n          114,\n          179,\n          257\n        ],\n        \"semantic_type\": \"\",\n        \"description\": \"\"\n      }\n    }\n  ]\n}"
            }
          },
          "metadata": {},
          "execution_count": 133
        }
      ]
    },
    {
      "cell_type": "code",
      "source": [
        "# myntra = myntra[[\"p_id\", \"description\", \"\"]]"
      ],
      "metadata": {
        "id": "QaUevPbwCrE8"
      },
      "execution_count": 23,
      "outputs": []
    },
    {
      "cell_type": "code",
      "source": [
        "# ____________________________________________________________________________________________  EDA and Data Cleaning Complete  ____________________________________________________________________________________________\n",
        "# __________________________________________________________________________________________________________________________________________________________________________________________________________________________\n",
        "# __________________________________________________________________________________________________________________________________________________________________________________________________________________________"
      ],
      "metadata": {
        "id": "vmjsyk9TZjwJ"
      },
      "execution_count": 24,
      "outputs": []
    },
    {
      "cell_type": "code",
      "source": [
        "## Create Embeddings using ChromaDB"
      ],
      "metadata": {
        "id": "_Cjt05P5DRYd"
      },
      "execution_count": 25,
      "outputs": []
    },
    {
      "cell_type": "code",
      "source": [
        "embed_model = \"text-embedding-3-large\"\n",
        "cross_encode_model = \"cross-encoder/ms-marco-MiniLM-L-6-v2\"\n",
        "api_file = file_path + \"api_key.txt\"\n",
        "threshold = 0.15"
      ],
      "metadata": {
        "id": "jbbPonwhS51n"
      },
      "execution_count": 134,
      "outputs": []
    },
    {
      "cell_type": "code",
      "source": [
        "client = chromadb.PersistentClient(path= file_path + \"chroma_db\")"
      ],
      "metadata": {
        "id": "i8G7ZfOQEiAQ"
      },
      "execution_count": 27,
      "outputs": []
    },
    {
      "cell_type": "code",
      "source": [
        "class OpenAI_Embeddings:\n",
        "\n",
        "  def __init__(self, model, api_path):\n",
        "    self.model = model\n",
        "    self.api_path = api_path\n",
        "    self.embedding_function = None\n",
        "    self.myntra_collections = None\n",
        "    self.create_my_embedding()\n",
        "\n",
        "  def get_api(self):\n",
        "    with open(self.api_path, \"r\") as fptr:\n",
        "      api_key = fptr.read()\n",
        "      fptr.close()\n",
        "    return api_key\n",
        "\n",
        "  def create_my_embedding(self):\n",
        "    self.embedding_function = OpenAIEmbeddingFunction(\n",
        "                                                        api_key = self.get_api(),\n",
        "                                                        model_name = self.model\n",
        "                                                     )\n",
        "\n",
        "  def create_get_collection(self, name):\n",
        "    ## Create or Load Chroma Collection\n",
        "    self.myntra_collections = client.get_or_create_collection(\n",
        "                                                            name = name,\n",
        "                                                            embedding_function = self.embedding_function\n",
        "                                                        )\n",
        "    return self.myntra_collections\n",
        "\n",
        "  def add_to_collection(self, data, collections):\n",
        "    ## Add data to Chroma Collection\n",
        "    prev = 0\n",
        "    docs_list = data[\"description\"].to_list()\n",
        "    meta_list = data['p_attributes'].to_list()\n",
        "    id_list = data['p_id'].to_list()\n",
        "    ## Add data to Chroma Collection\n",
        "    for batch_size in range(1000, len(docs_list), 1000):\n",
        "      collections.add(\n",
        "                                    documents = docs_list[prev:batch_size],\n",
        "                                    metadatas = meta_list[prev:batch_size],\n",
        "                                    ids = id_list[prev:batch_size]\n",
        "                                 )\n",
        "      prev = batch_size\n",
        "    if prev < len(docs_list):\n",
        "      collections.add(\n",
        "                                     documents = docs_list[prev:],\n",
        "                                     metadatas = meta_list[prev:],\n",
        "                                     ids = id_list[prev:]\n",
        "                                 )\n",
        "    return collections"
      ],
      "metadata": {
        "id": "QscuSwemEh4g"
      },
      "execution_count": 28,
      "outputs": []
    },
    {
      "cell_type": "code",
      "source": [
        "class Chroma_Search(OpenAI_Embeddings):\n",
        "\n",
        "  def __init__(self, model, api_path):\n",
        "    super().__init__(model, api_path)\n",
        "\n",
        "  def text_query(self, collections, query, w_clause=None, w_doc_clause=None):\n",
        "    query_results = collections.query(\n",
        "                                          query_texts = [query],\n",
        "                                          n_results = 10,\n",
        "                                          where = w_clause,\n",
        "                                          where_document = w_doc_clause\n",
        "                                     )\n",
        "    return query_results"
      ],
      "metadata": {
        "id": "MxvzEbajEhz5"
      },
      "execution_count": 96,
      "outputs": []
    },
    {
      "cell_type": "code",
      "source": [
        "## This embedding model is to create embeddings and query\n",
        "myntra_obj = Chroma_Search(embed_model, api_file)\n",
        "myntra_collection = myntra_obj.create_get_collection(\"myntra\")\n",
        "\n",
        "if not os.path.isdir(file_path + \"chroma_db\"):\n",
        "  myntra_obj.add_to_collection(myntra, myntra_collection)\n",
        "\n",
        "# myntra_collection.peek()"
      ],
      "metadata": {
        "id": "T0vZrHvMM4IG"
      },
      "execution_count": 99,
      "outputs": []
    },
    {
      "cell_type": "code",
      "source": [
        "## This embedding model is to create cache and query\n",
        "cache_collections = []\n",
        "collection_names = [\"cache_1\", \"cache_2\", \"cache_3\", \"cache_4\", \"cache_5\"]\n",
        "\n",
        "cache_obj = Chroma_Search(embed_model, api_file)\n",
        "for name in collection_names:\n",
        "  cache_collections.append(cache_obj.create_get_collection(name))"
      ],
      "metadata": {
        "id": "XnPAFcILvmEh"
      },
      "execution_count": 97,
      "outputs": []
    },
    {
      "cell_type": "code",
      "source": [],
      "metadata": {
        "id": "PURy0CmlW-3Z"
      },
      "execution_count": 31,
      "outputs": []
    },
    {
      "cell_type": "code",
      "source": [],
      "metadata": {
        "id": "lhfOw7z2W-0q"
      },
      "execution_count": null,
      "outputs": []
    },
    {
      "cell_type": "code",
      "source": [
        "cache_collections[0].peek()"
      ],
      "metadata": {
        "colab": {
          "base_uri": "https://localhost:8080/"
        },
        "id": "pzC3BcWxW-uq",
        "outputId": "601ba3be-8b80-43ed-effc-ca3082617c3c"
      },
      "execution_count": 39,
      "outputs": [
        {
          "output_type": "execute_result",
          "data": {
            "text/plain": [
              "{'ids': [],\n",
              " 'embeddings': array([], dtype=float64),\n",
              " 'documents': [],\n",
              " 'uris': None,\n",
              " 'included': ['metadatas', 'documents', 'embeddings'],\n",
              " 'data': None,\n",
              " 'metadatas': []}"
            ]
          },
          "metadata": {},
          "execution_count": 39
        }
      ]
    },
    {
      "cell_type": "code",
      "source": [
        "for cache_collection in cache_collections:\n",
        "  if not len(cache_collection.peek()[\"ids\"]):\n",
        "    print(cache_collection.peek())"
      ],
      "metadata": {
        "colab": {
          "base_uri": "https://localhost:8080/"
        },
        "id": "_88P1VcVgEJn",
        "outputId": "8f179682-c9e4-4342-f4da-e532ecbcd88a"
      },
      "execution_count": 52,
      "outputs": [
        {
          "output_type": "stream",
          "name": "stdout",
          "text": [
            "{'ids': [], 'embeddings': array([], dtype=float64), 'documents': [], 'uris': None, 'included': ['metadatas', 'documents', 'embeddings'], 'data': None, 'metadatas': []}\n",
            "{'ids': [], 'embeddings': array([], dtype=float64), 'documents': [], 'uris': None, 'included': ['metadatas', 'documents', 'embeddings'], 'data': None, 'metadatas': []}\n",
            "{'ids': [], 'embeddings': array([], dtype=float64), 'documents': [], 'uris': None, 'included': ['metadatas', 'documents', 'embeddings'], 'data': None, 'metadatas': []}\n",
            "{'ids': [], 'embeddings': array([], dtype=float64), 'documents': [], 'uris': None, 'included': ['metadatas', 'documents', 'embeddings'], 'data': None, 'metadatas': []}\n",
            "{'ids': [], 'embeddings': array([], dtype=float64), 'documents': [], 'uris': None, 'included': ['metadatas', 'documents', 'embeddings'], 'data': None, 'metadatas': []}\n"
          ]
        }
      ]
    },
    {
      "cell_type": "code",
      "source": [
        "len(cache_collections[1].peek()[\"ids\"])"
      ],
      "metadata": {
        "colab": {
          "base_uri": "https://localhost:8080/"
        },
        "id": "3eEMWi7fW-xx",
        "outputId": "7fe4329e-8cfe-4f60-fd68-ed851a5f1cfd"
      },
      "execution_count": 49,
      "outputs": [
        {
          "output_type": "execute_result",
          "data": {
            "text/plain": [
              "0"
            ]
          },
          "metadata": {},
          "execution_count": 49
        }
      ]
    },
    {
      "cell_type": "code",
      "source": [],
      "metadata": {
        "id": "ecWKGU7DW-p1"
      },
      "execution_count": null,
      "outputs": []
    },
    {
      "cell_type": "code",
      "source": [],
      "metadata": {
        "id": "Pap_g2U7W-nS"
      },
      "execution_count": null,
      "outputs": []
    },
    {
      "cell_type": "code",
      "source": [],
      "metadata": {
        "id": "eEo0HxZp3K8j"
      },
      "execution_count": null,
      "outputs": []
    },
    {
      "cell_type": "code",
      "source": [],
      "metadata": {
        "id": "n-LIvf2-3K6E"
      },
      "execution_count": null,
      "outputs": []
    },
    {
      "cell_type": "code",
      "source": [],
      "metadata": {
        "id": "hHiAtXTE3K3m"
      },
      "execution_count": null,
      "outputs": []
    },
    {
      "cell_type": "code",
      "source": [],
      "metadata": {
        "id": "gXvLH1AV3K1E"
      },
      "execution_count": null,
      "outputs": []
    },
    {
      "cell_type": "code",
      "source": [],
      "metadata": {
        "id": "BAvW76Nq3Kyo"
      },
      "execution_count": null,
      "outputs": []
    },
    {
      "cell_type": "code",
      "source": [],
      "metadata": {
        "id": "oGn7ZAvwW-k6"
      },
      "execution_count": null,
      "outputs": []
    },
    {
      "cell_type": "code",
      "source": [],
      "metadata": {
        "id": "jX-ITMC8rR5c"
      },
      "execution_count": null,
      "outputs": []
    },
    {
      "cell_type": "code",
      "source": [],
      "metadata": {
        "id": "8i5-fkbgrR3Q"
      },
      "execution_count": null,
      "outputs": []
    },
    {
      "cell_type": "code",
      "source": [],
      "metadata": {
        "id": "YDBKcKxXrR0s"
      },
      "execution_count": null,
      "outputs": []
    },
    {
      "cell_type": "code",
      "source": [],
      "metadata": {
        "id": "KP2ywAToW-ik"
      },
      "execution_count": null,
      "outputs": []
    },
    {
      "cell_type": "code",
      "source": [],
      "metadata": {
        "id": "nq-xFgeVW-gC"
      },
      "execution_count": null,
      "outputs": []
    },
    {
      "cell_type": "code",
      "source": [],
      "metadata": {
        "id": "3bnyZBgDW-db"
      },
      "execution_count": null,
      "outputs": []
    },
    {
      "cell_type": "code",
      "source": [
        "# cache_result = [cache_obj.text_query(cache_collection, query, attr_dict, w_doc_clause) for cache_collection in cache_collections if not len(cache_collections[1].peek()[\"ids\"])]\n",
        "cache_result = [cache_obj.text_query(cache_collection, \"find all kurtis\", {\"size\": \"M\"}, {\"$eq\": \"colour red\"}) for cache_collection in cache_collections if not len(cache_collections[1].peek()[\"ids\"])]"
      ],
      "metadata": {
        "colab": {
          "base_uri": "https://localhost:8080/",
          "height": 311
        },
        "id": "0-DF-PQwQ5W0",
        "outputId": "c40db71a-4e3a-471a-ca31-6b8b15c3b3f9"
      },
      "execution_count": 100,
      "outputs": [
        {
          "output_type": "error",
          "ename": "ValueError",
          "evalue": "Expected where document operator to be one of $contains, $and, $or, got $eq in query.",
          "traceback": [
            "\u001b[0;31m---------------------------------------------------------------------------\u001b[0m",
            "\u001b[0;31mValueError\u001b[0m                                Traceback (most recent call last)",
            "\u001b[0;32m<ipython-input-100-6ed46c5be14e>\u001b[0m in \u001b[0;36m<cell line: 0>\u001b[0;34m()\u001b[0m\n\u001b[1;32m      1\u001b[0m \u001b[0;31m# cache_result = [cache_obj.text_query(cache_collection, query, attr_dict, w_doc_clause) for cache_collection in cache_collections if not len(cache_collections[1].peek()[\"ids\"])]\u001b[0m\u001b[0;34m\u001b[0m\u001b[0;34m\u001b[0m\u001b[0m\n\u001b[0;32m----> 2\u001b[0;31m \u001b[0mcache_result\u001b[0m \u001b[0;34m=\u001b[0m \u001b[0;34m[\u001b[0m\u001b[0mcache_obj\u001b[0m\u001b[0;34m.\u001b[0m\u001b[0mtext_query\u001b[0m\u001b[0;34m(\u001b[0m\u001b[0mcache_collection\u001b[0m\u001b[0;34m,\u001b[0m \u001b[0;34m\"find all kurtis\"\u001b[0m\u001b[0;34m,\u001b[0m \u001b[0;34m{\u001b[0m\u001b[0;34m\"size\"\u001b[0m\u001b[0;34m:\u001b[0m \u001b[0;34m\"M\"\u001b[0m\u001b[0;34m}\u001b[0m\u001b[0;34m,\u001b[0m \u001b[0;34m{\u001b[0m\u001b[0;34m\"$eq\"\u001b[0m\u001b[0;34m:\u001b[0m \u001b[0;34m\"colour red\"\u001b[0m\u001b[0;34m}\u001b[0m\u001b[0;34m)\u001b[0m \u001b[0;32mfor\u001b[0m \u001b[0mcache_collection\u001b[0m \u001b[0;32min\u001b[0m \u001b[0mcache_collections\u001b[0m \u001b[0;32mif\u001b[0m \u001b[0;32mnot\u001b[0m \u001b[0mlen\u001b[0m\u001b[0;34m(\u001b[0m\u001b[0mcache_collections\u001b[0m\u001b[0;34m[\u001b[0m\u001b[0;36m1\u001b[0m\u001b[0;34m]\u001b[0m\u001b[0;34m.\u001b[0m\u001b[0mpeek\u001b[0m\u001b[0;34m(\u001b[0m\u001b[0;34m)\u001b[0m\u001b[0;34m[\u001b[0m\u001b[0;34m\"ids\"\u001b[0m\u001b[0;34m]\u001b[0m\u001b[0;34m)\u001b[0m\u001b[0;34m]\u001b[0m\u001b[0;34m\u001b[0m\u001b[0;34m\u001b[0m\u001b[0m\n\u001b[0m",
            "\u001b[0;32m<ipython-input-100-6ed46c5be14e>\u001b[0m in \u001b[0;36m<listcomp>\u001b[0;34m(.0)\u001b[0m\n\u001b[1;32m      1\u001b[0m \u001b[0;31m# cache_result = [cache_obj.text_query(cache_collection, query, attr_dict, w_doc_clause) for cache_collection in cache_collections if not len(cache_collections[1].peek()[\"ids\"])]\u001b[0m\u001b[0;34m\u001b[0m\u001b[0;34m\u001b[0m\u001b[0m\n\u001b[0;32m----> 2\u001b[0;31m \u001b[0mcache_result\u001b[0m \u001b[0;34m=\u001b[0m \u001b[0;34m[\u001b[0m\u001b[0mcache_obj\u001b[0m\u001b[0;34m.\u001b[0m\u001b[0mtext_query\u001b[0m\u001b[0;34m(\u001b[0m\u001b[0mcache_collection\u001b[0m\u001b[0;34m,\u001b[0m \u001b[0;34m\"find all kurtis\"\u001b[0m\u001b[0;34m,\u001b[0m \u001b[0;34m{\u001b[0m\u001b[0;34m\"size\"\u001b[0m\u001b[0;34m:\u001b[0m \u001b[0;34m\"M\"\u001b[0m\u001b[0;34m}\u001b[0m\u001b[0;34m,\u001b[0m \u001b[0;34m{\u001b[0m\u001b[0;34m\"$eq\"\u001b[0m\u001b[0;34m:\u001b[0m \u001b[0;34m\"colour red\"\u001b[0m\u001b[0;34m}\u001b[0m\u001b[0;34m)\u001b[0m \u001b[0;32mfor\u001b[0m \u001b[0mcache_collection\u001b[0m \u001b[0;32min\u001b[0m \u001b[0mcache_collections\u001b[0m \u001b[0;32mif\u001b[0m \u001b[0;32mnot\u001b[0m \u001b[0mlen\u001b[0m\u001b[0;34m(\u001b[0m\u001b[0mcache_collections\u001b[0m\u001b[0;34m[\u001b[0m\u001b[0;36m1\u001b[0m\u001b[0;34m]\u001b[0m\u001b[0;34m.\u001b[0m\u001b[0mpeek\u001b[0m\u001b[0;34m(\u001b[0m\u001b[0;34m)\u001b[0m\u001b[0;34m[\u001b[0m\u001b[0;34m\"ids\"\u001b[0m\u001b[0;34m]\u001b[0m\u001b[0;34m)\u001b[0m\u001b[0;34m]\u001b[0m\u001b[0;34m\u001b[0m\u001b[0;34m\u001b[0m\u001b[0m\n\u001b[0m",
            "\u001b[0;32m<ipython-input-96-9bc1bd1688df>\u001b[0m in \u001b[0;36mtext_query\u001b[0;34m(self, collections, query, w_clause, w_doc_clause)\u001b[0m\n\u001b[1;32m      5\u001b[0m \u001b[0;34m\u001b[0m\u001b[0m\n\u001b[1;32m      6\u001b[0m   \u001b[0;32mdef\u001b[0m \u001b[0mtext_query\u001b[0m\u001b[0;34m(\u001b[0m\u001b[0mself\u001b[0m\u001b[0;34m,\u001b[0m \u001b[0mcollections\u001b[0m\u001b[0;34m,\u001b[0m \u001b[0mquery\u001b[0m\u001b[0;34m,\u001b[0m \u001b[0mw_clause\u001b[0m\u001b[0;34m=\u001b[0m\u001b[0;32mNone\u001b[0m\u001b[0;34m,\u001b[0m \u001b[0mw_doc_clause\u001b[0m\u001b[0;34m=\u001b[0m\u001b[0;32mNone\u001b[0m\u001b[0;34m)\u001b[0m\u001b[0;34m:\u001b[0m\u001b[0;34m\u001b[0m\u001b[0;34m\u001b[0m\u001b[0m\n\u001b[0;32m----> 7\u001b[0;31m     query_results = collections.query(\n\u001b[0m\u001b[1;32m      8\u001b[0m                                           \u001b[0mquery_texts\u001b[0m \u001b[0;34m=\u001b[0m \u001b[0;34m[\u001b[0m\u001b[0mquery\u001b[0m\u001b[0;34m]\u001b[0m\u001b[0;34m,\u001b[0m\u001b[0;34m\u001b[0m\u001b[0;34m\u001b[0m\u001b[0m\n\u001b[1;32m      9\u001b[0m                                           \u001b[0mn_results\u001b[0m \u001b[0;34m=\u001b[0m \u001b[0;36m10\u001b[0m\u001b[0;34m,\u001b[0m\u001b[0;34m\u001b[0m\u001b[0;34m\u001b[0m\u001b[0m\n",
            "\u001b[0;32m/usr/local/lib/python3.11/dist-packages/chromadb/api/models/Collection.py\u001b[0m in \u001b[0;36mquery\u001b[0;34m(self, query_embeddings, query_texts, query_images, query_uris, n_results, where, where_document, include)\u001b[0m\n\u001b[1;32m    205\u001b[0m         \"\"\"\n\u001b[1;32m    206\u001b[0m \u001b[0;34m\u001b[0m\u001b[0m\n\u001b[0;32m--> 207\u001b[0;31m         query_request = self._validate_and_prepare_query_request(\n\u001b[0m\u001b[1;32m    208\u001b[0m             \u001b[0mquery_embeddings\u001b[0m\u001b[0;34m=\u001b[0m\u001b[0mquery_embeddings\u001b[0m\u001b[0;34m,\u001b[0m\u001b[0;34m\u001b[0m\u001b[0;34m\u001b[0m\u001b[0m\n\u001b[1;32m    209\u001b[0m             \u001b[0mquery_texts\u001b[0m\u001b[0;34m=\u001b[0m\u001b[0mquery_texts\u001b[0m\u001b[0;34m,\u001b[0m\u001b[0;34m\u001b[0m\u001b[0;34m\u001b[0m\u001b[0m\n",
            "\u001b[0;32m/usr/local/lib/python3.11/dist-packages/chromadb/api/models/CollectionCommon.py\u001b[0m in \u001b[0;36mwrapper\u001b[0;34m(self, *args, **kwargs)\u001b[0m\n\u001b[1;32m     93\u001b[0m         \u001b[0;32mdef\u001b[0m \u001b[0mwrapper\u001b[0m\u001b[0;34m(\u001b[0m\u001b[0mself\u001b[0m\u001b[0;34m:\u001b[0m \u001b[0mAny\u001b[0m\u001b[0;34m,\u001b[0m \u001b[0;34m*\u001b[0m\u001b[0margs\u001b[0m\u001b[0;34m:\u001b[0m \u001b[0mAny\u001b[0m\u001b[0;34m,\u001b[0m \u001b[0;34m**\u001b[0m\u001b[0mkwargs\u001b[0m\u001b[0;34m:\u001b[0m \u001b[0mAny\u001b[0m\u001b[0;34m)\u001b[0m \u001b[0;34m->\u001b[0m \u001b[0mT\u001b[0m\u001b[0;34m:\u001b[0m\u001b[0;34m\u001b[0m\u001b[0;34m\u001b[0m\u001b[0m\n\u001b[1;32m     94\u001b[0m             \u001b[0;32mtry\u001b[0m\u001b[0;34m:\u001b[0m\u001b[0;34m\u001b[0m\u001b[0;34m\u001b[0m\u001b[0m\n\u001b[0;32m---> 95\u001b[0;31m                 \u001b[0;32mreturn\u001b[0m \u001b[0mfunc\u001b[0m\u001b[0;34m(\u001b[0m\u001b[0mself\u001b[0m\u001b[0;34m,\u001b[0m \u001b[0;34m*\u001b[0m\u001b[0margs\u001b[0m\u001b[0;34m,\u001b[0m \u001b[0;34m**\u001b[0m\u001b[0mkwargs\u001b[0m\u001b[0;34m)\u001b[0m\u001b[0;34m\u001b[0m\u001b[0;34m\u001b[0m\u001b[0m\n\u001b[0m\u001b[1;32m     96\u001b[0m             \u001b[0;32mexcept\u001b[0m \u001b[0mException\u001b[0m \u001b[0;32mas\u001b[0m \u001b[0me\u001b[0m\u001b[0;34m:\u001b[0m\u001b[0;34m\u001b[0m\u001b[0;34m\u001b[0m\u001b[0m\n\u001b[1;32m     97\u001b[0m                 \u001b[0mmsg\u001b[0m \u001b[0;34m=\u001b[0m \u001b[0;34mf\"{str(e)} in {name}.\"\u001b[0m\u001b[0;34m\u001b[0m\u001b[0;34m\u001b[0m\u001b[0m\n",
            "\u001b[0;32m/usr/local/lib/python3.11/dist-packages/chromadb/api/models/CollectionCommon.py\u001b[0m in \u001b[0;36m_validate_and_prepare_query_request\u001b[0;34m(self, query_embeddings, query_texts, query_images, query_uris, n_results, where, where_document, include)\u001b[0m\n\u001b[1;32m    315\u001b[0m         \u001b[0;31m# Validate\u001b[0m\u001b[0;34m\u001b[0m\u001b[0;34m\u001b[0m\u001b[0m\n\u001b[1;32m    316\u001b[0m         \u001b[0mvalidate_base_record_set\u001b[0m\u001b[0;34m(\u001b[0m\u001b[0mrecord_set\u001b[0m\u001b[0;34m=\u001b[0m\u001b[0mquery_records\u001b[0m\u001b[0;34m)\u001b[0m\u001b[0;34m\u001b[0m\u001b[0;34m\u001b[0m\u001b[0m\n\u001b[0;32m--> 317\u001b[0;31m         \u001b[0mvalidate_filter_set\u001b[0m\u001b[0;34m(\u001b[0m\u001b[0mfilter_set\u001b[0m\u001b[0;34m=\u001b[0m\u001b[0mfilters\u001b[0m\u001b[0;34m)\u001b[0m\u001b[0;34m\u001b[0m\u001b[0;34m\u001b[0m\u001b[0m\n\u001b[0m\u001b[1;32m    318\u001b[0m         \u001b[0mvalidate_include\u001b[0m\u001b[0;34m(\u001b[0m\u001b[0minclude\u001b[0m\u001b[0;34m=\u001b[0m\u001b[0minclude\u001b[0m\u001b[0;34m)\u001b[0m\u001b[0;34m\u001b[0m\u001b[0;34m\u001b[0m\u001b[0m\n\u001b[1;32m    319\u001b[0m         \u001b[0mvalidate_n_results\u001b[0m\u001b[0;34m(\u001b[0m\u001b[0mn_results\u001b[0m\u001b[0;34m=\u001b[0m\u001b[0mn_results\u001b[0m\u001b[0;34m)\u001b[0m\u001b[0;34m\u001b[0m\u001b[0;34m\u001b[0m\u001b[0m\n",
            "\u001b[0;32m/usr/local/lib/python3.11/dist-packages/chromadb/api/types.py\u001b[0m in \u001b[0;36mvalidate_filter_set\u001b[0;34m(filter_set)\u001b[0m\n\u001b[1;32m    354\u001b[0m         \u001b[0mvalidate_where\u001b[0m\u001b[0;34m(\u001b[0m\u001b[0mfilter_set\u001b[0m\u001b[0;34m[\u001b[0m\u001b[0;34m\"where\"\u001b[0m\u001b[0;34m]\u001b[0m\u001b[0;34m)\u001b[0m\u001b[0;34m\u001b[0m\u001b[0;34m\u001b[0m\u001b[0m\n\u001b[1;32m    355\u001b[0m     \u001b[0;32mif\u001b[0m \u001b[0mfilter_set\u001b[0m\u001b[0;34m[\u001b[0m\u001b[0;34m\"where_document\"\u001b[0m\u001b[0;34m]\u001b[0m \u001b[0;32mis\u001b[0m \u001b[0;32mnot\u001b[0m \u001b[0;32mNone\u001b[0m\u001b[0;34m:\u001b[0m\u001b[0;34m\u001b[0m\u001b[0;34m\u001b[0m\u001b[0m\n\u001b[0;32m--> 356\u001b[0;31m         \u001b[0mvalidate_where_document\u001b[0m\u001b[0;34m(\u001b[0m\u001b[0mfilter_set\u001b[0m\u001b[0;34m[\u001b[0m\u001b[0;34m\"where_document\"\u001b[0m\u001b[0;34m]\u001b[0m\u001b[0;34m)\u001b[0m\u001b[0;34m\u001b[0m\u001b[0;34m\u001b[0m\u001b[0m\n\u001b[0m\u001b[1;32m    357\u001b[0m \u001b[0;34m\u001b[0m\u001b[0m\n\u001b[1;32m    358\u001b[0m \u001b[0;34m\u001b[0m\u001b[0m\n",
            "\u001b[0;32m/usr/local/lib/python3.11/dist-packages/chromadb/api/types.py\u001b[0m in \u001b[0;36mvalidate_where_document\u001b[0;34m(where_document)\u001b[0m\n\u001b[1;32m    823\u001b[0m     \u001b[0;32mfor\u001b[0m \u001b[0moperator\u001b[0m\u001b[0;34m,\u001b[0m \u001b[0moperand\u001b[0m \u001b[0;32min\u001b[0m \u001b[0mwhere_document\u001b[0m\u001b[0;34m.\u001b[0m\u001b[0mitems\u001b[0m\u001b[0;34m(\u001b[0m\u001b[0;34m)\u001b[0m\u001b[0;34m:\u001b[0m\u001b[0;34m\u001b[0m\u001b[0;34m\u001b[0m\u001b[0m\n\u001b[1;32m    824\u001b[0m         \u001b[0;32mif\u001b[0m \u001b[0moperator\u001b[0m \u001b[0;32mnot\u001b[0m \u001b[0;32min\u001b[0m \u001b[0;34m[\u001b[0m\u001b[0;34m\"$contains\"\u001b[0m\u001b[0;34m,\u001b[0m \u001b[0;34m\"$not_contains\"\u001b[0m\u001b[0;34m,\u001b[0m \u001b[0;34m\"$and\"\u001b[0m\u001b[0;34m,\u001b[0m \u001b[0;34m\"$or\"\u001b[0m\u001b[0;34m]\u001b[0m\u001b[0;34m:\u001b[0m\u001b[0;34m\u001b[0m\u001b[0;34m\u001b[0m\u001b[0m\n\u001b[0;32m--> 825\u001b[0;31m             raise ValueError(\n\u001b[0m\u001b[1;32m    826\u001b[0m                 \u001b[0;34mf\"Expected where document operator to be one of $contains, $and, $or, got {operator}\"\u001b[0m\u001b[0;34m\u001b[0m\u001b[0;34m\u001b[0m\u001b[0m\n\u001b[1;32m    827\u001b[0m             )\n",
            "\u001b[0;31mValueError\u001b[0m: Expected where document operator to be one of $contains, $and, $or, got $eq in query."
          ]
        }
      ]
    },
    {
      "cell_type": "code",
      "source": [
        "cache_result = myntra_obj.text_query(myntra_collection, \"find all kurtis\", None, {\"$or\": [{\"$contains\": \"size s\"}, {\"$contains\": \"colour red\"}]})"
      ],
      "metadata": {
        "id": "1wAEJxw6wkuE"
      },
      "execution_count": 121,
      "outputs": []
    },
    {
      "cell_type": "code",
      "source": [
        "cache_result = myntra_obj.text_query(myntra_collection, \"find all kurtis\", None, {\"$or\": [{\"$contains\": \"size s\"}, {\"$contains\": \"colour red\"}]})"
      ],
      "metadata": {
        "id": "oLdxkCp3wkoz"
      },
      "execution_count": 126,
      "outputs": []
    },
    {
      "cell_type": "code",
      "source": [
        "# cache_result = myntra_obj.text_query(myntra_collection, \"find all kurtis\", None, {\"$and\": [{\"$contains\": \"size s\"}, {\"$contains\": \"green\"}]})\n",
        "cache_result = myntra_obj.text_query(myntra_collection, \"find all kurtis\", {\"$or\": [{\"$in\": \"size s\"}, {\"$in\": \"green\"}]})"
      ],
      "metadata": {
        "id": "VlQw6ddiwkjt"
      },
      "execution_count": 151,
      "outputs": []
    },
    {
      "cell_type": "code",
      "source": [
        "cache_result = myntra_obj.text_query(myntra_collection, \"find all kurtis\")"
      ],
      "metadata": {
        "id": "11SmVMkCwkfC"
      },
      "execution_count": 153,
      "outputs": []
    },
    {
      "cell_type": "code",
      "source": [],
      "metadata": {
        "id": "bvcNHykbwkZ4"
      },
      "execution_count": null,
      "outputs": []
    },
    {
      "cell_type": "code",
      "source": [],
      "metadata": {
        "id": "FrppOEvq3KI3"
      },
      "execution_count": null,
      "outputs": []
    },
    {
      "cell_type": "code",
      "source": [],
      "metadata": {
        "id": "y0J_DUqR3KGs"
      },
      "execution_count": null,
      "outputs": []
    },
    {
      "cell_type": "code",
      "source": [],
      "metadata": {
        "id": "sIKV4o613KEh"
      },
      "execution_count": null,
      "outputs": []
    },
    {
      "cell_type": "code",
      "source": [],
      "metadata": {
        "id": "rW0hi39i3KCK"
      },
      "execution_count": null,
      "outputs": []
    },
    {
      "cell_type": "code",
      "source": [],
      "metadata": {
        "id": "6-PupIUq3J_t"
      },
      "execution_count": null,
      "outputs": []
    },
    {
      "cell_type": "code",
      "source": [],
      "metadata": {
        "id": "S9kB98Ru3J9N"
      },
      "execution_count": null,
      "outputs": []
    },
    {
      "cell_type": "code",
      "source": [],
      "metadata": {
        "id": "xIwJDJJW3J7D"
      },
      "execution_count": null,
      "outputs": []
    },
    {
      "cell_type": "code",
      "source": [],
      "metadata": {
        "id": "ZkRRDLW03J4k"
      },
      "execution_count": null,
      "outputs": []
    },
    {
      "cell_type": "code",
      "source": [],
      "metadata": {
        "id": "k73IdlKX3J2V"
      },
      "execution_count": null,
      "outputs": []
    },
    {
      "cell_type": "code",
      "source": [],
      "metadata": {
        "id": "C1Bd2v513Jz8"
      },
      "execution_count": null,
      "outputs": []
    },
    {
      "cell_type": "code",
      "source": [],
      "metadata": {
        "id": "smAir8o23Jxk"
      },
      "execution_count": null,
      "outputs": []
    },
    {
      "cell_type": "code",
      "source": [],
      "metadata": {
        "id": "02FgZUoG3Juk"
      },
      "execution_count": null,
      "outputs": []
    },
    {
      "cell_type": "code",
      "source": [],
      "metadata": {
        "id": "7U2DATqz3JeL"
      },
      "execution_count": null,
      "outputs": []
    },
    {
      "cell_type": "code",
      "source": [],
      "metadata": {
        "id": "nnHTWTJm3JbU"
      },
      "execution_count": null,
      "outputs": []
    },
    {
      "cell_type": "code",
      "source": [],
      "metadata": {
        "id": "yPhVj2X-wkXN"
      },
      "execution_count": null,
      "outputs": []
    },
    {
      "cell_type": "code",
      "source": [
        "def user_query(query, attr_dict, w_doc_clause):\n",
        "  ids = []\n",
        "  documents = []\n",
        "  distances = []\n",
        "  metadatas = []\n",
        "  results_df = pd.DataFrame()\n",
        "\n",
        "\n",
        "  cache_result = cache_obj.text_query(cache_collection, query, attr_dict, w_doc_clause)\n",
        "\n",
        "  if cache_result['distances'][0] == []: # if cache is empty\n",
        "    result = myntra_obj.text_query(myntra_collection, query, attr_dict, w_doc_clause)\n",
        "\n",
        "    keys = []\n",
        "    vals = []\n",
        "    for key, val in result.items():\n",
        "      if val == None:\n",
        "        continue\n",
        "      if key.lower() != \"embeddings\" and key.lower() != \"uris\" and key.lower() != \"data\" and key.lower() != \"included\":\n",
        "        for i in range(10):\n",
        "              keys.append(str(key)+str(i))\n",
        "              vals.append(str(val[0][i]))\n",
        "      ## Add new query to collection\n",
        "        cache_collection.add(\n",
        "                              documents = [query],\n",
        "                              ids = [query],\n",
        "                              metadatas =  dict(zip(keys, vals))\n",
        "                            )\n",
        "        ## Create Result database\n",
        "        result_dict = {'Metadatas': results['metadatas'][0], 'Documents': results['documents'][0], 'Distances': results['distances'][0], \"IDs\":results[\"ids\"][0]}\n",
        "        results_df = pd.DataFrame.from_dict(result_dict)\n",
        "        results_df\n",
        "  else:\n",
        "    cache_result_dict = cache_result['metadatas'][0][0]\n",
        "\n",
        "    # Loop through each inner list and then through the dictionary\n",
        "    for key, value in cache_result_dict.items():\n",
        "        if 'ids' in key:\n",
        "            ids.append(value)\n",
        "        elif 'documents' in key:\n",
        "            documents.append(value)\n",
        "        elif 'distances' in key:\n",
        "            distances.append(value)\n",
        "        elif 'metadatas' in key:\n",
        "            metadatas.append(value)\n",
        "\n",
        "    # Create a DataFrame\n",
        "    results_df = pd.DataFrame({\n",
        "      'IDs': ids,\n",
        "      'Documents': documents,\n",
        "      'Distances': distances,\n",
        "      'Metadatas': metadatas\n",
        "    })\n",
        "    results_df"
      ],
      "metadata": {
        "id": "0wNFk7-Fvspp"
      },
      "execution_count": null,
      "outputs": []
    },
    {
      "cell_type": "code",
      "source": [
        " ## Cross-Encoders"
      ],
      "metadata": {
        "id": "HYo3ZU3wCryJ"
      },
      "execution_count": null,
      "outputs": []
    },
    {
      "cell_type": "code",
      "source": [
        "def crossencode_user_query(df, query):\n",
        "  cross_encoder = CrossEncoder(cross_encode_model)\n",
        "  scores = cross_encoder.predict([[query, response] for response in df['Documents']])\n",
        "  df['cross_encoder_scores'] = scores\n",
        "  df.sort_values(by='cross_encoder_scores', ascending=False, inplace=True)\n",
        "  return df[[\"Metadatas\", \"Documents\"]]"
      ],
      "metadata": {
        "id": "a6wjfAmGCrvj"
      },
      "execution_count": null,
      "outputs": []
    },
    {
      "cell_type": "code",
      "source": [
        "# ## Prompt Generation using OpenAI"
      ],
      "metadata": {
        "id": "kVB7YEJqrERC"
      },
      "execution_count": null,
      "outputs": []
    },
    {
      "cell_type": "code",
      "source": [
        "chat_client = OpenAI(api_key=myntra_obj.get_api())"
      ],
      "metadata": {
        "id": "JKIijNnirEMM"
      },
      "execution_count": null,
      "outputs": []
    },
    {
      "cell_type": "code",
      "source": [
        "def fashion_converse(conversation):\n",
        "    chat_resp = chat_client.chat.completions.create(\n",
        "                                    model = gpt_model,\n",
        "                                    messages = conversation,\n",
        "                                    temperature = 0.4,\n",
        "                                    max_tokens = 200,\n",
        "                                    tools = tools_shop_assist(),\n",
        "                                    tool_choice = \"auto\"\n",
        "                                    )\n",
        "    return chat_resp.choices[0].message\n",
        "\n",
        "def chat_moderator(msg):\n",
        "    response = chat_client.moderations.create(\n",
        "                                    model = moderator,\n",
        "                                    input = msg\n",
        "                                    )\n",
        "\n",
        "    return response.results[0].flagged"
      ],
      "metadata": {
        "id": "apYMkdFPrEKT"
      },
      "execution_count": null,
      "outputs": []
    },
    {
      "cell_type": "code",
      "source": [
        "def list_products(inp_query_dict):\n",
        "  w_doc_clause = \"\"\n",
        "  inp_query = inp_query_dict[\"inp_query\"]\n",
        "  attr_dict = ast.literal_eval(inp_query_dict[\"attr_dict\"])\n",
        "  if \"colour\" in list(attr_dict.keys()):\n",
        "    w_doc_clause = {\"colour\": attr_dict['colour'].lower()}\n",
        "    del attr_dict['colour']\n",
        "  if \"size\" in list(attr_dict.keys()):\n",
        "    w_doc_clause = {\"size\": attr_dict['size'].lower()}\n",
        "    del attr_dict['size']\n",
        "  df = user_query(inp_query, attr_dict, w_doc_clause)\n",
        "  return crossencode_user_query(df, inp_query)"
      ],
      "metadata": {
        "id": "cv266_NvfU4M"
      },
      "execution_count": null,
      "outputs": []
    },
    {
      "cell_type": "code",
      "source": [
        "## Belongs in Tools_Calls Class\n",
        "\n",
        "def tools_shop_assist():\n",
        "        criteria = [\n",
        "                        {\n",
        "                            \"type\": \"function\",\n",
        "                            \"function\": {\n",
        "                                \"name\": \"list_products\",\n",
        "                                \"description\": \"Function takes input string and additional criteria as input and returns \",\n",
        "                                \"strict\": False,\n",
        "                                \"parameters\": {\n",
        "                                    \"type\": \"object\",\n",
        "                                    \"properties\": {\n",
        "                                        \"inp_query\": {\n",
        "                                            \"type\": \"string\",\n",
        "                                            \"description\": \"string indicating input given by user eg. find all the skirts in pink.\",\n",
        "                                        },\n",
        "                                        \"attr_dict\": {\n",
        "                                            \"type\": \"string\",\n",
        "                                            \"description\": \"features the apparel needs to have. eg. {'size': 'long', 'colour': 'pink', 'design': 'floral'}.\",\n",
        "                                        },\n",
        "                                    },\n",
        "                                    \"required\": [\"inp_query\", \"attr_dict\"],\n",
        "                                    \"additionalProperties\": False\n",
        "                                },\n",
        "                            },\n",
        "                        }\n",
        "                    ]\n",
        "\n",
        "        return criteria\n"
      ],
      "metadata": {
        "id": "HK83wlpCrECt"
      },
      "execution_count": null,
      "outputs": []
    },
    {
      "cell_type": "code",
      "source": [
        "def start_conversations():\n",
        "  converse = initial_conversation()\n",
        "  chat_resp = fashion_converse(converse)\n",
        "  converse.append({\"role\": \"assistant\", \"content\": str(chat_resp.content)})\n",
        "  print(chat_resp.content)\n",
        "\n",
        "  while True:\n",
        "    user_input = input().lower().strip()\n",
        "    if user_input == \"exit\":\n",
        "      break\n",
        "\n",
        "    is_flagged = chat_moderator(user_input)\n",
        "    if is_flagged:\n",
        "        print(\"Sorry, this message has been flagged. Cannot be accepted.\")\n",
        "        continue ## Skip everything and get back to input()\n",
        "\n",
        "    converse.append({\"role\": \"user\", \"content\": user_input})\n",
        "    chat_resp = fashion_converse(converse)\n",
        "    if chat_resp.tool_calls:\n",
        "      for tool_call in chat_resp.tool_calls:\n",
        "        func_name = tool_call.function.name\n",
        "        args = json.loads(tool_call.function.arguments)\n",
        "        tool_response = list_products(args)\n",
        "        ## Append Function Calling Request\n",
        "        converse.append(chat_resp)\n",
        "        converse.append({\n",
        "                        \"role\": \"tool\",\n",
        "                        \"tool_call_id\": tool_call.id,\n",
        "                        \"name\": func_name,\n",
        "                        \"content\": str(tool_response)\n",
        "                        })\n",
        "      chat_resp = fashion_converse(converse)\n",
        "      print(chat_resp.content)\n",
        "    else:\n",
        "      converse.append({\"role\": \"assistant\", \"content\": str(chat_resp.content)})\n",
        "      print(chat_resp.content)\n"
      ],
      "metadata": {
        "id": "UHQ4lQ2qrEAD"
      },
      "execution_count": null,
      "outputs": []
    },
    {
      "cell_type": "code",
      "source": [
        "def initial_conversation():\n",
        "    delimiters = \"#####\"\n",
        "\n",
        "    chat_prompt = f\"\"\"\n",
        "                      You new an expert in Fashion Digital Marketer, Fashion Merchandise, Stylist and E-commerce Consultant.Your job is to assist customers find the apparel they want to buy through polite and professional conversation.\n",
        "                      {delimiters}\n",
        "                      When the customer requests to find a particular apparel or a combination of apparels, try to understand what apparel or combination the customer is requesting and \\n\n",
        "                      search online to find all the additional criteria needed to know from the customer about the apparel to narrow down the list.\n",
        "                      Showing the internal information collection, summary and format will be penalised. only the conversation and the answers given to customer should be displayed.\n",
        "                      Once the additional criteria are identified ask a few questions to get the answers from customer for atleast two criteria. Record any response given by customer for the criteria.\n",
        "                      Once the data is collected from customer, ask the customer (if he wants to add any other information. if yes allow customer to add details. if the criteria is not clear ask customer to inform the criteria). else proceed.\n",
        "                      Once the data is collected from customer, convert the criteria and the answers received for the criteria into a dictionary format.\n",
        "                      Call the function list_products() with arguments as the complete input string by customer and additional criteria and answers stored in dictionary earlier.\n",
        "                      list_products() function returns a dataframe, which consists a product in every row. Take product name, products available and total price in rupees details for each product in each row and display them as it is done in ecommerce websites.\n",
        "                      {delimiters}\n",
        "                   \"\"\"\n",
        "    chat_prompt = [{\"role\": \"system\", \"content\": chat_prompt},\n",
        "                   {\"role\": \"user\", \"content\": \"Start conversation with a polite welcome\"}]\n",
        "\n",
        "    return chat_prompt\n"
      ],
      "metadata": {
        "id": "EZtUbRCirEFT"
      },
      "execution_count": null,
      "outputs": []
    },
    {
      "cell_type": "code",
      "source": [
        "start_conversations()"
      ],
      "metadata": {
        "id": "e4DaxKcQ08kh"
      },
      "execution_count": null,
      "outputs": []
    },
    {
      "cell_type": "code",
      "source": [],
      "metadata": {
        "id": "EruSoNhO08h1"
      },
      "execution_count": null,
      "outputs": []
    },
    {
      "cell_type": "code",
      "source": [],
      "metadata": {
        "id": "Bk0MEcV608fV"
      },
      "execution_count": null,
      "outputs": []
    },
    {
      "cell_type": "code",
      "source": [],
      "metadata": {
        "id": "-VcVEfSXfdog"
      },
      "execution_count": null,
      "outputs": []
    },
    {
      "cell_type": "code",
      "source": [],
      "metadata": {
        "id": "dTHdXGv-fdlp"
      },
      "execution_count": null,
      "outputs": []
    },
    {
      "cell_type": "code",
      "source": [],
      "metadata": {
        "id": "Klg6da2jfdiE"
      },
      "execution_count": null,
      "outputs": []
    },
    {
      "cell_type": "code",
      "source": [],
      "metadata": {
        "id": "CUN6y8FzfdfX"
      },
      "execution_count": null,
      "outputs": []
    },
    {
      "cell_type": "code",
      "source": [],
      "metadata": {
        "id": "SOmgTohN08Yd"
      },
      "execution_count": null,
      "outputs": []
    },
    {
      "cell_type": "code",
      "source": [],
      "metadata": {
        "id": "7sTsLMPi08V2"
      },
      "execution_count": null,
      "outputs": []
    },
    {
      "cell_type": "code",
      "source": [],
      "metadata": {
        "id": "v5Btb6U-08Tm"
      },
      "execution_count": null,
      "outputs": []
    },
    {
      "cell_type": "code",
      "source": [],
      "metadata": {
        "id": "uHTXYy8h08Qu"
      },
      "execution_count": null,
      "outputs": []
    },
    {
      "cell_type": "code",
      "source": [],
      "metadata": {
        "id": "u86X63c-08OG"
      },
      "execution_count": null,
      "outputs": []
    },
    {
      "cell_type": "code",
      "source": [],
      "metadata": {
        "id": "uthEAgJa08Lm"
      },
      "execution_count": null,
      "outputs": []
    },
    {
      "cell_type": "code",
      "source": [],
      "metadata": {
        "id": "MjUAQ-RA08I-"
      },
      "execution_count": null,
      "outputs": []
    },
    {
      "cell_type": "code",
      "source": [],
      "metadata": {
        "id": "7IqNvbbN08G2"
      },
      "execution_count": null,
      "outputs": []
    }
  ]
}