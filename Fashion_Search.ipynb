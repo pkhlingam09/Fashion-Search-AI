{
  "nbformat": 4,
  "nbformat_minor": 0,
  "metadata": {
    "colab": {
      "provenance": [],
      "authorship_tag": "ABX9TyMpM7hQawEwTsdlqpk7p3lv",
      "include_colab_link": true
    },
    "kernelspec": {
      "name": "python3",
      "display_name": "Python 3"
    },
    "language_info": {
      "name": "python"
    }
  },
  "cells": [
    {
      "cell_type": "markdown",
      "metadata": {
        "id": "view-in-github",
        "colab_type": "text"
      },
      "source": [
        "<a href=\"https://colab.research.google.com/github/pkhlingam09/Fashion-Search-AI/blob/EDA/Fashion_Search.ipynb\" target=\"_parent\"><img src=\"https://colab.research.google.com/assets/colab-badge.svg\" alt=\"Open In Colab\"/></a>"
      ]
    },
    {
      "cell_type": "code",
      "source": [
        "## Dataset Link (Kaggle)\n",
        "# https://www.kaggle.com/datasets/djagatiya/myntra-fashion-product-dataset"
      ],
      "metadata": {
        "id": "jCf3KIRDQrKR"
      },
      "execution_count": null,
      "outputs": []
    },
    {
      "cell_type": "code",
      "source": [
        "# !pip install -q kaggle\n",
        "\n",
        "# from google.colab import files\n",
        "# files.upload()\n",
        "\n",
        "# !mkdir -p ~/.kaggle\n",
        "# !cp kaggle.json ~/.kaggle/\n",
        "# !chmod 600 ~/.kaggle/kaggle.json\n",
        "\n",
        "# !cat ~/.kaggle/kaggle.json\n",
        "\n",
        "# !kaggle datasets download \"djagatiya/myntra-fashion-product-dataset\" -p \"/content/drive/MyDrive/Fashion_Search_AI\"\n",
        "\n",
        "# !unzip \"/content/drive/MyDrive/Fashion_Search_AI/myntra-fashion-product-dataset.zip\" -d \"/content/drive/MyDrive/Fashion_Search_AI\""
      ],
      "metadata": {
        "id": "NuDHuf8lI6fw"
      },
      "execution_count": null,
      "outputs": []
    },
    {
      "cell_type": "code",
      "execution_count": 1,
      "metadata": {
        "colab": {
          "base_uri": "https://localhost:8080/"
        },
        "id": "-gmC0C7Ik1Rz",
        "outputId": "78151f20-4b1c-4f34-fae3-61bc2282d962"
      },
      "outputs": [
        {
          "output_type": "stream",
          "name": "stdout",
          "text": [
            "Mounted at /content/drive\n"
          ]
        }
      ],
      "source": [
        "from google.colab import drive\n",
        "drive.mount('/content/drive')"
      ]
    },
    {
      "cell_type": "code",
      "source": [
        "import ast\n",
        "import numpy as np\n",
        "import pandas as pd"
      ],
      "metadata": {
        "id": "WwIxCKaGk8qV"
      },
      "execution_count": 23,
      "outputs": []
    },
    {
      "cell_type": "code",
      "source": [
        "df = pd.read_csv(\"/content/drive/MyDrive/Fashion_Search_AI/Fashion Dataset v2.csv\")"
      ],
      "metadata": {
        "id": "VN8HU32Yk8l2"
      },
      "execution_count": 3,
      "outputs": []
    },
    {
      "cell_type": "code",
      "source": [
        "df.head()"
      ],
      "metadata": {
        "colab": {
          "base_uri": "https://localhost:8080/",
          "height": 293
        },
        "id": "e4wd2cYok8jl",
        "outputId": "7f484017-70f7-4569-b032-9ec9f006b6e2"
      },
      "execution_count": 4,
      "outputs": [
        {
          "output_type": "execute_result",
          "data": {
            "text/plain": [
              "       p_id                                               name  \\\n",
              "0  17048614  Khushal K Women Black Ethnic Motifs Printed Ku...   \n",
              "1  16524740  InWeave Women Orange Solid Kurta with Palazzos...   \n",
              "2  16331376  Anubhutee Women Navy Blue Ethnic Motifs Embroi...   \n",
              "3  14709966  Nayo Women Red Floral Printed Kurta With Trous...   \n",
              "4  11056154   AHIKA Women Black & Green Printed Straight Kurta   \n",
              "\n",
              "                                products   price     colour      brand  \\\n",
              "0               Kurta, Palazzos, Dupatta  5099.0      Black  Khushal K   \n",
              "1  Kurta, Palazzos, Floral Print Dupatta  5899.0     Orange    InWeave   \n",
              "2               Kurta, Trousers, Dupatta  4899.0  Navy Blue  Anubhutee   \n",
              "3                Kurta, Trouser, Dupatta  3699.0        Red       Nayo   \n",
              "4                                  Kurta  1350.0      Black      AHIKA   \n",
              "\n",
              "                                                 img  ratingCount  avg_rating  \\\n",
              "0  http://assets.myntassets.com/assets/images/170...       4522.0    4.418399   \n",
              "1  http://assets.myntassets.com/assets/images/165...       1081.0    4.119334   \n",
              "2  http://assets.myntassets.com/assets/images/163...       1752.0    4.161530   \n",
              "3  http://assets.myntassets.com/assets/images/147...       4113.0    4.088986   \n",
              "4  http://assets.myntassets.com/assets/images/110...      21274.0    3.978377   \n",
              "\n",
              "                                         description  \\\n",
              "0  Black printed Kurta with Palazzos with dupatta...   \n",
              "1  Orange solid Kurta with Palazzos with dupatta<...   \n",
              "2  Navy blue embroidered Kurta with Trousers with...   \n",
              "3  Red printed kurta with trouser and dupatta<br>...   \n",
              "4  Black and green printed straight kurta, has a ...   \n",
              "\n",
              "                                        p_attributes  \n",
              "0  {'Add-Ons': 'NA', 'Body Shape ID': '443,333,32...  \n",
              "1  {'Add-Ons': 'NA', 'Body Shape ID': '443,333,32...  \n",
              "2  {'Add-Ons': 'NA', 'Body Shape ID': '333,424', ...  \n",
              "3  {'Add-Ons': 'NA', 'Body Shape ID': '333,424', ...  \n",
              "4  {'Body Shape ID': '424', 'Body or Garment Size...  "
            ],
            "text/html": [
              "\n",
              "  <div id=\"df-bdece118-b706-4a5b-8ae1-b60ddcdc94f6\" class=\"colab-df-container\">\n",
              "    <div>\n",
              "<style scoped>\n",
              "    .dataframe tbody tr th:only-of-type {\n",
              "        vertical-align: middle;\n",
              "    }\n",
              "\n",
              "    .dataframe tbody tr th {\n",
              "        vertical-align: top;\n",
              "    }\n",
              "\n",
              "    .dataframe thead th {\n",
              "        text-align: right;\n",
              "    }\n",
              "</style>\n",
              "<table border=\"1\" class=\"dataframe\">\n",
              "  <thead>\n",
              "    <tr style=\"text-align: right;\">\n",
              "      <th></th>\n",
              "      <th>p_id</th>\n",
              "      <th>name</th>\n",
              "      <th>products</th>\n",
              "      <th>price</th>\n",
              "      <th>colour</th>\n",
              "      <th>brand</th>\n",
              "      <th>img</th>\n",
              "      <th>ratingCount</th>\n",
              "      <th>avg_rating</th>\n",
              "      <th>description</th>\n",
              "      <th>p_attributes</th>\n",
              "    </tr>\n",
              "  </thead>\n",
              "  <tbody>\n",
              "    <tr>\n",
              "      <th>0</th>\n",
              "      <td>17048614</td>\n",
              "      <td>Khushal K Women Black Ethnic Motifs Printed Ku...</td>\n",
              "      <td>Kurta, Palazzos, Dupatta</td>\n",
              "      <td>5099.0</td>\n",
              "      <td>Black</td>\n",
              "      <td>Khushal K</td>\n",
              "      <td>http://assets.myntassets.com/assets/images/170...</td>\n",
              "      <td>4522.0</td>\n",
              "      <td>4.418399</td>\n",
              "      <td>Black printed Kurta with Palazzos with dupatta...</td>\n",
              "      <td>{'Add-Ons': 'NA', 'Body Shape ID': '443,333,32...</td>\n",
              "    </tr>\n",
              "    <tr>\n",
              "      <th>1</th>\n",
              "      <td>16524740</td>\n",
              "      <td>InWeave Women Orange Solid Kurta with Palazzos...</td>\n",
              "      <td>Kurta, Palazzos, Floral Print Dupatta</td>\n",
              "      <td>5899.0</td>\n",
              "      <td>Orange</td>\n",
              "      <td>InWeave</td>\n",
              "      <td>http://assets.myntassets.com/assets/images/165...</td>\n",
              "      <td>1081.0</td>\n",
              "      <td>4.119334</td>\n",
              "      <td>Orange solid Kurta with Palazzos with dupatta&lt;...</td>\n",
              "      <td>{'Add-Ons': 'NA', 'Body Shape ID': '443,333,32...</td>\n",
              "    </tr>\n",
              "    <tr>\n",
              "      <th>2</th>\n",
              "      <td>16331376</td>\n",
              "      <td>Anubhutee Women Navy Blue Ethnic Motifs Embroi...</td>\n",
              "      <td>Kurta, Trousers, Dupatta</td>\n",
              "      <td>4899.0</td>\n",
              "      <td>Navy Blue</td>\n",
              "      <td>Anubhutee</td>\n",
              "      <td>http://assets.myntassets.com/assets/images/163...</td>\n",
              "      <td>1752.0</td>\n",
              "      <td>4.161530</td>\n",
              "      <td>Navy blue embroidered Kurta with Trousers with...</td>\n",
              "      <td>{'Add-Ons': 'NA', 'Body Shape ID': '333,424', ...</td>\n",
              "    </tr>\n",
              "    <tr>\n",
              "      <th>3</th>\n",
              "      <td>14709966</td>\n",
              "      <td>Nayo Women Red Floral Printed Kurta With Trous...</td>\n",
              "      <td>Kurta, Trouser, Dupatta</td>\n",
              "      <td>3699.0</td>\n",
              "      <td>Red</td>\n",
              "      <td>Nayo</td>\n",
              "      <td>http://assets.myntassets.com/assets/images/147...</td>\n",
              "      <td>4113.0</td>\n",
              "      <td>4.088986</td>\n",
              "      <td>Red printed kurta with trouser and dupatta&lt;br&gt;...</td>\n",
              "      <td>{'Add-Ons': 'NA', 'Body Shape ID': '333,424', ...</td>\n",
              "    </tr>\n",
              "    <tr>\n",
              "      <th>4</th>\n",
              "      <td>11056154</td>\n",
              "      <td>AHIKA Women Black &amp; Green Printed Straight Kurta</td>\n",
              "      <td>Kurta</td>\n",
              "      <td>1350.0</td>\n",
              "      <td>Black</td>\n",
              "      <td>AHIKA</td>\n",
              "      <td>http://assets.myntassets.com/assets/images/110...</td>\n",
              "      <td>21274.0</td>\n",
              "      <td>3.978377</td>\n",
              "      <td>Black and green printed straight kurta, has a ...</td>\n",
              "      <td>{'Body Shape ID': '424', 'Body or Garment Size...</td>\n",
              "    </tr>\n",
              "  </tbody>\n",
              "</table>\n",
              "</div>\n",
              "    <div class=\"colab-df-buttons\">\n",
              "\n",
              "  <div class=\"colab-df-container\">\n",
              "    <button class=\"colab-df-convert\" onclick=\"convertToInteractive('df-bdece118-b706-4a5b-8ae1-b60ddcdc94f6')\"\n",
              "            title=\"Convert this dataframe to an interactive table.\"\n",
              "            style=\"display:none;\">\n",
              "\n",
              "  <svg xmlns=\"http://www.w3.org/2000/svg\" height=\"24px\" viewBox=\"0 -960 960 960\">\n",
              "    <path d=\"M120-120v-720h720v720H120Zm60-500h600v-160H180v160Zm220 220h160v-160H400v160Zm0 220h160v-160H400v160ZM180-400h160v-160H180v160Zm440 0h160v-160H620v160ZM180-180h160v-160H180v160Zm440 0h160v-160H620v160Z\"/>\n",
              "  </svg>\n",
              "    </button>\n",
              "\n",
              "  <style>\n",
              "    .colab-df-container {\n",
              "      display:flex;\n",
              "      gap: 12px;\n",
              "    }\n",
              "\n",
              "    .colab-df-convert {\n",
              "      background-color: #E8F0FE;\n",
              "      border: none;\n",
              "      border-radius: 50%;\n",
              "      cursor: pointer;\n",
              "      display: none;\n",
              "      fill: #1967D2;\n",
              "      height: 32px;\n",
              "      padding: 0 0 0 0;\n",
              "      width: 32px;\n",
              "    }\n",
              "\n",
              "    .colab-df-convert:hover {\n",
              "      background-color: #E2EBFA;\n",
              "      box-shadow: 0px 1px 2px rgba(60, 64, 67, 0.3), 0px 1px 3px 1px rgba(60, 64, 67, 0.15);\n",
              "      fill: #174EA6;\n",
              "    }\n",
              "\n",
              "    .colab-df-buttons div {\n",
              "      margin-bottom: 4px;\n",
              "    }\n",
              "\n",
              "    [theme=dark] .colab-df-convert {\n",
              "      background-color: #3B4455;\n",
              "      fill: #D2E3FC;\n",
              "    }\n",
              "\n",
              "    [theme=dark] .colab-df-convert:hover {\n",
              "      background-color: #434B5C;\n",
              "      box-shadow: 0px 1px 3px 1px rgba(0, 0, 0, 0.15);\n",
              "      filter: drop-shadow(0px 1px 2px rgba(0, 0, 0, 0.3));\n",
              "      fill: #FFFFFF;\n",
              "    }\n",
              "  </style>\n",
              "\n",
              "    <script>\n",
              "      const buttonEl =\n",
              "        document.querySelector('#df-bdece118-b706-4a5b-8ae1-b60ddcdc94f6 button.colab-df-convert');\n",
              "      buttonEl.style.display =\n",
              "        google.colab.kernel.accessAllowed ? 'block' : 'none';\n",
              "\n",
              "      async function convertToInteractive(key) {\n",
              "        const element = document.querySelector('#df-bdece118-b706-4a5b-8ae1-b60ddcdc94f6');\n",
              "        const dataTable =\n",
              "          await google.colab.kernel.invokeFunction('convertToInteractive',\n",
              "                                                    [key], {});\n",
              "        if (!dataTable) return;\n",
              "\n",
              "        const docLinkHtml = 'Like what you see? Visit the ' +\n",
              "          '<a target=\"_blank\" href=https://colab.research.google.com/notebooks/data_table.ipynb>data table notebook</a>'\n",
              "          + ' to learn more about interactive tables.';\n",
              "        element.innerHTML = '';\n",
              "        dataTable['output_type'] = 'display_data';\n",
              "        await google.colab.output.renderOutput(dataTable, element);\n",
              "        const docLink = document.createElement('div');\n",
              "        docLink.innerHTML = docLinkHtml;\n",
              "        element.appendChild(docLink);\n",
              "      }\n",
              "    </script>\n",
              "  </div>\n",
              "\n",
              "\n",
              "<div id=\"df-0f059744-e920-4586-881f-f1122c17cb96\">\n",
              "  <button class=\"colab-df-quickchart\" onclick=\"quickchart('df-0f059744-e920-4586-881f-f1122c17cb96')\"\n",
              "            title=\"Suggest charts\"\n",
              "            style=\"display:none;\">\n",
              "\n",
              "<svg xmlns=\"http://www.w3.org/2000/svg\" height=\"24px\"viewBox=\"0 0 24 24\"\n",
              "     width=\"24px\">\n",
              "    <g>\n",
              "        <path d=\"M19 3H5c-1.1 0-2 .9-2 2v14c0 1.1.9 2 2 2h14c1.1 0 2-.9 2-2V5c0-1.1-.9-2-2-2zM9 17H7v-7h2v7zm4 0h-2V7h2v10zm4 0h-2v-4h2v4z\"/>\n",
              "    </g>\n",
              "</svg>\n",
              "  </button>\n",
              "\n",
              "<style>\n",
              "  .colab-df-quickchart {\n",
              "      --bg-color: #E8F0FE;\n",
              "      --fill-color: #1967D2;\n",
              "      --hover-bg-color: #E2EBFA;\n",
              "      --hover-fill-color: #174EA6;\n",
              "      --disabled-fill-color: #AAA;\n",
              "      --disabled-bg-color: #DDD;\n",
              "  }\n",
              "\n",
              "  [theme=dark] .colab-df-quickchart {\n",
              "      --bg-color: #3B4455;\n",
              "      --fill-color: #D2E3FC;\n",
              "      --hover-bg-color: #434B5C;\n",
              "      --hover-fill-color: #FFFFFF;\n",
              "      --disabled-bg-color: #3B4455;\n",
              "      --disabled-fill-color: #666;\n",
              "  }\n",
              "\n",
              "  .colab-df-quickchart {\n",
              "    background-color: var(--bg-color);\n",
              "    border: none;\n",
              "    border-radius: 50%;\n",
              "    cursor: pointer;\n",
              "    display: none;\n",
              "    fill: var(--fill-color);\n",
              "    height: 32px;\n",
              "    padding: 0;\n",
              "    width: 32px;\n",
              "  }\n",
              "\n",
              "  .colab-df-quickchart:hover {\n",
              "    background-color: var(--hover-bg-color);\n",
              "    box-shadow: 0 1px 2px rgba(60, 64, 67, 0.3), 0 1px 3px 1px rgba(60, 64, 67, 0.15);\n",
              "    fill: var(--button-hover-fill-color);\n",
              "  }\n",
              "\n",
              "  .colab-df-quickchart-complete:disabled,\n",
              "  .colab-df-quickchart-complete:disabled:hover {\n",
              "    background-color: var(--disabled-bg-color);\n",
              "    fill: var(--disabled-fill-color);\n",
              "    box-shadow: none;\n",
              "  }\n",
              "\n",
              "  .colab-df-spinner {\n",
              "    border: 2px solid var(--fill-color);\n",
              "    border-color: transparent;\n",
              "    border-bottom-color: var(--fill-color);\n",
              "    animation:\n",
              "      spin 1s steps(1) infinite;\n",
              "  }\n",
              "\n",
              "  @keyframes spin {\n",
              "    0% {\n",
              "      border-color: transparent;\n",
              "      border-bottom-color: var(--fill-color);\n",
              "      border-left-color: var(--fill-color);\n",
              "    }\n",
              "    20% {\n",
              "      border-color: transparent;\n",
              "      border-left-color: var(--fill-color);\n",
              "      border-top-color: var(--fill-color);\n",
              "    }\n",
              "    30% {\n",
              "      border-color: transparent;\n",
              "      border-left-color: var(--fill-color);\n",
              "      border-top-color: var(--fill-color);\n",
              "      border-right-color: var(--fill-color);\n",
              "    }\n",
              "    40% {\n",
              "      border-color: transparent;\n",
              "      border-right-color: var(--fill-color);\n",
              "      border-top-color: var(--fill-color);\n",
              "    }\n",
              "    60% {\n",
              "      border-color: transparent;\n",
              "      border-right-color: var(--fill-color);\n",
              "    }\n",
              "    80% {\n",
              "      border-color: transparent;\n",
              "      border-right-color: var(--fill-color);\n",
              "      border-bottom-color: var(--fill-color);\n",
              "    }\n",
              "    90% {\n",
              "      border-color: transparent;\n",
              "      border-bottom-color: var(--fill-color);\n",
              "    }\n",
              "  }\n",
              "</style>\n",
              "\n",
              "  <script>\n",
              "    async function quickchart(key) {\n",
              "      const quickchartButtonEl =\n",
              "        document.querySelector('#' + key + ' button');\n",
              "      quickchartButtonEl.disabled = true;  // To prevent multiple clicks.\n",
              "      quickchartButtonEl.classList.add('colab-df-spinner');\n",
              "      try {\n",
              "        const charts = await google.colab.kernel.invokeFunction(\n",
              "            'suggestCharts', [key], {});\n",
              "      } catch (error) {\n",
              "        console.error('Error during call to suggestCharts:', error);\n",
              "      }\n",
              "      quickchartButtonEl.classList.remove('colab-df-spinner');\n",
              "      quickchartButtonEl.classList.add('colab-df-quickchart-complete');\n",
              "    }\n",
              "    (() => {\n",
              "      let quickchartButtonEl =\n",
              "        document.querySelector('#df-0f059744-e920-4586-881f-f1122c17cb96 button');\n",
              "      quickchartButtonEl.style.display =\n",
              "        google.colab.kernel.accessAllowed ? 'block' : 'none';\n",
              "    })();\n",
              "  </script>\n",
              "</div>\n",
              "\n",
              "    </div>\n",
              "  </div>\n"
            ],
            "application/vnd.google.colaboratory.intrinsic+json": {
              "type": "dataframe",
              "variable_name": "df",
              "summary": "{\n  \"name\": \"df\",\n  \"rows\": 14214,\n  \"fields\": [\n    {\n      \"column\": \"p_id\",\n      \"properties\": {\n        \"dtype\": \"number\",\n        \"std\": 3152415,\n        \"min\": 70166,\n        \"max\": 19415760,\n        \"num_unique_values\": 14214,\n        \"samples\": [\n          18688460,\n          17441634,\n          14179076\n        ],\n        \"semantic_type\": \"\",\n        \"description\": \"\"\n      }\n    },\n    {\n      \"column\": \"name\",\n      \"properties\": {\n        \"dtype\": \"string\",\n        \"num_unique_values\": 13873,\n        \"samples\": [\n          \"Clora Creation Women Off White Floral Embroidered Palazzos\",\n          \"MANGO Women Red & Beige Abstract Print A-Line Top\",\n          \"Clora Creation Navy Blue Woven Design Banarsi Silk Dupatta\"\n        ],\n        \"semantic_type\": \"\",\n        \"description\": \"\"\n      }\n    },\n    {\n      \"column\": \"products\",\n      \"properties\": {\n        \"dtype\": \"category\",\n        \"num_unique_values\": 910,\n        \"samples\": [\n          \"Hoodie, Plus Size\",\n          \"Top, Palazzos, Ethnic Jacket\",\n          \"Jeans, Culottes, Trousers\"\n        ],\n        \"semantic_type\": \"\",\n        \"description\": \"\"\n      }\n    },\n    {\n      \"column\": \"price\",\n      \"properties\": {\n        \"dtype\": \"number\",\n        \"std\": 2570.2329882965837,\n        \"min\": 169.0,\n        \"max\": 47999.0,\n        \"num_unique_values\": 1209,\n        \"samples\": [\n          2259.0,\n          475.0,\n          4590.0\n        ],\n        \"semantic_type\": \"\",\n        \"description\": \"\"\n      }\n    },\n    {\n      \"column\": \"colour\",\n      \"properties\": {\n        \"dtype\": \"category\",\n        \"num_unique_values\": 50,\n        \"samples\": [\n          \"Sea Green\",\n          \"Gold\",\n          \"Rust\"\n        ],\n        \"semantic_type\": \"\",\n        \"description\": \"\"\n      }\n    },\n    {\n      \"column\": \"brand\",\n      \"properties\": {\n        \"dtype\": \"category\",\n        \"num_unique_values\": 1022,\n        \"samples\": [\n          \"Zigo\",\n          \"Reistor\",\n          \"SERONA FABRICS\"\n        ],\n        \"semantic_type\": \"\",\n        \"description\": \"\"\n      }\n    },\n    {\n      \"column\": \"img\",\n      \"properties\": {\n        \"dtype\": \"string\",\n        \"num_unique_values\": 14214,\n        \"samples\": [\n          \"http://assets.myntassets.com/assets/images/18688460/2022/6/9/91ab90ee-c162-4d9f-9e4e-4f9c0cd7865a1654782377953Skirts1.jpg\",\n          \"http://assets.myntassets.com/assets/images/17441634/2022/3/8/1d50e24c-e7bf-4e62-8a96-9625b530f4751646740866170Jackets1.jpg\",\n          \"http://assets.myntassets.com/assets/images/14179076/2021/6/24/fdb8118a-1946-4b43-9ee7-c52146e004151624527103903-DressBerry-Women-Sweaters-5311624527103479-1.jpg\"\n        ],\n        \"semantic_type\": \"\",\n        \"description\": \"\"\n      }\n    },\n    {\n      \"column\": \"ratingCount\",\n      \"properties\": {\n        \"dtype\": \"number\",\n        \"std\": 782.4649724046869,\n        \"min\": 1.0,\n        \"max\": 21274.0,\n        \"num_unique_values\": 829,\n        \"samples\": [\n          897.0,\n          173.0,\n          592.0\n        ],\n        \"semantic_type\": \"\",\n        \"description\": \"\"\n      }\n    },\n    {\n      \"column\": \"avg_rating\",\n      \"properties\": {\n        \"dtype\": \"number\",\n        \"std\": 0.4757558612927901,\n        \"min\": 1.0,\n        \"max\": 5.0,\n        \"num_unique_values\": 2367,\n        \"samples\": [\n          3.771084337349397,\n          4.496644295302014,\n          3.631578947368421\n        ],\n        \"semantic_type\": \"\",\n        \"description\": \"\"\n      }\n    },\n    {\n      \"column\": \"description\",\n      \"properties\": {\n        \"dtype\": \"string\",\n        \"num_unique_values\": 14181,\n        \"samples\": [\n          \"<p>Off-white, blue and burgundy floral printed flared maxi skirt, has a partially elasticated waistband, slip-on closure, flared hem and is lined</p><p>Viscose rayon<br>Machine-wash<br>Do not bleach</p><p>The model (height 5'8\\\") is wearing a size 28</p>\",\n          \"Burgundy solid basic jumpsuit, has a keyhole neckline, sleeveless, and two pockets<br>Comes with a beltMaterial: Polyester crepe<br>Machine WashThe model (height 5'8'') is wearing a size S\",\n          \"Grey abstract printed insulator quilted jacket,  has a hooded,  2  pockets ,has a zip closure, long sleeves,  straight  hemline, polyester  lining<br><br>Warranty: 1 month<br>Warranty provided by brand/manufacturerOuter shell: Polyester <br> Lining fabric: Polyester <br> Machine washThe model (height 5'8) is wearing a size S<br><br>Columbia runs a size bigger. Pick one size smaller for a more comfortable fit.\"\n        ],\n        \"semantic_type\": \"\",\n        \"description\": \"\"\n      }\n    },\n    {\n      \"column\": \"p_attributes\",\n      \"properties\": {\n        \"dtype\": \"string\",\n        \"num_unique_values\": 13089,\n        \"samples\": [\n          \"{'Body or Garment Size': 'Garment Measurements in', 'Closure': 'NA', 'Fabric': 'Cotton', 'Main Trend': 'NA', 'Neck': 'Shoulder Straps', 'Number of Pockets': 'NA', 'Occasion': 'Casual', 'Pattern': 'Solid', 'Sleeve Length': 'Sleeveless', 'Surface Styling': 'Gathers', 'Sustainable': 'Regular', 'Type': 'Playsuit', 'Wash Care': 'Hand Wash'}\",\n          \"{'Border': 'Woven Design', 'Fabric': 'Art Silk', 'Occasion': 'Party', 'Ornamentation': 'Gotta Patti', 'Pattern': 'Printed', 'Print or Pattern Type': 'Bandhani', 'Sustainable': 'Regular', 'Technique': 'Bandhani', 'Wash Care': 'Machine Wash', 'Wedding': 'Bride & Wedding Squad'}\",\n          \"{'Body Shape ID': '443,333,324,424', 'Body or Garment Size': 'To-Fit Denotes Body Measurements in', 'Center Front Open': 'No', 'Character': 'NA', 'Closure': 'Tie-Ups', 'Fabric': 'Pure Cotton', 'Fabric Type': 'NA', 'Length': 'Regular', 'Lining': 'NA', 'Main Trend': 'Conversational Print', 'Multipack Set': 'NA', 'Neck': 'Shoulder Straps', 'Occasion': 'Ethnic', 'Pattern': 'Printed', 'Print or Pattern Type': 'Conversational', 'Sleeve Length': 'Sleeveless', 'Sleeve Styling': 'No Sleeves', 'Surface Styling': 'Tie-Ups', 'Sustainable': 'Regular', 'Transparency': 'Opaque', 'Type': 'Regular', 'Wash Care': 'Hand Wash', 'Weave Type': 'Woven', 'taxMaterial': 'NA'}\"\n        ],\n        \"semantic_type\": \"\",\n        \"description\": \"\"\n      }\n    }\n  ]\n}"
            }
          },
          "metadata": {},
          "execution_count": 4
        }
      ]
    },
    {
      "cell_type": "code",
      "source": [
        "df.shape"
      ],
      "metadata": {
        "colab": {
          "base_uri": "https://localhost:8080/"
        },
        "id": "cJWPVPOrk8g9",
        "outputId": "60e63f45-30e7-4954-8af5-8bb5ca22d688"
      },
      "execution_count": 5,
      "outputs": [
        {
          "output_type": "execute_result",
          "data": {
            "text/plain": [
              "(14214, 11)"
            ]
          },
          "metadata": {},
          "execution_count": 5
        }
      ]
    },
    {
      "cell_type": "code",
      "source": [
        "df.isna().sum()"
      ],
      "metadata": {
        "id": "ehnBuS79k8ek",
        "colab": {
          "base_uri": "https://localhost:8080/",
          "height": 429
        },
        "outputId": "76c4482f-312a-4c85-b89d-726a5a2de79d"
      },
      "execution_count": 6,
      "outputs": [
        {
          "output_type": "execute_result",
          "data": {
            "text/plain": [
              "p_id               0\n",
              "name               0\n",
              "products           0\n",
              "price              0\n",
              "colour             0\n",
              "brand              0\n",
              "img                0\n",
              "ratingCount     7684\n",
              "avg_rating      7684\n",
              "description        0\n",
              "p_attributes       0\n",
              "dtype: int64"
            ],
            "text/html": [
              "<div>\n",
              "<style scoped>\n",
              "    .dataframe tbody tr th:only-of-type {\n",
              "        vertical-align: middle;\n",
              "    }\n",
              "\n",
              "    .dataframe tbody tr th {\n",
              "        vertical-align: top;\n",
              "    }\n",
              "\n",
              "    .dataframe thead th {\n",
              "        text-align: right;\n",
              "    }\n",
              "</style>\n",
              "<table border=\"1\" class=\"dataframe\">\n",
              "  <thead>\n",
              "    <tr style=\"text-align: right;\">\n",
              "      <th></th>\n",
              "      <th>0</th>\n",
              "    </tr>\n",
              "  </thead>\n",
              "  <tbody>\n",
              "    <tr>\n",
              "      <th>p_id</th>\n",
              "      <td>0</td>\n",
              "    </tr>\n",
              "    <tr>\n",
              "      <th>name</th>\n",
              "      <td>0</td>\n",
              "    </tr>\n",
              "    <tr>\n",
              "      <th>products</th>\n",
              "      <td>0</td>\n",
              "    </tr>\n",
              "    <tr>\n",
              "      <th>price</th>\n",
              "      <td>0</td>\n",
              "    </tr>\n",
              "    <tr>\n",
              "      <th>colour</th>\n",
              "      <td>0</td>\n",
              "    </tr>\n",
              "    <tr>\n",
              "      <th>brand</th>\n",
              "      <td>0</td>\n",
              "    </tr>\n",
              "    <tr>\n",
              "      <th>img</th>\n",
              "      <td>0</td>\n",
              "    </tr>\n",
              "    <tr>\n",
              "      <th>ratingCount</th>\n",
              "      <td>7684</td>\n",
              "    </tr>\n",
              "    <tr>\n",
              "      <th>avg_rating</th>\n",
              "      <td>7684</td>\n",
              "    </tr>\n",
              "    <tr>\n",
              "      <th>description</th>\n",
              "      <td>0</td>\n",
              "    </tr>\n",
              "    <tr>\n",
              "      <th>p_attributes</th>\n",
              "      <td>0</td>\n",
              "    </tr>\n",
              "  </tbody>\n",
              "</table>\n",
              "</div><br><label><b>dtype:</b> int64</label>"
            ]
          },
          "metadata": {},
          "execution_count": 6
        }
      ]
    },
    {
      "cell_type": "code",
      "source": [
        "round(100 * df.isna().sum()/df.shape[0], 3)"
      ],
      "metadata": {
        "colab": {
          "base_uri": "https://localhost:8080/",
          "height": 429
        },
        "id": "1t6iuQxXRFoG",
        "outputId": "4077ff18-5972-4565-fa0b-c9f426b31823"
      },
      "execution_count": 7,
      "outputs": [
        {
          "output_type": "execute_result",
          "data": {
            "text/plain": [
              "p_id             0.000\n",
              "name             0.000\n",
              "products         0.000\n",
              "price            0.000\n",
              "colour           0.000\n",
              "brand            0.000\n",
              "img              0.000\n",
              "ratingCount     54.059\n",
              "avg_rating      54.059\n",
              "description      0.000\n",
              "p_attributes     0.000\n",
              "dtype: float64"
            ],
            "text/html": [
              "<div>\n",
              "<style scoped>\n",
              "    .dataframe tbody tr th:only-of-type {\n",
              "        vertical-align: middle;\n",
              "    }\n",
              "\n",
              "    .dataframe tbody tr th {\n",
              "        vertical-align: top;\n",
              "    }\n",
              "\n",
              "    .dataframe thead th {\n",
              "        text-align: right;\n",
              "    }\n",
              "</style>\n",
              "<table border=\"1\" class=\"dataframe\">\n",
              "  <thead>\n",
              "    <tr style=\"text-align: right;\">\n",
              "      <th></th>\n",
              "      <th>0</th>\n",
              "    </tr>\n",
              "  </thead>\n",
              "  <tbody>\n",
              "    <tr>\n",
              "      <th>p_id</th>\n",
              "      <td>0.000</td>\n",
              "    </tr>\n",
              "    <tr>\n",
              "      <th>name</th>\n",
              "      <td>0.000</td>\n",
              "    </tr>\n",
              "    <tr>\n",
              "      <th>products</th>\n",
              "      <td>0.000</td>\n",
              "    </tr>\n",
              "    <tr>\n",
              "      <th>price</th>\n",
              "      <td>0.000</td>\n",
              "    </tr>\n",
              "    <tr>\n",
              "      <th>colour</th>\n",
              "      <td>0.000</td>\n",
              "    </tr>\n",
              "    <tr>\n",
              "      <th>brand</th>\n",
              "      <td>0.000</td>\n",
              "    </tr>\n",
              "    <tr>\n",
              "      <th>img</th>\n",
              "      <td>0.000</td>\n",
              "    </tr>\n",
              "    <tr>\n",
              "      <th>ratingCount</th>\n",
              "      <td>54.059</td>\n",
              "    </tr>\n",
              "    <tr>\n",
              "      <th>avg_rating</th>\n",
              "      <td>54.059</td>\n",
              "    </tr>\n",
              "    <tr>\n",
              "      <th>description</th>\n",
              "      <td>0.000</td>\n",
              "    </tr>\n",
              "    <tr>\n",
              "      <th>p_attributes</th>\n",
              "      <td>0.000</td>\n",
              "    </tr>\n",
              "  </tbody>\n",
              "</table>\n",
              "</div><br><label><b>dtype:</b> float64</label>"
            ]
          },
          "metadata": {},
          "execution_count": 7
        }
      ]
    },
    {
      "cell_type": "code",
      "source": [
        "df.info()"
      ],
      "metadata": {
        "id": "sahxXau0k8aN",
        "colab": {
          "base_uri": "https://localhost:8080/"
        },
        "outputId": "aedc69ed-0834-48d7-e3b9-b2c6ccc71eb3"
      },
      "execution_count": 8,
      "outputs": [
        {
          "output_type": "stream",
          "name": "stdout",
          "text": [
            "<class 'pandas.core.frame.DataFrame'>\n",
            "RangeIndex: 14214 entries, 0 to 14213\n",
            "Data columns (total 11 columns):\n",
            " #   Column        Non-Null Count  Dtype  \n",
            "---  ------        --------------  -----  \n",
            " 0   p_id          14214 non-null  int64  \n",
            " 1   name          14214 non-null  object \n",
            " 2   products      14214 non-null  object \n",
            " 3   price         14214 non-null  float64\n",
            " 4   colour        14214 non-null  object \n",
            " 5   brand         14214 non-null  object \n",
            " 6   img           14214 non-null  object \n",
            " 7   ratingCount   6530 non-null   float64\n",
            " 8   avg_rating    6530 non-null   float64\n",
            " 9   description   14214 non-null  object \n",
            " 10  p_attributes  14214 non-null  object \n",
            "dtypes: float64(3), int64(1), object(7)\n",
            "memory usage: 1.2+ MB\n"
          ]
        }
      ]
    },
    {
      "cell_type": "code",
      "source": [
        "df.drop([\"ratingCount\", \"avg_rating\"], axis=1, inplace=True)"
      ],
      "metadata": {
        "id": "mizhWYHXk8Xl"
      },
      "execution_count": 9,
      "outputs": []
    },
    {
      "cell_type": "code",
      "source": [
        "df.shape"
      ],
      "metadata": {
        "id": "wDCqRvork8U8",
        "colab": {
          "base_uri": "https://localhost:8080/"
        },
        "outputId": "245f5393-9da2-4a8b-f7af-8a045ee7e57f"
      },
      "execution_count": 10,
      "outputs": [
        {
          "output_type": "execute_result",
          "data": {
            "text/plain": [
              "(14214, 9)"
            ]
          },
          "metadata": {},
          "execution_count": 10
        }
      ]
    },
    {
      "cell_type": "code",
      "source": [
        "df.head()"
      ],
      "metadata": {
        "id": "1RI2869Zk8P1",
        "colab": {
          "base_uri": "https://localhost:8080/",
          "height": 293
        },
        "outputId": "606e7055-e2ca-4bde-c251-4ced8b7e2bf9"
      },
      "execution_count": 12,
      "outputs": [
        {
          "output_type": "execute_result",
          "data": {
            "text/plain": [
              "       p_id                                               name  \\\n",
              "0  17048614  Khushal K Women Black Ethnic Motifs Printed Ku...   \n",
              "1  16524740  InWeave Women Orange Solid Kurta with Palazzos...   \n",
              "2  16331376  Anubhutee Women Navy Blue Ethnic Motifs Embroi...   \n",
              "3  14709966  Nayo Women Red Floral Printed Kurta With Trous...   \n",
              "4  11056154   AHIKA Women Black & Green Printed Straight Kurta   \n",
              "\n",
              "                                products   price     colour      brand  \\\n",
              "0               Kurta, Palazzos, Dupatta  5099.0      Black  Khushal K   \n",
              "1  Kurta, Palazzos, Floral Print Dupatta  5899.0     Orange    InWeave   \n",
              "2               Kurta, Trousers, Dupatta  4899.0  Navy Blue  Anubhutee   \n",
              "3                Kurta, Trouser, Dupatta  3699.0        Red       Nayo   \n",
              "4                                  Kurta  1350.0      Black      AHIKA   \n",
              "\n",
              "                                                 img  \\\n",
              "0  http://assets.myntassets.com/assets/images/170...   \n",
              "1  http://assets.myntassets.com/assets/images/165...   \n",
              "2  http://assets.myntassets.com/assets/images/163...   \n",
              "3  http://assets.myntassets.com/assets/images/147...   \n",
              "4  http://assets.myntassets.com/assets/images/110...   \n",
              "\n",
              "                                         description  \\\n",
              "0  Black printed Kurta with Palazzos with dupatta...   \n",
              "1  Orange solid Kurta with Palazzos with dupatta<...   \n",
              "2  Navy blue embroidered Kurta with Trousers with...   \n",
              "3  Red printed kurta with trouser and dupatta<br>...   \n",
              "4  Black and green printed straight kurta, has a ...   \n",
              "\n",
              "                                        p_attributes  \n",
              "0  {'Add-Ons': 'NA', 'Body Shape ID': '443,333,32...  \n",
              "1  {'Add-Ons': 'NA', 'Body Shape ID': '443,333,32...  \n",
              "2  {'Add-Ons': 'NA', 'Body Shape ID': '333,424', ...  \n",
              "3  {'Add-Ons': 'NA', 'Body Shape ID': '333,424', ...  \n",
              "4  {'Body Shape ID': '424', 'Body or Garment Size...  "
            ],
            "text/html": [
              "\n",
              "  <div id=\"df-e211a06f-4926-40d9-89ba-8fcf8e3be379\" class=\"colab-df-container\">\n",
              "    <div>\n",
              "<style scoped>\n",
              "    .dataframe tbody tr th:only-of-type {\n",
              "        vertical-align: middle;\n",
              "    }\n",
              "\n",
              "    .dataframe tbody tr th {\n",
              "        vertical-align: top;\n",
              "    }\n",
              "\n",
              "    .dataframe thead th {\n",
              "        text-align: right;\n",
              "    }\n",
              "</style>\n",
              "<table border=\"1\" class=\"dataframe\">\n",
              "  <thead>\n",
              "    <tr style=\"text-align: right;\">\n",
              "      <th></th>\n",
              "      <th>p_id</th>\n",
              "      <th>name</th>\n",
              "      <th>products</th>\n",
              "      <th>price</th>\n",
              "      <th>colour</th>\n",
              "      <th>brand</th>\n",
              "      <th>img</th>\n",
              "      <th>description</th>\n",
              "      <th>p_attributes</th>\n",
              "    </tr>\n",
              "  </thead>\n",
              "  <tbody>\n",
              "    <tr>\n",
              "      <th>0</th>\n",
              "      <td>17048614</td>\n",
              "      <td>Khushal K Women Black Ethnic Motifs Printed Ku...</td>\n",
              "      <td>Kurta, Palazzos, Dupatta</td>\n",
              "      <td>5099.0</td>\n",
              "      <td>Black</td>\n",
              "      <td>Khushal K</td>\n",
              "      <td>http://assets.myntassets.com/assets/images/170...</td>\n",
              "      <td>Black printed Kurta with Palazzos with dupatta...</td>\n",
              "      <td>{'Add-Ons': 'NA', 'Body Shape ID': '443,333,32...</td>\n",
              "    </tr>\n",
              "    <tr>\n",
              "      <th>1</th>\n",
              "      <td>16524740</td>\n",
              "      <td>InWeave Women Orange Solid Kurta with Palazzos...</td>\n",
              "      <td>Kurta, Palazzos, Floral Print Dupatta</td>\n",
              "      <td>5899.0</td>\n",
              "      <td>Orange</td>\n",
              "      <td>InWeave</td>\n",
              "      <td>http://assets.myntassets.com/assets/images/165...</td>\n",
              "      <td>Orange solid Kurta with Palazzos with dupatta&lt;...</td>\n",
              "      <td>{'Add-Ons': 'NA', 'Body Shape ID': '443,333,32...</td>\n",
              "    </tr>\n",
              "    <tr>\n",
              "      <th>2</th>\n",
              "      <td>16331376</td>\n",
              "      <td>Anubhutee Women Navy Blue Ethnic Motifs Embroi...</td>\n",
              "      <td>Kurta, Trousers, Dupatta</td>\n",
              "      <td>4899.0</td>\n",
              "      <td>Navy Blue</td>\n",
              "      <td>Anubhutee</td>\n",
              "      <td>http://assets.myntassets.com/assets/images/163...</td>\n",
              "      <td>Navy blue embroidered Kurta with Trousers with...</td>\n",
              "      <td>{'Add-Ons': 'NA', 'Body Shape ID': '333,424', ...</td>\n",
              "    </tr>\n",
              "    <tr>\n",
              "      <th>3</th>\n",
              "      <td>14709966</td>\n",
              "      <td>Nayo Women Red Floral Printed Kurta With Trous...</td>\n",
              "      <td>Kurta, Trouser, Dupatta</td>\n",
              "      <td>3699.0</td>\n",
              "      <td>Red</td>\n",
              "      <td>Nayo</td>\n",
              "      <td>http://assets.myntassets.com/assets/images/147...</td>\n",
              "      <td>Red printed kurta with trouser and dupatta&lt;br&gt;...</td>\n",
              "      <td>{'Add-Ons': 'NA', 'Body Shape ID': '333,424', ...</td>\n",
              "    </tr>\n",
              "    <tr>\n",
              "      <th>4</th>\n",
              "      <td>11056154</td>\n",
              "      <td>AHIKA Women Black &amp; Green Printed Straight Kurta</td>\n",
              "      <td>Kurta</td>\n",
              "      <td>1350.0</td>\n",
              "      <td>Black</td>\n",
              "      <td>AHIKA</td>\n",
              "      <td>http://assets.myntassets.com/assets/images/110...</td>\n",
              "      <td>Black and green printed straight kurta, has a ...</td>\n",
              "      <td>{'Body Shape ID': '424', 'Body or Garment Size...</td>\n",
              "    </tr>\n",
              "  </tbody>\n",
              "</table>\n",
              "</div>\n",
              "    <div class=\"colab-df-buttons\">\n",
              "\n",
              "  <div class=\"colab-df-container\">\n",
              "    <button class=\"colab-df-convert\" onclick=\"convertToInteractive('df-e211a06f-4926-40d9-89ba-8fcf8e3be379')\"\n",
              "            title=\"Convert this dataframe to an interactive table.\"\n",
              "            style=\"display:none;\">\n",
              "\n",
              "  <svg xmlns=\"http://www.w3.org/2000/svg\" height=\"24px\" viewBox=\"0 -960 960 960\">\n",
              "    <path d=\"M120-120v-720h720v720H120Zm60-500h600v-160H180v160Zm220 220h160v-160H400v160Zm0 220h160v-160H400v160ZM180-400h160v-160H180v160Zm440 0h160v-160H620v160ZM180-180h160v-160H180v160Zm440 0h160v-160H620v160Z\"/>\n",
              "  </svg>\n",
              "    </button>\n",
              "\n",
              "  <style>\n",
              "    .colab-df-container {\n",
              "      display:flex;\n",
              "      gap: 12px;\n",
              "    }\n",
              "\n",
              "    .colab-df-convert {\n",
              "      background-color: #E8F0FE;\n",
              "      border: none;\n",
              "      border-radius: 50%;\n",
              "      cursor: pointer;\n",
              "      display: none;\n",
              "      fill: #1967D2;\n",
              "      height: 32px;\n",
              "      padding: 0 0 0 0;\n",
              "      width: 32px;\n",
              "    }\n",
              "\n",
              "    .colab-df-convert:hover {\n",
              "      background-color: #E2EBFA;\n",
              "      box-shadow: 0px 1px 2px rgba(60, 64, 67, 0.3), 0px 1px 3px 1px rgba(60, 64, 67, 0.15);\n",
              "      fill: #174EA6;\n",
              "    }\n",
              "\n",
              "    .colab-df-buttons div {\n",
              "      margin-bottom: 4px;\n",
              "    }\n",
              "\n",
              "    [theme=dark] .colab-df-convert {\n",
              "      background-color: #3B4455;\n",
              "      fill: #D2E3FC;\n",
              "    }\n",
              "\n",
              "    [theme=dark] .colab-df-convert:hover {\n",
              "      background-color: #434B5C;\n",
              "      box-shadow: 0px 1px 3px 1px rgba(0, 0, 0, 0.15);\n",
              "      filter: drop-shadow(0px 1px 2px rgba(0, 0, 0, 0.3));\n",
              "      fill: #FFFFFF;\n",
              "    }\n",
              "  </style>\n",
              "\n",
              "    <script>\n",
              "      const buttonEl =\n",
              "        document.querySelector('#df-e211a06f-4926-40d9-89ba-8fcf8e3be379 button.colab-df-convert');\n",
              "      buttonEl.style.display =\n",
              "        google.colab.kernel.accessAllowed ? 'block' : 'none';\n",
              "\n",
              "      async function convertToInteractive(key) {\n",
              "        const element = document.querySelector('#df-e211a06f-4926-40d9-89ba-8fcf8e3be379');\n",
              "        const dataTable =\n",
              "          await google.colab.kernel.invokeFunction('convertToInteractive',\n",
              "                                                    [key], {});\n",
              "        if (!dataTable) return;\n",
              "\n",
              "        const docLinkHtml = 'Like what you see? Visit the ' +\n",
              "          '<a target=\"_blank\" href=https://colab.research.google.com/notebooks/data_table.ipynb>data table notebook</a>'\n",
              "          + ' to learn more about interactive tables.';\n",
              "        element.innerHTML = '';\n",
              "        dataTable['output_type'] = 'display_data';\n",
              "        await google.colab.output.renderOutput(dataTable, element);\n",
              "        const docLink = document.createElement('div');\n",
              "        docLink.innerHTML = docLinkHtml;\n",
              "        element.appendChild(docLink);\n",
              "      }\n",
              "    </script>\n",
              "  </div>\n",
              "\n",
              "\n",
              "<div id=\"df-05721fcc-30e0-4f82-8d71-352db4ee9064\">\n",
              "  <button class=\"colab-df-quickchart\" onclick=\"quickchart('df-05721fcc-30e0-4f82-8d71-352db4ee9064')\"\n",
              "            title=\"Suggest charts\"\n",
              "            style=\"display:none;\">\n",
              "\n",
              "<svg xmlns=\"http://www.w3.org/2000/svg\" height=\"24px\"viewBox=\"0 0 24 24\"\n",
              "     width=\"24px\">\n",
              "    <g>\n",
              "        <path d=\"M19 3H5c-1.1 0-2 .9-2 2v14c0 1.1.9 2 2 2h14c1.1 0 2-.9 2-2V5c0-1.1-.9-2-2-2zM9 17H7v-7h2v7zm4 0h-2V7h2v10zm4 0h-2v-4h2v4z\"/>\n",
              "    </g>\n",
              "</svg>\n",
              "  </button>\n",
              "\n",
              "<style>\n",
              "  .colab-df-quickchart {\n",
              "      --bg-color: #E8F0FE;\n",
              "      --fill-color: #1967D2;\n",
              "      --hover-bg-color: #E2EBFA;\n",
              "      --hover-fill-color: #174EA6;\n",
              "      --disabled-fill-color: #AAA;\n",
              "      --disabled-bg-color: #DDD;\n",
              "  }\n",
              "\n",
              "  [theme=dark] .colab-df-quickchart {\n",
              "      --bg-color: #3B4455;\n",
              "      --fill-color: #D2E3FC;\n",
              "      --hover-bg-color: #434B5C;\n",
              "      --hover-fill-color: #FFFFFF;\n",
              "      --disabled-bg-color: #3B4455;\n",
              "      --disabled-fill-color: #666;\n",
              "  }\n",
              "\n",
              "  .colab-df-quickchart {\n",
              "    background-color: var(--bg-color);\n",
              "    border: none;\n",
              "    border-radius: 50%;\n",
              "    cursor: pointer;\n",
              "    display: none;\n",
              "    fill: var(--fill-color);\n",
              "    height: 32px;\n",
              "    padding: 0;\n",
              "    width: 32px;\n",
              "  }\n",
              "\n",
              "  .colab-df-quickchart:hover {\n",
              "    background-color: var(--hover-bg-color);\n",
              "    box-shadow: 0 1px 2px rgba(60, 64, 67, 0.3), 0 1px 3px 1px rgba(60, 64, 67, 0.15);\n",
              "    fill: var(--button-hover-fill-color);\n",
              "  }\n",
              "\n",
              "  .colab-df-quickchart-complete:disabled,\n",
              "  .colab-df-quickchart-complete:disabled:hover {\n",
              "    background-color: var(--disabled-bg-color);\n",
              "    fill: var(--disabled-fill-color);\n",
              "    box-shadow: none;\n",
              "  }\n",
              "\n",
              "  .colab-df-spinner {\n",
              "    border: 2px solid var(--fill-color);\n",
              "    border-color: transparent;\n",
              "    border-bottom-color: var(--fill-color);\n",
              "    animation:\n",
              "      spin 1s steps(1) infinite;\n",
              "  }\n",
              "\n",
              "  @keyframes spin {\n",
              "    0% {\n",
              "      border-color: transparent;\n",
              "      border-bottom-color: var(--fill-color);\n",
              "      border-left-color: var(--fill-color);\n",
              "    }\n",
              "    20% {\n",
              "      border-color: transparent;\n",
              "      border-left-color: var(--fill-color);\n",
              "      border-top-color: var(--fill-color);\n",
              "    }\n",
              "    30% {\n",
              "      border-color: transparent;\n",
              "      border-left-color: var(--fill-color);\n",
              "      border-top-color: var(--fill-color);\n",
              "      border-right-color: var(--fill-color);\n",
              "    }\n",
              "    40% {\n",
              "      border-color: transparent;\n",
              "      border-right-color: var(--fill-color);\n",
              "      border-top-color: var(--fill-color);\n",
              "    }\n",
              "    60% {\n",
              "      border-color: transparent;\n",
              "      border-right-color: var(--fill-color);\n",
              "    }\n",
              "    80% {\n",
              "      border-color: transparent;\n",
              "      border-right-color: var(--fill-color);\n",
              "      border-bottom-color: var(--fill-color);\n",
              "    }\n",
              "    90% {\n",
              "      border-color: transparent;\n",
              "      border-bottom-color: var(--fill-color);\n",
              "    }\n",
              "  }\n",
              "</style>\n",
              "\n",
              "  <script>\n",
              "    async function quickchart(key) {\n",
              "      const quickchartButtonEl =\n",
              "        document.querySelector('#' + key + ' button');\n",
              "      quickchartButtonEl.disabled = true;  // To prevent multiple clicks.\n",
              "      quickchartButtonEl.classList.add('colab-df-spinner');\n",
              "      try {\n",
              "        const charts = await google.colab.kernel.invokeFunction(\n",
              "            'suggestCharts', [key], {});\n",
              "      } catch (error) {\n",
              "        console.error('Error during call to suggestCharts:', error);\n",
              "      }\n",
              "      quickchartButtonEl.classList.remove('colab-df-spinner');\n",
              "      quickchartButtonEl.classList.add('colab-df-quickchart-complete');\n",
              "    }\n",
              "    (() => {\n",
              "      let quickchartButtonEl =\n",
              "        document.querySelector('#df-05721fcc-30e0-4f82-8d71-352db4ee9064 button');\n",
              "      quickchartButtonEl.style.display =\n",
              "        google.colab.kernel.accessAllowed ? 'block' : 'none';\n",
              "    })();\n",
              "  </script>\n",
              "</div>\n",
              "\n",
              "    </div>\n",
              "  </div>\n"
            ],
            "application/vnd.google.colaboratory.intrinsic+json": {
              "type": "dataframe",
              "variable_name": "df",
              "summary": "{\n  \"name\": \"df\",\n  \"rows\": 14214,\n  \"fields\": [\n    {\n      \"column\": \"p_id\",\n      \"properties\": {\n        \"dtype\": \"number\",\n        \"std\": 3152415,\n        \"min\": 70166,\n        \"max\": 19415760,\n        \"num_unique_values\": 14214,\n        \"samples\": [\n          18688460,\n          17441634,\n          14179076\n        ],\n        \"semantic_type\": \"\",\n        \"description\": \"\"\n      }\n    },\n    {\n      \"column\": \"name\",\n      \"properties\": {\n        \"dtype\": \"string\",\n        \"num_unique_values\": 13873,\n        \"samples\": [\n          \"Clora Creation Women Off White Floral Embroidered Palazzos\",\n          \"MANGO Women Red & Beige Abstract Print A-Line Top\",\n          \"Clora Creation Navy Blue Woven Design Banarsi Silk Dupatta\"\n        ],\n        \"semantic_type\": \"\",\n        \"description\": \"\"\n      }\n    },\n    {\n      \"column\": \"products\",\n      \"properties\": {\n        \"dtype\": \"category\",\n        \"num_unique_values\": 910,\n        \"samples\": [\n          \"Hoodie, Plus Size\",\n          \"Top, Palazzos, Ethnic Jacket\",\n          \"Jeans, Culottes, Trousers\"\n        ],\n        \"semantic_type\": \"\",\n        \"description\": \"\"\n      }\n    },\n    {\n      \"column\": \"price\",\n      \"properties\": {\n        \"dtype\": \"number\",\n        \"std\": 2570.2329882965837,\n        \"min\": 169.0,\n        \"max\": 47999.0,\n        \"num_unique_values\": 1209,\n        \"samples\": [\n          2259.0,\n          475.0,\n          4590.0\n        ],\n        \"semantic_type\": \"\",\n        \"description\": \"\"\n      }\n    },\n    {\n      \"column\": \"colour\",\n      \"properties\": {\n        \"dtype\": \"category\",\n        \"num_unique_values\": 50,\n        \"samples\": [\n          \"Sea Green\",\n          \"Gold\",\n          \"Rust\"\n        ],\n        \"semantic_type\": \"\",\n        \"description\": \"\"\n      }\n    },\n    {\n      \"column\": \"brand\",\n      \"properties\": {\n        \"dtype\": \"category\",\n        \"num_unique_values\": 1022,\n        \"samples\": [\n          \"Zigo\",\n          \"Reistor\",\n          \"SERONA FABRICS\"\n        ],\n        \"semantic_type\": \"\",\n        \"description\": \"\"\n      }\n    },\n    {\n      \"column\": \"img\",\n      \"properties\": {\n        \"dtype\": \"string\",\n        \"num_unique_values\": 14214,\n        \"samples\": [\n          \"http://assets.myntassets.com/assets/images/18688460/2022/6/9/91ab90ee-c162-4d9f-9e4e-4f9c0cd7865a1654782377953Skirts1.jpg\",\n          \"http://assets.myntassets.com/assets/images/17441634/2022/3/8/1d50e24c-e7bf-4e62-8a96-9625b530f4751646740866170Jackets1.jpg\",\n          \"http://assets.myntassets.com/assets/images/14179076/2021/6/24/fdb8118a-1946-4b43-9ee7-c52146e004151624527103903-DressBerry-Women-Sweaters-5311624527103479-1.jpg\"\n        ],\n        \"semantic_type\": \"\",\n        \"description\": \"\"\n      }\n    },\n    {\n      \"column\": \"description\",\n      \"properties\": {\n        \"dtype\": \"string\",\n        \"num_unique_values\": 14181,\n        \"samples\": [\n          \"<p>Off-white, blue and burgundy floral printed flared maxi skirt, has a partially elasticated waistband, slip-on closure, flared hem and is lined</p><p>Viscose rayon<br>Machine-wash<br>Do not bleach</p><p>The model (height 5'8\\\") is wearing a size 28</p>\",\n          \"Burgundy solid basic jumpsuit, has a keyhole neckline, sleeveless, and two pockets<br>Comes with a beltMaterial: Polyester crepe<br>Machine WashThe model (height 5'8'') is wearing a size S\",\n          \"Grey abstract printed insulator quilted jacket,  has a hooded,  2  pockets ,has a zip closure, long sleeves,  straight  hemline, polyester  lining<br><br>Warranty: 1 month<br>Warranty provided by brand/manufacturerOuter shell: Polyester <br> Lining fabric: Polyester <br> Machine washThe model (height 5'8) is wearing a size S<br><br>Columbia runs a size bigger. Pick one size smaller for a more comfortable fit.\"\n        ],\n        \"semantic_type\": \"\",\n        \"description\": \"\"\n      }\n    },\n    {\n      \"column\": \"p_attributes\",\n      \"properties\": {\n        \"dtype\": \"string\",\n        \"num_unique_values\": 13089,\n        \"samples\": [\n          \"{'Body or Garment Size': 'Garment Measurements in', 'Closure': 'NA', 'Fabric': 'Cotton', 'Main Trend': 'NA', 'Neck': 'Shoulder Straps', 'Number of Pockets': 'NA', 'Occasion': 'Casual', 'Pattern': 'Solid', 'Sleeve Length': 'Sleeveless', 'Surface Styling': 'Gathers', 'Sustainable': 'Regular', 'Type': 'Playsuit', 'Wash Care': 'Hand Wash'}\",\n          \"{'Border': 'Woven Design', 'Fabric': 'Art Silk', 'Occasion': 'Party', 'Ornamentation': 'Gotta Patti', 'Pattern': 'Printed', 'Print or Pattern Type': 'Bandhani', 'Sustainable': 'Regular', 'Technique': 'Bandhani', 'Wash Care': 'Machine Wash', 'Wedding': 'Bride & Wedding Squad'}\",\n          \"{'Body Shape ID': '443,333,324,424', 'Body or Garment Size': 'To-Fit Denotes Body Measurements in', 'Center Front Open': 'No', 'Character': 'NA', 'Closure': 'Tie-Ups', 'Fabric': 'Pure Cotton', 'Fabric Type': 'NA', 'Length': 'Regular', 'Lining': 'NA', 'Main Trend': 'Conversational Print', 'Multipack Set': 'NA', 'Neck': 'Shoulder Straps', 'Occasion': 'Ethnic', 'Pattern': 'Printed', 'Print or Pattern Type': 'Conversational', 'Sleeve Length': 'Sleeveless', 'Sleeve Styling': 'No Sleeves', 'Surface Styling': 'Tie-Ups', 'Sustainable': 'Regular', 'Transparency': 'Opaque', 'Type': 'Regular', 'Wash Care': 'Hand Wash', 'Weave Type': 'Woven', 'taxMaterial': 'NA'}\"\n        ],\n        \"semantic_type\": \"\",\n        \"description\": \"\"\n      }\n    }\n  ]\n}"
            }
          },
          "metadata": {},
          "execution_count": 12
        }
      ]
    },
    {
      "cell_type": "code",
      "source": [
        "len(df['p_id'].unique()), type(df['p_id'][0])"
      ],
      "metadata": {
        "id": "SuQFByV5bGIX",
        "outputId": "3515bd51-00cd-4f85-a345-8cb0c1616a13",
        "colab": {
          "base_uri": "https://localhost:8080/"
        }
      },
      "execution_count": 18,
      "outputs": [
        {
          "output_type": "execute_result",
          "data": {
            "text/plain": [
              "(14214, numpy.int64)"
            ]
          },
          "metadata": {},
          "execution_count": 18
        }
      ]
    },
    {
      "cell_type": "code",
      "source": [
        "len(df[\"name\"].unique())"
      ],
      "metadata": {
        "id": "egav7dOObF_v",
        "outputId": "a8b29911-62eb-43d2-f487-f15ec45c2e5f",
        "colab": {
          "base_uri": "https://localhost:8080/"
        }
      },
      "execution_count": 20,
      "outputs": [
        {
          "output_type": "execute_result",
          "data": {
            "text/plain": [
              "13873"
            ]
          },
          "metadata": {},
          "execution_count": 20
        }
      ]
    },
    {
      "cell_type": "code",
      "source": [
        "df[\"p_attributes\"][0]"
      ],
      "metadata": {
        "id": "4ZbwFBTkbF8j",
        "outputId": "c24a83da-ee5a-46d7-d967-8fd21f8419d1",
        "colab": {
          "base_uri": "https://localhost:8080/",
          "height": 107
        }
      },
      "execution_count": 37,
      "outputs": [
        {
          "output_type": "execute_result",
          "data": {
            "text/plain": [
              "\"{'Add-Ons': 'NA', 'Body Shape ID': '443,333,324,424', 'Body or Garment Size': 'Garment Measurements in', 'Bottom Closure': 'Slip-On', 'Bottom Fabric': 'Viscose Rayon', 'Bottom Pattern': 'Printed', 'Bottom Type': 'Palazzos', 'Character': 'NA', 'Dupatta': 'With Dupatta', 'Dupatta Border': 'Solid', 'Dupatta Fabric': 'Viscose Rayon', 'Dupatta Pattern': 'Printed', 'Main Trend': 'Indie Prints', 'Neck': 'Mandarin Collar', 'Number of Pockets': 'NA', 'Occasion': 'Festive', 'Ornamentation': 'NA', 'Pattern Coverage': 'Placement', 'Print or Pattern Type': 'Ethnic Motifs', 'Sleeve Length': 'Three-Quarter Sleeves', 'Sleeve Styling': 'Regular Sleeves', 'Slit Detail': 'NA', 'Stitch': 'Ready to Wear', 'Sustainable': 'Regular', 'Technique': 'Screen', 'Top Design Styling': 'Regular', 'Top Fabric': 'Viscose Rayon', 'Top Hemline': 'Flared', 'Top Length': 'Calf Length', 'Top Pattern': 'Printed', 'Top Shape': 'Anarkali', 'Top Type': 'Kurta', 'Waistband': 'Elasticated', 'Wash Care': 'Machine Wash', 'Weave Pattern': 'Regular', 'Weave Type': 'Machine Weave'}\""
            ],
            "application/vnd.google.colaboratory.intrinsic+json": {
              "type": "string"
            }
          },
          "metadata": {},
          "execution_count": 37
        }
      ]
    },
    {
      "cell_type": "code",
      "source": [
        "df[\"description\"][0]"
      ],
      "metadata": {
        "id": "Ied_tdE8pQic",
        "outputId": "eb9ddc0b-66e2-459a-be43-854f62ac219c",
        "colab": {
          "base_uri": "https://localhost:8080/",
          "height": 71
        }
      },
      "execution_count": 40,
      "outputs": [
        {
          "output_type": "execute_result",
          "data": {
            "text/plain": [
              "\"Black printed Kurta with Palazzos with dupatta <br> <br> <b> Kurta design:  </b> <ul> <li> Ethnic motifs printed </li> <li> Anarkali shape </li> <li> Regular style </li> <li> Mandarin collar,  three-quarter regular sleeves </li> <li> Calf length with flared hem </li> <li> Viscose rayon machine weave fabric </li> </ul> <br> <b> Palazzos design:  </b> <ul> <li> Printed Palazzos </li> <li> Elasticated waistband </li> <li> Slip-on closure </li> </ul>Dupatta Length 2.43 meters Width:&nbsp;88 cm<br>The model (height 5'8) is wearing a size S100% Rayon<br>Machine wash\""
            ],
            "application/vnd.google.colaboratory.intrinsic+json": {
              "type": "string"
            }
          },
          "metadata": {},
          "execution_count": 40
        }
      ]
    },
    {
      "cell_type": "code",
      "source": [
        "df[\"p_attributes\"][12]"
      ],
      "metadata": {
        "id": "-tUW90cdmp7o",
        "outputId": "995b198c-d8b2-4d73-f9cd-b4e108eff8d1",
        "colab": {
          "base_uri": "https://localhost:8080/",
          "height": 107
        }
      },
      "execution_count": 35,
      "outputs": [
        {
          "output_type": "execute_result",
          "data": {
            "text/plain": [
              "\"{'Add-Ons': 'NA', 'Body Shape ID': '333,424', 'Body or Garment Size': 'Garment Measurements in', 'Bottom Closure': 'Zip', 'Bottom Fabric': 'Poly Silk', 'Bottom Pattern': 'Solid', 'Bottom Type': 'Trousers', 'Character': 'NA', 'Dupatta': 'With Dupatta', 'Dupatta Border': 'Taping', 'Dupatta Fabric': 'Art Silk', 'Dupatta Pattern': 'Printed', 'Main Trend': 'NA', 'Neck': 'Keyhole Neck', 'Number of Pockets': 'NA', 'Occasion': 'Festive', 'Ornamentation': 'NA', 'Pattern Coverage': 'Yoke or Border', 'Print or Pattern Type': 'Ethnic Motifs', 'Sleeve Length': 'Three-Quarter Sleeves', 'Sleeve Styling': 'Regular Sleeves', 'Slit Detail': 'Multiple Slits', 'Stitch': 'Ready to Wear', 'Sustainable': 'Regular', 'Technique': 'NA', 'Top Design Styling': 'Panelled', 'Top Fabric': 'Poly Silk', 'Top Hemline': 'Flared', 'Top Length': 'Calf Length', 'Top Pattern': 'Yoke Design', 'Top Shape': 'A-Line', 'Top Type': 'Kurta', 'Waistband': 'Partially Elasticated', 'Wash Care': 'Hand Wash', 'Weave Pattern': 'Regular', 'Weave Type': 'Machine Weave'}\""
            ],
            "application/vnd.google.colaboratory.intrinsic+json": {
              "type": "string"
            }
          },
          "metadata": {},
          "execution_count": 35
        }
      ]
    },
    {
      "cell_type": "code",
      "source": [
        "df[\"description\"][12]"
      ],
      "metadata": {
        "id": "EfAb9vibpQP8",
        "outputId": "42d7e294-fbb5-4f2b-c1cc-2786c392232f",
        "colab": {
          "base_uri": "https://localhost:8080/",
          "height": 71
        }
      },
      "execution_count": 41,
      "outputs": [
        {
          "output_type": "execute_result",
          "data": {
            "text/plain": [
              "\"Teal yoke design Kurta with Trousers with dupatta <br> <br> <b> Kurta design:  </b> <ul> <li> Ethnic motifs yoke design </li> <li> A-line shape </li> <li> Panelled style </li> <li> Keyhole neck,  three-quarter regular sleeves </li> <li> Calf length with flared hem </li> <li> Poly silk machine weave fabric </li> </ul> <br> <b> Trousers design:  </b> <ul> <li> Solid Trousers </li> <li> Partially elasticated waistband </li> <li> Zip closure </li> </ul>The model (height 5'8) is wearing a size S<br>Dupatta length 2.25 mtr Width 0.7 mtrKurta: Poly Silk<br>Bottom:&nbsp;Poly Silk<br>Dupatta: Art Silk<br>Hand wash\""
            ],
            "application/vnd.google.colaboratory.intrinsic+json": {
              "type": "string"
            }
          },
          "metadata": {},
          "execution_count": 41
        }
      ]
    },
    {
      "cell_type": "code",
      "source": [
        "df[\"p_attributes\"][157]"
      ],
      "metadata": {
        "id": "Bevf27iXmp5W",
        "outputId": "11aac95d-a84d-40c8-e0ae-95f04536ce2b",
        "colab": {
          "base_uri": "https://localhost:8080/",
          "height": 107
        }
      },
      "execution_count": 34,
      "outputs": [
        {
          "output_type": "execute_result",
          "data": {
            "text/plain": [
              "\"{'Add-Ons': 'NA', 'Body Shape ID': '333,424', 'Body or Garment Size': 'Garment Measurements in', 'Bottom Closure': 'Slip-On', 'Bottom Fabric': 'Polyester', 'Bottom Pattern': 'Solid', 'Bottom Type': 'Trousers', 'Character': 'NA', 'Dupatta': 'With Dupatta', 'Dupatta Border': 'Tassels', 'Dupatta Fabric': 'Viscose Rayon', 'Dupatta Pattern': 'Printed', 'Main Trend': 'NA', 'Neck': 'Round Neck', 'Number of Pockets': 'NA', 'Occasion': 'Festive', 'Ornamentation': 'NA', 'Pattern Coverage': 'None', 'Print or Pattern Type': 'Woven Design', 'Sleeve Length': 'Three-Quarter Sleeves', 'Sleeve Styling': 'Regular Sleeves', 'Slit Detail': 'Side Slits', 'Stitch': 'Ready to Wear', 'Sustainable': 'Regular', 'Technique': 'NA', 'Top Design Styling': 'Regular', 'Top Fabric': 'Polyester', 'Top Hemline': 'Straight', 'Top Length': 'Calf Length', 'Top Pattern': 'Solid', 'Top Shape': 'Straight', 'Top Type': 'Kurta', 'Waistband': 'Elasticated', 'Wash Care': 'Machine Wash', 'Weave Pattern': 'Regular', 'Weave Type': 'Machine Weave', 'Wedding': 'NA'}\""
            ],
            "application/vnd.google.colaboratory.intrinsic+json": {
              "type": "string"
            }
          },
          "metadata": {},
          "execution_count": 34
        }
      ]
    },
    {
      "cell_type": "code",
      "source": [
        "df[\"description\"][157]"
      ],
      "metadata": {
        "id": "PYgifKZSpKot",
        "outputId": "ed86a33d-e00c-4678-fe65-0d67c28f54d1",
        "colab": {
          "base_uri": "https://localhost:8080/",
          "height": 71
        }
      },
      "execution_count": 39,
      "outputs": [
        {
          "output_type": "execute_result",
          "data": {
            "text/plain": [
              "\"Purple solid Kurta with Trousers with dupatta <br> <br> <b> Kurta design:  </b> <ul> <li> Woven design solid </li> <li> Straight shape </li> <li> Regular style </li> <li> Round neck,  three-quarter regular sleeves </li> <li> Calf length with straight hem </li> <li> Polyester machine weave fabric </li> </ul> <br> <b> Trousers design:  </b> <ul> <li> Solid Trousers </li> <li> Elasticated waistband </li> <li> Slip-on closure </li> </ul>The model (height 5'8) is wearing a size SPolyester<br>Machine wash\""
            ],
            "application/vnd.google.colaboratory.intrinsic+json": {
              "type": "string"
            }
          },
          "metadata": {},
          "execution_count": 39
        }
      ]
    },
    {
      "cell_type": "code",
      "source": [
        "df[\"p_attributes\"][9999]"
      ],
      "metadata": {
        "id": "aAo5JdCGmp2r",
        "outputId": "d19c5845-a08c-4349-bc45-5f60364dd6d5",
        "colab": {
          "base_uri": "https://localhost:8080/",
          "height": 89
        }
      },
      "execution_count": 33,
      "outputs": [
        {
          "output_type": "execute_result",
          "data": {
            "text/plain": [
              "\"{'Blouse Closure': 'NA', 'Blouse Fabric': 'Silk', 'Body or Garment Size': 'Garment Measurements in', 'Bottom Pattern': 'Embroidered', 'Choli Stitch': 'Unstitched', 'Dupatta': 'With Dupatta', 'Dupatta Border': 'Tassels', 'Dupatta Fabric': 'Silk', 'Dupatta Pattern': 'Embellished', 'Hemline': 'Flared', 'Lehenga Fabric': 'Silk', 'Lehenga Lining Fabric': 'Satin', 'Lehenga Stitch': 'Semi-Stitched', 'Neck': 'Boat Neck', 'Ornamentation': 'Sequinned', 'Regions': 'All', 'Sleeve Length': 'Three-Quarter Sleeves', 'Sleeve Styling': 'Regular Sleeves', 'Sustainable': 'Regular', 'Technique': 'NA', 'Top Pattern': 'Embroidered', 'Wedding': 'Bride & Wedding Squad', 'Where-to-wear': 'Wedding &amp; Party'}\""
            ],
            "application/vnd.google.colaboratory.intrinsic+json": {
              "type": "string"
            }
          },
          "metadata": {},
          "execution_count": 33
        }
      ]
    },
    {
      "cell_type": "code",
      "source": [
        "df[\"description\"][9999]"
      ],
      "metadata": {
        "id": "lh7q6SBOoxxo",
        "outputId": "9699e286-741d-4b86-cc1a-dee8a01649be",
        "colab": {
          "base_uri": "https://localhost:8080/",
          "height": 53
        }
      },
      "execution_count": 38,
      "outputs": [
        {
          "output_type": "execute_result",
          "data": {
            "text/plain": [
              "'White and maroon embroidered lehenga choli with dupatta,  sequinned <br> White and maroon embroidered unstitched blouse,  has a boat neck,  three-quarter sleeves,  white and maroon embroidered semi-stitched lehenga, flared hem <br> White and maroon embellished dupatta,  tassels border<p>Hand Wash</p><p>Lehenga Length: 44 Inch, Choli Length: 1 Mtr, Dupatta Length: 2.25 Mtr, Lehenga Gher: 3 Mtr</p>'"
            ],
            "application/vnd.google.colaboratory.intrinsic+json": {
              "type": "string"
            }
          },
          "metadata": {},
          "execution_count": 38
        }
      ]
    },
    {
      "cell_type": "code",
      "source": [
        "df[\"p_attributes\"][12123]"
      ],
      "metadata": {
        "id": "LNtS03Dwm-Cs",
        "outputId": "cb90843e-df33-4be0-88f6-aa56005b0c35",
        "colab": {
          "base_uri": "https://localhost:8080/",
          "height": 71
        }
      },
      "execution_count": 30,
      "outputs": [
        {
          "output_type": "execute_result",
          "data": {
            "text/plain": [
              "\"{'Add-Ons': 'NA', 'Body or Garment Size': 'Garment Measurements in', 'Character': 'NA', 'Closure': 'Zip', 'Collar': 'Stand Collar', 'Fabric': 'Nylon', 'Features': 'NA', 'Hemline': 'Straight', 'Length': 'Regular', 'Lining Fabric': 'Mesh', 'Main Trend': 'NA', 'Number of Pockets': '2', 'Occasion': 'Sports', 'Pattern': 'Printed', 'Print or Pattern Type': 'Geometric', 'Sleeve Length': 'Long Sleeves', 'Sport': 'NA', 'Surface Styling': 'NA', 'Sustainable': 'Regular', 'Technology': 'NA', 'Technology Present': 'No', 'Type': 'Sporty Jacket', 'Wash Care': 'Machine Wash', 'Weave Type': 'Knitted and Woven'}\""
            ],
            "application/vnd.google.colaboratory.intrinsic+json": {
              "type": "string"
            }
          },
          "metadata": {},
          "execution_count": 30
        }
      ]
    },
    {
      "cell_type": "code",
      "source": [
        "df[\"description\"][12123]"
      ],
      "metadata": {
        "id": "WDI0nFpInMpj",
        "outputId": "2ca740cc-711c-4450-834c-f5202f8de5f1",
        "colab": {
          "base_uri": "https://localhost:8080/",
          "height": 53
        }
      },
      "execution_count": 31,
      "outputs": [
        {
          "output_type": "execute_result",
          "data": {
            "text/plain": [
              "\"<b>Product design details</b><ul><li>Blue geometric printed sporty jacket,</li><li>stand collar</li><li>2 pockets</li><li>zip closure</li><li>long sleeves</li><li>straight hemline</li><li>mesh lining</li><li>has a mock collar</li><li>Front utility zipper pockets</li><li>Fit: Relaxed</li></ul>Shell: 100% nylon<br>Lining: 100% polyester<br>Machine washThe model (height 6') is wearing a size M\""
            ],
            "application/vnd.google.colaboratory.intrinsic+json": {
              "type": "string"
            }
          },
          "metadata": {},
          "execution_count": 31
        }
      ]
    },
    {
      "cell_type": "code",
      "source": [
        "df.info()"
      ],
      "metadata": {
        "id": "Cfvm8roCk8Sc",
        "colab": {
          "base_uri": "https://localhost:8080/"
        },
        "outputId": "39993b1c-f6e5-4f77-fe26-dcf6cde853e2"
      },
      "execution_count": 11,
      "outputs": [
        {
          "output_type": "stream",
          "name": "stdout",
          "text": [
            "<class 'pandas.core.frame.DataFrame'>\n",
            "RangeIndex: 14214 entries, 0 to 14213\n",
            "Data columns (total 9 columns):\n",
            " #   Column        Non-Null Count  Dtype  \n",
            "---  ------        --------------  -----  \n",
            " 0   p_id          14214 non-null  int64  \n",
            " 1   name          14214 non-null  object \n",
            " 2   products      14214 non-null  object \n",
            " 3   price         14214 non-null  float64\n",
            " 4   colour        14214 non-null  object \n",
            " 5   brand         14214 non-null  object \n",
            " 6   img           14214 non-null  object \n",
            " 7   description   14214 non-null  object \n",
            " 8   p_attributes  14214 non-null  object \n",
            "dtypes: float64(1), int64(1), object(7)\n",
            "memory usage: 999.6+ KB\n"
          ]
        }
      ]
    },
    {
      "cell_type": "code",
      "source": [],
      "metadata": {
        "id": "uQbHTN3Kk8NV"
      },
      "execution_count": null,
      "outputs": []
    },
    {
      "cell_type": "code",
      "source": [],
      "metadata": {
        "id": "6wa11Ey2k8Kv"
      },
      "execution_count": null,
      "outputs": []
    },
    {
      "cell_type": "code",
      "source": [],
      "metadata": {
        "id": "4iM0jjbTk7jQ"
      },
      "execution_count": null,
      "outputs": []
    }
  ]
}